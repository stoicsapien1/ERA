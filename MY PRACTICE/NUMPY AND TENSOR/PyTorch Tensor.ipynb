{
 "cells": [
  {
   "cell_type": "markdown",
   "id": "0c315178",
   "metadata": {},
   "source": [
    "## PyTorch Tensor"
   ]
  },
  {
   "cell_type": "markdown",
   "id": "878846bc",
   "metadata": {},
   "source": []
  }
 ],
 "metadata": {
  "kernelspec": {
   "display_name": "Python 3",
   "language": "python",
   "name": "python3"
  },
  "language_info": {
   "name": "python",
   "version": "3.10.0"
  }
 },
 "nbformat": 4,
 "nbformat_minor": 5
}
