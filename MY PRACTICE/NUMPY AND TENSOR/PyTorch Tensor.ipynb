{
  "cells": [
    {
      "cell_type": "markdown",
      "id": "ec91d291",
      "metadata": {
        "colab_type": "text",
        "id": "view-in-github"
      },
      "source": [
        "<a href=\"https://colab.research.google.com/github/stoicsapien1/ERA/blob/master/MY%20PRACTICE/NUMPY%20AND%20TENSOR/PyTorch%20Tensor.ipynb\" target=\"_parent\"><img src=\"https://colab.research.google.com/assets/colab-badge.svg\" alt=\"Open In Colab\"/></a>"
      ]
    },
    {
      "cell_type": "markdown",
      "id": "0c315178",
      "metadata": {
        "id": "0c315178"
      },
      "source": [
        "## PyTorch Tensor"
      ]
    },
    {
      "cell_type": "markdown",
      "id": "1LaWFqkSn7lq",
      "metadata": {
        "id": "1LaWFqkSn7lq"
      },
      "source": [
        "YT Link:https://www.youtube.com/watch?v=x9JiIFvlUwk"
      ]
    },
    {
      "cell_type": "code",
      "execution_count": 6,
      "id": "HDn1MVL9pCAr",
      "metadata": {
        "id": "HDn1MVL9pCAr"
      },
      "outputs": [],
      "source": [
        "device = \"cuda\" if torch.cuda.is_available() else \"cpu\""
      ]
    },
    {
      "cell_type": "code",
      "execution_count": 7,
      "id": "0zePP0g4n-Bq",
      "metadata": {
        "colab": {
          "base_uri": "https://localhost:8080/"
        },
        "id": "0zePP0g4n-Bq",
        "outputId": "724bccd0-21c3-42a5-d94b-4de5565fe2a8"
      },
      "outputs": [
        {
          "name": "stdout",
          "output_type": "stream",
          "text": [
            "tensor([[1., 2., 3.],\n",
            "        [4., 5., 6.]])\n"
          ]
        }
      ],
      "source": [
        "my_tensor = torch.tensor([[1,2,3],[4,5,6]],dtype=torch.float,device = device)\n",
        "print(my_tensor)"
      ]
    },
    {
      "cell_type": "code",
      "execution_count": 8,
      "id": "uBDVxkaCocas",
      "metadata": {
        "colab": {
          "base_uri": "https://localhost:8080/"
        },
        "id": "uBDVxkaCocas",
        "outputId": "747d915b-b8a5-4c8b-cd48-93f857393730"
      },
      "outputs": [
        {
          "name": "stdout",
          "output_type": "stream",
          "text": [
            "torch.float32\n"
          ]
        }
      ],
      "source": [
        "print(my_tensor.dtype)"
      ]
    },
    {
      "cell_type": "code",
      "execution_count": 9,
      "id": "yICR-YIipZ75",
      "metadata": {
        "colab": {
          "base_uri": "https://localhost:8080/"
        },
        "id": "yICR-YIipZ75",
        "outputId": "d97c02f3-c3da-475b-f69b-8323e27c0267"
      },
      "outputs": [
        {
          "name": "stdout",
          "output_type": "stream",
          "text": [
            "cpu\n"
          ]
        }
      ],
      "source": [
        "print(my_tensor.device)"
      ]
    },
    {
      "cell_type": "code",
      "execution_count": 10,
      "id": "t1dcnzkLpdUR",
      "metadata": {
        "colab": {
          "base_uri": "https://localhost:8080/"
        },
        "id": "t1dcnzkLpdUR",
        "outputId": "88e18d80-6270-40aa-923f-7ba7fa144239"
      },
      "outputs": [
        {
          "name": "stdout",
          "output_type": "stream",
          "text": [
            "torch.Size([2, 3])\n"
          ]
        }
      ],
      "source": [
        "print(my_tensor.shape)"
      ]
    },
    {
      "cell_type": "code",
      "execution_count": 11,
      "id": "D5Bv61VephcB",
      "metadata": {
        "colab": {
          "base_uri": "https://localhost:8080/"
        },
        "id": "D5Bv61VephcB",
        "outputId": "3b117baf-b958-4ee9-cb51-352fdc7f22cd"
      },
      "outputs": [
        {
          "name": "stdout",
          "output_type": "stream",
          "text": [
            "False\n"
          ]
        }
      ],
      "source": [
        "print(my_tensor.requires_grad)"
      ]
    },
    {
      "cell_type": "markdown",
      "id": "l4MNwFnJpo8K",
      "metadata": {
        "id": "l4MNwFnJpo8K"
      },
      "source": [
        "# Other common initialization method"
      ]
    },
    {
      "cell_type": "code",
      "execution_count": 12,
      "id": "-BurxemYpuAI",
      "metadata": {
        "id": "-BurxemYpuAI"
      },
      "outputs": [],
      "source": [
        "x = torch.empty(size = (3,3))"
      ]
    },
    {
      "cell_type": "code",
      "execution_count": 13,
      "id": "w73xetQ2qNuQ",
      "metadata": {
        "colab": {
          "base_uri": "https://localhost:8080/"
        },
        "id": "w73xetQ2qNuQ",
        "outputId": "88ef8fbf-faf4-4870-eddc-b93bcd74e5e0"
      },
      "outputs": [
        {
          "name": "stdout",
          "output_type": "stream",
          "text": [
            "tensor([[0.0000e+00, 0.0000e+00, 3.9895e-42],\n",
            "        [3.9923e-42, 2.6625e-44, 1.8217e-44],\n",
            "        [1.7516e-43, 9.8091e-45, 0.0000e+00]])\n"
          ]
        }
      ],
      "source": [
        "print(x)"
      ]
    },
    {
      "cell_type": "code",
      "execution_count": 17,
      "id": "lIGcMP1UqOvW",
      "metadata": {
        "colab": {
          "base_uri": "https://localhost:8080/"
        },
        "id": "lIGcMP1UqOvW",
        "outputId": "eb0243c1-a66c-4867-e4da-499fb70efb10"
      },
      "outputs": [
        {
          "name": "stdout",
          "output_type": "stream",
          "text": [
            "tensor([[0., 0., 0.],\n",
            "        [0., 0., 0.],\n",
            "        [0., 0., 0.]])\n"
          ]
        }
      ],
      "source": [
        "y = torch.zeros((3,3))\n",
        "print(y)"
      ]
    },
    {
      "cell_type": "code",
      "execution_count": 18,
      "id": "97-H5_2VqWX_",
      "metadata": {
        "colab": {
          "base_uri": "https://localhost:8080/"
        },
        "id": "97-H5_2VqWX_",
        "outputId": "c3d9e159-320f-4d70-e95b-723e258689d5"
      },
      "outputs": [
        {
          "name": "stdout",
          "output_type": "stream",
          "text": [
            "tensor([[0.2550, 0.0571, 0.2792],\n",
            "        [0.2693, 0.6861, 0.1155],\n",
            "        [0.2146, 0.4995, 0.3862]])\n"
          ]
        }
      ],
      "source": [
        "z = torch.rand((3,3))\n",
        "print(z)"
      ]
    },
    {
      "cell_type": "code",
      "execution_count": 19,
      "id": "YyUdcw4EqfdQ",
      "metadata": {
        "colab": {
          "base_uri": "https://localhost:8080/"
        },
        "id": "YyUdcw4EqfdQ",
        "outputId": "f2e2eb77-5cd5-4253-c00c-ede3f566b7a4"
      },
      "outputs": [
        {
          "name": "stdout",
          "output_type": "stream",
          "text": [
            "tensor([[1., 1., 1.],\n",
            "        [1., 1., 1.],\n",
            "        [1., 1., 1.]])\n"
          ]
        }
      ],
      "source": [
        "w = torch.ones((3,3))\n",
        "print(w)"
      ]
    },
    {
      "cell_type": "code",
      "execution_count": 21,
      "id": "OIi95l1xqjwe",
      "metadata": {
        "colab": {
          "base_uri": "https://localhost:8080/"
        },
        "id": "OIi95l1xqjwe",
        "outputId": "01294671-af4e-43c3-eca6-2ee987ac2c04"
      },
      "outputs": [
        {
          "data": {
            "text/plain": [
              "tensor([[1., 0., 0., 0., 0.],\n",
              "        [0., 1., 0., 0., 0.],\n",
              "        [0., 0., 1., 0., 0.],\n",
              "        [0., 0., 0., 1., 0.],\n",
              "        [0., 0., 0., 0., 1.]])"
            ]
          },
          "execution_count": 21,
          "metadata": {},
          "output_type": "execute_result"
        }
      ],
      "source": [
        "u = torch.eye(5,5)\n",
        "u"
      ]
    },
    {
      "cell_type": "code",
      "execution_count": 24,
      "id": "JM4hnyKSqsJP",
      "metadata": {
        "colab": {
          "base_uri": "https://localhost:8080/"
        },
        "id": "JM4hnyKSqsJP",
        "outputId": "faaab6b1-f00e-45ae-d586-75db4adfcc4c"
      },
      "outputs": [
        {
          "name": "stdout",
          "output_type": "stream",
          "text": [
            "tensor([0, 1, 2, 3, 4])\n"
          ]
        }
      ],
      "source": [
        "v = torch.arange(start=0,end=5,step=1)\n",
        "print(v)"
      ]
    },
    {
      "cell_type": "code",
      "execution_count": 26,
      "id": "OYO3JA7Eq2Cg",
      "metadata": {
        "colab": {
          "base_uri": "https://localhost:8080/"
        },
        "id": "OYO3JA7Eq2Cg",
        "outputId": "bbff62ce-d403-4b78-d581-bc1ee246c253"
      },
      "outputs": [
        {
          "data": {
            "text/plain": [
              "tensor([0.1000, 0.2000, 0.3000, 0.4000, 0.5000, 0.6000, 0.7000, 0.8000, 0.9000,\n",
              "        1.0000])"
            ]
          },
          "execution_count": 26,
          "metadata": {},
          "output_type": "execute_result"
        }
      ],
      "source": [
        "b = torch.linspace(start=0.1,end=1,steps=10)\n",
        "b"
      ]
    },
    {
      "cell_type": "code",
      "execution_count": 28,
      "id": "hXF79E-trGl4",
      "metadata": {
        "colab": {
          "base_uri": "https://localhost:8080/"
        },
        "id": "hXF79E-trGl4",
        "outputId": "18eeda0c-6abb-4b56-85f8-e3b826233710"
      },
      "outputs": [
        {
          "data": {
            "text/plain": [
              "tensor([[-0.5198, -1.1136, -1.9129, -0.0179, -1.8190]])"
            ]
          },
          "execution_count": 28,
          "metadata": {},
          "output_type": "execute_result"
        }
      ],
      "source": [
        "n = torch.empty(size = (1,5)).normal_(mean=0,std=1)\n",
        "n"
      ]
    },
    {
      "cell_type": "code",
      "execution_count": 31,
      "id": "w_-l2zHwraww",
      "metadata": {
        "id": "w_-l2zHwraww"
      },
      "outputs": [],
      "source": [
        "x =torch.empty(size=(1,5)).uniform_(0,1)"
      ]
    },
    {
      "cell_type": "code",
      "execution_count": 32,
      "id": "Zn8yRx02rmEY",
      "metadata": {
        "colab": {
          "base_uri": "https://localhost:8080/"
        },
        "id": "Zn8yRx02rmEY",
        "outputId": "8d1a808f-1b38-468b-8919-353f82fbf782"
      },
      "outputs": [
        {
          "data": {
            "text/plain": [
              "tensor([[0.3879, 0.4134, 0.8113, 0.2395, 0.0533]])"
            ]
          },
          "execution_count": 32,
          "metadata": {},
          "output_type": "execute_result"
        }
      ],
      "source": [
        "x"
      ]
    },
    {
      "cell_type": "code",
      "execution_count": 33,
      "id": "Bk6wxikTrrPO",
      "metadata": {
        "id": "Bk6wxikTrrPO"
      },
      "outputs": [],
      "source": [
        "x = torch.diag(torch.ones(3))"
      ]
    },
    {
      "cell_type": "code",
      "execution_count": 34,
      "id": "q1bkXSd_r2Bw",
      "metadata": {
        "colab": {
          "base_uri": "https://localhost:8080/"
        },
        "id": "q1bkXSd_r2Bw",
        "outputId": "84f4b9d3-4ac9-4fbe-de5b-cfcd965dbda1"
      },
      "outputs": [
        {
          "data": {
            "text/plain": [
              "tensor([[1., 0., 0.],\n",
              "        [0., 1., 0.],\n",
              "        [0., 0., 1.]])"
            ]
          },
          "execution_count": 34,
          "metadata": {},
          "output_type": "execute_result"
        }
      ],
      "source": [
        "x"
      ]
    },
    {
      "cell_type": "markdown",
      "id": "vdM_CnRZsDqQ",
      "metadata": {
        "id": "vdM_CnRZsDqQ"
      },
      "source": [
        "# How to initialize and convert tensors to other types"
      ]
    },
    {
      "cell_type": "code",
      "execution_count": null,
      "id": "YAWHOw9SsK6H",
      "metadata": {
        "id": "YAWHOw9SsK6H"
      },
      "outputs": [],
      "source": []
    }
  ],
  "metadata": {
    "colab": {
      "include_colab_link": true,
      "provenance": []
    },
    "kernelspec": {
      "display_name": "Python 3",
      "language": "python",
      "name": "python3"
    },
    "language_info": {
      "codemirror_mode": {
        "name": "ipython",
        "version": 3
      },
      "file_extension": ".py",
      "mimetype": "text/x-python",
      "name": "python",
      "nbconvert_exporter": "python",
      "pygments_lexer": "ipython3",
      "version": "3.10.0"
    }
  },
  "nbformat": 4,
  "nbformat_minor": 5
}
