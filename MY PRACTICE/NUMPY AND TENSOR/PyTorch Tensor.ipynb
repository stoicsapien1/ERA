{
  "cells": [
    {
      "cell_type": "markdown",
      "metadata": {
        "id": "view-in-github",
        "colab_type": "text"
      },
      "source": [
        "<a href=\"https://colab.research.google.com/github/stoicsapien1/ERA/blob/master/MY%20PRACTICE/NUMPY%20AND%20TENSOR/PyTorch%20Tensor.ipynb\" target=\"_parent\"><img src=\"https://colab.research.google.com/assets/colab-badge.svg\" alt=\"Open In Colab\"/></a>"
      ]
    },
    {
      "cell_type": "markdown",
      "id": "0c315178",
      "metadata": {
        "id": "0c315178"
      },
      "source": [
        "## PyTorch Tensor"
      ]
    },
    {
      "cell_type": "code",
      "execution_count": null,
      "id": "5e96bf0f",
      "metadata": {
        "id": "5e96bf0f",
        "outputId": "655760e7-8926-4a46-c580-51f2024e84d5"
      },
      "outputs": [
        {
          "name": "stdout",
          "output_type": "stream",
          "text": [
            "Tensor\n"
          ]
        }
      ],
      "source": [
        "print(\"Tensor\")"
      ]
    },
    {
      "cell_type": "code",
      "execution_count": 1,
      "id": "900f895f",
      "metadata": {
        "id": "900f895f",
        "outputId": "c56ca4ca-6412-44df-d7ad-794b165276f5",
        "colab": {
          "base_uri": "https://localhost:8080/"
        }
      },
      "outputs": [
        {
          "output_type": "stream",
          "name": "stdout",
          "text": [
            "my name is belal\n"
          ]
        }
      ],
      "source": [
        "print(\"my name is belal\")"
      ]
    },
    {
      "cell_type": "code",
      "source": [
        "print(\"bbdjwb\")"
      ],
      "metadata": {
        "id": "yxrXZRQ3lL-G",
        "outputId": "41d1fdc9-f128-45eb-8b9a-93f468f9a897",
        "colab": {
          "base_uri": "https://localhost:8080/"
        }
      },
      "id": "yxrXZRQ3lL-G",
      "execution_count": 2,
      "outputs": [
        {
          "output_type": "stream",
          "name": "stdout",
          "text": [
            "bbdjwb\n"
          ]
        }
      ]
    },
    {
      "cell_type": "code",
      "source": [],
      "metadata": {
        "id": "r37H6XG9lNZD"
      },
      "id": "r37H6XG9lNZD",
      "execution_count": null,
      "outputs": []
    }
  ],
  "metadata": {
    "kernelspec": {
      "display_name": "Python 3",
      "language": "python",
      "name": "python3"
    },
    "language_info": {
      "codemirror_mode": {
        "name": "ipython",
        "version": 3
      },
      "file_extension": ".py",
      "mimetype": "text/x-python",
      "name": "python",
      "nbconvert_exporter": "python",
      "pygments_lexer": "ipython3",
      "version": "3.10.0"
    },
    "colab": {
      "provenance": [],
      "include_colab_link": true
    }
  },
  "nbformat": 4,
  "nbformat_minor": 5
}