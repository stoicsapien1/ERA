{
  "cells": [
    {
      "cell_type": "markdown",
      "metadata": {
        "id": "view-in-github",
        "colab_type": "text"
      },
      "source": [
        "<a href=\"https://colab.research.google.com/github/stoicsapien1/ERA/blob/master/MY%20PRACTICE/NUMPY%20AND%20TENSOR/PyTorch%20Tensor.ipynb\" target=\"_parent\"><img src=\"https://colab.research.google.com/assets/colab-badge.svg\" alt=\"Open In Colab\"/></a>"
      ]
    },
    {
      "cell_type": "markdown",
      "id": "0c315178",
      "metadata": {
        "id": "0c315178"
      },
      "source": [
        "## PyTorch Tensor"
      ]
    },
    {
      "cell_type": "markdown",
      "source": [
        "YT Link:https://www.youtube.com/watch?v=x9JiIFvlUwk"
      ],
      "metadata": {
        "id": "1LaWFqkSn7lq"
      },
      "id": "1LaWFqkSn7lq"
    },
    {
      "cell_type": "code",
      "source": [
        "device = \"cuda\" if torch.cuda.is_available() else \"cpu\""
      ],
      "metadata": {
        "id": "HDn1MVL9pCAr"
      },
      "id": "HDn1MVL9pCAr",
      "execution_count": 6,
      "outputs": []
    },
    {
      "cell_type": "code",
      "source": [
        "my_tensor = torch.tensor([[1,2,3],[4,5,6]],dtype=torch.float,device = device)\n",
        "print(my_tensor)"
      ],
      "metadata": {
        "colab": {
          "base_uri": "https://localhost:8080/"
        },
        "id": "0zePP0g4n-Bq",
        "outputId": "724bccd0-21c3-42a5-d94b-4de5565fe2a8"
      },
      "id": "0zePP0g4n-Bq",
      "execution_count": 7,
      "outputs": [
        {
          "output_type": "stream",
          "name": "stdout",
          "text": [
            "tensor([[1., 2., 3.],\n",
            "        [4., 5., 6.]])\n"
          ]
        }
      ]
    },
    {
      "cell_type": "code",
      "source": [
        "print(my_tensor.dtype)"
      ],
      "metadata": {
        "id": "uBDVxkaCocas",
        "outputId": "747d915b-b8a5-4c8b-cd48-93f857393730",
        "colab": {
          "base_uri": "https://localhost:8080/"
        }
      },
      "id": "uBDVxkaCocas",
      "execution_count": 8,
      "outputs": [
        {
          "output_type": "stream",
          "name": "stdout",
          "text": [
            "torch.float32\n"
          ]
        }
      ]
    },
    {
      "cell_type": "code",
      "source": [
        "print(my_tensor.device)"
      ],
      "metadata": {
        "id": "yICR-YIipZ75",
        "outputId": "d97c02f3-c3da-475b-f69b-8323e27c0267",
        "colab": {
          "base_uri": "https://localhost:8080/"
        }
      },
      "id": "yICR-YIipZ75",
      "execution_count": 9,
      "outputs": [
        {
          "output_type": "stream",
          "name": "stdout",
          "text": [
            "cpu\n"
          ]
        }
      ]
    },
    {
      "cell_type": "code",
      "source": [
        "print(my_tensor.shape)"
      ],
      "metadata": {
        "id": "t1dcnzkLpdUR",
        "outputId": "88e18d80-6270-40aa-923f-7ba7fa144239",
        "colab": {
          "base_uri": "https://localhost:8080/"
        }
      },
      "id": "t1dcnzkLpdUR",
      "execution_count": 10,
      "outputs": [
        {
          "output_type": "stream",
          "name": "stdout",
          "text": [
            "torch.Size([2, 3])\n"
          ]
        }
      ]
    },
    {
      "cell_type": "code",
      "source": [
        "print(my_tensor.requires_grad)"
      ],
      "metadata": {
        "id": "D5Bv61VephcB",
        "outputId": "3b117baf-b958-4ee9-cb51-352fdc7f22cd",
        "colab": {
          "base_uri": "https://localhost:8080/"
        }
      },
      "id": "D5Bv61VephcB",
      "execution_count": 11,
      "outputs": [
        {
          "output_type": "stream",
          "name": "stdout",
          "text": [
            "False\n"
          ]
        }
      ]
    },
    {
      "cell_type": "markdown",
      "source": [
        "# Other common initialization method"
      ],
      "metadata": {
        "id": "l4MNwFnJpo8K"
      },
      "id": "l4MNwFnJpo8K"
    },
    {
      "cell_type": "code",
      "source": [
        "x = torch.empty(size = (3,3))"
      ],
      "metadata": {
        "id": "-BurxemYpuAI"
      },
      "id": "-BurxemYpuAI",
      "execution_count": 12,
      "outputs": []
    },
    {
      "cell_type": "code",
      "source": [
        "print(x)"
      ],
      "metadata": {
        "id": "w73xetQ2qNuQ",
        "outputId": "88ef8fbf-faf4-4870-eddc-b93bcd74e5e0",
        "colab": {
          "base_uri": "https://localhost:8080/"
        }
      },
      "id": "w73xetQ2qNuQ",
      "execution_count": 13,
      "outputs": [
        {
          "output_type": "stream",
          "name": "stdout",
          "text": [
            "tensor([[0.0000e+00, 0.0000e+00, 3.9895e-42],\n",
            "        [3.9923e-42, 2.6625e-44, 1.8217e-44],\n",
            "        [1.7516e-43, 9.8091e-45, 0.0000e+00]])\n"
          ]
        }
      ]
    },
    {
      "cell_type": "code",
      "source": [
        "y = torch.zeros((3,3))\n",
        "print(y)"
      ],
      "metadata": {
        "id": "lIGcMP1UqOvW",
        "outputId": "eb0243c1-a66c-4867-e4da-499fb70efb10",
        "colab": {
          "base_uri": "https://localhost:8080/"
        }
      },
      "id": "lIGcMP1UqOvW",
      "execution_count": 17,
      "outputs": [
        {
          "output_type": "stream",
          "name": "stdout",
          "text": [
            "tensor([[0., 0., 0.],\n",
            "        [0., 0., 0.],\n",
            "        [0., 0., 0.]])\n"
          ]
        }
      ]
    },
    {
      "cell_type": "code",
      "source": [
        "z = torch.rand((3,3))\n",
        "print(z)"
      ],
      "metadata": {
        "id": "97-H5_2VqWX_",
        "outputId": "c3d9e159-320f-4d70-e95b-723e258689d5",
        "colab": {
          "base_uri": "https://localhost:8080/"
        }
      },
      "id": "97-H5_2VqWX_",
      "execution_count": 18,
      "outputs": [
        {
          "output_type": "stream",
          "name": "stdout",
          "text": [
            "tensor([[0.2550, 0.0571, 0.2792],\n",
            "        [0.2693, 0.6861, 0.1155],\n",
            "        [0.2146, 0.4995, 0.3862]])\n"
          ]
        }
      ]
    },
    {
      "cell_type": "code",
      "source": [
        "w = torch.ones((3,3))\n",
        "print(w)"
      ],
      "metadata": {
        "id": "YyUdcw4EqfdQ",
        "outputId": "f2e2eb77-5cd5-4253-c00c-ede3f566b7a4",
        "colab": {
          "base_uri": "https://localhost:8080/"
        }
      },
      "id": "YyUdcw4EqfdQ",
      "execution_count": 19,
      "outputs": [
        {
          "output_type": "stream",
          "name": "stdout",
          "text": [
            "tensor([[1., 1., 1.],\n",
            "        [1., 1., 1.],\n",
            "        [1., 1., 1.]])\n"
          ]
        }
      ]
    },
    {
      "cell_type": "code",
      "source": [
        "u = torch.eye(5,5)\n",
        "u"
      ],
      "metadata": {
        "id": "OIi95l1xqjwe",
        "outputId": "01294671-af4e-43c3-eca6-2ee987ac2c04",
        "colab": {
          "base_uri": "https://localhost:8080/"
        }
      },
      "id": "OIi95l1xqjwe",
      "execution_count": 21,
      "outputs": [
        {
          "output_type": "execute_result",
          "data": {
            "text/plain": [
              "tensor([[1., 0., 0., 0., 0.],\n",
              "        [0., 1., 0., 0., 0.],\n",
              "        [0., 0., 1., 0., 0.],\n",
              "        [0., 0., 0., 1., 0.],\n",
              "        [0., 0., 0., 0., 1.]])"
            ]
          },
          "metadata": {},
          "execution_count": 21
        }
      ]
    },
    {
      "cell_type": "code",
      "source": [
        "v = torch.arange(start=0,end=5,step=1)\n",
        "print(v)"
      ],
      "metadata": {
        "id": "JM4hnyKSqsJP",
        "outputId": "faaab6b1-f00e-45ae-d586-75db4adfcc4c",
        "colab": {
          "base_uri": "https://localhost:8080/"
        }
      },
      "id": "JM4hnyKSqsJP",
      "execution_count": 24,
      "outputs": [
        {
          "output_type": "stream",
          "name": "stdout",
          "text": [
            "tensor([0, 1, 2, 3, 4])\n"
          ]
        }
      ]
    },
    {
      "cell_type": "code",
      "source": [
        "b = torch.linspace(start=0.1,end=1,steps=10)\n",
        "b"
      ],
      "metadata": {
        "id": "OYO3JA7Eq2Cg",
        "outputId": "bbff62ce-d403-4b78-d581-bc1ee246c253",
        "colab": {
          "base_uri": "https://localhost:8080/"
        }
      },
      "id": "OYO3JA7Eq2Cg",
      "execution_count": 26,
      "outputs": [
        {
          "output_type": "execute_result",
          "data": {
            "text/plain": [
              "tensor([0.1000, 0.2000, 0.3000, 0.4000, 0.5000, 0.6000, 0.7000, 0.8000, 0.9000,\n",
              "        1.0000])"
            ]
          },
          "metadata": {},
          "execution_count": 26
        }
      ]
    },
    {
      "cell_type": "code",
      "source": [
        "n = torch.empty(size = (1,5)).normal_(mean=0,std=1)\n",
        "n"
      ],
      "metadata": {
        "id": "hXF79E-trGl4",
        "outputId": "18eeda0c-6abb-4b56-85f8-e3b826233710",
        "colab": {
          "base_uri": "https://localhost:8080/"
        }
      },
      "id": "hXF79E-trGl4",
      "execution_count": 28,
      "outputs": [
        {
          "output_type": "execute_result",
          "data": {
            "text/plain": [
              "tensor([[-0.5198, -1.1136, -1.9129, -0.0179, -1.8190]])"
            ]
          },
          "metadata": {},
          "execution_count": 28
        }
      ]
    },
    {
      "cell_type": "code",
      "source": [
        "x =torch.empty(size=(1,5)).uniform_(0,1)"
      ],
      "metadata": {
        "id": "w_-l2zHwraww"
      },
      "id": "w_-l2zHwraww",
      "execution_count": 31,
      "outputs": []
    },
    {
      "cell_type": "code",
      "source": [
        "x"
      ],
      "metadata": {
        "id": "Zn8yRx02rmEY",
        "outputId": "8d1a808f-1b38-468b-8919-353f82fbf782",
        "colab": {
          "base_uri": "https://localhost:8080/"
        }
      },
      "id": "Zn8yRx02rmEY",
      "execution_count": 32,
      "outputs": [
        {
          "output_type": "execute_result",
          "data": {
            "text/plain": [
              "tensor([[0.3879, 0.4134, 0.8113, 0.2395, 0.0533]])"
            ]
          },
          "metadata": {},
          "execution_count": 32
        }
      ]
    },
    {
      "cell_type": "code",
      "source": [
        "x = torch.diag(torch.ones(3))"
      ],
      "metadata": {
        "id": "Bk6wxikTrrPO"
      },
      "id": "Bk6wxikTrrPO",
      "execution_count": 33,
      "outputs": []
    },
    {
      "cell_type": "code",
      "source": [
        "x"
      ],
      "metadata": {
        "id": "q1bkXSd_r2Bw",
        "outputId": "84f4b9d3-4ac9-4fbe-de5b-cfcd965dbda1",
        "colab": {
          "base_uri": "https://localhost:8080/"
        }
      },
      "id": "q1bkXSd_r2Bw",
      "execution_count": 34,
      "outputs": [
        {
          "output_type": "execute_result",
          "data": {
            "text/plain": [
              "tensor([[1., 0., 0.],\n",
              "        [0., 1., 0.],\n",
              "        [0., 0., 1.]])"
            ]
          },
          "metadata": {},
          "execution_count": 34
        }
      ]
    },
    {
      "cell_type": "markdown",
      "source": [
        "# How to initialize and convert tensors to other types"
      ],
      "metadata": {
        "id": "vdM_CnRZsDqQ"
      },
      "id": "vdM_CnRZsDqQ"
    },
    {
      "cell_type": "code",
      "source": [],
      "metadata": {
        "id": "YAWHOw9SsK6H"
      },
      "id": "YAWHOw9SsK6H",
      "execution_count": null,
      "outputs": []
    }
  ],
  "metadata": {
    "kernelspec": {
      "display_name": "Python 3",
      "language": "python",
      "name": "python3"
    },
    "language_info": {
      "codemirror_mode": {
        "name": "ipython",
        "version": 3
      },
      "file_extension": ".py",
      "mimetype": "text/x-python",
      "name": "python",
      "nbconvert_exporter": "python",
      "pygments_lexer": "ipython3",
      "version": "3.10.0"
    },
    "colab": {
      "provenance": [],
      "include_colab_link": true
    }
  },
  "nbformat": 4,
  "nbformat_minor": 5
}