{
  "cells": [
    {
      "cell_type": "markdown",
      "metadata": {
        "id": "view-in-github",
        "colab_type": "text"
      },
      "source": [
        "<a href=\"https://colab.research.google.com/github/stoicsapien1/ERA/blob/master/MY%20PRACTICE/NUMPY%20AND%20TENSOR/PyTorch%20Tensor.ipynb\" target=\"_parent\"><img src=\"https://colab.research.google.com/assets/colab-badge.svg\" alt=\"Open In Colab\"/></a>"
      ]
    },
    {
      "cell_type": "markdown",
      "id": "0c315178",
      "metadata": {
        "id": "0c315178"
      },
      "source": [
        "## PyTorch Tensor"
      ]
    },
    {
      "cell_type": "markdown",
      "source": [
        "YT Link:https://www.youtube.com/watch?v=x9JiIFvlUwk"
      ],
      "metadata": {
        "id": "1LaWFqkSn7lq"
      },
      "id": "1LaWFqkSn7lq"
    },
    {
      "cell_type": "code",
      "source": [],
      "metadata": {
        "id": "0zePP0g4n-Bq"
      },
      "id": "0zePP0g4n-Bq",
      "execution_count": null,
      "outputs": []
    }
  ],
  "metadata": {
    "kernelspec": {
      "display_name": "Python 3",
      "language": "python",
      "name": "python3"
    },
    "language_info": {
      "codemirror_mode": {
        "name": "ipython",
        "version": 3
      },
      "file_extension": ".py",
      "mimetype": "text/x-python",
      "name": "python",
      "nbconvert_exporter": "python",
      "pygments_lexer": "ipython3",
      "version": "3.10.0"
    },
    "colab": {
      "provenance": [],
      "include_colab_link": true
    }
  },
  "nbformat": 4,
  "nbformat_minor": 5
}