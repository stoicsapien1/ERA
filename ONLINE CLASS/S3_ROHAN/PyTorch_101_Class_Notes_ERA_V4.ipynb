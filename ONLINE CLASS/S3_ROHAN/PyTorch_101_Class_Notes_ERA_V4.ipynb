{
  "nbformat": 4,
  "nbformat_minor": 0,
  "metadata": {
    "colab": {
      "provenance": [],
      "gpuType": "T4"
    },
    "kernelspec": {
      "name": "python3",
      "display_name": "Python 3"
    },
    "language_info": {
      "name": "python"
    },
    "accelerator": "GPU"
  },
  "cells": [
    {
      "cell_type": "markdown",
      "source": [
        "![Pytorch](https://miro.medium.com/max/1024/1*KKADWARPMxHb-WMxCgW_xA.png)\n",
        "\n",
        "**PyTorch** is an open-source machine learning framework that bridges **research prototyping** and **production deployment**. It is widely used for deep learning and scientific computing, offering flexibility, performance, and a thriving ecosystem.\n",
        "\n",
        "---\n",
        "\n",
        "## Why PyTorch?\n",
        "\n",
        "* **Production Ready**: With **TorchScript**, PyTorch seamlessly transitions from eager execution (Pythonic, flexible) to optimized graph execution, supporting deployment in C++ runtimes.\n",
        "* **Scalable Deployment**: **TorchServe** simplifies deploying models at scale with features like multi-model serving, RESTful APIs, metrics, and logging—cloud and environment agnostic.\n",
        "* **Optimized Performance**: Native support for asynchronous execution, distributed training, and peer-to-peer communication across Python and C++.\n",
        "* **Mobile Integration**: End-to-end workflow extends to iOS and Android, covering preprocessing and deployment for mobile ML applications.\n",
        "* **Rich Ecosystem**: Supported by an active research community with specialized libraries for computer vision, reinforcement learning, NLP, and more.\n",
        "* **Interoperability**: Export models to **ONNX** for use across compatible runtimes, visualizers, and platforms.\n",
        "* **C++ Frontend**: A clean, research-friendly C++ interface mirroring the Python API for low-latency, high-performance applications.\n",
        "* **Cloud Support**: Prebuilt images, GPU scaling, and easy integration with all major cloud platforms.\n",
        "\n",
        "---\n",
        "\n",
        "## PyTorch vs TensorFlow\n",
        "\n",
        "| **PyTorch**                                   | **TensorFlow**                                                            |\n",
        "| --------------------------------------------- | ------------------------------------------------------------------------- |\n",
        "| Dynamic computation graphs (eager by default) | Static graphs by default (dynamic support improved via Keras integration) |\n",
        "| Explicit CPU/GPU control                      | Simplified since TF 2.0 but less direct                                   |\n",
        "| Pythonic, intuitive, faster to prototype      | Steeper learning curve                                                    |\n",
        "| Strong documentation                          | Industry-leading documentation                                            |\n",
        "| Uses external tools for visualization/logging | Built-in **TensorBoard**                                                  |\n",
        "| Lightweight, easy experimentation             | Heavier deployment dependencies                                           |\n",
        "| Debugging can be harder                       | Strong debugging tools                                                    |\n",
        "\n",
        "---\n",
        "\n",
        "## Popularity & Adoption\n",
        "\n",
        "\n",
        "![headtohead](https://viso.ai/wp-content/uploads/2023/02/pytorch-vs-tensorflow-popularity-comparison.png)\n",
        "*PyTorch has overtaken TensorFlow in research and industry adoption.*\n",
        "\n",
        "---\n",
        "\n",
        "✅ **In short**: PyTorch is the framework of choice for researchers and practitioners who want rapid prototyping, strong community support, and smooth paths to production—while TensorFlow retains strengths in debugging, visualization, and some enterprise-scale workflows.\n",
        "\n",
        "\n"
      ],
      "metadata": {
        "id": "W5Ex8zCBnqfG"
      }
    },
    {
      "cell_type": "markdown",
      "source": [
        "# Scientific Computing with PyTorch\n",
        "\n",
        "The **scientific computing power** of PyTorch is built on its **Tensor library** and rich ecosystem of tensor operations.\n",
        "\n",
        "![tensor](https://thepracticaldev.s3.amazonaws.com/i/bp6ux6ppf5t5amwkxklq.jpg)\n",
        "\n",
        "At its core, a **tensor** is an *n-dimensional array*—similar to a NumPy array but with additional deep learning and GPU acceleration capabilities.\n",
        "\n",
        "\n",
        "\n",
        "---\n",
        "\n",
        "# NumPy\n",
        "\n",
        "![Numpy Ops](https://www.researchgate.net/publication/371375140/figure/fig2/AS:11431281194962536@1696298785617/Array-Slicing-in-NumPy-illustration-inspired-by.png)\n",
        "\n",
        "\n",
        "\n",
        "* **NumPy** is the de facto library for scientific computing in Python, widely used for linear algebra, statistical operations, and nD arrays.\n",
        "* **PyTorch Tensors** mirror NumPy’s API closely, making it easy for NumPy users to adopt PyTorch.\n",
        "* Unlike NumPy, PyTorch tensors come with **native GPU support**, enabling large-scale computations to run orders of magnitude faster.\n",
        "* PyTorch and NumPy are **highly interoperable**:\n",
        "\n",
        "  * Convert a NumPy array → PyTorch tensor: `torch.from_numpy(ndarray)`\n",
        "  * Convert a PyTorch tensor → NumPy array: `tensor.numpy()`\n",
        "\n",
        "---\n",
        "\n",
        "## Advantages of PyTorch Tensors\n",
        "\n",
        "1. **GPU Acceleration**\n",
        "\n",
        "   * Run tensor operations on CUDA-enabled GPUs with a simple `.to('cuda')` or `.cuda()` call.\n",
        "   * Easily switch between CPU and GPU execution without code rewrites.\n",
        "\n",
        "2. **Autograd Support**\n",
        "\n",
        "   * PyTorch tensors integrate with the **autograd engine**, automatically tracking gradients for optimization.\n",
        "   * This makes tensors not just numerical arrays but also core building blocks for training neural networks.\n",
        "\n",
        "3. **Rich Mathematical Operations**\n",
        "\n",
        "   * Built-in support for advanced linear algebra, convolution, Fourier transforms, and statistical functions.\n",
        "   * Optimized under the hood with low-level libraries like **MKL**, **cuBLAS**, and **cuDNN**.\n",
        "\n",
        "4. **Seamless Integration**\n",
        "\n",
        "   * Interoperable with libraries like SciPy, Pandas, and scikit-learn.\n",
        "   * Exportable to **ONNX** for use across other frameworks and runtimes.\n",
        "\n",
        "---\n",
        "\n",
        "## Quick Example\n",
        "\n",
        "```python\n",
        "import numpy as np\n",
        "import torch\n",
        "\n",
        "# NumPy array\n",
        "np_array = np.array([[1, 2], [3, 4]])\n",
        "\n",
        "# Convert to PyTorch tensor\n",
        "torch_tensor = torch.from_numpy(np_array)\n",
        "\n",
        "# Move tensor to GPU\n",
        "if torch.cuda.is_available():\n",
        "    torch_tensor = torch_tensor.to('cuda')\n",
        "\n",
        "print(torch_tensor)\n",
        "```\n",
        "\n",
        "✅ With just a few lines, the same scientific computing workflow can scale from CPU → GPU seamlessly.\n",
        "\n",
        "---\n",
        "\n",
        "👉 **In short:**\n",
        "\n",
        "* **NumPy** = the gold standard for CPU-based scientific computing.\n",
        "* **PyTorch tensors** = NumPy + GPU acceleration + automatic differentiation → making them the foundation for modern deep learning.\n",
        "\n",
        "---\n",
        "\n"
      ],
      "metadata": {
        "id": "YWDMSWeTpIQf"
      }
    },
    {
      "cell_type": "markdown",
      "source": [
        "## PyTorch Philosophy\n",
        "\n",
        "PyTorch was designed with a clear philosophy that prioritizes **developer experience**:\n",
        "\n",
        "* **Stay out of the way** – Lightweight and minimal abstractions, so you focus on solving problems, not fighting the framework.\n",
        "* **Cater to the impatient** – Quick to prototype, intuitive to learn, and fast to execute.\n",
        "* **Promote linear code flow** – No hidden sessions or compilation steps; what you write is what runs.\n",
        "* **Full Python interoperability** – Seamlessly integrates with the Python ecosystem (NumPy, SciPy, Pandas, scikit-learn, etc.).\n",
        "* **As fast as anything else** – Competitive performance with other deep learning frameworks.\n",
        "\n",
        "---\n",
        "\n",
        "## Debugging in PyTorch\n",
        "\n",
        "Because **PyTorch is a Python extension**, debugging is simple and familiar:\n",
        "\n",
        "* Any **Python debugger** (e.g., `pdb`, `ipdb`, or IDE debuggers) works out of the box.\n",
        "* Even the humble `print()` function works directly on tensors, autograd objects, and models.\n",
        "* Errors are raised at runtime (thanks to dynamic graphs), making it much easier to trace issues back to source code.\n",
        "\n",
        "This makes PyTorch particularly appealing for researchers and developers who iterate quickly and need **transparent debugging**.\n",
        "\n",
        "---\n",
        "\n",
        "## Why PyTorch Got So Popular\n",
        "\n",
        "To train deep neural networks, frameworks rely on **computational graphs**—structures that represent operations and their derivatives for backpropagation.\n",
        "\n",
        "![cgs](https://pytorch.org/assets/images/augmented_computational_graph.png)\n",
        "\n",
        "Traditionally, frameworks like TensorFlow used **static computation graphs** (define-then-run). These graphs are fixed before execution, which allows optimizations but makes experimentation cumbersome.\n",
        "\n",
        "PyTorch introduced **Dynamic Computation Graphs** (define-by-run):\n",
        "\n",
        "* Graphs are built **on the fly** as operations occur.\n",
        "* Debugging is intuitive, since errors appear exactly where they happen.\n",
        "* Flexible for advanced models, research experiments, and quick iteration.\n",
        "\n",
        "---\n",
        "\n",
        "## PyTorch vs TensorFlow: The Modern Debate\n",
        "\n",
        "Over the years, the gap between PyTorch and TensorFlow has narrowed (especially after TensorFlow 2.0 introduced eager execution). Yet, PyTorch remains the framework of choice for many researchers and developers due to several advantages:\n",
        "\n",
        "1. **Ease of Learning & Use**\n",
        "\n",
        "   * Pythonic syntax, intuitive APIs, and define-by-run graphs make PyTorch friendly for beginners and researchers alike.\n",
        "\n",
        "2. **Research Flexibility**\n",
        "\n",
        "   * Dynamic graphs let you modify architectures on the fly, perfect for prototyping and experimental work.\n",
        "\n",
        "3. **Deep Python Integration**\n",
        "\n",
        "   * Designed from the ground up to blend with Python tools and workflows, making it feel “native” in scientific computing pipelines.\n",
        "\n",
        "4. **Community & Ecosystem**\n",
        "\n",
        "   * Hugely popular in academia and research. The community contributes rich tutorials, papers, and open-source libraries across CV, NLP, RL, and more.\n",
        "\n",
        "5. **Dynamic vs Static Graphs**\n",
        "\n",
        "   * While TensorFlow supports dynamic graphs now, PyTorch was inherently designed for them—so its implementation is often smoother and more intuitive.\n",
        "\n",
        "6. **Model Deployment**\n",
        "\n",
        "   * TensorFlow still leads in enterprise deployment (TensorFlow Serving, TF Lite).\n",
        "   * But PyTorch has **TorchScript**, **TorchServe**, and **PyTorch Mobile**, significantly closing the gap.\n",
        "\n",
        "---\n",
        "\n",
        "👉 **In short:**\n",
        "PyTorch rose to dominance because it **put researchers first**—prioritizing flexibility, ease of use, and Python integration. With deployment tools now mature, PyTorch today is not just for prototyping but also for **production at scale**.\n",
        "\n"
      ],
      "metadata": {
        "id": "HC9h05pKtFpq"
      }
    },
    {
      "cell_type": "code",
      "execution_count": null,
      "metadata": {
        "id": "qlZjLvKRhXq9",
        "colab": {
          "base_uri": "https://localhost:8080/"
        },
        "outputId": "1f0cb248-7663-4be2-b12c-76246a745099"
      },
      "outputs": [
        {
          "output_type": "stream",
          "name": "stdout",
          "text": [
            "Requirement already satisfied: torch in /usr/local/lib/python3.12/dist-packages (2.8.0+cu126)\n",
            "Requirement already satisfied: filelock in /usr/local/lib/python3.12/dist-packages (from torch) (3.19.1)\n",
            "Requirement already satisfied: typing-extensions>=4.10.0 in /usr/local/lib/python3.12/dist-packages (from torch) (4.15.0)\n",
            "Requirement already satisfied: setuptools in /usr/local/lib/python3.12/dist-packages (from torch) (75.2.0)\n",
            "Requirement already satisfied: sympy>=1.13.3 in /usr/local/lib/python3.12/dist-packages (from torch) (1.13.3)\n",
            "Requirement already satisfied: networkx in /usr/local/lib/python3.12/dist-packages (from torch) (3.5)\n",
            "Requirement already satisfied: jinja2 in /usr/local/lib/python3.12/dist-packages (from torch) (3.1.6)\n",
            "Requirement already satisfied: fsspec in /usr/local/lib/python3.12/dist-packages (from torch) (2025.3.0)\n",
            "Requirement already satisfied: nvidia-cuda-nvrtc-cu12==12.6.77 in /usr/local/lib/python3.12/dist-packages (from torch) (12.6.77)\n",
            "Requirement already satisfied: nvidia-cuda-runtime-cu12==12.6.77 in /usr/local/lib/python3.12/dist-packages (from torch) (12.6.77)\n",
            "Requirement already satisfied: nvidia-cuda-cupti-cu12==12.6.80 in /usr/local/lib/python3.12/dist-packages (from torch) (12.6.80)\n",
            "Requirement already satisfied: nvidia-cudnn-cu12==9.10.2.21 in /usr/local/lib/python3.12/dist-packages (from torch) (9.10.2.21)\n",
            "Requirement already satisfied: nvidia-cublas-cu12==12.6.4.1 in /usr/local/lib/python3.12/dist-packages (from torch) (12.6.4.1)\n",
            "Requirement already satisfied: nvidia-cufft-cu12==11.3.0.4 in /usr/local/lib/python3.12/dist-packages (from torch) (11.3.0.4)\n",
            "Requirement already satisfied: nvidia-curand-cu12==10.3.7.77 in /usr/local/lib/python3.12/dist-packages (from torch) (10.3.7.77)\n",
            "Requirement already satisfied: nvidia-cusolver-cu12==11.7.1.2 in /usr/local/lib/python3.12/dist-packages (from torch) (11.7.1.2)\n",
            "Requirement already satisfied: nvidia-cusparse-cu12==12.5.4.2 in /usr/local/lib/python3.12/dist-packages (from torch) (12.5.4.2)\n",
            "Requirement already satisfied: nvidia-cusparselt-cu12==0.7.1 in /usr/local/lib/python3.12/dist-packages (from torch) (0.7.1)\n",
            "Requirement already satisfied: nvidia-nccl-cu12==2.27.3 in /usr/local/lib/python3.12/dist-packages (from torch) (2.27.3)\n",
            "Requirement already satisfied: nvidia-nvtx-cu12==12.6.77 in /usr/local/lib/python3.12/dist-packages (from torch) (12.6.77)\n",
            "Requirement already satisfied: nvidia-nvjitlink-cu12==12.6.85 in /usr/local/lib/python3.12/dist-packages (from torch) (12.6.85)\n",
            "Requirement already satisfied: nvidia-cufile-cu12==1.11.1.6 in /usr/local/lib/python3.12/dist-packages (from torch) (1.11.1.6)\n",
            "Requirement already satisfied: triton==3.4.0 in /usr/local/lib/python3.12/dist-packages (from torch) (3.4.0)\n",
            "Requirement already satisfied: mpmath<1.4,>=1.1.0 in /usr/local/lib/python3.12/dist-packages (from sympy>=1.13.3->torch) (1.3.0)\n",
            "Requirement already satisfied: MarkupSafe>=2.0 in /usr/local/lib/python3.12/dist-packages (from jinja2->torch) (3.0.2)\n"
          ]
        }
      ],
      "source": [
        "!pip install torch #its preinstalled on Colab"
      ]
    },
    {
      "cell_type": "code",
      "source": [
        "!ls"
      ],
      "metadata": {
        "colab": {
          "base_uri": "https://localhost:8080/"
        },
        "id": "7bBfjUUTvc77",
        "outputId": "c8e82f37-3bf9-4a5b-f628-68b61413df80"
      },
      "execution_count": null,
      "outputs": [
        {
          "output_type": "stream",
          "name": "stdout",
          "text": [
            "data  sample_data\n"
          ]
        }
      ]
    },
    {
      "cell_type": "code",
      "source": [
        "import numpy as np\n",
        "\n",
        "V0 = np.array(1.3)\n",
        "V1 = np.array([1., 2., 3.])\n",
        "V2 = np.array([[1., 2.], [4., 5.]])\n",
        "print(f'{V0}, {V1}, {V2}')"
      ],
      "metadata": {
        "colab": {
          "base_uri": "https://localhost:8080/"
        },
        "id": "T2g_ss7Avnuy",
        "outputId": "c23d3cf8-feb3-4710-a444-86ab092386a6"
      },
      "execution_count": null,
      "outputs": [
        {
          "output_type": "stream",
          "name": "stdout",
          "text": [
            "1.3, [1. 2. 3.], [[1. 2.]\n",
            " [4. 5.]]\n"
          ]
        }
      ]
    },
    {
      "cell_type": "code",
      "source": [
        "numpy_array = np.array([1, 2, 3])"
      ],
      "metadata": {
        "id": "gmppLkjUv5vB"
      },
      "execution_count": null,
      "outputs": []
    },
    {
      "cell_type": "code",
      "source": [
        "import torch\n",
        "\n",
        "t1 = torch.Tensor(numpy_array)\n",
        "# Constructor - same as torch.FloatTensor\n",
        "# uses a default float32 tensor, this bechanvor can be changed\n",
        "# all other tensors inherit from this main tensor class\n",
        "\n",
        "t2 = torch.tensor(numpy_array)\n",
        "# Factory Function\n",
        "# going to produce a new tensor of the same type\n",
        "# does not share underlying memory with numpy!\n",
        "# always copies the data\n",
        "# torch.tensor(data, dtype=None, device=None, requires_grad=False/True)\n",
        "# highly recommended to use!\n",
        "\n",
        "t3 = torch.as_tensor(numpy_array)\n",
        "# Factory Function\n",
        "# produce a new tensor with the same data type\n",
        "# share the underlying memory with numpy, changing one, will change another!\n",
        "# CAN ACCEPT ANY PYTHON DATA STRUCTURE INCLUDING NUMPY ARRAYS\n",
        "# always tries to avoid a copy of the data!\n",
        "# we have to manually call requires_grad() function on the final tensor. It does not support requires_grad by default\n",
        "# recommended to use!\n",
        "\n",
        "t4 = torch.from_numpy(numpy_array)\n",
        "# Factory Function\n",
        "# produce a new tensor with the same data type\n",
        "# share the underlying memory with numpy, changing one, will change another!\n",
        "# CAN ACCEPT ONLY NUMPY ARRAYS"
      ],
      "metadata": {
        "id": "K8rLB16sv_Q6"
      },
      "execution_count": null,
      "outputs": []
    },
    {
      "cell_type": "code",
      "source": [
        "numpy_array.dtype, t1.dtype, t2.dtype, t3.dtype, t4.dtype"
      ],
      "metadata": {
        "colab": {
          "base_uri": "https://localhost:8080/"
        },
        "id": "Tfi6GwUDxPjA",
        "outputId": "cd951960-fd93-4792-b903-45cdf4b9e9ee"
      },
      "execution_count": null,
      "outputs": [
        {
          "output_type": "execute_result",
          "data": {
            "text/plain": [
              "(dtype('int64'), torch.float32, torch.int64, torch.int64, torch.int64)"
            ]
          },
          "metadata": {},
          "execution_count": 249
        }
      ]
    },
    {
      "cell_type": "code",
      "source": [
        "numpy_array *= 4"
      ],
      "metadata": {
        "id": "G6Vi24xZyLqo"
      },
      "execution_count": null,
      "outputs": []
    },
    {
      "cell_type": "code",
      "source": [
        "numpy_array"
      ],
      "metadata": {
        "colab": {
          "base_uri": "https://localhost:8080/"
        },
        "id": "EAb2CvL9yu_3",
        "outputId": "25f10c7c-848b-47fc-a1de-e5ef08ea29de"
      },
      "execution_count": null,
      "outputs": [
        {
          "output_type": "execute_result",
          "data": {
            "text/plain": [
              "array([ 4,  8, 12])"
            ]
          },
          "metadata": {},
          "execution_count": 251
        }
      ]
    },
    {
      "cell_type": "code",
      "source": [
        "t1, t2, t3, t4 #[n, n, y, y]"
      ],
      "metadata": {
        "colab": {
          "base_uri": "https://localhost:8080/"
        },
        "id": "B42NH3JXywiC",
        "outputId": "f031c46e-4f96-4f0a-8ee3-63cc8ab664e9"
      },
      "execution_count": null,
      "outputs": [
        {
          "output_type": "execute_result",
          "data": {
            "text/plain": [
              "(tensor([1., 2., 3.]),\n",
              " tensor([1, 2, 3]),\n",
              " tensor([ 4,  8, 12]),\n",
              " tensor([ 4,  8, 12]))"
            ]
          },
          "metadata": {},
          "execution_count": 252
        }
      ]
    },
    {
      "cell_type": "code",
      "source": [
        "t1 *= 2\n",
        "numpy_array, t1, t2, t3, t4"
      ],
      "metadata": {
        "colab": {
          "base_uri": "https://localhost:8080/"
        },
        "id": "9pAagfpxy03E",
        "outputId": "b27990e1-463b-4cf1-f5bf-ce7010aaf8e8"
      },
      "execution_count": null,
      "outputs": [
        {
          "output_type": "execute_result",
          "data": {
            "text/plain": [
              "(array([ 4,  8, 12]),\n",
              " tensor([2., 4., 6.]),\n",
              " tensor([1, 2, 3]),\n",
              " tensor([ 4,  8, 12]),\n",
              " tensor([ 4,  8, 12]))"
            ]
          },
          "metadata": {},
          "execution_count": 253
        }
      ]
    },
    {
      "cell_type": "code",
      "source": [
        "t2 *= 2\n",
        "numpy_array, t1, t2, t3, t4"
      ],
      "metadata": {
        "colab": {
          "base_uri": "https://localhost:8080/"
        },
        "id": "xi2a0Z45y--v",
        "outputId": "c80f552e-dbcd-44c3-c2a2-72d6e01ae16c"
      },
      "execution_count": null,
      "outputs": [
        {
          "output_type": "execute_result",
          "data": {
            "text/plain": [
              "(array([ 4,  8, 12]),\n",
              " tensor([2., 4., 6.]),\n",
              " tensor([2, 4, 6]),\n",
              " tensor([ 4,  8, 12]),\n",
              " tensor([ 4,  8, 12]))"
            ]
          },
          "metadata": {},
          "execution_count": 254
        }
      ]
    },
    {
      "cell_type": "code",
      "source": [
        "t3 *= 2\n",
        "numpy_array, t1, t2, t3, t4"
      ],
      "metadata": {
        "colab": {
          "base_uri": "https://localhost:8080/"
        },
        "id": "XdA09sm6zB_a",
        "outputId": "b7ddb455-71dd-4eb7-e469-b698f977f6f5"
      },
      "execution_count": null,
      "outputs": [
        {
          "output_type": "execute_result",
          "data": {
            "text/plain": [
              "(array([ 8, 16, 24]),\n",
              " tensor([2., 4., 6.]),\n",
              " tensor([2, 4, 6]),\n",
              " tensor([ 8, 16, 24]),\n",
              " tensor([ 8, 16, 24]))"
            ]
          },
          "metadata": {},
          "execution_count": 255
        }
      ]
    },
    {
      "cell_type": "code",
      "source": [
        "t4 *= 2\n",
        "numpy_array, t1, t2, t3, t4"
      ],
      "metadata": {
        "colab": {
          "base_uri": "https://localhost:8080/"
        },
        "id": "ulHeBSLnzFVa",
        "outputId": "078c0f2c-6ec3-4b43-ab44-90ff4271e251"
      },
      "execution_count": null,
      "outputs": [
        {
          "output_type": "execute_result",
          "data": {
            "text/plain": [
              "(array([16, 32, 48]),\n",
              " tensor([2., 4., 6.]),\n",
              " tensor([2, 4, 6]),\n",
              " tensor([16, 32, 48]),\n",
              " tensor([16, 32, 48]))"
            ]
          },
          "metadata": {},
          "execution_count": 256
        }
      ]
    },
    {
      "cell_type": "code",
      "source": [
        "t5 = t4.cuda()\n",
        "\n",
        "t5.device, t4.device"
      ],
      "metadata": {
        "colab": {
          "base_uri": "https://localhost:8080/"
        },
        "id": "ohymfy6_zL6W",
        "outputId": "18656b7d-0587-4433-ae22-6617bd1e17c7"
      },
      "execution_count": null,
      "outputs": [
        {
          "output_type": "execute_result",
          "data": {
            "text/plain": [
              "(device(type='cuda', index=0), device(type='cpu'))"
            ]
          },
          "metadata": {},
          "execution_count": 257
        }
      ]
    },
    {
      "cell_type": "code",
      "source": [
        "t5 + t4"
      ],
      "metadata": {
        "colab": {
          "base_uri": "https://localhost:8080/",
          "height": 146
        },
        "id": "gNbOIOnuzUKG",
        "outputId": "e6b39ea8-aefa-45a3-cd9e-99cf52c4a411"
      },
      "execution_count": null,
      "outputs": [
        {
          "output_type": "error",
          "ename": "RuntimeError",
          "evalue": "Expected all tensors to be on the same device, but found at least two devices, cuda:0 and cpu!",
          "traceback": [
            "\u001b[0;31m---------------------------------------------------------------------------\u001b[0m",
            "\u001b[0;31mRuntimeError\u001b[0m                              Traceback (most recent call last)",
            "\u001b[0;32m/tmp/ipython-input-837426715.py\u001b[0m in \u001b[0;36m<cell line: 0>\u001b[0;34m()\u001b[0m\n\u001b[0;32m----> 1\u001b[0;31m \u001b[0mt5\u001b[0m \u001b[0;34m+\u001b[0m \u001b[0mt4\u001b[0m\u001b[0;34m\u001b[0m\u001b[0;34m\u001b[0m\u001b[0m\n\u001b[0m",
            "\u001b[0;31mRuntimeError\u001b[0m: Expected all tensors to be on the same device, but found at least two devices, cuda:0 and cpu!"
          ]
        }
      ]
    },
    {
      "cell_type": "code",
      "source": [
        "t6 = t4 + t3\n",
        "t6"
      ],
      "metadata": {
        "colab": {
          "base_uri": "https://localhost:8080/"
        },
        "id": "lIikp57XzYxy",
        "outputId": "13e0bbd8-355f-4d6f-9213-f7153fe98601"
      },
      "execution_count": null,
      "outputs": [
        {
          "output_type": "execute_result",
          "data": {
            "text/plain": [
              "tensor([32, 64, 96])"
            ]
          },
          "metadata": {},
          "execution_count": 259
        }
      ]
    },
    {
      "cell_type": "code",
      "source": [
        "t6 = t4 + t5\n",
        "t6"
      ],
      "metadata": {
        "colab": {
          "base_uri": "https://localhost:8080/",
          "height": 164
        },
        "id": "k2Nd3HKUzeeU",
        "outputId": "90d42e27-f4db-442b-8ea9-66e2c98ae44e"
      },
      "execution_count": null,
      "outputs": [
        {
          "output_type": "error",
          "ename": "RuntimeError",
          "evalue": "Expected all tensors to be on the same device, but found at least two devices, cuda:0 and cpu!",
          "traceback": [
            "\u001b[0;31m---------------------------------------------------------------------------\u001b[0m",
            "\u001b[0;31mRuntimeError\u001b[0m                              Traceback (most recent call last)",
            "\u001b[0;32m/tmp/ipython-input-2838280936.py\u001b[0m in \u001b[0;36m<cell line: 0>\u001b[0;34m()\u001b[0m\n\u001b[0;32m----> 1\u001b[0;31m \u001b[0mt6\u001b[0m \u001b[0;34m=\u001b[0m \u001b[0mt4\u001b[0m \u001b[0;34m+\u001b[0m \u001b[0mt5\u001b[0m\u001b[0;34m\u001b[0m\u001b[0;34m\u001b[0m\u001b[0m\n\u001b[0m\u001b[1;32m      2\u001b[0m \u001b[0mt6\u001b[0m\u001b[0;34m\u001b[0m\u001b[0;34m\u001b[0m\u001b[0m\n",
            "\u001b[0;31mRuntimeError\u001b[0m: Expected all tensors to be on the same device, but found at least two devices, cuda:0 and cpu!"
          ]
        }
      ]
    },
    {
      "cell_type": "code",
      "source": [
        "torch.eye(4, 4)"
      ],
      "metadata": {
        "colab": {
          "base_uri": "https://localhost:8080/"
        },
        "id": "v151KtNmzhOB",
        "outputId": "1a8e30a9-7778-4224-9f5a-bba13d6d6aa6"
      },
      "execution_count": null,
      "outputs": [
        {
          "output_type": "execute_result",
          "data": {
            "text/plain": [
              "tensor([[1., 0., 0., 0.],\n",
              "        [0., 1., 0., 0.],\n",
              "        [0., 0., 1., 0.],\n",
              "        [0., 0., 0., 1.]])"
            ]
          },
          "metadata": {},
          "execution_count": 261
        }
      ]
    },
    {
      "cell_type": "code",
      "source": [
        "torch.zeros(2, 2)"
      ],
      "metadata": {
        "colab": {
          "base_uri": "https://localhost:8080/"
        },
        "id": "XqaLxi8Ozn0u",
        "outputId": "e2b9d461-d8f8-46e1-bb7e-37eef6b9fe02"
      },
      "execution_count": null,
      "outputs": [
        {
          "output_type": "execute_result",
          "data": {
            "text/plain": [
              "tensor([[0., 0.],\n",
              "        [0., 0.]])"
            ]
          },
          "metadata": {},
          "execution_count": 262
        }
      ]
    },
    {
      "cell_type": "code",
      "source": [
        "torch.ones(2, 3)"
      ],
      "metadata": {
        "colab": {
          "base_uri": "https://localhost:8080/"
        },
        "id": "agUpCld1z7zc",
        "outputId": "8a14df33-8acb-414d-e775-30d409808384"
      },
      "execution_count": null,
      "outputs": [
        {
          "output_type": "execute_result",
          "data": {
            "text/plain": [
              "tensor([[1., 1., 1.],\n",
              "        [1., 1., 1.]])"
            ]
          },
          "metadata": {},
          "execution_count": 263
        }
      ]
    },
    {
      "cell_type": "code",
      "source": [
        "torch.rand(3, 4)"
      ],
      "metadata": {
        "colab": {
          "base_uri": "https://localhost:8080/"
        },
        "id": "r6IGByFLz-O7",
        "outputId": "9dab01f2-3f46-45cf-9811-69d2558c0989"
      },
      "execution_count": null,
      "outputs": [
        {
          "output_type": "execute_result",
          "data": {
            "text/plain": [
              "tensor([[0.0599, 0.2118, 0.7939, 0.6307],\n",
              "        [0.6316, 0.7977, 0.3052, 0.7767],\n",
              "        [0.0972, 0.1615, 0.2621, 0.3455]])"
            ]
          },
          "metadata": {},
          "execution_count": 264
        }
      ]
    },
    {
      "cell_type": "code",
      "source": [
        "data = torch.tensor([[1, 2, 3], [4, 5, 6]])\n",
        "data[1, 0], data[0, 0:2], data[:2, :2]"
      ],
      "metadata": {
        "colab": {
          "base_uri": "https://localhost:8080/"
        },
        "id": "MpvuU3dk0HkM",
        "outputId": "05f053d9-62a3-4802-ec25-99ca02213f50"
      },
      "execution_count": null,
      "outputs": [
        {
          "output_type": "execute_result",
          "data": {
            "text/plain": [
              "(tensor(4),\n",
              " tensor([1, 2]),\n",
              " tensor([[1, 2],\n",
              "         [4, 5]]))"
            ]
          },
          "metadata": {},
          "execution_count": 265
        }
      ]
    },
    {
      "cell_type": "markdown",
      "source": [
        "#### Torch.tensor attributes\n",
        "\n",
        "| Attribute | Data Type | Description |\n",
        "|----|----|----|\n",
        "|data|array_like | list, tuple, NumPy ndarray, scalar |\n",
        "|dtype| torch.dtype | The tensor's data type|\n",
        "|requires_grad | bool| Should autograd record operation |\n",
        "|device | torch.device | Allocated on CPU or CUDA (GPU) |\n",
        "\n",
        "torch.tensor(data, dtype=None, device=None, requires_grad=False) → Tensor\n"
      ],
      "metadata": {
        "id": "sepW4aIo02tt"
      }
    },
    {
      "cell_type": "code",
      "source": [
        "data[1][0]"
      ],
      "metadata": {
        "colab": {
          "base_uri": "https://localhost:8080/"
        },
        "id": "pqtpKPZb2Oie",
        "outputId": "d62b45f9-c05e-4947-987d-314dea708a7d"
      },
      "execution_count": null,
      "outputs": [
        {
          "output_type": "execute_result",
          "data": {
            "text/plain": [
              "tensor(4)"
            ]
          },
          "metadata": {},
          "execution_count": 266
        }
      ]
    },
    {
      "cell_type": "code",
      "source": [
        "dir(data)"
      ],
      "metadata": {
        "colab": {
          "base_uri": "https://localhost:8080/"
        },
        "id": "JDEXOrsl2a_E",
        "outputId": "5ae4af57-3bbc-41aa-c546-25fe76792cb4"
      },
      "execution_count": null,
      "outputs": [
        {
          "output_type": "execute_result",
          "data": {
            "text/plain": [
              "['H',\n",
              " 'T',\n",
              " '__abs__',\n",
              " '__add__',\n",
              " '__and__',\n",
              " '__annotations__',\n",
              " '__array__',\n",
              " '__array_priority__',\n",
              " '__array_wrap__',\n",
              " '__bool__',\n",
              " '__class__',\n",
              " '__complex__',\n",
              " '__contains__',\n",
              " '__deepcopy__',\n",
              " '__delattr__',\n",
              " '__delitem__',\n",
              " '__dict__',\n",
              " '__dir__',\n",
              " '__div__',\n",
              " '__dlpack__',\n",
              " '__dlpack_device__',\n",
              " '__doc__',\n",
              " '__eq__',\n",
              " '__float__',\n",
              " '__floordiv__',\n",
              " '__format__',\n",
              " '__ge__',\n",
              " '__getattribute__',\n",
              " '__getitem__',\n",
              " '__getstate__',\n",
              " '__gt__',\n",
              " '__hash__',\n",
              " '__iadd__',\n",
              " '__iand__',\n",
              " '__idiv__',\n",
              " '__ifloordiv__',\n",
              " '__ilshift__',\n",
              " '__imod__',\n",
              " '__imul__',\n",
              " '__index__',\n",
              " '__init__',\n",
              " '__init_subclass__',\n",
              " '__int__',\n",
              " '__invert__',\n",
              " '__ior__',\n",
              " '__ipow__',\n",
              " '__irshift__',\n",
              " '__isub__',\n",
              " '__iter__',\n",
              " '__itruediv__',\n",
              " '__ixor__',\n",
              " '__le__',\n",
              " '__len__',\n",
              " '__long__',\n",
              " '__lshift__',\n",
              " '__lt__',\n",
              " '__matmul__',\n",
              " '__mod__',\n",
              " '__module__',\n",
              " '__mul__',\n",
              " '__ne__',\n",
              " '__neg__',\n",
              " '__new__',\n",
              " '__nonzero__',\n",
              " '__or__',\n",
              " '__pos__',\n",
              " '__pow__',\n",
              " '__radd__',\n",
              " '__rand__',\n",
              " '__rdiv__',\n",
              " '__reduce__',\n",
              " '__reduce_ex__',\n",
              " '__repr__',\n",
              " '__reversed__',\n",
              " '__rfloordiv__',\n",
              " '__rlshift__',\n",
              " '__rmatmul__',\n",
              " '__rmod__',\n",
              " '__rmul__',\n",
              " '__ror__',\n",
              " '__rpow__',\n",
              " '__rrshift__',\n",
              " '__rshift__',\n",
              " '__rsub__',\n",
              " '__rtruediv__',\n",
              " '__rxor__',\n",
              " '__setattr__',\n",
              " '__setitem__',\n",
              " '__setstate__',\n",
              " '__sizeof__',\n",
              " '__str__',\n",
              " '__sub__',\n",
              " '__subclasshook__',\n",
              " '__torch_dispatch__',\n",
              " '__torch_function__',\n",
              " '__truediv__',\n",
              " '__weakref__',\n",
              " '__xor__',\n",
              " '_addmm_activation',\n",
              " '_autocast_to_full_precision',\n",
              " '_autocast_to_reduced_precision',\n",
              " '_backward_hooks',\n",
              " '_base',\n",
              " '_cdata',\n",
              " '_clear_non_serializable_cached_data',\n",
              " '_coalesced_',\n",
              " '_conj',\n",
              " '_conj_physical',\n",
              " '_dimI',\n",
              " '_dimV',\n",
              " '_fix_weakref',\n",
              " '_grad',\n",
              " '_grad_fn',\n",
              " '_has_symbolic_sizes_strides',\n",
              " '_indices',\n",
              " '_is_all_true',\n",
              " '_is_any_true',\n",
              " '_is_view',\n",
              " '_is_zerotensor',\n",
              " '_lazy_clone',\n",
              " '_make_subclass',\n",
              " '_make_wrapper_subclass',\n",
              " '_neg_view',\n",
              " '_nested_tensor_size',\n",
              " '_nested_tensor_storage_offsets',\n",
              " '_nested_tensor_strides',\n",
              " '_nnz',\n",
              " '_post_accumulate_grad_hooks',\n",
              " '_python_dispatch',\n",
              " '_reduce_ex_internal',\n",
              " '_rev_view_func_unsafe',\n",
              " '_sparse_mask_projection',\n",
              " '_to_dense',\n",
              " '_to_sparse',\n",
              " '_to_sparse_bsc',\n",
              " '_to_sparse_bsr',\n",
              " '_to_sparse_csc',\n",
              " '_to_sparse_csr',\n",
              " '_typed_storage',\n",
              " '_update_names',\n",
              " '_use_count',\n",
              " '_values',\n",
              " '_version',\n",
              " '_view_func',\n",
              " '_view_func_unsafe',\n",
              " 'abs',\n",
              " 'abs_',\n",
              " 'absolute',\n",
              " 'absolute_',\n",
              " 'acos',\n",
              " 'acos_',\n",
              " 'acosh',\n",
              " 'acosh_',\n",
              " 'add',\n",
              " 'add_',\n",
              " 'addbmm',\n",
              " 'addbmm_',\n",
              " 'addcdiv',\n",
              " 'addcdiv_',\n",
              " 'addcmul',\n",
              " 'addcmul_',\n",
              " 'addmm',\n",
              " 'addmm_',\n",
              " 'addmv',\n",
              " 'addmv_',\n",
              " 'addr',\n",
              " 'addr_',\n",
              " 'adjoint',\n",
              " 'align_as',\n",
              " 'align_to',\n",
              " 'all',\n",
              " 'allclose',\n",
              " 'amax',\n",
              " 'amin',\n",
              " 'aminmax',\n",
              " 'angle',\n",
              " 'any',\n",
              " 'apply_',\n",
              " 'arccos',\n",
              " 'arccos_',\n",
              " 'arccosh',\n",
              " 'arccosh_',\n",
              " 'arcsin',\n",
              " 'arcsin_',\n",
              " 'arcsinh',\n",
              " 'arcsinh_',\n",
              " 'arctan',\n",
              " 'arctan2',\n",
              " 'arctan2_',\n",
              " 'arctan_',\n",
              " 'arctanh',\n",
              " 'arctanh_',\n",
              " 'argmax',\n",
              " 'argmin',\n",
              " 'argsort',\n",
              " 'argwhere',\n",
              " 'as_strided',\n",
              " 'as_strided_',\n",
              " 'as_strided_scatter',\n",
              " 'as_subclass',\n",
              " 'asin',\n",
              " 'asin_',\n",
              " 'asinh',\n",
              " 'asinh_',\n",
              " 'atan',\n",
              " 'atan2',\n",
              " 'atan2_',\n",
              " 'atan_',\n",
              " 'atanh',\n",
              " 'atanh_',\n",
              " 'backward',\n",
              " 'baddbmm',\n",
              " 'baddbmm_',\n",
              " 'bernoulli',\n",
              " 'bernoulli_',\n",
              " 'bfloat16',\n",
              " 'bincount',\n",
              " 'bitwise_and',\n",
              " 'bitwise_and_',\n",
              " 'bitwise_left_shift',\n",
              " 'bitwise_left_shift_',\n",
              " 'bitwise_not',\n",
              " 'bitwise_not_',\n",
              " 'bitwise_or',\n",
              " 'bitwise_or_',\n",
              " 'bitwise_right_shift',\n",
              " 'bitwise_right_shift_',\n",
              " 'bitwise_xor',\n",
              " 'bitwise_xor_',\n",
              " 'bmm',\n",
              " 'bool',\n",
              " 'broadcast_to',\n",
              " 'byte',\n",
              " 'cauchy_',\n",
              " 'ccol_indices',\n",
              " 'cdouble',\n",
              " 'ceil',\n",
              " 'ceil_',\n",
              " 'cfloat',\n",
              " 'chalf',\n",
              " 'char',\n",
              " 'cholesky',\n",
              " 'cholesky_inverse',\n",
              " 'cholesky_solve',\n",
              " 'chunk',\n",
              " 'clamp',\n",
              " 'clamp_',\n",
              " 'clamp_max',\n",
              " 'clamp_max_',\n",
              " 'clamp_min',\n",
              " 'clamp_min_',\n",
              " 'clip',\n",
              " 'clip_',\n",
              " 'clone',\n",
              " 'coalesce',\n",
              " 'col_indices',\n",
              " 'conj',\n",
              " 'conj_physical',\n",
              " 'conj_physical_',\n",
              " 'contiguous',\n",
              " 'copy_',\n",
              " 'copysign',\n",
              " 'copysign_',\n",
              " 'corrcoef',\n",
              " 'cos',\n",
              " 'cos_',\n",
              " 'cosh',\n",
              " 'cosh_',\n",
              " 'count_nonzero',\n",
              " 'cov',\n",
              " 'cpu',\n",
              " 'cross',\n",
              " 'crow_indices',\n",
              " 'cuda',\n",
              " 'cummax',\n",
              " 'cummin',\n",
              " 'cumprod',\n",
              " 'cumprod_',\n",
              " 'cumsum',\n",
              " 'cumsum_',\n",
              " 'data',\n",
              " 'data_ptr',\n",
              " 'deg2rad',\n",
              " 'deg2rad_',\n",
              " 'dense_dim',\n",
              " 'dequantize',\n",
              " 'det',\n",
              " 'detach',\n",
              " 'detach_',\n",
              " 'device',\n",
              " 'diag',\n",
              " 'diag_embed',\n",
              " 'diagflat',\n",
              " 'diagonal',\n",
              " 'diagonal_scatter',\n",
              " 'diff',\n",
              " 'digamma',\n",
              " 'digamma_',\n",
              " 'dim',\n",
              " 'dim_order',\n",
              " 'dist',\n",
              " 'div',\n",
              " 'div_',\n",
              " 'divide',\n",
              " 'divide_',\n",
              " 'dot',\n",
              " 'double',\n",
              " 'dsplit',\n",
              " 'dtype',\n",
              " 'eig',\n",
              " 'element_size',\n",
              " 'eq',\n",
              " 'eq_',\n",
              " 'equal',\n",
              " 'erf',\n",
              " 'erf_',\n",
              " 'erfc',\n",
              " 'erfc_',\n",
              " 'erfinv',\n",
              " 'erfinv_',\n",
              " 'exp',\n",
              " 'exp2',\n",
              " 'exp2_',\n",
              " 'exp_',\n",
              " 'expand',\n",
              " 'expand_as',\n",
              " 'expm1',\n",
              " 'expm1_',\n",
              " 'exponential_',\n",
              " 'fill_',\n",
              " 'fill_diagonal_',\n",
              " 'fix',\n",
              " 'fix_',\n",
              " 'flatten',\n",
              " 'flip',\n",
              " 'fliplr',\n",
              " 'flipud',\n",
              " 'float',\n",
              " 'float_power',\n",
              " 'float_power_',\n",
              " 'floor',\n",
              " 'floor_',\n",
              " 'floor_divide',\n",
              " 'floor_divide_',\n",
              " 'fmax',\n",
              " 'fmin',\n",
              " 'fmod',\n",
              " 'fmod_',\n",
              " 'frac',\n",
              " 'frac_',\n",
              " 'frexp',\n",
              " 'gather',\n",
              " 'gcd',\n",
              " 'gcd_',\n",
              " 'ge',\n",
              " 'ge_',\n",
              " 'geometric_',\n",
              " 'geqrf',\n",
              " 'ger',\n",
              " 'get_device',\n",
              " 'grad',\n",
              " 'grad_fn',\n",
              " 'greater',\n",
              " 'greater_',\n",
              " 'greater_equal',\n",
              " 'greater_equal_',\n",
              " 'gt',\n",
              " 'gt_',\n",
              " 'half',\n",
              " 'hardshrink',\n",
              " 'has_names',\n",
              " 'heaviside',\n",
              " 'heaviside_',\n",
              " 'histc',\n",
              " 'histogram',\n",
              " 'hsplit',\n",
              " 'hypot',\n",
              " 'hypot_',\n",
              " 'i0',\n",
              " 'i0_',\n",
              " 'igamma',\n",
              " 'igamma_',\n",
              " 'igammac',\n",
              " 'igammac_',\n",
              " 'imag',\n",
              " 'index_add',\n",
              " 'index_add_',\n",
              " 'index_copy',\n",
              " 'index_copy_',\n",
              " 'index_fill',\n",
              " 'index_fill_',\n",
              " 'index_put',\n",
              " 'index_put_',\n",
              " 'index_reduce',\n",
              " 'index_reduce_',\n",
              " 'index_select',\n",
              " 'indices',\n",
              " 'inner',\n",
              " 'int',\n",
              " 'int_repr',\n",
              " 'inverse',\n",
              " 'ipu',\n",
              " 'is_coalesced',\n",
              " 'is_complex',\n",
              " 'is_conj',\n",
              " 'is_contiguous',\n",
              " 'is_cpu',\n",
              " 'is_cuda',\n",
              " 'is_distributed',\n",
              " 'is_floating_point',\n",
              " 'is_inference',\n",
              " 'is_ipu',\n",
              " 'is_leaf',\n",
              " 'is_maia',\n",
              " 'is_meta',\n",
              " 'is_mkldnn',\n",
              " 'is_mps',\n",
              " 'is_mtia',\n",
              " 'is_neg',\n",
              " 'is_nested',\n",
              " 'is_nonzero',\n",
              " 'is_pinned',\n",
              " 'is_quantized',\n",
              " 'is_same_size',\n",
              " 'is_set_to',\n",
              " 'is_shared',\n",
              " 'is_signed',\n",
              " 'is_sparse',\n",
              " 'is_sparse_csr',\n",
              " 'is_vulkan',\n",
              " 'is_xla',\n",
              " 'is_xpu',\n",
              " 'isclose',\n",
              " 'isfinite',\n",
              " 'isinf',\n",
              " 'isnan',\n",
              " 'isneginf',\n",
              " 'isposinf',\n",
              " 'isreal',\n",
              " 'istft',\n",
              " 'item',\n",
              " 'itemsize',\n",
              " 'kron',\n",
              " 'kthvalue',\n",
              " 'layout',\n",
              " 'lcm',\n",
              " 'lcm_',\n",
              " 'ldexp',\n",
              " 'ldexp_',\n",
              " 'le',\n",
              " 'le_',\n",
              " 'lerp',\n",
              " 'lerp_',\n",
              " 'less',\n",
              " 'less_',\n",
              " 'less_equal',\n",
              " 'less_equal_',\n",
              " 'lgamma',\n",
              " 'lgamma_',\n",
              " 'log',\n",
              " 'log10',\n",
              " 'log10_',\n",
              " 'log1p',\n",
              " 'log1p_',\n",
              " 'log2',\n",
              " 'log2_',\n",
              " 'log_',\n",
              " 'log_normal_',\n",
              " 'log_softmax',\n",
              " 'logaddexp',\n",
              " 'logaddexp2',\n",
              " 'logcumsumexp',\n",
              " 'logdet',\n",
              " 'logical_and',\n",
              " 'logical_and_',\n",
              " 'logical_not',\n",
              " 'logical_not_',\n",
              " 'logical_or',\n",
              " 'logical_or_',\n",
              " 'logical_xor',\n",
              " 'logical_xor_',\n",
              " 'logit',\n",
              " 'logit_',\n",
              " 'logsumexp',\n",
              " 'long',\n",
              " 'lstsq',\n",
              " 'lt',\n",
              " 'lt_',\n",
              " 'lu',\n",
              " 'lu_solve',\n",
              " 'mH',\n",
              " 'mT',\n",
              " 'map2_',\n",
              " 'map_',\n",
              " 'masked_fill',\n",
              " 'masked_fill_',\n",
              " 'masked_scatter',\n",
              " 'masked_scatter_',\n",
              " 'masked_select',\n",
              " 'matmul',\n",
              " 'matrix_exp',\n",
              " 'matrix_power',\n",
              " 'max',\n",
              " 'maximum',\n",
              " 'mean',\n",
              " 'median',\n",
              " 'min',\n",
              " 'minimum',\n",
              " 'mm',\n",
              " 'mode',\n",
              " 'module_load',\n",
              " 'moveaxis',\n",
              " 'movedim',\n",
              " 'msort',\n",
              " 'mtia',\n",
              " 'mul',\n",
              " 'mul_',\n",
              " 'multinomial',\n",
              " 'multiply',\n",
              " 'multiply_',\n",
              " 'mv',\n",
              " 'mvlgamma',\n",
              " 'mvlgamma_',\n",
              " 'name',\n",
              " 'names',\n",
              " 'nan_to_num',\n",
              " 'nan_to_num_',\n",
              " 'nanmean',\n",
              " 'nanmedian',\n",
              " 'nanquantile',\n",
              " 'nansum',\n",
              " 'narrow',\n",
              " 'narrow_copy',\n",
              " 'nbytes',\n",
              " 'ndim',\n",
              " 'ndimension',\n",
              " 'ne',\n",
              " 'ne_',\n",
              " 'neg',\n",
              " 'neg_',\n",
              " 'negative',\n",
              " 'negative_',\n",
              " 'nelement',\n",
              " 'new',\n",
              " 'new_empty',\n",
              " 'new_empty_strided',\n",
              " 'new_full',\n",
              " 'new_ones',\n",
              " 'new_tensor',\n",
              " 'new_zeros',\n",
              " 'nextafter',\n",
              " 'nextafter_',\n",
              " 'nonzero',\n",
              " 'nonzero_static',\n",
              " 'norm',\n",
              " 'normal_',\n",
              " 'not_equal',\n",
              " 'not_equal_',\n",
              " 'numel',\n",
              " 'numpy',\n",
              " 'orgqr',\n",
              " 'ormqr',\n",
              " 'outer',\n",
              " 'output_nr',\n",
              " 'permute',\n",
              " 'pin_memory',\n",
              " 'pinverse',\n",
              " 'polygamma',\n",
              " 'polygamma_',\n",
              " 'positive',\n",
              " 'pow',\n",
              " 'pow_',\n",
              " 'prelu',\n",
              " 'prod',\n",
              " 'put',\n",
              " 'put_',\n",
              " 'q_per_channel_axis',\n",
              " 'q_per_channel_scales',\n",
              " 'q_per_channel_zero_points',\n",
              " 'q_scale',\n",
              " 'q_zero_point',\n",
              " 'qr',\n",
              " 'qscheme',\n",
              " 'quantile',\n",
              " 'rad2deg',\n",
              " 'rad2deg_',\n",
              " 'random_',\n",
              " 'ravel',\n",
              " 'real',\n",
              " 'reciprocal',\n",
              " 'reciprocal_',\n",
              " 'record_stream',\n",
              " 'refine_names',\n",
              " 'register_hook',\n",
              " 'register_post_accumulate_grad_hook',\n",
              " 'reinforce',\n",
              " 'relu',\n",
              " 'relu_',\n",
              " 'remainder',\n",
              " 'remainder_',\n",
              " 'rename',\n",
              " 'rename_',\n",
              " 'renorm',\n",
              " 'renorm_',\n",
              " 'repeat',\n",
              " 'repeat_interleave',\n",
              " 'requires_grad',\n",
              " 'requires_grad_',\n",
              " 'reshape',\n",
              " 'reshape_as',\n",
              " 'resize',\n",
              " 'resize_',\n",
              " 'resize_as',\n",
              " 'resize_as_',\n",
              " 'resize_as_sparse_',\n",
              " 'resolve_conj',\n",
              " 'resolve_neg',\n",
              " 'retain_grad',\n",
              " 'retains_grad',\n",
              " 'roll',\n",
              " 'rot90',\n",
              " 'round',\n",
              " 'round_',\n",
              " 'row_indices',\n",
              " 'rsqrt',\n",
              " 'rsqrt_',\n",
              " 'scatter',\n",
              " 'scatter_',\n",
              " 'scatter_add',\n",
              " 'scatter_add_',\n",
              " 'scatter_reduce',\n",
              " 'scatter_reduce_',\n",
              " 'select',\n",
              " 'select_scatter',\n",
              " 'set_',\n",
              " 'sgn',\n",
              " 'sgn_',\n",
              " 'shape',\n",
              " 'share_memory_',\n",
              " 'short',\n",
              " 'sigmoid',\n",
              " 'sigmoid_',\n",
              " 'sign',\n",
              " 'sign_',\n",
              " 'signbit',\n",
              " 'sin',\n",
              " 'sin_',\n",
              " 'sinc',\n",
              " 'sinc_',\n",
              " 'sinh',\n",
              " 'sinh_',\n",
              " 'size',\n",
              " 'slice_inverse',\n",
              " 'slice_scatter',\n",
              " 'slogdet',\n",
              " 'smm',\n",
              " 'softmax',\n",
              " 'solve',\n",
              " 'sort',\n",
              " 'sparse_dim',\n",
              " 'sparse_mask',\n",
              " 'sparse_resize_',\n",
              " 'sparse_resize_and_clear_',\n",
              " 'split',\n",
              " 'split_with_sizes',\n",
              " 'sqrt',\n",
              " 'sqrt_',\n",
              " 'square',\n",
              " 'square_',\n",
              " 'squeeze',\n",
              " 'squeeze_',\n",
              " 'sspaddmm',\n",
              " 'std',\n",
              " 'stft',\n",
              " 'storage',\n",
              " 'storage_offset',\n",
              " 'storage_type',\n",
              " 'stride',\n",
              " 'sub',\n",
              " 'sub_',\n",
              " 'subtract',\n",
              " 'subtract_',\n",
              " 'sum',\n",
              " 'sum_to_size',\n",
              " 'svd',\n",
              " 'swapaxes',\n",
              " 'swapaxes_',\n",
              " 'swapdims',\n",
              " 'swapdims_',\n",
              " 'symeig',\n",
              " 't',\n",
              " 't_',\n",
              " 'take',\n",
              " 'take_along_dim',\n",
              " 'tan',\n",
              " 'tan_',\n",
              " 'tanh',\n",
              " 'tanh_',\n",
              " 'tensor_split',\n",
              " 'tile',\n",
              " 'to',\n",
              " 'to_dense',\n",
              " 'to_mkldnn',\n",
              " 'to_padded_tensor',\n",
              " 'to_sparse',\n",
              " 'to_sparse_bsc',\n",
              " 'to_sparse_bsr',\n",
              " 'to_sparse_coo',\n",
              " 'to_sparse_csc',\n",
              " 'to_sparse_csr',\n",
              " 'tolist',\n",
              " 'topk',\n",
              " 'trace',\n",
              " 'transpose',\n",
              " 'transpose_',\n",
              " 'triangular_solve',\n",
              " 'tril',\n",
              " 'tril_',\n",
              " 'triu',\n",
              " 'triu_',\n",
              " 'true_divide',\n",
              " 'true_divide_',\n",
              " 'trunc',\n",
              " 'trunc_',\n",
              " 'type',\n",
              " 'type_as',\n",
              " 'unbind',\n",
              " 'unflatten',\n",
              " 'unfold',\n",
              " 'uniform_',\n",
              " 'unique',\n",
              " 'unique_consecutive',\n",
              " 'unsafe_chunk',\n",
              " 'unsafe_split',\n",
              " 'unsafe_split_with_sizes',\n",
              " 'unsqueeze',\n",
              " 'unsqueeze_',\n",
              " 'untyped_storage',\n",
              " 'values',\n",
              " 'var',\n",
              " 'vdot',\n",
              " 'view',\n",
              " 'view_as',\n",
              " 'vsplit',\n",
              " 'where',\n",
              " 'xlogy',\n",
              " 'xlogy_',\n",
              " 'xpu',\n",
              " 'zero_']"
            ]
          },
          "metadata": {},
          "execution_count": 267
        }
      ]
    },
    {
      "cell_type": "code",
      "source": [
        "t = torch.tensor(data = [1, 2, 3], dtype=torch.float32, device='cpu', requires_grad=False)\n",
        "t"
      ],
      "metadata": {
        "colab": {
          "base_uri": "https://localhost:8080/"
        },
        "id": "ZzrSTa4L2iFM",
        "outputId": "1110531a-7448-40b8-d8b7-a6ebe89dc38c"
      },
      "execution_count": null,
      "outputs": [
        {
          "output_type": "execute_result",
          "data": {
            "text/plain": [
              "tensor([1., 2., 3.])"
            ]
          },
          "metadata": {},
          "execution_count": 268
        }
      ]
    },
    {
      "cell_type": "code",
      "source": [
        "t = torch.as_tensor(data = [1, 2, 3], dtype=torch.float32, device='cpu', requires_grad=False)\n",
        "t"
      ],
      "metadata": {
        "colab": {
          "base_uri": "https://localhost:8080/",
          "height": 164
        },
        "id": "vsNKX40L2uBu",
        "outputId": "e3bff164-23bc-4dc3-ee06-8ef47b5e9ad5"
      },
      "execution_count": null,
      "outputs": [
        {
          "output_type": "error",
          "ename": "TypeError",
          "evalue": "as_tensor() got an unexpected keyword argument 'requires_grad'",
          "traceback": [
            "\u001b[0;31m---------------------------------------------------------------------------\u001b[0m",
            "\u001b[0;31mTypeError\u001b[0m                                 Traceback (most recent call last)",
            "\u001b[0;32m/tmp/ipython-input-2082098798.py\u001b[0m in \u001b[0;36m<cell line: 0>\u001b[0;34m()\u001b[0m\n\u001b[0;32m----> 1\u001b[0;31m \u001b[0mt\u001b[0m \u001b[0;34m=\u001b[0m \u001b[0mtorch\u001b[0m\u001b[0;34m.\u001b[0m\u001b[0mas_tensor\u001b[0m\u001b[0;34m(\u001b[0m\u001b[0mdata\u001b[0m \u001b[0;34m=\u001b[0m \u001b[0;34m[\u001b[0m\u001b[0;36m1\u001b[0m\u001b[0;34m,\u001b[0m \u001b[0;36m2\u001b[0m\u001b[0;34m,\u001b[0m \u001b[0;36m3\u001b[0m\u001b[0;34m]\u001b[0m\u001b[0;34m,\u001b[0m \u001b[0mdtype\u001b[0m\u001b[0;34m=\u001b[0m\u001b[0mtorch\u001b[0m\u001b[0;34m.\u001b[0m\u001b[0mfloat32\u001b[0m\u001b[0;34m,\u001b[0m \u001b[0mdevice\u001b[0m\u001b[0;34m=\u001b[0m\u001b[0;34m'cpu'\u001b[0m\u001b[0;34m,\u001b[0m \u001b[0mrequires_grad\u001b[0m\u001b[0;34m=\u001b[0m\u001b[0;32mFalse\u001b[0m\u001b[0;34m)\u001b[0m\u001b[0;34m\u001b[0m\u001b[0;34m\u001b[0m\u001b[0m\n\u001b[0m\u001b[1;32m      2\u001b[0m \u001b[0mt\u001b[0m\u001b[0;34m\u001b[0m\u001b[0;34m\u001b[0m\u001b[0m\n",
            "\u001b[0;31mTypeError\u001b[0m: as_tensor() got an unexpected keyword argument 'requires_grad'"
          ]
        }
      ]
    },
    {
      "cell_type": "code",
      "source": [
        "t = torch.as_tensor(data = [1, 2, 3], dtype=torch.float32, device='cpu')\n"
      ],
      "metadata": {
        "id": "sAu7CDNP2v6I"
      },
      "execution_count": null,
      "outputs": []
    },
    {
      "cell_type": "code",
      "source": [
        "t.requires_grad_()"
      ],
      "metadata": {
        "colab": {
          "base_uri": "https://localhost:8080/"
        },
        "id": "Hs0vIB4m29G4",
        "outputId": "c666452a-67f5-4051-ef9a-f48438168665"
      },
      "execution_count": null,
      "outputs": [
        {
          "output_type": "execute_result",
          "data": {
            "text/plain": [
              "tensor([1., 2., 3.], requires_grad=True)"
            ]
          },
          "metadata": {},
          "execution_count": 271
        }
      ]
    },
    {
      "cell_type": "markdown",
      "source": [
        "# Autograd in PyTorch\n",
        "\n",
        "One of PyTorch’s most powerful features is **Autograd**, its **automatic differentiation engine**.\n",
        "\n",
        "###  Key Ideas\n",
        "\n",
        "* **Automatic differentiation**: PyTorch tracks all tensor operations, so it can compute derivatives automatically.\n",
        "* **Dynamic graph**: The backward graph is built *on the fly* from the forward pass. This makes debugging, experimentation, and model changes very easy.\n",
        "* **Gradients**: Each tensor has an attribute `.grad` that stores the derivative of some scalar loss with respect to that tensor.\n",
        "* **Chain rule**: PyTorch applies the chain rule under the hood for backpropagation.\n",
        "\n",
        "---\n",
        "\n",
        "## Example: A Simple Gradient Computation\n",
        "\n",
        "```python\n",
        "import torch\n",
        "\n",
        "# Create a tensor with gradient tracking enabled\n",
        "x = torch.tensor(2.0, requires_grad=True)\n",
        "\n",
        "# Define a simple function: y = x^2 + 3x + 1\n",
        "y = x**2 + 3*x + 1\n",
        "\n",
        "# Backpropagate (compute dy/dx)\n",
        "y.backward()\n",
        "\n",
        "# Gradient is stored in x.grad\n",
        "print(f\"x: {x.item()}\")\n",
        "print(f\"y: {y.item()}\")\n",
        "print(f\"dy/dx: {x.grad.item()}\")\n",
        "```\n",
        "\n",
        "### Output\n",
        "\n",
        "```\n",
        "x: 2.0\n",
        "y: 11.0\n",
        "dy/dx: 7.0\n",
        "```\n",
        "\n",
        "Explanation:\n",
        "\n",
        "* $y = x^2 + 3x + 1$\n",
        "* Derivative: $dy/dx = 2x + 3$\n",
        "* At $x=2$, $dy/dx = 7$. PyTorch computed this automatically!\n",
        "\n",
        "---\n",
        "\n",
        "## Example: Working with Vectors\n",
        "\n",
        "```python\n",
        "# A vector of inputs\n",
        "x = torch.randn(3, requires_grad=True)\n",
        "\n",
        "# A simple function: y = sum(x^2)\n",
        "y = (x**2).sum()\n",
        "\n",
        "# Compute gradients\n",
        "y.backward()\n",
        "\n",
        "print(\"x:\", x)\n",
        "print(\"Gradient dy/dx:\", x.grad)\n",
        "```\n",
        "\n",
        "Here, the gradient is simply $2x$, applied element-wise.\n",
        "\n",
        "---\n",
        "\n",
        "## Why Autograd Matters\n",
        "\n",
        "* **Neural networks**: Training requires gradients of the loss w\\.r.t. millions of parameters → Autograd handles this automatically.\n",
        "* **Flexibility**: Works with dynamic graphs, so models can have loops, conditionals, or variable architectures.\n",
        "* **Efficiency**: Optimized C++ backend with GPU acceleration.\n",
        "* **Integration**: Works seamlessly with `torch.optim` for gradient-based optimization.\n",
        "\n",
        "---\n",
        "\n",
        "**In short**: With Autograd, you just define your forward computation in PyTorch. The backward pass and gradients are taken care of automatically, enabling easy and fast experimentation with new models.\n",
        "\n"
      ],
      "metadata": {
        "id": "-4gQTEeg3Rrz"
      }
    },
    {
      "cell_type": "code",
      "source": [
        "from torch.autograd import grad\n",
        "\n",
        "x1 = torch.tensor(2, requires_grad=True, dtype=torch.float16)\n",
        "x2 = torch.tensor(3, requires_grad=True, dtype=torch.float16)\n",
        "x3 = torch.tensor(1, requires_grad=True, dtype=torch.float16)\n",
        "x4 = torch.tensor(4, requires_grad=True, dtype=torch.float16)\n",
        "\n",
        "x1, x2, x3, x4"
      ],
      "metadata": {
        "colab": {
          "base_uri": "https://localhost:8080/"
        },
        "id": "WVRyhjS42-IM",
        "outputId": "5b7ff60d-267c-49a3-e7e9-9b290d8aa508"
      },
      "execution_count": null,
      "outputs": [
        {
          "output_type": "execute_result",
          "data": {
            "text/plain": [
              "(tensor(2., dtype=torch.float16, requires_grad=True),\n",
              " tensor(3., dtype=torch.float16, requires_grad=True),\n",
              " tensor(1., dtype=torch.float16, requires_grad=True),\n",
              " tensor(4., dtype=torch.float16, requires_grad=True))"
            ]
          },
          "metadata": {},
          "execution_count": 272
        }
      ]
    },
    {
      "cell_type": "code",
      "source": [
        "z1 = x1 * x2\n",
        "z2 = x3 * x4\n",
        "\n",
        "f = z1 + z2\n",
        "\n",
        "# f = x1 * x2 + x3 * x4\n",
        "# f = 2 * 3 + 1 * 4\n",
        "# df_dx1 = 3\n",
        "# df_dx4 = 1\n",
        "\n",
        "df_dx = grad(outputs = f, inputs = [x1, x2, x3, x4])\n",
        "print(f'gradient of x1 = {df_dx[0]}')\n",
        "print(f'gradient of x2 = {df_dx[1]}')\n",
        "print(f'gradient of x3 = {df_dx[2]}')\n",
        "print(f'gradient of x4 = {df_dx[3]}')\n",
        "\n"
      ],
      "metadata": {
        "colab": {
          "base_uri": "https://localhost:8080/"
        },
        "id": "HraoKkiF4UJm",
        "outputId": "ed04e346-af80-4c32-ec45-53c2fcc8b807"
      },
      "execution_count": null,
      "outputs": [
        {
          "output_type": "stream",
          "name": "stdout",
          "text": [
            "gradient of x1 = 3.0\n",
            "gradient of x2 = 2.0\n",
            "gradient of x3 = 4.0\n",
            "gradient of x4 = 1.0\n"
          ]
        }
      ]
    },
    {
      "cell_type": "markdown",
      "source": [
        "10 input image, 2 correct predictions, then loss = 8\n",
        "10 input image, 4 correct predictions, then loss = 6\n",
        "10 input image, 5 correct predicitons, then loss = 5\n",
        "\n",
        "x1, x2, x3, x4 : 5, 6, 7, 8, then Loss = 5\n",
        "x1 changes from 5 to 5.5 (somehow).. then loss = 4 (we want that).. but we are not going to change 5 to 5.5, but rather 5 + LR*(0.5).. LR most probably is going to be 0.001"
      ],
      "metadata": {
        "id": "_7XTV-_y6XKC"
      }
    },
    {
      "cell_type": "markdown",
      "source": [
        "0-100000\n",
        "\n",
        "- iteration 1: Mutum 7... very very low\n",
        "- i2: mutum 9999... very low\n",
        "- i3: 99999.. very high\n",
        "- i4: 50000.. closer\n",
        "- i5: 55000.. very close\n",
        "- i6: 55600.. very very close\n",
        "- i7: 55650.. extremely close\n",
        "- i8: 55651.. ext ext close\n",
        "\n",
        "1000.. reduceLR_on_plateu\n"
      ],
      "metadata": {
        "id": "EMcoutTZ8Cib"
      }
    },
    {
      "cell_type": "code",
      "source": [
        "from torch.autograd import grad\n",
        "\n",
        "x1 = torch.tensor(2, requires_grad=True, dtype=torch.float16)\n",
        "x2 = torch.tensor(3, requires_grad=True, dtype=torch.float16)\n",
        "x3 = torch.tensor(1, requires_grad=True, dtype=torch.float16)\n",
        "x4 = torch.tensor(4, requires_grad=True, dtype=torch.float16)\n",
        "\n",
        "f = x1 * x2 + x3 * x4\n",
        "\n",
        "df_dx = grad(outputs = f, inputs = [x1, x2, x3, x4])\n",
        "print(f'gradient of x1 = {df_dx[0]}')\n",
        "print(f'gradient of x2 = {df_dx[1]}')\n",
        "print(f'gradient of x3 = {df_dx[2]}')\n",
        "print(f'gradient of x4 = {df_dx[3]}')\n",
        "\n"
      ],
      "metadata": {
        "colab": {
          "base_uri": "https://localhost:8080/"
        },
        "id": "SIqplUiI6zJl",
        "outputId": "bf2c0921-66c8-4709-82b0-80db84ee19ab"
      },
      "execution_count": null,
      "outputs": [
        {
          "output_type": "stream",
          "name": "stdout",
          "text": [
            "gradient of x1 = 3.0\n",
            "gradient of x2 = 2.0\n",
            "gradient of x3 = 4.0\n",
            "gradient of x4 = 1.0\n"
          ]
        }
      ]
    },
    {
      "cell_type": "code",
      "source": [
        "import torch.nn.functional as F\n",
        "import torch.optim as optim\n",
        "\n",
        "opt = optim.SGD(params = [x1, x2, x3, x4], lr=0.001)\n",
        "opt.zero_grad()"
      ],
      "metadata": {
        "id": "OehRz5M09TsI"
      },
      "execution_count": null,
      "outputs": []
    },
    {
      "cell_type": "code",
      "source": [
        "from torch.autograd import grad\n",
        "\n",
        "x1 = torch.tensor(2, requires_grad=True, dtype=torch.float16)\n",
        "x2 = torch.tensor(3, requires_grad=True, dtype=torch.float16)\n",
        "x3 = torch.tensor(1, requires_grad=True, dtype=torch.float16)\n",
        "x4 = torch.tensor(4, requires_grad=True, dtype=torch.float16)\n",
        "\n",
        "z1 = x1 * x2\n",
        "z2 = x3 * x4\n",
        "\n",
        "f = z1 + z2\n",
        "\n",
        "f.backward()\n",
        "\n",
        "print(f'gradient of x1 = {x1.grad}')\n",
        "print(f'gradient of x2 = {x2.grad}')\n",
        "print(f'gradient of x3 = {x3.grad}')\n",
        "print(f'gradient of x4 = {x4.grad}')\n",
        "\n"
      ],
      "metadata": {
        "colab": {
          "base_uri": "https://localhost:8080/"
        },
        "id": "cWP-Z2D99uUN",
        "outputId": "e66b635d-9da2-494d-cb73-4bf1d926be92"
      },
      "execution_count": null,
      "outputs": [
        {
          "output_type": "stream",
          "name": "stdout",
          "text": [
            "gradient of x1 = 3.0\n",
            "gradient of x2 = 2.0\n",
            "gradient of x3 = 4.0\n",
            "gradient of x4 = 1.0\n"
          ]
        }
      ]
    },
    {
      "cell_type": "markdown",
      "source": [
        "# Tensor Operation Types in PyTorch\n",
        "\n",
        "PyTorch tensors support a wide range of operations. These can be grouped into four broad categories:\n",
        "\n",
        "---\n",
        "\n",
        "## 1. Reshaping Operations\n",
        "\n",
        "Reshaping operations change the **structure** of a tensor without altering the underlying data.\n",
        "\n",
        "* **`view()` / `reshape()`** – Change shape\n",
        "* **`unsqueeze()` / `squeeze()`** – Add or remove dimensions of size 1\n",
        "* **`transpose()` / `permute()`** – Reorder dimensions\n",
        "* **`contiguous()`** – Ensure memory continuity for reshaping\n",
        "\n",
        "```python\n",
        "import torch\n",
        "\n",
        "x = torch.arange(6)              # [0, 1, 2, 3, 4, 5]\n",
        "x = x.view(2, 3)                 # Reshape to 2x3\n",
        "print(x)\n",
        "\n",
        "y = x.transpose(0, 1)            # Transpose (swap axes)\n",
        "print(y)\n",
        "\n",
        "z = x.unsqueeze(0)               # Add a new dimension at front\n",
        "print(z.shape)  # torch.Size([1, 2, 3])\n",
        "```\n",
        "\n",
        "✅ **Use case:** Preparing tensors for batch processing, matrix multiplication, or feeding into neural network layers.\n",
        "\n",
        "---\n",
        "\n",
        "## 2. Element-wise Operations\n",
        "\n",
        "These apply functions **independently** to each element of the tensor.\n",
        "\n",
        "* Arithmetic: `+`, `-`, `*`, `/`, `**`\n",
        "* Comparison: `<`, `>`, `==`\n",
        "* Mathematical: `torch.exp`, `torch.log`, `torch.sin`, etc.\n",
        "\n",
        "```python\n",
        "a = torch.tensor([1.0, 2.0, 3.0])\n",
        "b = torch.tensor([3.0, 2.0, 1.0])\n",
        "\n",
        "print(a + b)       # [4., 4., 4.]\n",
        "print(a * b)       # [3., 4., 3.]\n",
        "print(torch.exp(a))  # element-wise exponential\n",
        "```\n",
        "\n",
        "✅ **Use case:** Activation functions, normalization, element-wise arithmetic in model layers.\n",
        "\n",
        "---\n",
        "\n",
        "## 3. Reduction Operations\n",
        "\n",
        "Reduction operations **aggregate tensor values** along one or more dimensions.\n",
        "\n",
        "* **`sum()`** – Add elements\n",
        "* **`mean()`** – Average values\n",
        "* **`max()` / `min()`** – Get extreme values\n",
        "* **`argmax()` / `argmin()`** – Index of max/min values\n",
        "* **`prod()`** – Product of elements\n",
        "\n",
        "```python\n",
        "x = torch.tensor([[1., 2., 3.],\n",
        "                  [4., 5., 6.]])\n",
        "\n",
        "print(x.sum())             # 21\n",
        "print(x.mean(dim=0))       # [2.5, 3.5, 4.5]\n",
        "print(x.max(dim=1))        # values: [3., 6.], indices: [2, 2]\n",
        "```\n",
        "\n",
        "✅ **Use case:** Loss functions, pooling in CNNs, summarizing predictions.\n",
        "\n",
        "---\n",
        "\n",
        "## 4. Access Operations\n",
        "\n",
        "Access operations let you **retrieve or modify** specific elements or slices of a tensor.\n",
        "\n",
        "* **Indexing** (like Python lists): `x[0]`, `x[1, 2]`\n",
        "* **Slicing**: `x[:, 1:3]`\n",
        "* **Boolean indexing**: `x[x > 3]`\n",
        "* **Advanced indexing**: Gather elements by index tensors\n",
        "\n",
        "```python\n",
        "x = torch.tensor([[10, 20, 30],\n",
        "                  [40, 50, 60]])\n",
        "\n",
        "print(x[0, 1])        # 20\n",
        "print(x[:, 2])        # [30, 60]\n",
        "print(x[x > 30])      # [40, 50, 60]\n",
        "```\n",
        "\n",
        "✅ **Use case:** Extracting minibatches, masking inputs, or modifying tensor values during preprocessing.\n",
        "\n",
        "---\n",
        "\n",
        "# 🔑 Summary\n",
        "\n",
        "* **Reshaping** → Change structure/dimensions (e.g., `.view()`, `.transpose()`)\n",
        "* **Element-wise** → Operate on each element individually (e.g., `+`, `exp`)\n",
        "* **Reduction** → Aggregate across dimensions (e.g., `sum`, `mean`, `max`)\n",
        "* **Access** → Retrieve, slice, or mask values (e.g., indexing, boolean masks)\n",
        "\n"
      ],
      "metadata": {
        "id": "tGBk352498l2"
      }
    },
    {
      "cell_type": "code",
      "source": [
        "t = torch.tensor([\n",
        "    [0, 0, 0, 0],\n",
        "    [1, 2, 3, 4],\n",
        "    [2, 2, 2, 2]\n",
        "], dtype=torch.float32)"
      ],
      "metadata": {
        "id": "zNM5Vkhx94MV"
      },
      "execution_count": null,
      "outputs": []
    },
    {
      "cell_type": "code",
      "source": [
        "t.shape, t.size(), len(t.shape)"
      ],
      "metadata": {
        "colab": {
          "base_uri": "https://localhost:8080/"
        },
        "id": "PF2QvQSpB1IG",
        "outputId": "aa36538a-7499-4f4e-817d-ce1627917872"
      },
      "execution_count": null,
      "outputs": [
        {
          "output_type": "execute_result",
          "data": {
            "text/plain": [
              "(torch.Size([3, 4]), torch.Size([3, 4]), 2)"
            ]
          },
          "metadata": {},
          "execution_count": 278
        }
      ]
    },
    {
      "cell_type": "code",
      "source": [
        "torch.tensor(t.shape).prod()"
      ],
      "metadata": {
        "colab": {
          "base_uri": "https://localhost:8080/"
        },
        "id": "npDWzRf_CCjN",
        "outputId": "5ac75999-16af-4d60-deb3-369a1f2384d4"
      },
      "execution_count": null,
      "outputs": [
        {
          "output_type": "execute_result",
          "data": {
            "text/plain": [
              "tensor(12)"
            ]
          },
          "metadata": {},
          "execution_count": 279
        }
      ]
    },
    {
      "cell_type": "code",
      "source": [
        "t.numel()"
      ],
      "metadata": {
        "colab": {
          "base_uri": "https://localhost:8080/"
        },
        "id": "i8eiLlc7COl1",
        "outputId": "650b13cd-7d34-459f-d624-791e8043f6cd"
      },
      "execution_count": null,
      "outputs": [
        {
          "output_type": "execute_result",
          "data": {
            "text/plain": [
              "12"
            ]
          },
          "metadata": {},
          "execution_count": 280
        }
      ]
    },
    {
      "cell_type": "markdown",
      "source": [
        "### Why knowing these is important?\n",
        "\n",
        "When we reshape a tensor, the reshaping operation must account for all of numel (or total number of elements). We if we have 12 elements, we can only build 1x12, 12x1, 6x2, 2x6, 3x4, 4x3 reshaped tensors"
      ],
      "metadata": {
        "id": "H5D_m-7hCTzL"
      }
    },
    {
      "cell_type": "code",
      "source": [
        "t.reshape(1, 12)"
      ],
      "metadata": {
        "colab": {
          "base_uri": "https://localhost:8080/"
        },
        "id": "2tqfkZ4sCR8_",
        "outputId": "68553def-1158-4434-bf57-ce0c274a151d"
      },
      "execution_count": null,
      "outputs": [
        {
          "output_type": "execute_result",
          "data": {
            "text/plain": [
              "tensor([[0., 0., 0., 0., 1., 2., 3., 4., 2., 2., 2., 2.]])"
            ]
          },
          "metadata": {},
          "execution_count": 281
        }
      ]
    },
    {
      "cell_type": "code",
      "source": [
        "t.reshape(2, 6)"
      ],
      "metadata": {
        "colab": {
          "base_uri": "https://localhost:8080/"
        },
        "id": "QRBGfj0tCfsI",
        "outputId": "1a3b08a7-ab5f-4467-bdce-610f02eb0126"
      },
      "execution_count": null,
      "outputs": [
        {
          "output_type": "execute_result",
          "data": {
            "text/plain": [
              "tensor([[0., 0., 0., 0., 1., 2.],\n",
              "        [3., 4., 2., 2., 2., 2.]])"
            ]
          },
          "metadata": {},
          "execution_count": 282
        }
      ]
    },
    {
      "cell_type": "code",
      "source": [
        "t.reshape(6, -1)"
      ],
      "metadata": {
        "colab": {
          "base_uri": "https://localhost:8080/"
        },
        "id": "MozBVC8jChzU",
        "outputId": "98bfbe76-826d-4b21-e20b-1504ea0a8c27"
      },
      "execution_count": null,
      "outputs": [
        {
          "output_type": "execute_result",
          "data": {
            "text/plain": [
              "tensor([[0., 0.],\n",
              "        [0., 0.],\n",
              "        [1., 2.],\n",
              "        [3., 4.],\n",
              "        [2., 2.],\n",
              "        [2., 2.]])"
            ]
          },
          "metadata": {},
          "execution_count": 283
        }
      ]
    },
    {
      "cell_type": "code",
      "source": [
        "t.reshape(4, 3)"
      ],
      "metadata": {
        "colab": {
          "base_uri": "https://localhost:8080/"
        },
        "id": "9WIBC5zrCo3z",
        "outputId": "69d94aa3-9712-4722-f095-b2b4b2956a5f"
      },
      "execution_count": null,
      "outputs": [
        {
          "output_type": "execute_result",
          "data": {
            "text/plain": [
              "tensor([[0., 0., 0.],\n",
              "        [0., 1., 2.],\n",
              "        [3., 4., 2.],\n",
              "        [2., 2., 2.]])"
            ]
          },
          "metadata": {},
          "execution_count": 284
        }
      ]
    },
    {
      "cell_type": "code",
      "source": [
        "t.reshape(2, 2, 3)"
      ],
      "metadata": {
        "colab": {
          "base_uri": "https://localhost:8080/"
        },
        "id": "rXUn6pQwCsFD",
        "outputId": "6d6dbe9c-5c37-4ec1-a5df-9b44e243c379"
      },
      "execution_count": null,
      "outputs": [
        {
          "output_type": "execute_result",
          "data": {
            "text/plain": [
              "tensor([[[0., 0., 0.],\n",
              "         [0., 1., 2.]],\n",
              "\n",
              "        [[3., 4., 2.],\n",
              "         [2., 2., 2.]]])"
            ]
          },
          "metadata": {},
          "execution_count": 285
        }
      ]
    },
    {
      "cell_type": "code",
      "source": [
        "print(t.reshape(1, 12))\n",
        "print(t.reshape(1, 12).shape)"
      ],
      "metadata": {
        "colab": {
          "base_uri": "https://localhost:8080/"
        },
        "id": "Ue8WY5_UCuhU",
        "outputId": "2170eae0-c444-4503-a839-3d6a5e28b347"
      },
      "execution_count": null,
      "outputs": [
        {
          "output_type": "stream",
          "name": "stdout",
          "text": [
            "tensor([[0., 0., 0., 0., 1., 2., 3., 4., 2., 2., 2., 2.]])\n",
            "torch.Size([1, 12])\n"
          ]
        }
      ]
    },
    {
      "cell_type": "markdown",
      "source": [
        "**Squeezing a Tensor**\n",
        "\n",
        "Removes all the dimensions that have a length of 1\n",
        "\n",
        "**Unsqueezing a Tensor**\n",
        "Adds a dimension that has a length of 1."
      ],
      "metadata": {
        "id": "mR1hJ_ShC2RF"
      }
    },
    {
      "cell_type": "code",
      "source": [
        "print(t.reshape(1, 12))\n",
        "print(t.reshape(1, 12).shape)"
      ],
      "metadata": {
        "colab": {
          "base_uri": "https://localhost:8080/"
        },
        "id": "nhGV-RebCxTJ",
        "outputId": "f65c33ac-58b7-4256-9ced-c7e6de11bf94"
      },
      "execution_count": null,
      "outputs": [
        {
          "output_type": "stream",
          "name": "stdout",
          "text": [
            "tensor([[0., 0., 0., 0., 1., 2., 3., 4., 2., 2., 2., 2.]])\n",
            "torch.Size([1, 12])\n"
          ]
        }
      ]
    },
    {
      "cell_type": "code",
      "source": [
        "print(t.reshape(1, 12).squeeze())\n",
        "print(t.reshape(1, 12).squeeze().shape)"
      ],
      "metadata": {
        "colab": {
          "base_uri": "https://localhost:8080/"
        },
        "id": "lgcUPthPFAFU",
        "outputId": "283a5f34-c170-4a85-c4a8-2d022038b57e"
      },
      "execution_count": null,
      "outputs": [
        {
          "output_type": "stream",
          "name": "stdout",
          "text": [
            "tensor([0., 0., 0., 0., 1., 2., 3., 4., 2., 2., 2., 2.])\n",
            "torch.Size([12])\n"
          ]
        }
      ]
    },
    {
      "cell_type": "code",
      "source": [
        "print(t.reshape(1, 12).squeeze().unsqueeze(dim = 0))\n",
        "print(t.reshape(1, 12).squeeze().unsqueeze(dim = 0).shape)"
      ],
      "metadata": {
        "colab": {
          "base_uri": "https://localhost:8080/"
        },
        "id": "oJGGznT2FFXn",
        "outputId": "a7e7306e-ab71-4c3b-af6c-680ae7b08d84"
      },
      "execution_count": null,
      "outputs": [
        {
          "output_type": "stream",
          "name": "stdout",
          "text": [
            "tensor([[0., 0., 0., 0., 1., 2., 3., 4., 2., 2., 2., 2.]])\n",
            "torch.Size([1, 12])\n"
          ]
        }
      ]
    },
    {
      "cell_type": "markdown",
      "source": [
        "**Use cases?**\n",
        "\n",
        "Neural networks are always trained in a batch of samples. This is troubling because when we want to test 1 image, we do not have an array, we only have 1 image. Well we unsqueeze it to fake a batch.\n",
        "\n",
        "We use this function that is very common, called Flatten. This essentially create a new tensor that is only 1D. This is done to connect our data to next Fully Connected Layers. We use squeeze function for this.\n",
        "\n",
        "Let's implement such a function."
      ],
      "metadata": {
        "id": "pSm9IvR2FUeB"
      }
    },
    {
      "cell_type": "code",
      "source": [
        "t"
      ],
      "metadata": {
        "colab": {
          "base_uri": "https://localhost:8080/"
        },
        "id": "8vkctAwSFaEf",
        "outputId": "5a945c47-07d0-44c6-a6ca-b53cdab12bff"
      },
      "execution_count": null,
      "outputs": [
        {
          "output_type": "execute_result",
          "data": {
            "text/plain": [
              "tensor([[0., 0., 0., 0.],\n",
              "        [1., 2., 3., 4.],\n",
              "        [2., 2., 2., 2.]])"
            ]
          },
          "metadata": {},
          "execution_count": 290
        }
      ]
    },
    {
      "cell_type": "code",
      "source": [
        "def flatter(t):\n",
        "  t = t.reshape(1, -1)\n",
        "  t = t.squeeze()\n",
        "  return t\n",
        "\n",
        "t.shape, t\n"
      ],
      "metadata": {
        "colab": {
          "base_uri": "https://localhost:8080/"
        },
        "id": "LhdugH_IFUF-",
        "outputId": "a31da52e-599f-4694-fd47-bd6e86c99458"
      },
      "execution_count": null,
      "outputs": [
        {
          "output_type": "execute_result",
          "data": {
            "text/plain": [
              "(torch.Size([3, 4]),\n",
              " tensor([[0., 0., 0., 0.],\n",
              "         [1., 2., 3., 4.],\n",
              "         [2., 2., 2., 2.]]))"
            ]
          },
          "metadata": {},
          "execution_count": 291
        }
      ]
    },
    {
      "cell_type": "code",
      "source": [
        "flatter(t)"
      ],
      "metadata": {
        "colab": {
          "base_uri": "https://localhost:8080/"
        },
        "id": "kbzsBalXFSKy",
        "outputId": "e40c00de-608c-4fc5-c594-ff5de002905e"
      },
      "execution_count": null,
      "outputs": [
        {
          "output_type": "execute_result",
          "data": {
            "text/plain": [
              "tensor([0., 0., 0., 0., 1., 2., 3., 4., 2., 2., 2., 2.])"
            ]
          },
          "metadata": {},
          "execution_count": 292
        }
      ]
    },
    {
      "cell_type": "code",
      "source": [
        "t1 = torch.tensor([\n",
        "    [1, 2],\n",
        "    [3, 4]\n",
        "])\n",
        "\n",
        "t2 = torch.tensor([\n",
        "    [5, 6],\n",
        "    [7, 8]\n",
        "])\n",
        "\n",
        "torch.cat((t1, t2), dim=0)"
      ],
      "metadata": {
        "colab": {
          "base_uri": "https://localhost:8080/"
        },
        "id": "ffKTsGxDFjQZ",
        "outputId": "3adffa6f-f054-4607-a726-136164881bf3"
      },
      "execution_count": null,
      "outputs": [
        {
          "output_type": "execute_result",
          "data": {
            "text/plain": [
              "tensor([[1, 2],\n",
              "        [3, 4],\n",
              "        [5, 6],\n",
              "        [7, 8]])"
            ]
          },
          "metadata": {},
          "execution_count": 293
        }
      ]
    },
    {
      "cell_type": "markdown",
      "source": [
        "![ops](https://ucarecdn.com/9f29f62d-5e96-430a-be4b-22f007983072/)"
      ],
      "metadata": {
        "id": "_-CjyRjbGEW9"
      }
    },
    {
      "cell_type": "code",
      "source": [
        "torch.cat((t1, t2), dim=1)"
      ],
      "metadata": {
        "colab": {
          "base_uri": "https://localhost:8080/"
        },
        "id": "zfJG6bkAF-t5",
        "outputId": "f108253b-a7e6-44dc-a21f-0944058d71e3"
      },
      "execution_count": null,
      "outputs": [
        {
          "output_type": "execute_result",
          "data": {
            "text/plain": [
              "tensor([[1, 2, 5, 6],\n",
              "        [3, 4, 7, 8]])"
            ]
          },
          "metadata": {},
          "execution_count": 294
        }
      ]
    },
    {
      "cell_type": "code",
      "source": [
        "t.reshape(2, -1)"
      ],
      "metadata": {
        "colab": {
          "base_uri": "https://localhost:8080/"
        },
        "id": "Q3wMe3_7GItD",
        "outputId": "48825da0-88d7-4708-a1fa-bc45dde15c10"
      },
      "execution_count": null,
      "outputs": [
        {
          "output_type": "execute_result",
          "data": {
            "text/plain": [
              "tensor([[0., 0., 0., 0., 1., 2.],\n",
              "        [3., 4., 2., 2., 2., 2.]])"
            ]
          },
          "metadata": {},
          "execution_count": 295
        }
      ]
    },
    {
      "cell_type": "code",
      "source": [
        "img1 = torch.tensor([\n",
        "  [1, 1, 1, 1],\n",
        "  [1, 1, 1, 1],\n",
        "  [1, 1, 1, 1],\n",
        "  [1, 1, 1, 1]\n",
        "])\n",
        "\n",
        "img2 = torch.tensor([\n",
        "  [2, 2, 2, 2],\n",
        "  [2, 2, 2, 2],\n",
        "  [2, 2, 2, 2],\n",
        "  [2, 2, 2, 2]\n",
        "])\n",
        "\n",
        "img3 = torch.tensor([\n",
        "  [3, 3, 3, 3],\n",
        "  [3, 3, 3, 3],\n",
        "  [3, 3, 3, 3],\n",
        "  [3, 3, 3, 3]\n",
        "])"
      ],
      "metadata": {
        "id": "ZmgnkE_tGK09"
      },
      "execution_count": null,
      "outputs": []
    },
    {
      "cell_type": "code",
      "source": [
        "batch = torch.stack((img1, img2, img3))\n",
        "batch.shape"
      ],
      "metadata": {
        "colab": {
          "base_uri": "https://localhost:8080/"
        },
        "id": "xgCX5qvMGR7J",
        "outputId": "e9500703-3b52-4b6d-c78b-a7d90a57ddee"
      },
      "execution_count": null,
      "outputs": [
        {
          "output_type": "execute_result",
          "data": {
            "text/plain": [
              "torch.Size([3, 4, 4])"
            ]
          },
          "metadata": {},
          "execution_count": 297
        }
      ]
    },
    {
      "cell_type": "code",
      "source": [
        "batch = batch.reshape(3, 1, 4, 4)\n",
        "batch"
      ],
      "metadata": {
        "colab": {
          "base_uri": "https://localhost:8080/"
        },
        "id": "zm4KD9mvGT-w",
        "outputId": "2b9faea7-8755-4277-982a-b0438fe33509"
      },
      "execution_count": null,
      "outputs": [
        {
          "output_type": "execute_result",
          "data": {
            "text/plain": [
              "tensor([[[[1, 1, 1, 1],\n",
              "          [1, 1, 1, 1],\n",
              "          [1, 1, 1, 1],\n",
              "          [1, 1, 1, 1]]],\n",
              "\n",
              "\n",
              "        [[[2, 2, 2, 2],\n",
              "          [2, 2, 2, 2],\n",
              "          [2, 2, 2, 2],\n",
              "          [2, 2, 2, 2]]],\n",
              "\n",
              "\n",
              "        [[[3, 3, 3, 3],\n",
              "          [3, 3, 3, 3],\n",
              "          [3, 3, 3, 3],\n",
              "          [3, 3, 3, 3]]]])"
            ]
          },
          "metadata": {},
          "execution_count": 298
        }
      ]
    },
    {
      "cell_type": "code",
      "source": [
        "# let's get our first image\n",
        "\n",
        "batch[0]"
      ],
      "metadata": {
        "colab": {
          "base_uri": "https://localhost:8080/"
        },
        "id": "C6z4dinVGj-o",
        "outputId": "48dd2618-4eb5-432b-cf33-9226b2f3612d"
      },
      "execution_count": null,
      "outputs": [
        {
          "output_type": "execute_result",
          "data": {
            "text/plain": [
              "tensor([[[1, 1, 1, 1],\n",
              "         [1, 1, 1, 1],\n",
              "         [1, 1, 1, 1],\n",
              "         [1, 1, 1, 1]]])"
            ]
          },
          "metadata": {},
          "execution_count": 299
        }
      ]
    },
    {
      "cell_type": "code",
      "source": [
        "# let's get the first channel of our first image\n",
        "\n",
        "batch[0][0]"
      ],
      "metadata": {
        "colab": {
          "base_uri": "https://localhost:8080/"
        },
        "id": "2c0z7m0kGmbw",
        "outputId": "4ec63a37-2257-4156-e20a-65ee31a9ff3c"
      },
      "execution_count": null,
      "outputs": [
        {
          "output_type": "execute_result",
          "data": {
            "text/plain": [
              "tensor([[1, 1, 1, 1],\n",
              "        [1, 1, 1, 1],\n",
              "        [1, 1, 1, 1],\n",
              "        [1, 1, 1, 1]])"
            ]
          },
          "metadata": {},
          "execution_count": 300
        }
      ]
    },
    {
      "cell_type": "code",
      "source": [
        "# let's get the first row of our first channel of our first image\n",
        "\n",
        "batch[0][0][0]"
      ],
      "metadata": {
        "colab": {
          "base_uri": "https://localhost:8080/"
        },
        "id": "gvHQihAhGpfC",
        "outputId": "a1c640b1-1688-4680-bfe2-c6e9ef843a5d"
      },
      "execution_count": null,
      "outputs": [
        {
          "output_type": "execute_result",
          "data": {
            "text/plain": [
              "tensor([1, 1, 1, 1])"
            ]
          },
          "metadata": {},
          "execution_count": 301
        }
      ]
    },
    {
      "cell_type": "code",
      "source": [
        "# let's get the first pixel of the first row of our first channel of our first image\n",
        "\n",
        "batch[0][0][0][0]"
      ],
      "metadata": {
        "colab": {
          "base_uri": "https://localhost:8080/"
        },
        "id": "zkXjhyRSGq6h",
        "outputId": "bd465617-97c8-4b46-b33f-bf07eff7ac8b"
      },
      "execution_count": null,
      "outputs": [
        {
          "output_type": "execute_result",
          "data": {
            "text/plain": [
              "tensor(1)"
            ]
          },
          "metadata": {},
          "execution_count": 302
        }
      ]
    },
    {
      "cell_type": "code",
      "source": [
        "# Let's see how we flatten our image inside the batch\n",
        "\n",
        "batch.reshape(1, -1)[0]\n"
      ],
      "metadata": {
        "colab": {
          "base_uri": "https://localhost:8080/"
        },
        "id": "vBCJEyy5GsJR",
        "outputId": "1e5b475c-0f23-41d4-afd6-dd7af160a43d"
      },
      "execution_count": null,
      "outputs": [
        {
          "output_type": "execute_result",
          "data": {
            "text/plain": [
              "tensor([1, 1, 1, 1, 1, 1, 1, 1, 1, 1, 1, 1, 1, 1, 1, 1, 2, 2, 2, 2, 2, 2, 2, 2, 2, 2, 2, 2, 2, 2, 2, 2, 3, 3, 3, 3, 3,\n",
              "        3, 3, 3, 3, 3, 3, 3, 3, 3, 3, 3])"
            ]
          },
          "metadata": {},
          "execution_count": 303
        }
      ]
    },
    {
      "cell_type": "code",
      "source": [
        "batch.reshape(1, 4, -1)[0]"
      ],
      "metadata": {
        "colab": {
          "base_uri": "https://localhost:8080/"
        },
        "id": "NQg8E_91GvDB",
        "outputId": "c1b6ff55-fc73-493d-bf1d-25541dd610c0"
      },
      "execution_count": null,
      "outputs": [
        {
          "output_type": "execute_result",
          "data": {
            "text/plain": [
              "tensor([[1, 1, 1, 1, 1, 1, 1, 1, 1, 1, 1, 1],\n",
              "        [1, 1, 1, 1, 2, 2, 2, 2, 2, 2, 2, 2],\n",
              "        [2, 2, 2, 2, 2, 2, 2, 2, 3, 3, 3, 3],\n",
              "        [3, 3, 3, 3, 3, 3, 3, 3, 3, 3, 3, 3]])"
            ]
          },
          "metadata": {},
          "execution_count": 304
        }
      ]
    },
    {
      "cell_type": "code",
      "source": [
        "batch.reshape(-1)"
      ],
      "metadata": {
        "colab": {
          "base_uri": "https://localhost:8080/"
        },
        "id": "v9j6am_qGyld",
        "outputId": "2a356dbf-8296-4f10-c38b-7bdb409a62a9"
      },
      "execution_count": null,
      "outputs": [
        {
          "output_type": "execute_result",
          "data": {
            "text/plain": [
              "tensor([1, 1, 1, 1, 1, 1, 1, 1, 1, 1, 1, 1, 1, 1, 1, 1, 2, 2, 2, 2, 2, 2, 2, 2, 2, 2, 2, 2, 2, 2, 2, 2, 3, 3, 3, 3, 3,\n",
              "        3, 3, 3, 3, 3, 3, 3, 3, 3, 3, 3])"
            ]
          },
          "metadata": {},
          "execution_count": 305
        }
      ]
    },
    {
      "cell_type": "code",
      "source": [
        "batch.flatten()"
      ],
      "metadata": {
        "colab": {
          "base_uri": "https://localhost:8080/"
        },
        "id": "6xhaxMIdG0mP",
        "outputId": "ea5e2d2b-b15d-469b-ad38-fa5e7039cc70"
      },
      "execution_count": null,
      "outputs": [
        {
          "output_type": "execute_result",
          "data": {
            "text/plain": [
              "tensor([1, 1, 1, 1, 1, 1, 1, 1, 1, 1, 1, 1, 1, 1, 1, 1, 2, 2, 2, 2, 2, 2, 2, 2, 2, 2, 2, 2, 2, 2, 2, 2, 3, 3, 3, 3, 3,\n",
              "        3, 3, 3, 3, 3, 3, 3, 3, 3, 3, 3])"
            ]
          },
          "metadata": {},
          "execution_count": 306
        }
      ]
    },
    {
      "cell_type": "code",
      "source": [
        "t1 = torch.tensor([\n",
        "    [1, 2],\n",
        "    [3, 4]\n",
        "], dtype=torch.float32)\n",
        "\n",
        "t2 = torch.tensor([\n",
        "    [5, 6],\n",
        "    [7, 8]\n",
        "], dtype=torch.float32)"
      ],
      "metadata": {
        "id": "d87NW3C2G3cD"
      },
      "execution_count": null,
      "outputs": []
    },
    {
      "cell_type": "code",
      "source": [
        "t1 + t2"
      ],
      "metadata": {
        "colab": {
          "base_uri": "https://localhost:8080/"
        },
        "id": "GSAAqs1rIV3y",
        "outputId": "b5c2a101-7468-415d-ea54-b97d79286a3f"
      },
      "execution_count": null,
      "outputs": [
        {
          "output_type": "execute_result",
          "data": {
            "text/plain": [
              "tensor([[ 6.,  8.],\n",
              "        [10., 12.]])"
            ]
          },
          "metadata": {},
          "execution_count": 308
        }
      ]
    },
    {
      "cell_type": "code",
      "source": [
        "t1 + 2"
      ],
      "metadata": {
        "colab": {
          "base_uri": "https://localhost:8080/"
        },
        "id": "0IEaB4PcIZxX",
        "outputId": "53a4fb2c-624a-45e2-8802-1cc6b4ea7736"
      },
      "execution_count": null,
      "outputs": [
        {
          "output_type": "execute_result",
          "data": {
            "text/plain": [
              "tensor([[3., 4.],\n",
              "        [5., 6.]])"
            ]
          },
          "metadata": {},
          "execution_count": 309
        }
      ]
    },
    {
      "cell_type": "code",
      "source": [
        "t1 - 2"
      ],
      "metadata": {
        "colab": {
          "base_uri": "https://localhost:8080/"
        },
        "id": "GXlGw9-7Ib01",
        "outputId": "415deb6f-8681-4e5d-b4f8-6853dd66c2d7"
      },
      "execution_count": null,
      "outputs": [
        {
          "output_type": "execute_result",
          "data": {
            "text/plain": [
              "tensor([[-1.,  0.],\n",
              "        [ 1.,  2.]])"
            ]
          },
          "metadata": {},
          "execution_count": 310
        }
      ]
    },
    {
      "cell_type": "code",
      "source": [
        "print(t1.add(2))\n",
        "\n",
        "print(t1.sub(2))\n",
        "\n",
        "print(t1.mul(2))\n",
        "\n",
        "print(t1.div(2))"
      ],
      "metadata": {
        "colab": {
          "base_uri": "https://localhost:8080/"
        },
        "id": "MRA31Y_SId72",
        "outputId": "f84d86df-96c0-45a9-a32e-d5c6acf34569"
      },
      "execution_count": null,
      "outputs": [
        {
          "output_type": "stream",
          "name": "stdout",
          "text": [
            "tensor([[3., 4.],\n",
            "        [5., 6.]])\n",
            "tensor([[-1.,  0.],\n",
            "        [ 1.,  2.]])\n",
            "tensor([[2., 4.],\n",
            "        [6., 8.]])\n",
            "tensor([[0.5000, 1.0000],\n",
            "        [1.5000, 2.0000]])\n"
          ]
        }
      ]
    },
    {
      "cell_type": "code",
      "source": [
        "t = torch.tensor([\n",
        "    [0, 5, 7],\n",
        "    [6, 0, 7],\n",
        "    [0, 8, 0]\n",
        "], dtype=torch.float32)"
      ],
      "metadata": {
        "id": "XLf0v553IfXB"
      },
      "execution_count": null,
      "outputs": []
    },
    {
      "cell_type": "code",
      "source": [
        "t.eq(0)"
      ],
      "metadata": {
        "colab": {
          "base_uri": "https://localhost:8080/"
        },
        "id": "sVE_wdVdIgrv",
        "outputId": "d65d00df-3d78-4bc4-9372-ebf1fd6083ab"
      },
      "execution_count": null,
      "outputs": [
        {
          "output_type": "execute_result",
          "data": {
            "text/plain": [
              "tensor([[ True, False, False],\n",
              "        [False,  True, False],\n",
              "        [ True, False,  True]])"
            ]
          },
          "metadata": {},
          "execution_count": 313
        }
      ]
    },
    {
      "cell_type": "code",
      "source": [
        "t.ge(0)"
      ],
      "metadata": {
        "colab": {
          "base_uri": "https://localhost:8080/"
        },
        "id": "4JbS8XCAIizV",
        "outputId": "b5b09551-b9ea-40fe-dbaf-402780e3647b"
      },
      "execution_count": null,
      "outputs": [
        {
          "output_type": "execute_result",
          "data": {
            "text/plain": [
              "tensor([[True, True, True],\n",
              "        [True, True, True],\n",
              "        [True, True, True]])"
            ]
          },
          "metadata": {},
          "execution_count": 314
        }
      ]
    },
    {
      "cell_type": "code",
      "source": [
        "t.le(7)"
      ],
      "metadata": {
        "colab": {
          "base_uri": "https://localhost:8080/"
        },
        "id": "_V4WusCjIj0h",
        "outputId": "033bc34e-d07b-40be-eba0-ad4c21b9fde3"
      },
      "execution_count": null,
      "outputs": [
        {
          "output_type": "execute_result",
          "data": {
            "text/plain": [
              "tensor([[ True,  True,  True],\n",
              "        [ True,  True,  True],\n",
              "        [ True, False,  True]])"
            ]
          },
          "metadata": {},
          "execution_count": 315
        }
      ]
    },
    {
      "cell_type": "code",
      "source": [
        "t.abs()"
      ],
      "metadata": {
        "colab": {
          "base_uri": "https://localhost:8080/"
        },
        "id": "T61Tu6GLImEH",
        "outputId": "0f805050-bff4-4d7c-8228-997c2b847df5"
      },
      "execution_count": null,
      "outputs": [
        {
          "output_type": "execute_result",
          "data": {
            "text/plain": [
              "tensor([[0., 5., 7.],\n",
              "        [6., 0., 7.],\n",
              "        [0., 8., 0.]])"
            ]
          },
          "metadata": {},
          "execution_count": 316
        }
      ]
    },
    {
      "cell_type": "code",
      "source": [
        "t.sqrt()"
      ],
      "metadata": {
        "colab": {
          "base_uri": "https://localhost:8080/"
        },
        "id": "HSYsXjDvInLt",
        "outputId": "7b37076c-713e-45d8-abcd-6be0a1375e81"
      },
      "execution_count": null,
      "outputs": [
        {
          "output_type": "execute_result",
          "data": {
            "text/plain": [
              "tensor([[0.0000, 2.2361, 2.6458],\n",
              "        [2.4495, 0.0000, 2.6458],\n",
              "        [0.0000, 2.8284, 0.0000]])"
            ]
          },
          "metadata": {},
          "execution_count": 317
        }
      ]
    },
    {
      "cell_type": "code",
      "source": [
        "t = torch.tensor([\n",
        "    [0, 5, 7],\n",
        "    [6, 0, 7],\n",
        "    [0, 8, 0]\n",
        "], dtype=torch.float32)"
      ],
      "metadata": {
        "id": "tTcHK3pmIo-1"
      },
      "execution_count": null,
      "outputs": []
    },
    {
      "cell_type": "code",
      "source": [
        "t.sum()"
      ],
      "metadata": {
        "colab": {
          "base_uri": "https://localhost:8080/"
        },
        "id": "dXnIAeRdIqPG",
        "outputId": "8a74ee71-9b76-4a33-8002-c1fc77f62a0a"
      },
      "execution_count": null,
      "outputs": [
        {
          "output_type": "execute_result",
          "data": {
            "text/plain": [
              "tensor(33.)"
            ]
          },
          "metadata": {},
          "execution_count": 319
        }
      ]
    },
    {
      "cell_type": "code",
      "source": [
        "t.prod()"
      ],
      "metadata": {
        "colab": {
          "base_uri": "https://localhost:8080/"
        },
        "id": "fQxIM1BKIrCu",
        "outputId": "85ee6132-4c4f-4ed9-a60f-acec4bb71588"
      },
      "execution_count": null,
      "outputs": [
        {
          "output_type": "execute_result",
          "data": {
            "text/plain": [
              "tensor(0.)"
            ]
          },
          "metadata": {},
          "execution_count": 320
        }
      ]
    },
    {
      "cell_type": "code",
      "source": [
        "t.mean()"
      ],
      "metadata": {
        "colab": {
          "base_uri": "https://localhost:8080/"
        },
        "id": "a92ppDTDIsBT",
        "outputId": "b48a2ed4-661f-4fac-cc76-de7302ed29bc"
      },
      "execution_count": null,
      "outputs": [
        {
          "output_type": "execute_result",
          "data": {
            "text/plain": [
              "tensor(3.6667)"
            ]
          },
          "metadata": {},
          "execution_count": 321
        }
      ]
    },
    {
      "cell_type": "code",
      "source": [
        "t.std()"
      ],
      "metadata": {
        "colab": {
          "base_uri": "https://localhost:8080/"
        },
        "id": "iJ6X1nywItWJ",
        "outputId": "866b1a1e-22aa-409d-eac9-8a2c118262ad"
      },
      "execution_count": null,
      "outputs": [
        {
          "output_type": "execute_result",
          "data": {
            "text/plain": [
              "tensor(3.5707)"
            ]
          },
          "metadata": {},
          "execution_count": 322
        }
      ]
    },
    {
      "cell_type": "code",
      "source": [
        "t = torch.tensor([\n",
        "  [1, 1, 1, 1],\n",
        "  [2, 2, 2, 2],\n",
        "  [3, 3, 3, 3],\n",
        "  [4, 4, 4, 4]\n",
        "])"
      ],
      "metadata": {
        "id": "nsIGsjW8IuSc"
      },
      "execution_count": null,
      "outputs": []
    },
    {
      "cell_type": "code",
      "source": [
        "t.sum(dim=0)"
      ],
      "metadata": {
        "colab": {
          "base_uri": "https://localhost:8080/"
        },
        "id": "dGL3bpyAIvMN",
        "outputId": "84e6e734-fe6e-4cb8-ad6a-22f1f50df026"
      },
      "execution_count": null,
      "outputs": [
        {
          "output_type": "execute_result",
          "data": {
            "text/plain": [
              "tensor([10, 10, 10, 10])"
            ]
          },
          "metadata": {},
          "execution_count": 324
        }
      ]
    },
    {
      "cell_type": "code",
      "source": [
        "t.sum(dim=1)"
      ],
      "metadata": {
        "colab": {
          "base_uri": "https://localhost:8080/"
        },
        "id": "SftqXkDEIzAP",
        "outputId": "6a42f60c-a84f-4509-9220-ddf058375484"
      },
      "execution_count": null,
      "outputs": [
        {
          "output_type": "execute_result",
          "data": {
            "text/plain": [
              "tensor([ 4,  8, 12, 16])"
            ]
          },
          "metadata": {},
          "execution_count": 325
        }
      ]
    },
    {
      "cell_type": "code",
      "source": [
        "t.argmax(), t.max()"
      ],
      "metadata": {
        "colab": {
          "base_uri": "https://localhost:8080/"
        },
        "id": "LiCyiZSaI1vQ",
        "outputId": "26e6804a-3d36-4086-9bbb-8f3c1751f0a1"
      },
      "execution_count": null,
      "outputs": [
        {
          "output_type": "execute_result",
          "data": {
            "text/plain": [
              "(tensor(12), tensor(4))"
            ]
          },
          "metadata": {},
          "execution_count": 326
        }
      ]
    },
    {
      "cell_type": "code",
      "source": [
        "t = torch.tensor([\n",
        "  [1, 1, 1, 1],\n",
        "  [2, 2, 2, 2],\n",
        "  [3, 3, 3, 3],\n",
        "  [4, 4, 5, 4]\n",
        "])\n",
        "t.argmax(), t.max()"
      ],
      "metadata": {
        "colab": {
          "base_uri": "https://localhost:8080/"
        },
        "id": "b1hVoYoJI3tH",
        "outputId": "0f587bbb-889d-4103-aaf6-9e66831b3ef0"
      },
      "execution_count": null,
      "outputs": [
        {
          "output_type": "execute_result",
          "data": {
            "text/plain": [
              "(tensor(14), tensor(5))"
            ]
          },
          "metadata": {},
          "execution_count": 327
        }
      ]
    },
    {
      "cell_type": "code",
      "source": [
        "t.argmin(), t.min()"
      ],
      "metadata": {
        "colab": {
          "base_uri": "https://localhost:8080/"
        },
        "id": "zBoSqqc2I8N5",
        "outputId": "f09e6c90-b722-4161-a79e-961a1921d5bd"
      },
      "execution_count": null,
      "outputs": [
        {
          "output_type": "execute_result",
          "data": {
            "text/plain": [
              "(tensor(0), tensor(1))"
            ]
          },
          "metadata": {},
          "execution_count": 328
        }
      ]
    },
    {
      "cell_type": "code",
      "source": [
        "t.flatten()"
      ],
      "metadata": {
        "colab": {
          "base_uri": "https://localhost:8080/"
        },
        "id": "gWbMcmH-I_JV",
        "outputId": "53b00ff9-28e7-4606-fed1-0338508a8fd4"
      },
      "execution_count": null,
      "outputs": [
        {
          "output_type": "execute_result",
          "data": {
            "text/plain": [
              "tensor([1, 1, 1, 1, 2, 2, 2, 2, 3, 3, 3, 3, 4, 4, 5, 4])"
            ]
          },
          "metadata": {},
          "execution_count": 329
        }
      ]
    },
    {
      "cell_type": "markdown",
      "source": [
        "# What is `contiguous()`?\n",
        "\n",
        "* A **tensor is contiguous** if its memory layout is stored sequentially (row-major order by default).\n",
        "* Some operations (e.g., `transpose`, `permute`) only **change the view** of a tensor without actually rearranging memory.\n",
        "* If you then try to call `.view()` on a non-contiguous tensor, PyTorch will complain.\n",
        "* `.contiguous()` **forces a copy** of the tensor into contiguous memory.\n",
        "\n",
        "---\n",
        "\n",
        "## Example: Memory Layout Proof\n",
        "\n",
        "```python\n",
        "import torch\n",
        "\n",
        "# Step 1: Create a 2x3 tensor\n",
        "x = torch.arange(6).view(2, 3)\n",
        "print(\"Original tensor:\\n\", x)\n",
        "\n",
        "# Step 2: Transpose (non-contiguous!)\n",
        "y = x.t()\n",
        "print(\"\\nTransposed tensor:\\n\", y)\n",
        "\n",
        "# Check if contiguous\n",
        "print(\"\\nIs y contiguous?\", y.is_contiguous())\n",
        "\n",
        "# Step 3: Try to use view() on non-contiguous tensor\n",
        "try:\n",
        "    y.view(6)\n",
        "except RuntimeError as e:\n",
        "    print(\"\\nError:\", e)\n",
        "\n",
        "# Step 4: Make it contiguous\n",
        "z = y.contiguous()\n",
        "print(\"\\nContiguous tensor:\\n\", z)\n",
        "print(\"Is z contiguous?\", z.is_contiguous())\n",
        "\n",
        "# Step 5: Show memory addresses\n",
        "print(\"\\nMemory addresses:\")\n",
        "print(\"y.storage():\", y.storage())\n",
        "print(\"z.storage():\", z.storage())\n",
        "```\n",
        "\n",
        "---\n",
        "\n",
        "### ✅ Sample Output\n",
        "\n",
        "```\n",
        "Original tensor:\n",
        " tensor([[0, 1, 2],\n",
        "         [3, 4, 5]])\n",
        "\n",
        "Transposed tensor:\n",
        " tensor([[0, 3],\n",
        "         [1, 4],\n",
        "         [2, 5]])\n",
        "\n",
        "Is y contiguous? False\n",
        "\n",
        "Error: view size is not compatible with input tensor's size and stride\n",
        "\n",
        "Contiguous tensor:\n",
        " tensor([[0, 3],\n",
        "         [1, 4],\n",
        "         [2, 5]])\n",
        "Is z contiguous? True\n",
        "\n",
        "Memory addresses:\n",
        "y.storage():  0 1 2 3 4 5   (non-linear stride mapping)\n",
        "z.storage():  0 3 1 4 2 5   (copied into sequential memory)\n",
        "```\n",
        "\n",
        "---\n",
        "\n",
        "## 📌 Why is it used?\n",
        "\n",
        "1. **Reshaping with `.view()`**\n",
        "\n",
        "   * `.view()` requires a tensor to be contiguous because it assumes linear memory.\n",
        "   * `.contiguous()` fixes this by rearranging data in memory.\n",
        "\n",
        "2. **Performance**\n",
        "\n",
        "   * Some operations (like matrix multiplications) are optimized for contiguous memory.\n",
        "   * Non-contiguous layouts can cause slower performance.\n",
        "\n",
        "3. **Correctness**\n",
        "\n",
        "   * After transpose/permute, data strides are different. `.contiguous()` ensures safe reshaping and consistent memory access.\n",
        "\n",
        "---\n",
        "\n",
        "## 🔑 Rule of Thumb\n",
        "\n",
        "* Use `.contiguous()` **only when necessary** (e.g., before `.view()` or when operations explicitly require contiguous memory).\n",
        "* Don’t call it unnecessarily, since it forces a memory copy.\n",
        "\n"
      ],
      "metadata": {
        "id": "rJVmjvsbJCfy"
      }
    },
    {
      "cell_type": "code",
      "source": [
        "torch.arange(6).view(2, 3)"
      ],
      "metadata": {
        "colab": {
          "base_uri": "https://localhost:8080/"
        },
        "id": "131IsRZKJLbe",
        "outputId": "d96a1e85-bdad-43b4-f95e-dfed0e8b0b20"
      },
      "execution_count": null,
      "outputs": [
        {
          "output_type": "execute_result",
          "data": {
            "text/plain": [
              "tensor([[0, 1, 2],\n",
              "        [3, 4, 5]])"
            ]
          },
          "metadata": {},
          "execution_count": 330
        }
      ]
    },
    {
      "cell_type": "code",
      "source": [
        "# Step 1: Create a 2x3 tensor\n",
        "x = torch.arange(6).view(2, 3)\n",
        "print(\"Original tensor:\\n\", x)\n",
        "\n",
        "# Step 2: Transpose (non-contiguous!)\n",
        "y = x.t()\n",
        "print(\"\\nTransposed tensor:\\n\", y)\n",
        "\n",
        "# Check if contiguous\n",
        "print(\"\\nIs y contiguous?\", y.is_contiguous())\n",
        "\n",
        "# Step 3: Try to use view() on non-contiguous tensor\n",
        "try:\n",
        "    y.view(6)\n",
        "except RuntimeError as e:\n",
        "    print(\"\\nError:\", e)\n",
        "\n",
        "# Step 4: Make it contiguous\n",
        "z = y.contiguous()\n",
        "print(\"\\nContiguous tensor:\\n\", z)\n",
        "print(\"Is z contiguous?\", z.is_contiguous())\n",
        "\n",
        "# Step 5: Show memory addresses\n",
        "print(\"\\nMemory addresses:\")\n",
        "print(\"y.storage():\", y.storage())\n",
        "print(\"z.storage():\", z.storage())"
      ],
      "metadata": {
        "colab": {
          "base_uri": "https://localhost:8080/"
        },
        "id": "4Btn2fFgJCJA",
        "outputId": "e5ed3cc7-06d8-4922-f9de-62886e71cb68"
      },
      "execution_count": null,
      "outputs": [
        {
          "output_type": "stream",
          "name": "stdout",
          "text": [
            "Original tensor:\n",
            " tensor([[0, 1, 2],\n",
            "        [3, 4, 5]])\n",
            "\n",
            "Transposed tensor:\n",
            " tensor([[0, 3],\n",
            "        [1, 4],\n",
            "        [2, 5]])\n",
            "\n",
            "Is y contiguous? False\n",
            "\n",
            "Error: view size is not compatible with input tensor's size and stride (at least one dimension spans across two contiguous subspaces). Use .reshape(...) instead.\n",
            "\n",
            "Contiguous tensor:\n",
            " tensor([[0, 3],\n",
            "        [1, 4],\n",
            "        [2, 5]])\n",
            "Is z contiguous? True\n",
            "\n",
            "Memory addresses:\n",
            "y.storage():  0\n",
            " 1\n",
            " 2\n",
            " 3\n",
            " 4\n",
            " 5\n",
            "[torch.storage.TypedStorage(dtype=torch.int64, device=cpu) of size 6]\n",
            "z.storage():  0\n",
            " 3\n",
            " 1\n",
            " 4\n",
            " 2\n",
            " 5\n",
            "[torch.storage.TypedStorage(dtype=torch.int64, device=cpu) of size 6]\n"
          ]
        }
      ]
    },
    {
      "cell_type": "markdown",
      "source": [
        "\n",
        "\n",
        "---\n",
        "\n",
        "\n",
        "# PyTorch Main\n",
        "\n",
        "# Working with the dataset\n",
        "\n",
        "We will look at convolutional/image examples as they allow us to get a good intuition on axises and are more complex to work on just 1D data\n",
        "\n",
        "### A common nn pipeline looks like this:\n",
        "1. Prepare the data\n",
        "2. Build the model\n",
        "3. Train the model\n",
        "4. Analyze the model"
      ],
      "metadata": {
        "id": "wLhdiHnDJcfY"
      }
    },
    {
      "cell_type": "code",
      "source": [
        "import torch\n",
        "import torchvision # provide access to datasets, models, transforms, utils, etc\n",
        "import torchvision.transforms as transforms"
      ],
      "metadata": {
        "id": "iQWkQbg9JA6N"
      },
      "execution_count": null,
      "outputs": []
    },
    {
      "cell_type": "code",
      "source": [
        "from torch.utils.data import Dataset\n",
        "\n",
        "class Animals(Dataset):\n",
        "  def __init__(self, csv_file):\n",
        "    self.data = pd.read_csv(csv_file)\n",
        "\n",
        "  def __getitem__(self, index):\n",
        "    r = self.data.iloc[index]\n",
        "    label, image = r\n",
        "    return label, image\n",
        "\n",
        "  def __len__(self):\n",
        "    return len(self.data)"
      ],
      "metadata": {
        "id": "PLu8qH_FJjVv"
      },
      "execution_count": null,
      "outputs": []
    },
    {
      "cell_type": "code",
      "source": [
        "# now let's work with FashionMnist\n",
        "\n",
        "train_set = torchvision.datasets.FashionMNIST(\n",
        "    root='./data'\n",
        "    ,train=True\n",
        "    ,download=True\n",
        "    ,transform=transforms.Compose([\n",
        "        transforms.ToTensor()\n",
        "    ])\n",
        ")\n",
        "\n"
      ],
      "metadata": {
        "id": "28iAgqA6J1SO"
      },
      "execution_count": null,
      "outputs": []
    },
    {
      "cell_type": "code",
      "source": [
        "for r in range(10):\n",
        "  print(r)"
      ],
      "metadata": {
        "colab": {
          "base_uri": "https://localhost:8080/"
        },
        "id": "lPyZ3q2tJ999",
        "outputId": "1f5bbb17-c240-48fd-bb6d-18077dfecfde"
      },
      "execution_count": null,
      "outputs": [
        {
          "output_type": "stream",
          "name": "stdout",
          "text": [
            "0\n",
            "1\n",
            "2\n",
            "3\n",
            "4\n",
            "5\n",
            "6\n",
            "7\n",
            "8\n",
            "9\n"
          ]
        }
      ]
    },
    {
      "cell_type": "code",
      "source": [
        "x = iter(range(10))\n",
        "x, next(x), next(x)"
      ],
      "metadata": {
        "colab": {
          "base_uri": "https://localhost:8080/"
        },
        "id": "_y_eqyezKIZd",
        "outputId": "829fcac4-c43d-497f-c272-5b6a1c4553d9"
      },
      "execution_count": null,
      "outputs": [
        {
          "output_type": "execute_result",
          "data": {
            "text/plain": [
              "(<range_iterator at 0x7fb24c277a50>, 0, 1)"
            ]
          },
          "metadata": {},
          "execution_count": 336
        }
      ]
    },
    {
      "cell_type": "code",
      "source": [
        "x = iter(range(10))\n",
        "next(x), next(x), next(x), next(x), next(x), next(x), next(x), next(x), next(x), next(x)"
      ],
      "metadata": {
        "colab": {
          "base_uri": "https://localhost:8080/"
        },
        "id": "5S51vURnJ5PT",
        "outputId": "40230b11-e1f8-4bec-f4f0-c03ef28bc48b"
      },
      "execution_count": null,
      "outputs": [
        {
          "output_type": "execute_result",
          "data": {
            "text/plain": [
              "(0, 1, 2, 3, 4, 5, 6, 7, 8, 9)"
            ]
          },
          "metadata": {},
          "execution_count": 337
        }
      ]
    },
    {
      "cell_type": "code",
      "source": [
        "train_set"
      ],
      "metadata": {
        "colab": {
          "base_uri": "https://localhost:8080/"
        },
        "id": "7MxX_RLrKWqp",
        "outputId": "ad237b66-3d4a-4ccd-ab6d-0e0eaca637c5"
      },
      "execution_count": null,
      "outputs": [
        {
          "output_type": "execute_result",
          "data": {
            "text/plain": [
              "Dataset FashionMNIST\n",
              "    Number of datapoints: 60000\n",
              "    Root location: ./data\n",
              "    Split: Train\n",
              "    StandardTransform\n",
              "Transform: Compose(\n",
              "               ToTensor()\n",
              "           )"
            ]
          },
          "metadata": {},
          "execution_count": 338
        }
      ]
    },
    {
      "cell_type": "code",
      "source": [
        "next(iter(train_set))[1]"
      ],
      "metadata": {
        "colab": {
          "base_uri": "https://localhost:8080/"
        },
        "id": "b9N3ZQcoKfGF",
        "outputId": "b4463f43-e173-47c8-cfe1-1a98f85d2400"
      },
      "execution_count": null,
      "outputs": [
        {
          "output_type": "execute_result",
          "data": {
            "text/plain": [
              "9"
            ]
          },
          "metadata": {},
          "execution_count": 339
        }
      ]
    },
    {
      "cell_type": "code",
      "source": [
        "next(iter(range(10)))"
      ],
      "metadata": {
        "colab": {
          "base_uri": "https://localhost:8080/"
        },
        "id": "jHEbySlhKiWx",
        "outputId": "093db8e3-2118-4d73-8663-0448e4d7255b"
      },
      "execution_count": null,
      "outputs": [
        {
          "output_type": "execute_result",
          "data": {
            "text/plain": [
              "0"
            ]
          },
          "metadata": {},
          "execution_count": 340
        }
      ]
    },
    {
      "cell_type": "code",
      "source": [
        "i = 0\n",
        "\n",
        "for j in train_set:\n",
        "  print(j[1])\n",
        "  i+= 1\n",
        "  if i > 5:\n",
        "    break"
      ],
      "metadata": {
        "colab": {
          "base_uri": "https://localhost:8080/"
        },
        "id": "H13TLBPJKv8L",
        "outputId": "29cadbfe-d476-4dba-d55e-6d840a26ce59"
      },
      "execution_count": null,
      "outputs": [
        {
          "output_type": "stream",
          "name": "stdout",
          "text": [
            "9\n",
            "0\n",
            "0\n",
            "3\n",
            "0\n",
            "2\n"
          ]
        }
      ]
    },
    {
      "cell_type": "code",
      "source": [
        "train_loader = torch.utils.data.DataLoader(train_set\n",
        "    ,batch_size=32\n",
        "    ,shuffle=True\n",
        ")"
      ],
      "metadata": {
        "id": "pAN4EBK7K2S9"
      },
      "execution_count": null,
      "outputs": []
    },
    {
      "cell_type": "code",
      "source": [
        "iter(train_loader)"
      ],
      "metadata": {
        "colab": {
          "base_uri": "https://localhost:8080/"
        },
        "id": "sDZIemNmK-XV",
        "outputId": "92a9f54a-0024-458a-ad5e-cf621a79785f"
      },
      "execution_count": null,
      "outputs": [
        {
          "output_type": "execute_result",
          "data": {
            "text/plain": [
              "<torch.utils.data.dataloader._SingleProcessDataLoaderIter at 0x7fb378a57d40>"
            ]
          },
          "metadata": {},
          "execution_count": 343
        }
      ]
    },
    {
      "cell_type": "code",
      "source": [
        "next(iter(train_loader))[1]"
      ],
      "metadata": {
        "colab": {
          "base_uri": "https://localhost:8080/"
        },
        "id": "2ju2Em1fLCXj",
        "outputId": "16faf927-1f14-4bc5-d6d6-d4b42168c36a"
      },
      "execution_count": null,
      "outputs": [
        {
          "output_type": "execute_result",
          "data": {
            "text/plain": [
              "tensor([9, 6, 8, 0, 2, 6, 4, 1, 4, 1, 8, 0, 8, 9, 4, 5, 3, 4, 2, 5, 0, 2, 1, 9, 2, 5, 2, 4, 6, 7, 1, 9])"
            ]
          },
          "metadata": {},
          "execution_count": 344
        }
      ]
    },
    {
      "cell_type": "code",
      "source": [
        "import numpy as np\n",
        "import matplotlib.pyplot as plt\n",
        "\n",
        "torch.set_printoptions(linewidth=120)"
      ],
      "metadata": {
        "id": "HJ7Rr0HnLEfJ"
      },
      "execution_count": null,
      "outputs": []
    },
    {
      "cell_type": "code",
      "source": [
        "len(train_set)"
      ],
      "metadata": {
        "colab": {
          "base_uri": "https://localhost:8080/"
        },
        "id": "ASYkA9huMHIB",
        "outputId": "3560e5b1-9420-4451-e8d7-55657d686770"
      },
      "execution_count": null,
      "outputs": [
        {
          "output_type": "execute_result",
          "data": {
            "text/plain": [
              "60000"
            ]
          },
          "metadata": {},
          "execution_count": 346
        }
      ]
    },
    {
      "cell_type": "code",
      "source": [
        "train_set.train_labels"
      ],
      "metadata": {
        "colab": {
          "base_uri": "https://localhost:8080/"
        },
        "id": "rhQc1K1pMIfJ",
        "outputId": "b6ebd30e-d2a0-4202-9b4b-ed56efeee3b1"
      },
      "execution_count": null,
      "outputs": [
        {
          "output_type": "stream",
          "name": "stderr",
          "text": [
            "/usr/local/lib/python3.12/dist-packages/torchvision/datasets/mnist.py:66: UserWarning: train_labels has been renamed targets\n",
            "  warnings.warn(\"train_labels has been renamed targets\")\n"
          ]
        },
        {
          "output_type": "execute_result",
          "data": {
            "text/plain": [
              "tensor([9, 0, 0,  ..., 3, 0, 5])"
            ]
          },
          "metadata": {},
          "execution_count": 347
        }
      ]
    },
    {
      "cell_type": "code",
      "source": [
        "train_set.train_labels.bincount() #frequency of each label, we have balanced class here"
      ],
      "metadata": {
        "colab": {
          "base_uri": "https://localhost:8080/"
        },
        "id": "wVyiJBGOMJpo",
        "outputId": "a18bf6bd-e462-4fd8-a92e-163eb2a97c7f"
      },
      "execution_count": null,
      "outputs": [
        {
          "output_type": "execute_result",
          "data": {
            "text/plain": [
              "tensor([6000, 6000, 6000, 6000, 6000, 6000, 6000, 6000, 6000, 6000])"
            ]
          },
          "metadata": {},
          "execution_count": 348
        }
      ]
    },
    {
      "cell_type": "code",
      "source": [
        "sample = next(iter(train_set))\n",
        "\n",
        "len(sample)"
      ],
      "metadata": {
        "colab": {
          "base_uri": "https://localhost:8080/"
        },
        "id": "GQebKw_RMMCF",
        "outputId": "8aa18156-4219-47fb-9204-5741539b234a"
      },
      "execution_count": null,
      "outputs": [
        {
          "output_type": "execute_result",
          "data": {
            "text/plain": [
              "2"
            ]
          },
          "metadata": {},
          "execution_count": 349
        }
      ]
    },
    {
      "cell_type": "code",
      "source": [
        "image, label = sample"
      ],
      "metadata": {
        "id": "7R6yKP69MPkk"
      },
      "execution_count": null,
      "outputs": []
    },
    {
      "cell_type": "code",
      "source": [
        "plt.imshow(image.squeeze(), cmap='gray')\n",
        "print('label:', label)"
      ],
      "metadata": {
        "colab": {
          "base_uri": "https://localhost:8080/",
          "height": 448
        },
        "id": "rnrWrGSaMRHQ",
        "outputId": "f7cfcfe6-ea68-48e6-b36c-e775175f0d52"
      },
      "execution_count": null,
      "outputs": [
        {
          "output_type": "stream",
          "name": "stdout",
          "text": [
            "label: 9\n"
          ]
        },
        {
          "output_type": "display_data",
          "data": {
            "text/plain": [
              "<Figure size 640x480 with 1 Axes>"
            ],
            "image/png": "[encoded data removed]"
          },
          "metadata": {}
        }
      ]
    },
    {
      "cell_type": "code",
      "source": [
        "batch = next(iter(train_loader))\n",
        "\n",
        "len(batch), type(batch)"
      ],
      "metadata": {
        "colab": {
          "base_uri": "https://localhost:8080/"
        },
        "id": "cCOHVH4jMTUQ",
        "outputId": "7b58f32d-76c5-419e-e9d2-29dac3b3b842"
      },
      "execution_count": null,
      "outputs": [
        {
          "output_type": "execute_result",
          "data": {
            "text/plain": [
              "(2, list)"
            ]
          },
          "metadata": {},
          "execution_count": 352
        }
      ]
    },
    {
      "cell_type": "code",
      "source": [
        "images, labels = batch"
      ],
      "metadata": {
        "id": "nqgm4sYQMWvc"
      },
      "execution_count": null,
      "outputs": []
    },
    {
      "cell_type": "code",
      "source": [
        "images.shape, labels.shape"
      ],
      "metadata": {
        "colab": {
          "base_uri": "https://localhost:8080/"
        },
        "id": "FA9E7OVTMY7B",
        "outputId": "c45c3b6b-a73e-4f5f-b94b-cbc420ab4d12"
      },
      "execution_count": null,
      "outputs": [
        {
          "output_type": "execute_result",
          "data": {
            "text/plain": [
              "(torch.Size([32, 1, 28, 28]), torch.Size([32]))"
            ]
          },
          "metadata": {},
          "execution_count": 354
        }
      ]
    },
    {
      "cell_type": "code",
      "source": [
        "grid = torchvision.utils.make_grid(images, nrow=10)\n",
        "plt.figure(figsize=(15,15))\n",
        "plt.imshow(np.transpose(grid, (1,2,0)))\n",
        "print('labels:', labels)"
      ],
      "metadata": {
        "colab": {
          "base_uri": "https://localhost:8080/",
          "height": 551
        },
        "id": "07ko8qVsMaBT",
        "outputId": "6dd1b98b-7919-4b6e-8135-5629b883e976"
      },
      "execution_count": null,
      "outputs": [
        {
          "output_type": "stream",
          "name": "stdout",
          "text": [
            "labels: tensor([9, 3, 3, 4, 7, 1, 4, 5, 3, 3, 7, 0, 1, 1, 6, 6, 3, 4, 3, 5, 9, 6, 4, 9, 4, 6, 6, 0, 5, 4, 2, 4])\n"
          ]
        },
        {
          "output_type": "display_data",
          "data": {
            "text/plain": [
              "<Figure size 1500x1500 with 1 Axes>"
            ],
            "image/png": "[encoded data removed]"
          },
          "metadata": {}
        }
      ]
    },
    {
      "cell_type": "code",
      "source": [
        "import torch.nn as nn\n",
        "\n",
        "class Network(nn.Module):\n",
        "  def __init__(self):\n",
        "    super().__init__()\n",
        "    self.layer = None\n",
        "\n",
        "  def forward(self, t):\n",
        "    t = self.layer(t)\n",
        "    return t\n"
      ],
      "metadata": {
        "id": "MmowwoArMeJB"
      },
      "execution_count": null,
      "outputs": []
    },
    {
      "cell_type": "markdown",
      "source": [
        "# PyTorch Main (Let's start again)\n",
        "\n",
        "# Working with the dataset\n",
        "\n",
        "We will look at convolutional/image examples as they allow us to get a good intuition on axises and are more complex to work on just 1D data\n",
        "\n",
        "### A common nn pipeline looks like this:\n",
        "1. Prepare the data\n",
        "2. Build the model\n",
        "3. Train the model\n",
        "4. Analyze the model"
      ],
      "metadata": {
        "id": "UCxPe_JjNIHu"
      }
    },
    {
      "cell_type": "code",
      "source": [
        "import torch\n",
        "import torchvision # provide access to datasets, models, transforms, utils, etc\n",
        "import torchvision.transforms as transforms"
      ],
      "metadata": {
        "id": "EVZoqKFkNETn"
      },
      "execution_count": null,
      "outputs": []
    },
    {
      "cell_type": "code",
      "source": [
        "from torch.utils.data import Dataset\n",
        "\n",
        "# Dataset is there to be able to interact with DataLoader\n",
        "\n",
        "class MyDataset(Dataset):\n",
        "  def __init__(self):\n",
        "    self.data = (\n",
        "        \"This was an amazing product\",\n",
        "        \"This was the shittiest product possible\",\n",
        "        \"Amazing product, fast delivery\",\n",
        "        \"Had to sell my kidney to buy this, and now my life has changed\",\n",
        "        \"Good one!\",\n",
        "        \"Bad One!\"\n",
        "    )\n",
        "\n",
        "  def __getitem__(self, index):\n",
        "    return self.data[index]\n",
        "\n",
        "  def __len__(self):\n",
        "    return len(self.data)\n",
        "\n",
        "myData = MyDataset()\n",
        "\n",
        "for m in myData:\n",
        "  print(m)\n",
        "\n"
      ],
      "metadata": {
        "colab": {
          "base_uri": "https://localhost:8080/"
        },
        "id": "sMNSXCQZNMFw",
        "outputId": "a232852a-7889-4dc0-8e48-af669749fd9b"
      },
      "execution_count": null,
      "outputs": [
        {
          "output_type": "stream",
          "name": "stdout",
          "text": [
            "This was an amazing product\n",
            "This was the shittiest product possible\n",
            "Amazing product, fast delivery\n",
            "Had to sell my kidney to buy this, and now my life has changed\n",
            "Good one!\n",
            "Bad One!\n"
          ]
        }
      ]
    },
    {
      "cell_type": "code",
      "source": [
        "train_loader = torch.utils.data.DataLoader(myData, batch_size = 2, shuffle=True)"
      ],
      "metadata": {
        "id": "sojZi2qiNL0x"
      },
      "execution_count": null,
      "outputs": []
    },
    {
      "cell_type": "code",
      "source": [
        "for tr in train_loader:\n",
        "  print(tr)"
      ],
      "metadata": {
        "colab": {
          "base_uri": "https://localhost:8080/"
        },
        "id": "A8XMyaQ2Nf8n",
        "outputId": "ea0d11fb-ffb9-4916-ba68-e3dbb924016d"
      },
      "execution_count": null,
      "outputs": [
        {
          "output_type": "stream",
          "name": "stdout",
          "text": [
            "['Good one!', 'This was the shittiest product possible']\n",
            "['Bad One!', 'Amazing product, fast delivery']\n",
            "['This was an amazing product', 'Had to sell my kidney to buy this, and now my life has changed']\n"
          ]
        }
      ]
    },
    {
      "cell_type": "code",
      "source": [
        "train_set = torchvision.datasets.FashionMNIST(\n",
        "    root='./data',\n",
        "    train=True,\n",
        "    download=True,\n",
        "    transform = transforms.Compose([\n",
        "          transforms.ToTensor()\n",
        "    ])\n",
        ")"
      ],
      "metadata": {
        "id": "h1If-lviNgUX"
      },
      "execution_count": null,
      "outputs": []
    },
    {
      "cell_type": "code",
      "source": [
        "for f in train_set:\n",
        "  print(f)\n",
        "  break"
      ],
      "metadata": {
        "colab": {
          "base_uri": "https://localhost:8080/"
        },
        "id": "uRIEVNfpN3LD",
        "outputId": "0ff959bb-7268-4232-82e0-b3eb740cf7dc"
      },
      "execution_count": null,
      "outputs": [
        {
          "output_type": "stream",
          "name": "stdout",
          "text": [
            "(tensor([[[0.0000, 0.0000, 0.0000, 0.0000, 0.0000, 0.0000, 0.0000, 0.0000, 0.0000, 0.0000, 0.0000, 0.0000, 0.0000,\n",
            "          0.0000, 0.0000, 0.0000, 0.0000, 0.0000, 0.0000, 0.0000, 0.0000, 0.0000, 0.0000, 0.0000, 0.0000, 0.0000,\n",
            "          0.0000, 0.0000],\n",
            "         [0.0000, 0.0000, 0.0000, 0.0000, 0.0000, 0.0000, 0.0000, 0.0000, 0.0000, 0.0000, 0.0000, 0.0000, 0.0000,\n",
            "          0.0000, 0.0000, 0.0000, 0.0000, 0.0000, 0.0000, 0.0000, 0.0000, 0.0000, 0.0000, 0.0000, 0.0000, 0.0000,\n",
            "          0.0000, 0.0000],\n",
            "         [0.0000, 0.0000, 0.0000, 0.0000, 0.0000, 0.0000, 0.0000, 0.0000, 0.0000, 0.0000, 0.0000, 0.0000, 0.0000,\n",
            "          0.0000, 0.0000, 0.0000, 0.0000, 0.0000, 0.0000, 0.0000, 0.0000, 0.0000, 0.0000, 0.0000, 0.0000, 0.0000,\n",
            "          0.0000, 0.0000],\n",
            "         [0.0000, 0.0000, 0.0000, 0.0000, 0.0000, 0.0000, 0.0000, 0.0000, 0.0000, 0.0000, 0.0000, 0.0000, 0.0039,\n",
            "          0.0000, 0.0000, 0.0510, 0.2863, 0.0000, 0.0000, 0.0039, 0.0157, 0.0000, 0.0000, 0.0000, 0.0000, 0.0039,\n",
            "          0.0039, 0.0000],\n",
            "         [0.0000, 0.0000, 0.0000, 0.0000, 0.0000, 0.0000, 0.0000, 0.0000, 0.0000, 0.0000, 0.0000, 0.0000, 0.0118,\n",
            "          0.0000, 0.1412, 0.5333, 0.4980, 0.2431, 0.2118, 0.0000, 0.0000, 0.0000, 0.0039, 0.0118, 0.0157, 0.0000,\n",
            "          0.0000, 0.0118],\n",
            "         [0.0000, 0.0000, 0.0000, 0.0000, 0.0000, 0.0000, 0.0000, 0.0000, 0.0000, 0.0000, 0.0000, 0.0000, 0.0235,\n",
            "          0.0000, 0.4000, 0.8000, 0.6902, 0.5255, 0.5647, 0.4824, 0.0902, 0.0000, 0.0000, 0.0000, 0.0000, 0.0471,\n",
            "          0.0392, 0.0000],\n",
            "         [0.0000, 0.0000, 0.0000, 0.0000, 0.0000, 0.0000, 0.0000, 0.0000, 0.0000, 0.0000, 0.0000, 0.0000, 0.0000,\n",
            "          0.0000, 0.6078, 0.9255, 0.8118, 0.6980, 0.4196, 0.6118, 0.6314, 0.4275, 0.2510, 0.0902, 0.3020, 0.5098,\n",
            "          0.2824, 0.0588],\n",
            "         [0.0000, 0.0000, 0.0000, 0.0000, 0.0000, 0.0000, 0.0000, 0.0000, 0.0000, 0.0000, 0.0000, 0.0039, 0.0000,\n",
            "          0.2706, 0.8118, 0.8745, 0.8549, 0.8471, 0.8471, 0.6392, 0.4980, 0.4745, 0.4784, 0.5725, 0.5529, 0.3451,\n",
            "          0.6745, 0.2588],\n",
            "         [0.0000, 0.0000, 0.0000, 0.0000, 0.0000, 0.0000, 0.0000, 0.0000, 0.0000, 0.0039, 0.0039, 0.0039, 0.0000,\n",
            "          0.7843, 0.9098, 0.9098, 0.9137, 0.8980, 0.8745, 0.8745, 0.8431, 0.8353, 0.6431, 0.4980, 0.4824, 0.7686,\n",
            "          0.8980, 0.0000],\n",
            "         [0.0000, 0.0000, 0.0000, 0.0000, 0.0000, 0.0000, 0.0000, 0.0000, 0.0000, 0.0000, 0.0000, 0.0000, 0.0000,\n",
            "          0.7176, 0.8824, 0.8471, 0.8745, 0.8941, 0.9216, 0.8902, 0.8784, 0.8706, 0.8784, 0.8667, 0.8745, 0.9608,\n",
            "          0.6784, 0.0000],\n",
            "         [0.0000, 0.0000, 0.0000, 0.0000, 0.0000, 0.0000, 0.0000, 0.0000, 0.0000, 0.0000, 0.0000, 0.0000, 0.0000,\n",
            "          0.7569, 0.8941, 0.8549, 0.8353, 0.7765, 0.7059, 0.8314, 0.8235, 0.8275, 0.8353, 0.8745, 0.8627, 0.9529,\n",
            "          0.7922, 0.0000],\n",
            "         [0.0000, 0.0000, 0.0000, 0.0000, 0.0000, 0.0000, 0.0000, 0.0000, 0.0000, 0.0039, 0.0118, 0.0000, 0.0471,\n",
            "          0.8588, 0.8627, 0.8314, 0.8549, 0.7529, 0.6627, 0.8902, 0.8157, 0.8549, 0.8784, 0.8314, 0.8863, 0.7725,\n",
            "          0.8196, 0.2039],\n",
            "         [0.0000, 0.0000, 0.0000, 0.0000, 0.0000, 0.0000, 0.0000, 0.0000, 0.0000, 0.0000, 0.0235, 0.0000, 0.3882,\n",
            "          0.9569, 0.8706, 0.8627, 0.8549, 0.7961, 0.7765, 0.8667, 0.8431, 0.8353, 0.8706, 0.8627, 0.9608, 0.4667,\n",
            "          0.6549, 0.2196],\n",
            "         [0.0000, 0.0000, 0.0000, 0.0000, 0.0000, 0.0000, 0.0000, 0.0000, 0.0000, 0.0157, 0.0000, 0.0000, 0.2157,\n",
            "          0.9255, 0.8941, 0.9020, 0.8941, 0.9412, 0.9098, 0.8353, 0.8549, 0.8745, 0.9176, 0.8510, 0.8510, 0.8196,\n",
            "          0.3608, 0.0000],\n",
            "         [0.0000, 0.0000, 0.0039, 0.0157, 0.0235, 0.0275, 0.0078, 0.0000, 0.0000, 0.0000, 0.0000, 0.0000, 0.9294,\n",
            "          0.8863, 0.8510, 0.8745, 0.8706, 0.8588, 0.8706, 0.8667, 0.8471, 0.8745, 0.8980, 0.8431, 0.8549, 1.0000,\n",
            "          0.3020, 0.0000],\n",
            "         [0.0000, 0.0118, 0.0000, 0.0000, 0.0000, 0.0000, 0.0000, 0.0000, 0.0000, 0.2431, 0.5686, 0.8000, 0.8941,\n",
            "          0.8118, 0.8353, 0.8667, 0.8549, 0.8157, 0.8275, 0.8549, 0.8784, 0.8745, 0.8588, 0.8431, 0.8784, 0.9569,\n",
            "          0.6235, 0.0000],\n",
            "         [0.0000, 0.0000, 0.0000, 0.0000, 0.0706, 0.1725, 0.3216, 0.4196, 0.7412, 0.8941, 0.8627, 0.8706, 0.8510,\n",
            "          0.8863, 0.7843, 0.8039, 0.8275, 0.9020, 0.8784, 0.9176, 0.6902, 0.7373, 0.9804, 0.9725, 0.9137, 0.9333,\n",
            "          0.8431, 0.0000],\n",
            "         [0.0000, 0.2235, 0.7333, 0.8157, 0.8784, 0.8667, 0.8784, 0.8157, 0.8000, 0.8392, 0.8157, 0.8196, 0.7843,\n",
            "          0.6235, 0.9608, 0.7569, 0.8078, 0.8745, 1.0000, 1.0000, 0.8667, 0.9176, 0.8667, 0.8275, 0.8627, 0.9098,\n",
            "          0.9647, 0.0000],\n",
            "         [0.0118, 0.7922, 0.8941, 0.8784, 0.8667, 0.8275, 0.8275, 0.8392, 0.8039, 0.8039, 0.8039, 0.8627, 0.9412,\n",
            "          0.3137, 0.5882, 1.0000, 0.8980, 0.8667, 0.7373, 0.6039, 0.7490, 0.8235, 0.8000, 0.8196, 0.8706, 0.8941,\n",
            "          0.8824, 0.0000],\n",
            "         [0.3843, 0.9137, 0.7765, 0.8235, 0.8706, 0.8980, 0.8980, 0.9176, 0.9765, 0.8627, 0.7608, 0.8431, 0.8510,\n",
            "          0.9451, 0.2549, 0.2863, 0.4157, 0.4588, 0.6588, 0.8588, 0.8667, 0.8431, 0.8510, 0.8745, 0.8745, 0.8784,\n",
            "          0.8980, 0.1137],\n",
            "         [0.2941, 0.8000, 0.8314, 0.8000, 0.7569, 0.8039, 0.8275, 0.8824, 0.8471, 0.7255, 0.7725, 0.8078, 0.7765,\n",
            "          0.8353, 0.9412, 0.7647, 0.8902, 0.9608, 0.9373, 0.8745, 0.8549, 0.8314, 0.8196, 0.8706, 0.8627, 0.8667,\n",
            "          0.9020, 0.2627],\n",
            "         [0.1882, 0.7961, 0.7176, 0.7608, 0.8353, 0.7725, 0.7255, 0.7451, 0.7608, 0.7529, 0.7922, 0.8392, 0.8588,\n",
            "          0.8667, 0.8627, 0.9255, 0.8824, 0.8471, 0.7804, 0.8078, 0.7294, 0.7098, 0.6941, 0.6745, 0.7098, 0.8039,\n",
            "          0.8078, 0.4510],\n",
            "         [0.0000, 0.4784, 0.8588, 0.7569, 0.7020, 0.6706, 0.7176, 0.7686, 0.8000, 0.8235, 0.8353, 0.8118, 0.8275,\n",
            "          0.8235, 0.7843, 0.7686, 0.7608, 0.7490, 0.7647, 0.7490, 0.7765, 0.7529, 0.6902, 0.6118, 0.6549, 0.6941,\n",
            "          0.8235, 0.3608],\n",
            "         [0.0000, 0.0000, 0.2902, 0.7412, 0.8314, 0.7490, 0.6863, 0.6745, 0.6863, 0.7098, 0.7255, 0.7373, 0.7412,\n",
            "          0.7373, 0.7569, 0.7765, 0.8000, 0.8196, 0.8235, 0.8235, 0.8275, 0.7373, 0.7373, 0.7608, 0.7529, 0.8471,\n",
            "          0.6667, 0.0000],\n",
            "         [0.0078, 0.0000, 0.0000, 0.0000, 0.2588, 0.7843, 0.8706, 0.9294, 0.9373, 0.9490, 0.9647, 0.9529, 0.9569,\n",
            "          0.8667, 0.8627, 0.7569, 0.7490, 0.7020, 0.7137, 0.7137, 0.7098, 0.6902, 0.6510, 0.6588, 0.3882, 0.2275,\n",
            "          0.0000, 0.0000],\n",
            "         [0.0000, 0.0000, 0.0000, 0.0000, 0.0000, 0.0000, 0.0000, 0.1569, 0.2392, 0.1725, 0.2824, 0.1608, 0.1373,\n",
            "          0.0000, 0.0000, 0.0000, 0.0000, 0.0000, 0.0000, 0.0000, 0.0000, 0.0000, 0.0000, 0.0000, 0.0000, 0.0000,\n",
            "          0.0000, 0.0000],\n",
            "         [0.0000, 0.0000, 0.0000, 0.0000, 0.0000, 0.0000, 0.0000, 0.0000, 0.0000, 0.0000, 0.0000, 0.0000, 0.0000,\n",
            "          0.0000, 0.0000, 0.0000, 0.0000, 0.0000, 0.0000, 0.0000, 0.0000, 0.0000, 0.0000, 0.0000, 0.0000, 0.0000,\n",
            "          0.0000, 0.0000],\n",
            "         [0.0000, 0.0000, 0.0000, 0.0000, 0.0000, 0.0000, 0.0000, 0.0000, 0.0000, 0.0000, 0.0000, 0.0000, 0.0000,\n",
            "          0.0000, 0.0000, 0.0000, 0.0000, 0.0000, 0.0000, 0.0000, 0.0000, 0.0000, 0.0000, 0.0000, 0.0000, 0.0000,\n",
            "          0.0000, 0.0000]]]), 9)\n"
          ]
        }
      ]
    },
    {
      "cell_type": "code",
      "source": [
        "import numpy as np\n",
        "import matplotlib.pyplot as plt\n",
        "\n",
        "torch.set_printoptions(linewidth=120)\n",
        "\n",
        "len(train_set)"
      ],
      "metadata": {
        "colab": {
          "base_uri": "https://localhost:8080/"
        },
        "id": "2CyIZYHXN5DF",
        "outputId": "0192b31a-40a3-4f5d-afa9-34bd4d7a0a93"
      },
      "execution_count": null,
      "outputs": [
        {
          "output_type": "execute_result",
          "data": {
            "text/plain": [
              "60000"
            ]
          },
          "metadata": {},
          "execution_count": 363
        }
      ]
    },
    {
      "cell_type": "code",
      "source": [
        "dir(train_set)"
      ],
      "metadata": {
        "colab": {
          "base_uri": "https://localhost:8080/"
        },
        "id": "M79u8aG-N8g6",
        "outputId": "54234e2a-7880-45ae-fc3c-99ccfaf4a50c"
      },
      "execution_count": null,
      "outputs": [
        {
          "output_type": "execute_result",
          "data": {
            "text/plain": [
              "['__add__',\n",
              " '__annotations__',\n",
              " '__class__',\n",
              " '__class_getitem__',\n",
              " '__delattr__',\n",
              " '__dict__',\n",
              " '__dir__',\n",
              " '__doc__',\n",
              " '__eq__',\n",
              " '__format__',\n",
              " '__ge__',\n",
              " '__getattribute__',\n",
              " '__getitem__',\n",
              " '__getstate__',\n",
              " '__gt__',\n",
              " '__hash__',\n",
              " '__init__',\n",
              " '__init_subclass__',\n",
              " '__le__',\n",
              " '__len__',\n",
              " '__lt__',\n",
              " '__module__',\n",
              " '__ne__',\n",
              " '__new__',\n",
              " '__orig_bases__',\n",
              " '__parameters__',\n",
              " '__reduce__',\n",
              " '__reduce_ex__',\n",
              " '__repr__',\n",
              " '__setattr__',\n",
              " '__sizeof__',\n",
              " '__str__',\n",
              " '__subclasshook__',\n",
              " '__weakref__',\n",
              " '_check_exists',\n",
              " '_check_legacy_exist',\n",
              " '_format_transform_repr',\n",
              " '_load_data',\n",
              " '_load_legacy_data',\n",
              " '_repr_indent',\n",
              " 'class_to_idx',\n",
              " 'classes',\n",
              " 'data',\n",
              " 'download',\n",
              " 'extra_repr',\n",
              " 'mirrors',\n",
              " 'processed_folder',\n",
              " 'raw_folder',\n",
              " 'resources',\n",
              " 'root',\n",
              " 'target_transform',\n",
              " 'targets',\n",
              " 'test_data',\n",
              " 'test_file',\n",
              " 'test_labels',\n",
              " 'train',\n",
              " 'train_data',\n",
              " 'train_labels',\n",
              " 'training_file',\n",
              " 'transform',\n",
              " 'transforms']"
            ]
          },
          "metadata": {},
          "execution_count": 364
        }
      ]
    },
    {
      "cell_type": "code",
      "source": [
        "train_set.train_labels.bincount()"
      ],
      "metadata": {
        "colab": {
          "base_uri": "https://localhost:8080/"
        },
        "id": "y-POMECMN-OM",
        "outputId": "cdc61ffd-4804-4a39-9795-8bfef8c3e27e"
      },
      "execution_count": null,
      "outputs": [
        {
          "output_type": "execute_result",
          "data": {
            "text/plain": [
              "tensor([6000, 6000, 6000, 6000, 6000, 6000, 6000, 6000, 6000, 6000])"
            ]
          },
          "metadata": {},
          "execution_count": 365
        }
      ]
    },
    {
      "cell_type": "code",
      "source": [
        "sample = next(iter(train_set))\n",
        "sample"
      ],
      "metadata": {
        "colab": {
          "base_uri": "https://localhost:8080/"
        },
        "id": "F8BU1wMhOAcV",
        "outputId": "af4b7fe0-e23c-40f3-a7ed-ab2b92b06730"
      },
      "execution_count": null,
      "outputs": [
        {
          "output_type": "execute_result",
          "data": {
            "text/plain": [
              "(tensor([[[0.0000, 0.0000, 0.0000, 0.0000, 0.0000, 0.0000, 0.0000, 0.0000, 0.0000, 0.0000, 0.0000, 0.0000, 0.0000,\n",
              "           0.0000, 0.0000, 0.0000, 0.0000, 0.0000, 0.0000, 0.0000, 0.0000, 0.0000, 0.0000, 0.0000, 0.0000, 0.0000,\n",
              "           0.0000, 0.0000],\n",
              "          [0.0000, 0.0000, 0.0000, 0.0000, 0.0000, 0.0000, 0.0000, 0.0000, 0.0000, 0.0000, 0.0000, 0.0000, 0.0000,\n",
              "           0.0000, 0.0000, 0.0000, 0.0000, 0.0000, 0.0000, 0.0000, 0.0000, 0.0000, 0.0000, 0.0000, 0.0000, 0.0000,\n",
              "           0.0000, 0.0000],\n",
              "          [0.0000, 0.0000, 0.0000, 0.0000, 0.0000, 0.0000, 0.0000, 0.0000, 0.0000, 0.0000, 0.0000, 0.0000, 0.0000,\n",
              "           0.0000, 0.0000, 0.0000, 0.0000, 0.0000, 0.0000, 0.0000, 0.0000, 0.0000, 0.0000, 0.0000, 0.0000, 0.0000,\n",
              "           0.0000, 0.0000],\n",
              "          [0.0000, 0.0000, 0.0000, 0.0000, 0.0000, 0.0000, 0.0000, 0.0000, 0.0000, 0.0000, 0.0000, 0.0000, 0.0039,\n",
              "           0.0000, 0.0000, 0.0510, 0.2863, 0.0000, 0.0000, 0.0039, 0.0157, 0.0000, 0.0000, 0.0000, 0.0000, 0.0039,\n",
              "           0.0039, 0.0000],\n",
              "          [0.0000, 0.0000, 0.0000, 0.0000, 0.0000, 0.0000, 0.0000, 0.0000, 0.0000, 0.0000, 0.0000, 0.0000, 0.0118,\n",
              "           0.0000, 0.1412, 0.5333, 0.4980, 0.2431, 0.2118, 0.0000, 0.0000, 0.0000, 0.0039, 0.0118, 0.0157, 0.0000,\n",
              "           0.0000, 0.0118],\n",
              "          [0.0000, 0.0000, 0.0000, 0.0000, 0.0000, 0.0000, 0.0000, 0.0000, 0.0000, 0.0000, 0.0000, 0.0000, 0.0235,\n",
              "           0.0000, 0.4000, 0.8000, 0.6902, 0.5255, 0.5647, 0.4824, 0.0902, 0.0000, 0.0000, 0.0000, 0.0000, 0.0471,\n",
              "           0.0392, 0.0000],\n",
              "          [0.0000, 0.0000, 0.0000, 0.0000, 0.0000, 0.0000, 0.0000, 0.0000, 0.0000, 0.0000, 0.0000, 0.0000, 0.0000,\n",
              "           0.0000, 0.6078, 0.9255, 0.8118, 0.6980, 0.4196, 0.6118, 0.6314, 0.4275, 0.2510, 0.0902, 0.3020, 0.5098,\n",
              "           0.2824, 0.0588],\n",
              "          [0.0000, 0.0000, 0.0000, 0.0000, 0.0000, 0.0000, 0.0000, 0.0000, 0.0000, 0.0000, 0.0000, 0.0039, 0.0000,\n",
              "           0.2706, 0.8118, 0.8745, 0.8549, 0.8471, 0.8471, 0.6392, 0.4980, 0.4745, 0.4784, 0.5725, 0.5529, 0.3451,\n",
              "           0.6745, 0.2588],\n",
              "          [0.0000, 0.0000, 0.0000, 0.0000, 0.0000, 0.0000, 0.0000, 0.0000, 0.0000, 0.0039, 0.0039, 0.0039, 0.0000,\n",
              "           0.7843, 0.9098, 0.9098, 0.9137, 0.8980, 0.8745, 0.8745, 0.8431, 0.8353, 0.6431, 0.4980, 0.4824, 0.7686,\n",
              "           0.8980, 0.0000],\n",
              "          [0.0000, 0.0000, 0.0000, 0.0000, 0.0000, 0.0000, 0.0000, 0.0000, 0.0000, 0.0000, 0.0000, 0.0000, 0.0000,\n",
              "           0.7176, 0.8824, 0.8471, 0.8745, 0.8941, 0.9216, 0.8902, 0.8784, 0.8706, 0.8784, 0.8667, 0.8745, 0.9608,\n",
              "           0.6784, 0.0000],\n",
              "          [0.0000, 0.0000, 0.0000, 0.0000, 0.0000, 0.0000, 0.0000, 0.0000, 0.0000, 0.0000, 0.0000, 0.0000, 0.0000,\n",
              "           0.7569, 0.8941, 0.8549, 0.8353, 0.7765, 0.7059, 0.8314, 0.8235, 0.8275, 0.8353, 0.8745, 0.8627, 0.9529,\n",
              "           0.7922, 0.0000],\n",
              "          [0.0000, 0.0000, 0.0000, 0.0000, 0.0000, 0.0000, 0.0000, 0.0000, 0.0000, 0.0039, 0.0118, 0.0000, 0.0471,\n",
              "           0.8588, 0.8627, 0.8314, 0.8549, 0.7529, 0.6627, 0.8902, 0.8157, 0.8549, 0.8784, 0.8314, 0.8863, 0.7725,\n",
              "           0.8196, 0.2039],\n",
              "          [0.0000, 0.0000, 0.0000, 0.0000, 0.0000, 0.0000, 0.0000, 0.0000, 0.0000, 0.0000, 0.0235, 0.0000, 0.3882,\n",
              "           0.9569, 0.8706, 0.8627, 0.8549, 0.7961, 0.7765, 0.8667, 0.8431, 0.8353, 0.8706, 0.8627, 0.9608, 0.4667,\n",
              "           0.6549, 0.2196],\n",
              "          [0.0000, 0.0000, 0.0000, 0.0000, 0.0000, 0.0000, 0.0000, 0.0000, 0.0000, 0.0157, 0.0000, 0.0000, 0.2157,\n",
              "           0.9255, 0.8941, 0.9020, 0.8941, 0.9412, 0.9098, 0.8353, 0.8549, 0.8745, 0.9176, 0.8510, 0.8510, 0.8196,\n",
              "           0.3608, 0.0000],\n",
              "          [0.0000, 0.0000, 0.0039, 0.0157, 0.0235, 0.0275, 0.0078, 0.0000, 0.0000, 0.0000, 0.0000, 0.0000, 0.9294,\n",
              "           0.8863, 0.8510, 0.8745, 0.8706, 0.8588, 0.8706, 0.8667, 0.8471, 0.8745, 0.8980, 0.8431, 0.8549, 1.0000,\n",
              "           0.3020, 0.0000],\n",
              "          [0.0000, 0.0118, 0.0000, 0.0000, 0.0000, 0.0000, 0.0000, 0.0000, 0.0000, 0.2431, 0.5686, 0.8000, 0.8941,\n",
              "           0.8118, 0.8353, 0.8667, 0.8549, 0.8157, 0.8275, 0.8549, 0.8784, 0.8745, 0.8588, 0.8431, 0.8784, 0.9569,\n",
              "           0.6235, 0.0000],\n",
              "          [0.0000, 0.0000, 0.0000, 0.0000, 0.0706, 0.1725, 0.3216, 0.4196, 0.7412, 0.8941, 0.8627, 0.8706, 0.8510,\n",
              "           0.8863, 0.7843, 0.8039, 0.8275, 0.9020, 0.8784, 0.9176, 0.6902, 0.7373, 0.9804, 0.9725, 0.9137, 0.9333,\n",
              "           0.8431, 0.0000],\n",
              "          [0.0000, 0.2235, 0.7333, 0.8157, 0.8784, 0.8667, 0.8784, 0.8157, 0.8000, 0.8392, 0.8157, 0.8196, 0.7843,\n",
              "           0.6235, 0.9608, 0.7569, 0.8078, 0.8745, 1.0000, 1.0000, 0.8667, 0.9176, 0.8667, 0.8275, 0.8627, 0.9098,\n",
              "           0.9647, 0.0000],\n",
              "          [0.0118, 0.7922, 0.8941, 0.8784, 0.8667, 0.8275, 0.8275, 0.8392, 0.8039, 0.8039, 0.8039, 0.8627, 0.9412,\n",
              "           0.3137, 0.5882, 1.0000, 0.8980, 0.8667, 0.7373, 0.6039, 0.7490, 0.8235, 0.8000, 0.8196, 0.8706, 0.8941,\n",
              "           0.8824, 0.0000],\n",
              "          [0.3843, 0.9137, 0.7765, 0.8235, 0.8706, 0.8980, 0.8980, 0.9176, 0.9765, 0.8627, 0.7608, 0.8431, 0.8510,\n",
              "           0.9451, 0.2549, 0.2863, 0.4157, 0.4588, 0.6588, 0.8588, 0.8667, 0.8431, 0.8510, 0.8745, 0.8745, 0.8784,\n",
              "           0.8980, 0.1137],\n",
              "          [0.2941, 0.8000, 0.8314, 0.8000, 0.7569, 0.8039, 0.8275, 0.8824, 0.8471, 0.7255, 0.7725, 0.8078, 0.7765,\n",
              "           0.8353, 0.9412, 0.7647, 0.8902, 0.9608, 0.9373, 0.8745, 0.8549, 0.8314, 0.8196, 0.8706, 0.8627, 0.8667,\n",
              "           0.9020, 0.2627],\n",
              "          [0.1882, 0.7961, 0.7176, 0.7608, 0.8353, 0.7725, 0.7255, 0.7451, 0.7608, 0.7529, 0.7922, 0.8392, 0.8588,\n",
              "           0.8667, 0.8627, 0.9255, 0.8824, 0.8471, 0.7804, 0.8078, 0.7294, 0.7098, 0.6941, 0.6745, 0.7098, 0.8039,\n",
              "           0.8078, 0.4510],\n",
              "          [0.0000, 0.4784, 0.8588, 0.7569, 0.7020, 0.6706, 0.7176, 0.7686, 0.8000, 0.8235, 0.8353, 0.8118, 0.8275,\n",
              "           0.8235, 0.7843, 0.7686, 0.7608, 0.7490, 0.7647, 0.7490, 0.7765, 0.7529, 0.6902, 0.6118, 0.6549, 0.6941,\n",
              "           0.8235, 0.3608],\n",
              "          [0.0000, 0.0000, 0.2902, 0.7412, 0.8314, 0.7490, 0.6863, 0.6745, 0.6863, 0.7098, 0.7255, 0.7373, 0.7412,\n",
              "           0.7373, 0.7569, 0.7765, 0.8000, 0.8196, 0.8235, 0.8235, 0.8275, 0.7373, 0.7373, 0.7608, 0.7529, 0.8471,\n",
              "           0.6667, 0.0000],\n",
              "          [0.0078, 0.0000, 0.0000, 0.0000, 0.2588, 0.7843, 0.8706, 0.9294, 0.9373, 0.9490, 0.9647, 0.9529, 0.9569,\n",
              "           0.8667, 0.8627, 0.7569, 0.7490, 0.7020, 0.7137, 0.7137, 0.7098, 0.6902, 0.6510, 0.6588, 0.3882, 0.2275,\n",
              "           0.0000, 0.0000],\n",
              "          [0.0000, 0.0000, 0.0000, 0.0000, 0.0000, 0.0000, 0.0000, 0.1569, 0.2392, 0.1725, 0.2824, 0.1608, 0.1373,\n",
              "           0.0000, 0.0000, 0.0000, 0.0000, 0.0000, 0.0000, 0.0000, 0.0000, 0.0000, 0.0000, 0.0000, 0.0000, 0.0000,\n",
              "           0.0000, 0.0000],\n",
              "          [0.0000, 0.0000, 0.0000, 0.0000, 0.0000, 0.0000, 0.0000, 0.0000, 0.0000, 0.0000, 0.0000, 0.0000, 0.0000,\n",
              "           0.0000, 0.0000, 0.0000, 0.0000, 0.0000, 0.0000, 0.0000, 0.0000, 0.0000, 0.0000, 0.0000, 0.0000, 0.0000,\n",
              "           0.0000, 0.0000],\n",
              "          [0.0000, 0.0000, 0.0000, 0.0000, 0.0000, 0.0000, 0.0000, 0.0000, 0.0000, 0.0000, 0.0000, 0.0000, 0.0000,\n",
              "           0.0000, 0.0000, 0.0000, 0.0000, 0.0000, 0.0000, 0.0000, 0.0000, 0.0000, 0.0000, 0.0000, 0.0000, 0.0000,\n",
              "           0.0000, 0.0000]]]),\n",
              " 9)"
            ]
          },
          "metadata": {},
          "execution_count": 366
        }
      ]
    },
    {
      "cell_type": "code",
      "source": [
        "image, label = sample\n",
        "image.size()"
      ],
      "metadata": {
        "colab": {
          "base_uri": "https://localhost:8080/"
        },
        "id": "D1g7s9AYOBW1",
        "outputId": "fbe589dd-e942-4482-ea91-df6cbe4c4937"
      },
      "execution_count": null,
      "outputs": [
        {
          "output_type": "execute_result",
          "data": {
            "text/plain": [
              "torch.Size([1, 28, 28])"
            ]
          },
          "metadata": {},
          "execution_count": 367
        }
      ]
    },
    {
      "cell_type": "code",
      "source": [
        "plt.imshow(image.squeeze(), cmap='gray')\n",
        "print('label:', label)"
      ],
      "metadata": {
        "colab": {
          "base_uri": "https://localhost:8080/",
          "height": 448
        },
        "id": "XDbF61ymODvp",
        "outputId": "4ddd2874-7534-42be-9ee6-c6a899dd420e"
      },
      "execution_count": null,
      "outputs": [
        {
          "output_type": "stream",
          "name": "stdout",
          "text": [
            "label: 9\n"
          ]
        },
        {
          "output_type": "display_data",
          "data": {
            "text/plain": [
              "<Figure size 640x480 with 1 Axes>"
            ],
            "image/png": "[encoded data removed]"
          },
          "metadata": {}
        }
      ]
    },
    {
      "cell_type": "code",
      "source": [
        "train_loader = torch.utils.data.DataLoader(\n",
        "    train_set,\n",
        "    batch_size = 32,\n",
        "    shuffle=True\n",
        ")"
      ],
      "metadata": {
        "id": "dcj8hu74OGa0"
      },
      "execution_count": null,
      "outputs": []
    },
    {
      "cell_type": "code",
      "source": [
        "for tl in train_loader:\n",
        "  print(len(tl[0]))\n",
        "  print(tl[1])\n",
        "  break"
      ],
      "metadata": {
        "colab": {
          "base_uri": "https://localhost:8080/"
        },
        "id": "VyoyVOiKOIqd",
        "outputId": "18309257-c668-4fc0-a6e7-4ed13e01d058"
      },
      "execution_count": null,
      "outputs": [
        {
          "output_type": "stream",
          "name": "stdout",
          "text": [
            "32\n",
            "tensor([3, 1, 1, 2, 9, 9, 8, 9, 3, 7, 7, 2, 9, 9, 9, 3, 8, 2, 5, 4, 6, 5, 3, 0, 8, 0, 4, 4, 1, 6, 8, 2])\n"
          ]
        }
      ]
    },
    {
      "cell_type": "code",
      "source": [
        "batch = next(iter(train_loader))\n",
        "batch"
      ],
      "metadata": {
        "colab": {
          "base_uri": "https://localhost:8080/"
        },
        "id": "32MMAMsqOJxQ",
        "outputId": "21e0f039-875c-414f-9dd7-dfcdf6f93c8a"
      },
      "execution_count": null,
      "outputs": [
        {
          "output_type": "execute_result",
          "data": {
            "text/plain": [
              "[tensor([[[[0.0000, 0.0000, 0.0000,  ..., 0.0000, 0.0000, 0.0000],\n",
              "           [0.0000, 0.0000, 0.0000,  ..., 0.0000, 0.0000, 0.0000],\n",
              "           [0.0000, 0.0000, 0.0000,  ..., 0.0000, 0.0000, 0.0000],\n",
              "           ...,\n",
              "           [0.0000, 0.8510, 0.8314,  ..., 0.4627, 0.9725, 0.3490],\n",
              "           [0.0000, 0.6667, 0.8157,  ..., 0.7569, 0.9020, 0.1686],\n",
              "           [0.0000, 0.0000, 0.0000,  ..., 0.0000, 0.0000, 0.0000]]],\n",
              " \n",
              " \n",
              "         [[[0.0000, 0.0000, 0.0000,  ..., 0.0000, 0.0000, 0.0000],\n",
              "           [0.0000, 0.0000, 0.0000,  ..., 0.0000, 0.0000, 0.0000],\n",
              "           [0.0000, 0.0000, 0.0000,  ..., 0.0000, 0.0000, 0.0000],\n",
              "           ...,\n",
              "           [0.0000, 0.0000, 0.0000,  ..., 0.3725, 0.0000, 0.0000],\n",
              "           [0.0000, 0.0000, 0.0000,  ..., 0.0000, 0.0000, 0.0000],\n",
              "           [0.0000, 0.0000, 0.0000,  ..., 0.0000, 0.0000, 0.0000]]],\n",
              " \n",
              " \n",
              "         [[[0.0000, 0.0000, 0.0000,  ..., 0.0000, 0.0000, 0.0000],\n",
              "           [0.0000, 0.0000, 0.0000,  ..., 0.0000, 0.0000, 0.0000],\n",
              "           [0.0000, 0.0000, 0.0000,  ..., 0.0000, 0.0000, 0.0000],\n",
              "           ...,\n",
              "           [0.0000, 0.0000, 0.0000,  ..., 0.0000, 0.0000, 0.0000],\n",
              "           [0.0000, 0.0000, 0.0000,  ..., 0.0000, 0.0000, 0.0000],\n",
              "           [0.0000, 0.0000, 0.0000,  ..., 0.0000, 0.0000, 0.0000]]],\n",
              " \n",
              " \n",
              "         ...,\n",
              " \n",
              " \n",
              "         [[[0.0000, 0.0000, 0.0000,  ..., 0.0000, 0.0000, 0.0000],\n",
              "           [0.0000, 0.0000, 0.0000,  ..., 0.0000, 0.0000, 0.0000],\n",
              "           [0.0000, 0.0000, 0.0000,  ..., 0.0000, 0.0000, 0.0000],\n",
              "           ...,\n",
              "           [0.0000, 0.0000, 0.0000,  ..., 0.0000, 0.0000, 0.0000],\n",
              "           [0.0000, 0.0000, 0.0000,  ..., 0.0000, 0.0000, 0.0000],\n",
              "           [0.0000, 0.0000, 0.0000,  ..., 0.0000, 0.0000, 0.0000]]],\n",
              " \n",
              " \n",
              "         [[[0.0000, 0.0000, 0.0000,  ..., 0.0000, 0.0000, 0.0000],\n",
              "           [0.0000, 0.0000, 0.0000,  ..., 0.0000, 0.0000, 0.0000],\n",
              "           [0.0000, 0.0000, 0.0000,  ..., 0.0000, 0.0000, 0.0000],\n",
              "           ...,\n",
              "           [0.0000, 0.0000, 0.0000,  ..., 0.0000, 0.0000, 0.0000],\n",
              "           [0.0000, 0.0000, 0.0000,  ..., 0.0000, 0.0000, 0.0000],\n",
              "           [0.0000, 0.0000, 0.0000,  ..., 0.0000, 0.0000, 0.0000]]],\n",
              " \n",
              " \n",
              "         [[[0.0000, 0.0000, 0.0000,  ..., 0.0000, 0.0000, 0.0000],\n",
              "           [0.0000, 0.0000, 0.0000,  ..., 0.0000, 0.0000, 0.0000],\n",
              "           [0.0000, 0.0000, 0.0000,  ..., 0.0000, 0.0000, 0.0000],\n",
              "           ...,\n",
              "           [0.0000, 0.0000, 0.0000,  ..., 0.0000, 0.0000, 0.0000],\n",
              "           [0.0000, 0.0000, 0.0000,  ..., 0.0000, 0.0000, 0.0000],\n",
              "           [0.0000, 0.0000, 0.0000,  ..., 0.0000, 0.0000, 0.0000]]]]),\n",
              " tensor([8, 2, 1, 3, 3, 8, 1, 7, 3, 9, 7, 5, 4, 8, 8, 7, 7, 2, 3, 8, 3, 2, 8, 0, 6, 0, 2, 7, 9, 4, 3, 3])]"
            ]
          },
          "metadata": {},
          "execution_count": 371
        }
      ]
    },
    {
      "cell_type": "code",
      "source": [
        "images, labels = batch\n",
        "\n",
        "images.shape, labels.shape"
      ],
      "metadata": {
        "colab": {
          "base_uri": "https://localhost:8080/"
        },
        "id": "3szn2gWkOMMZ",
        "outputId": "75e2204f-9946-4ec7-9b65-dd83423152ff"
      },
      "execution_count": null,
      "outputs": [
        {
          "output_type": "execute_result",
          "data": {
            "text/plain": [
              "(torch.Size([32, 1, 28, 28]), torch.Size([32]))"
            ]
          },
          "metadata": {},
          "execution_count": 372
        }
      ]
    },
    {
      "cell_type": "code",
      "source": [
        "grid = torchvision.utils.make_grid(images, nrow=10)\n",
        "plt.figure(figsize=(15,15))\n",
        "plt.imshow(np.transpose(grid, (1,2,0)))\n",
        "print('labels:', labels)"
      ],
      "metadata": {
        "colab": {
          "base_uri": "https://localhost:8080/",
          "height": 551
        },
        "id": "wUNDU2N9OOSD",
        "outputId": "2fc42157-7c29-4c19-9e44-4fc14db07613"
      },
      "execution_count": null,
      "outputs": [
        {
          "output_type": "stream",
          "name": "stdout",
          "text": [
            "labels: tensor([8, 2, 1, 3, 3, 8, 1, 7, 3, 9, 7, 5, 4, 8, 8, 7, 7, 2, 3, 8, 3, 2, 8, 0, 6, 0, 2, 7, 9, 4, 3, 3])\n"
          ]
        },
        {
          "output_type": "display_data",
          "data": {
            "text/plain": [
              "<Figure size 1500x1500 with 1 Axes>"
            ],
            "image/png": "[encoded data removed]"
          },
          "metadata": {}
        }
      ]
    },
    {
      "cell_type": "code",
      "source": [
        "import torch.nn as nn\n",
        "\n",
        "class Network(nn.Module):\n",
        "  def __init__(self):\n",
        "    super().__init__()\n",
        "    self.layer = None\n",
        "\n",
        "  def forward(self, t):\n",
        "    t = self.layer(t)\n",
        "    return t"
      ],
      "metadata": {
        "id": "R2T7Un74OPH8"
      },
      "execution_count": null,
      "outputs": []
    },
    {
      "cell_type": "code",
      "source": [
        "class Network(nn.Module):\n",
        "  def __init__(self):\n",
        "    super().__init__()\n",
        "\n",
        "# 9x9 convolved by 3x3> 7x7... 7x7 by 3x3.. 5x5\n",
        "# 9x9 convolved by 5x5 > 5x5\n",
        "\n",
        "    # input 28 # output 24 # receptive_field = 5\n",
        "    self.conv1 = nn.Conv2d(in_channels=1, out_channels=6, kernel_size=5)\n",
        "    # input 24 # output 20 # receptive_field = 9\n",
        "    self.conv2 = nn.Conv2d(in_channels=6, out_channels=12, kernel_size=5)\n",
        "    # output > 20x20x12\n",
        "    # input 12x20x20, output 120\n",
        "    # input 10*512\n",
        "    self.fc1 = nn.Linear(in_features=12*20*20, out_features=120)\n",
        "    self.fc2 = nn.Linear(in_features=120, out_features=60)\n",
        "    self.out = nn.Linear(in_features=60, out_features=10)\n",
        "\n",
        "  def forward(self, t): # empty\n",
        "    return t\n"
      ],
      "metadata": {
        "id": "1FL_KFixORMJ"
      },
      "execution_count": null,
      "outputs": []
    },
    {
      "cell_type": "code",
      "source": [
        "network = Network()\n",
        "\n",
        "print(network)"
      ],
      "metadata": {
        "colab": {
          "base_uri": "https://localhost:8080/"
        },
        "id": "yX9oQhXfPqZT",
        "outputId": "67503422-5369-41e5-a128-f1ebe2c16c78"
      },
      "execution_count": null,
      "outputs": [
        {
          "output_type": "stream",
          "name": "stdout",
          "text": [
            "Network(\n",
            "  (conv1): Conv2d(1, 6, kernel_size=(5, 5), stride=(1, 1))\n",
            "  (conv2): Conv2d(6, 12, kernel_size=(5, 5), stride=(1, 1))\n",
            "  (fc1): Linear(in_features=4800, out_features=120, bias=True)\n",
            "  (fc2): Linear(in_features=120, out_features=60, bias=True)\n",
            "  (out): Linear(in_features=60, out_features=10, bias=True)\n",
            ")\n"
          ]
        }
      ]
    },
    {
      "cell_type": "code",
      "source": [
        "network.fc2"
      ],
      "metadata": {
        "colab": {
          "base_uri": "https://localhost:8080/"
        },
        "id": "B1btb9joQ8KX",
        "outputId": "1f65bf97-b973-4c6c-dfcf-c08f6d1d758e"
      },
      "execution_count": null,
      "outputs": [
        {
          "output_type": "execute_result",
          "data": {
            "text/plain": [
              "Linear(in_features=120, out_features=60, bias=True)"
            ]
          },
          "metadata": {},
          "execution_count": 377
        }
      ]
    },
    {
      "cell_type": "code",
      "source": [
        "dir(network.fc2)"
      ],
      "metadata": {
        "colab": {
          "base_uri": "https://localhost:8080/"
        },
        "id": "9cKT4NqoQ-V9",
        "outputId": "d90e7dca-16f5-4f2b-fe2c-e137b5ef357a"
      },
      "execution_count": null,
      "outputs": [
        {
          "output_type": "execute_result",
          "data": {
            "text/plain": [
              "['T_destination',\n",
              " '__annotations__',\n",
              " '__call__',\n",
              " '__class__',\n",
              " '__constants__',\n",
              " '__delattr__',\n",
              " '__dict__',\n",
              " '__dir__',\n",
              " '__doc__',\n",
              " '__eq__',\n",
              " '__format__',\n",
              " '__ge__',\n",
              " '__getattr__',\n",
              " '__getattribute__',\n",
              " '__getstate__',\n",
              " '__gt__',\n",
              " '__hash__',\n",
              " '__init__',\n",
              " '__init_subclass__',\n",
              " '__le__',\n",
              " '__lt__',\n",
              " '__module__',\n",
              " '__ne__',\n",
              " '__new__',\n",
              " '__reduce__',\n",
              " '__reduce_ex__',\n",
              " '__repr__',\n",
              " '__setattr__',\n",
              " '__setstate__',\n",
              " '__sizeof__',\n",
              " '__str__',\n",
              " '__subclasshook__',\n",
              " '__weakref__',\n",
              " '_apply',\n",
              " '_backward_hooks',\n",
              " '_backward_pre_hooks',\n",
              " '_buffers',\n",
              " '_call_impl',\n",
              " '_compiled_call_impl',\n",
              " '_forward_hooks',\n",
              " '_forward_hooks_always_called',\n",
              " '_forward_hooks_with_kwargs',\n",
              " '_forward_pre_hooks',\n",
              " '_forward_pre_hooks_with_kwargs',\n",
              " '_get_backward_hooks',\n",
              " '_get_backward_pre_hooks',\n",
              " '_get_name',\n",
              " '_is_full_backward_hook',\n",
              " '_load_from_state_dict',\n",
              " '_load_state_dict_post_hooks',\n",
              " '_load_state_dict_pre_hooks',\n",
              " '_maybe_warn_non_full_backward_hook',\n",
              " '_modules',\n",
              " '_named_members',\n",
              " '_non_persistent_buffers_set',\n",
              " '_parameters',\n",
              " '_register_load_state_dict_pre_hook',\n",
              " '_register_state_dict_hook',\n",
              " '_replicate_for_data_parallel',\n",
              " '_save_to_state_dict',\n",
              " '_slow_forward',\n",
              " '_state_dict_hooks',\n",
              " '_state_dict_pre_hooks',\n",
              " '_version',\n",
              " '_wrapped_call_impl',\n",
              " 'add_module',\n",
              " 'apply',\n",
              " 'bfloat16',\n",
              " 'bias',\n",
              " 'buffers',\n",
              " 'call_super_init',\n",
              " 'children',\n",
              " 'compile',\n",
              " 'cpu',\n",
              " 'cuda',\n",
              " 'double',\n",
              " 'dump_patches',\n",
              " 'eval',\n",
              " 'extra_repr',\n",
              " 'float',\n",
              " 'forward',\n",
              " 'get_buffer',\n",
              " 'get_extra_state',\n",
              " 'get_parameter',\n",
              " 'get_submodule',\n",
              " 'half',\n",
              " 'in_features',\n",
              " 'ipu',\n",
              " 'load_state_dict',\n",
              " 'modules',\n",
              " 'mtia',\n",
              " 'named_buffers',\n",
              " 'named_children',\n",
              " 'named_modules',\n",
              " 'named_parameters',\n",
              " 'out_features',\n",
              " 'parameters',\n",
              " 'register_backward_hook',\n",
              " 'register_buffer',\n",
              " 'register_forward_hook',\n",
              " 'register_forward_pre_hook',\n",
              " 'register_full_backward_hook',\n",
              " 'register_full_backward_pre_hook',\n",
              " 'register_load_state_dict_post_hook',\n",
              " 'register_load_state_dict_pre_hook',\n",
              " 'register_module',\n",
              " 'register_parameter',\n",
              " 'register_state_dict_post_hook',\n",
              " 'register_state_dict_pre_hook',\n",
              " 'requires_grad_',\n",
              " 'reset_parameters',\n",
              " 'set_extra_state',\n",
              " 'set_submodule',\n",
              " 'share_memory',\n",
              " 'state_dict',\n",
              " 'to',\n",
              " 'to_empty',\n",
              " 'train',\n",
              " 'training',\n",
              " 'type',\n",
              " 'weight',\n",
              " 'xpu',\n",
              " 'zero_grad']"
            ]
          },
          "metadata": {},
          "execution_count": 378
        }
      ]
    },
    {
      "cell_type": "code",
      "source": [
        "network.fc2.weight"
      ],
      "metadata": {
        "colab": {
          "base_uri": "https://localhost:8080/"
        },
        "id": "sQsXW2cXRCSy",
        "outputId": "c3df6303-f341-4e70-979d-b714ac0f1c1e"
      },
      "execution_count": null,
      "outputs": [
        {
          "output_type": "execute_result",
          "data": {
            "text/plain": [
              "Parameter containing:\n",
              "tensor([[ 0.0151, -0.0688, -0.0237,  ...,  0.0068,  0.0858,  0.0911],\n",
              "        [ 0.0409,  0.0670, -0.0749,  ..., -0.0537,  0.0575,  0.0134],\n",
              "        [ 0.0559,  0.0433, -0.0207,  ...,  0.0016, -0.0051,  0.0825],\n",
              "        ...,\n",
              "        [ 0.0789, -0.0199,  0.0842,  ..., -0.0579, -0.0720,  0.0036],\n",
              "        [-0.0042, -0.0697,  0.0278,  ..., -0.0174,  0.0652,  0.0784],\n",
              "        [-0.0480,  0.0104, -0.0678,  ..., -0.0849,  0.0353,  0.0896]], requires_grad=True)"
            ]
          },
          "metadata": {},
          "execution_count": 379
        }
      ]
    },
    {
      "cell_type": "code",
      "source": [
        "network.fc2.weight.shape"
      ],
      "metadata": {
        "colab": {
          "base_uri": "https://localhost:8080/"
        },
        "id": "PpYGQUTTRFjX",
        "outputId": "cbb49d43-5db0-4592-c85f-b239decdd4b8"
      },
      "execution_count": null,
      "outputs": [
        {
          "output_type": "execute_result",
          "data": {
            "text/plain": [
              "torch.Size([60, 120])"
            ]
          },
          "metadata": {},
          "execution_count": 380
        }
      ]
    },
    {
      "cell_type": "code",
      "source": [
        "class Network(nn.Module):\n",
        "  def __init__(self):\n",
        "    super().__init__()\n",
        "    self.conv1 = nn.Conv2d(in_channels=1, out_channels=6, kernel_size=5)\n",
        "    self.conv2 = nn.Conv2d(in_channels=6, out_channels=12, kernel_size=5)\n",
        "    self.fc1 = nn.Linear(in_features=12*20*20, out_features=120)\n",
        "    self.fc2 = nn.Linear(in_features=120, out_features=60)\n",
        "    self.out = nn.Linear(in_features=60, out_features=10)\n",
        "\n",
        "  def forward(self, t):\n",
        "    # TODO implement this\n",
        "    return t\n",
        "\n",
        "network = Network()\n",
        "\n",
        "for name, param in network.named_parameters():\n",
        "  print(name, '\\t\\t', param.shape)"
      ],
      "metadata": {
        "colab": {
          "base_uri": "https://localhost:8080/"
        },
        "id": "_oOYfwm2RHJ2",
        "outputId": "46e6f20c-bcb1-4338-a8c7-512c59e166f1"
      },
      "execution_count": null,
      "outputs": [
        {
          "output_type": "stream",
          "name": "stdout",
          "text": [
            "conv1.weight \t\t torch.Size([6, 1, 5, 5])\n",
            "conv1.bias \t\t torch.Size([6])\n",
            "conv2.weight \t\t torch.Size([12, 6, 5, 5])\n",
            "conv2.bias \t\t torch.Size([12])\n",
            "fc1.weight \t\t torch.Size([120, 4800])\n",
            "fc1.bias \t\t torch.Size([120])\n",
            "fc2.weight \t\t torch.Size([60, 120])\n",
            "fc2.bias \t\t torch.Size([60])\n",
            "out.weight \t\t torch.Size([10, 60])\n",
            "out.bias \t\t torch.Size([10])\n"
          ]
        }
      ]
    },
    {
      "cell_type": "code",
      "source": [
        "import torch.nn.functional as F"
      ],
      "metadata": {
        "id": "6vyGLyDORN6R"
      },
      "execution_count": null,
      "outputs": []
    },
    {
      "cell_type": "code",
      "source": [
        "\n",
        "class Network(nn.Module):\n",
        "  def __init__(self):\n",
        "    super().__init__()\n",
        "    self.conv1 = nn.Conv2d(in_channels=1, out_channels=6, kernel_size=5)\n",
        "    self.conv2 = nn.Conv2d(in_channels=6, out_channels=12, kernel_size=5)\n",
        "\n",
        "    self.fc1 = nn.Linear(in_features=12 * 4 * 4, out_features=120)\n",
        "    self.fc2 = nn.Linear(in_features=120, out_features=60)\n",
        "    self.out = nn.Linear(in_features=60, out_features=10) # 600 parameters of size 60x10. Input 60 inputs.\n",
        "\n",
        "  def forward(self, t):\n",
        "    # input layer\n",
        "    x = t\n",
        "    # conv1 layer\n",
        "    x = self.conv1(x) # 1x28x28 > 6x24x24\n",
        "    x = F.relu(x) # 6x24x24 > 6x24x24\n",
        "    x = F.max_pool2d(x, kernel_size=2, stride=2) # 6x24x24 > 6x12x12\n",
        "    # conv2 layer\n",
        "    x = self.conv2(x) # 6x12x12 > 12x8x8\n",
        "    x = F.relu(x) # no change\n",
        "    x = F.max_pool2d(x, kernel_size=2, stride=2) #  12x8x8 > 12x4x4\n",
        "    # reshapre\n",
        "    x = x.reshape(-1, 12 * 4 * 4)\n",
        "    # fc1 layer\n",
        "    x = self.fc1(x) # 192 > 120\n",
        "    x = F.relu(x)\n",
        "    # fc2 layer\n",
        "    x = self.fc2(x) # 120 > 10\n",
        "    x = F.relu(x)\n",
        "    # output layer\n",
        "    x = self.out(x)\n",
        "    # x = F.softmax(x, dim=1)\n",
        "    return x"
      ],
      "metadata": {
        "id": "wBKqmQRrRR59"
      },
      "execution_count": null,
      "outputs": []
    },
    {
      "cell_type": "code",
      "source": [
        "torch.set_grad_enabled(False)"
      ],
      "metadata": {
        "colab": {
          "base_uri": "https://localhost:8080/"
        },
        "id": "QLAdBtpDTyHX",
        "outputId": "e5a2c0a4-503e-4e53-ec77-68e39c397309"
      },
      "execution_count": null,
      "outputs": [
        {
          "output_type": "execute_result",
          "data": {
            "text/plain": [
              "torch.autograd.grad_mode.set_grad_enabled(mode=False)"
            ]
          },
          "metadata": {},
          "execution_count": 384
        }
      ]
    },
    {
      "cell_type": "code",
      "source": [
        "sample = next(iter(train_set))\n",
        "image, label = sample\n",
        "image.shape, image.unsqueeze(0).shape\n"
      ],
      "metadata": {
        "colab": {
          "base_uri": "https://localhost:8080/"
        },
        "id": "wYgfYxPDT0UX",
        "outputId": "aa9faf65-b323-4794-9112-c25d23ccfb3a"
      },
      "execution_count": null,
      "outputs": [
        {
          "output_type": "execute_result",
          "data": {
            "text/plain": [
              "(torch.Size([1, 28, 28]), torch.Size([1, 1, 28, 28]))"
            ]
          },
          "metadata": {},
          "execution_count": 385
        }
      ]
    },
    {
      "cell_type": "code",
      "source": [
        "network = Network()"
      ],
      "metadata": {
        "id": "GHbxThdDT4Jt"
      },
      "execution_count": null,
      "outputs": []
    },
    {
      "cell_type": "code",
      "source": [
        "pred = network(image) # this is modern PyTorch"
      ],
      "metadata": {
        "id": "Bp2gSvLWT5J5"
      },
      "execution_count": null,
      "outputs": []
    },
    {
      "cell_type": "code",
      "source": [
        "pred = network(image.unsqueeze(0))  # this is old PyTorch"
      ],
      "metadata": {
        "id": "AM-NubwGT6nr"
      },
      "execution_count": null,
      "outputs": []
    },
    {
      "cell_type": "code",
      "source": [
        "pred, label # [0,0,0,0,0,0,0,0,0,1]"
      ],
      "metadata": {
        "colab": {
          "base_uri": "https://localhost:8080/"
        },
        "id": "mtNoozIoUFSx",
        "outputId": "27978bbe-6e81-40cb-85fd-59d93b82e748"
      },
      "execution_count": null,
      "outputs": [
        {
          "output_type": "execute_result",
          "data": {
            "text/plain": [
              "(tensor([[ 0.0223, -0.0666, -0.0505,  0.0961, -0.0165, -0.0270,  0.0857, -0.1290, -0.0116,  0.0305]]),\n",
              " 9)"
            ]
          },
          "metadata": {},
          "execution_count": 389
        }
      ]
    },
    {
      "cell_type": "code",
      "source": [
        "pred, pred.shape, label"
      ],
      "metadata": {
        "colab": {
          "base_uri": "https://localhost:8080/"
        },
        "id": "sSTlnTSqULUI",
        "outputId": "7c3fa7ef-1906-473e-9fdb-e04aecefa49c"
      },
      "execution_count": null,
      "outputs": [
        {
          "output_type": "execute_result",
          "data": {
            "text/plain": [
              "(tensor([[ 0.0223, -0.0666, -0.0505,  0.0961, -0.0165, -0.0270,  0.0857, -0.1290, -0.0116,  0.0305]]),\n",
              " torch.Size([1, 10]),\n",
              " 9)"
            ]
          },
          "metadata": {},
          "execution_count": 390
        }
      ]
    },
    {
      "cell_type": "code",
      "source": [
        "pred.argmax(dim=1) # this time its 6 and 9"
      ],
      "metadata": {
        "colab": {
          "base_uri": "https://localhost:8080/"
        },
        "id": "4iOxg9I7Ucl5",
        "outputId": "5215d2b8-ab2d-45d1-84bc-9dd81ab8db73"
      },
      "execution_count": null,
      "outputs": [
        {
          "output_type": "execute_result",
          "data": {
            "text/plain": [
              "tensor([3])"
            ]
          },
          "metadata": {},
          "execution_count": 391
        }
      ]
    },
    {
      "cell_type": "code",
      "source": [
        "F.softmax(pred, dim=1)"
      ],
      "metadata": {
        "colab": {
          "base_uri": "https://localhost:8080/"
        },
        "id": "UGzzFpjrUfxj",
        "outputId": "c505d3f7-0587-46b6-dfc4-60f68cda98e7"
      },
      "execution_count": null,
      "outputs": [
        {
          "output_type": "execute_result",
          "data": {
            "text/plain": [
              "tensor([[0.1027, 0.0940, 0.0955, 0.1106, 0.0988, 0.0978, 0.1094, 0.0883, 0.0993, 0.1036]])"
            ]
          },
          "metadata": {},
          "execution_count": 392
        }
      ]
    },
    {
      "cell_type": "markdown",
      "source": [
        "# SOFTMAX"
      ],
      "metadata": {
        "id": "buCmiVDOWP4d"
      }
    },
    {
      "cell_type": "code",
      "source": [
        "import torch\n",
        "import torch.nn.functional as F\n",
        "import matplotlib.pyplot as plt\n",
        "\n",
        "# Input values\n",
        "x = torch.tensor([4., 3., 2., 1.])\n",
        "\n",
        "# Apply softmax\n",
        "softmax_vals = F.softmax(x, dim=0)\n",
        "\n",
        "# Labels rounded for display\n",
        "labels = [f\"{val.item():.2f}\" for val in x]\n",
        "\n",
        "plt.figure(figsize=(8,5))\n",
        "\n",
        "# Original values\n",
        "plt.bar([i-0.2 for i in range(len(x))], x, width=0.4, label=\"Original values\", alpha=0.7)\n",
        "\n",
        "# Softmax probabilities\n",
        "plt.bar([i+0.2 for i in range(len(x))], softmax_vals, width=0.4, label=\"Softmax probabilities\", alpha=0.7)\n",
        "\n",
        "# Fix x-axis ticks\n",
        "plt.xticks(range(len(x)), labels)\n",
        "plt.ylabel(\"Value / Probability\")\n",
        "plt.title(\"Softmax: Exponential Effect on Input Values\")\n",
        "plt.legend()\n",
        "plt.show()\n"
      ],
      "metadata": {
        "colab": {
          "base_uri": "https://localhost:8080/",
          "height": 468
        },
        "id": "-8XbcBgkUjyG",
        "outputId": "b86faae5-0d3b-4a06-ddc7-63e0e9f8fedd"
      },
      "execution_count": null,
      "outputs": [
        {
          "output_type": "display_data",
          "data": {
            "text/plain": [
              "<Figure size 800x500 with 1 Axes>"
            ],
            "image/png": "[encoded data removed]"
          },
          "metadata": {}
        }
      ]
    },
    {
      "cell_type": "code",
      "source": [
        "import torch\n",
        "import torch.nn.functional as F\n",
        "import matplotlib.pyplot as plt\n",
        "\n",
        "# Input values\n",
        "x = torch.tensor([0.4, 0.3, 0.2, 0.1])\n",
        "\n",
        "# Apply softmax\n",
        "softmax_vals = F.softmax(x, dim=0)\n",
        "\n",
        "# Labels rounded for display\n",
        "labels = [f\"{val.item():.2f}\" for val in x]\n",
        "\n",
        "plt.figure(figsize=(8,5))\n",
        "\n",
        "# Original values\n",
        "plt.bar([i-0.2 for i in range(len(x))], x, width=0.4, label=\"Original values\", alpha=0.7)\n",
        "\n",
        "# Softmax probabilities\n",
        "plt.bar([i+0.2 for i in range(len(x))], softmax_vals, width=0.4, label=\"Softmax probabilities\", alpha=0.7)\n",
        "\n",
        "# Fix x-axis ticks\n",
        "plt.xticks(range(len(x)), labels)\n",
        "plt.ylabel(\"Value / Probability\")\n",
        "plt.title(\"Softmax: Exponential Effect on Input Values\")\n",
        "plt.legend()\n",
        "plt.show()\n"
      ],
      "metadata": {
        "colab": {
          "base_uri": "https://localhost:8080/",
          "height": 468
        },
        "id": "ftqy6iDmWQ6v",
        "outputId": "4057e2ae-2895-49b0-8e0f-3653441b96c8"
      },
      "execution_count": null,
      "outputs": [
        {
          "output_type": "display_data",
          "data": {
            "text/plain": [
              "<Figure size 800x500 with 1 Axes>"
            ],
            "image/png": "[encoded data removed]"
          },
          "metadata": {}
        }
      ]
    },
    {
      "cell_type": "code",
      "source": [
        "F.softmax(pred, dim=1).sum()"
      ],
      "metadata": {
        "colab": {
          "base_uri": "https://localhost:8080/"
        },
        "id": "TgzzZ8xVWZma",
        "outputId": "fc4e4bde-6e0a-46bd-8771-2fd50cc564a5"
      },
      "execution_count": null,
      "outputs": [
        {
          "output_type": "execute_result",
          "data": {
            "text/plain": [
              "tensor(1.0000)"
            ]
          },
          "metadata": {},
          "execution_count": 395
        }
      ]
    },
    {
      "cell_type": "code",
      "source": [
        "data_loader = torch.utils.data.DataLoader(\n",
        "    train_set,\n",
        "    batch_size=10\n",
        ")"
      ],
      "metadata": {
        "id": "cpEFJS9AW5Ah"
      },
      "execution_count": null,
      "outputs": []
    },
    {
      "cell_type": "code",
      "source": [
        "batch = next(iter(data_loader))\n",
        "len(batch[0])"
      ],
      "metadata": {
        "colab": {
          "base_uri": "https://localhost:8080/"
        },
        "id": "L0e98yOiW7m2",
        "outputId": "d24045d3-df08-47b6-a70c-48449145c112"
      },
      "execution_count": null,
      "outputs": [
        {
          "output_type": "execute_result",
          "data": {
            "text/plain": [
              "10"
            ]
          },
          "metadata": {},
          "execution_count": 398
        }
      ]
    },
    {
      "cell_type": "code",
      "source": [
        "images, labels = batch\n",
        "\n",
        "preds = network(images)\n",
        "preds.shape"
      ],
      "metadata": {
        "colab": {
          "base_uri": "https://localhost:8080/"
        },
        "id": "ohvSSCHvW9AU",
        "outputId": "7cc7a066-2e06-4dca-da0b-e39bd664dd16"
      },
      "execution_count": null,
      "outputs": [
        {
          "output_type": "execute_result",
          "data": {
            "text/plain": [
              "torch.Size([10, 10])"
            ]
          },
          "metadata": {},
          "execution_count": 399
        }
      ]
    },
    {
      "cell_type": "code",
      "source": [
        "preds"
      ],
      "metadata": {
        "colab": {
          "base_uri": "https://localhost:8080/"
        },
        "id": "kBrIrJCJW-Hy",
        "outputId": "db8bd9ca-13e7-4873-8f45-dde3b3d74b80"
      },
      "execution_count": null,
      "outputs": [
        {
          "output_type": "execute_result",
          "data": {
            "text/plain": [
              "tensor([[ 0.0223, -0.0666, -0.0505,  0.0961, -0.0165, -0.0270,  0.0857, -0.1290, -0.0116,  0.0305],\n",
              "        [ 0.0202, -0.0609, -0.0554,  0.1109, -0.0124, -0.0231,  0.0796, -0.1257, -0.0116,  0.0268],\n",
              "        [ 0.0149, -0.0726, -0.0467,  0.1042, -0.0233, -0.0260,  0.0887, -0.1303, -0.0005,  0.0165],\n",
              "        [ 0.0144, -0.0699, -0.0507,  0.1071, -0.0197, -0.0266,  0.0849, -0.1309, -0.0063,  0.0196],\n",
              "        [ 0.0200, -0.0604, -0.0564,  0.1054, -0.0151, -0.0243,  0.0851, -0.1280, -0.0053,  0.0251],\n",
              "        [ 0.0151, -0.0635, -0.0569,  0.1088, -0.0155, -0.0215,  0.0798, -0.1290, -0.0166,  0.0305],\n",
              "        [ 0.0230, -0.0688, -0.0466,  0.0991, -0.0216, -0.0287,  0.0891, -0.1265, -0.0049,  0.0196],\n",
              "        [ 0.0241, -0.0602, -0.0540,  0.1075, -0.0128, -0.0296,  0.0762, -0.1249, -0.0163,  0.0298],\n",
              "        [ 0.0177, -0.0717, -0.0489,  0.1015, -0.0234, -0.0291,  0.0844, -0.1255, -0.0099,  0.0212],\n",
              "        [ 0.0169, -0.0674, -0.0494,  0.1019, -0.0160, -0.0313,  0.0793, -0.1197, -0.0160,  0.0257]])"
            ]
          },
          "metadata": {},
          "execution_count": 400
        }
      ]
    },
    {
      "cell_type": "code",
      "source": [
        "preds.argmax(dim=1)"
      ],
      "metadata": {
        "colab": {
          "base_uri": "https://localhost:8080/"
        },
        "id": "5XfD48gLXIbe",
        "outputId": "85a0e376-300a-4343-f526-acf80d0da78f"
      },
      "execution_count": null,
      "outputs": [
        {
          "output_type": "execute_result",
          "data": {
            "text/plain": [
              "tensor([3, 3, 3, 3, 3, 3, 3, 3, 3, 3])"
            ]
          },
          "metadata": {},
          "execution_count": 401
        }
      ]
    },
    {
      "cell_type": "code",
      "source": [
        "labels"
      ],
      "metadata": {
        "colab": {
          "base_uri": "https://localhost:8080/"
        },
        "id": "QJRXaquwXm63",
        "outputId": "fa401246-2f0b-492e-e7b1-db5767879908"
      },
      "execution_count": null,
      "outputs": [
        {
          "output_type": "execute_result",
          "data": {
            "text/plain": [
              "tensor([9, 0, 0, 3, 0, 2, 7, 2, 5, 5])"
            ]
          },
          "metadata": {},
          "execution_count": 402
        }
      ]
    },
    {
      "cell_type": "code",
      "source": [
        "preds.argmax(dim=1).eq(labels)"
      ],
      "metadata": {
        "colab": {
          "base_uri": "https://localhost:8080/"
        },
        "id": "mEUq5lc7XLP-",
        "outputId": "330841c4-8ff3-4d22-ca4c-7a6b11607ae9"
      },
      "execution_count": null,
      "outputs": [
        {
          "output_type": "execute_result",
          "data": {
            "text/plain": [
              "tensor([False, False, False,  True, False, False, False, False, False, False])"
            ]
          },
          "metadata": {},
          "execution_count": 403
        }
      ]
    },
    {
      "cell_type": "code",
      "source": [
        "def get_num_correct(preds, labels):\n",
        "  return preds.argmax(dim=1).eq(labels).sum().item()"
      ],
      "metadata": {
        "id": "UHLnOO3tXPkj"
      },
      "execution_count": null,
      "outputs": []
    },
    {
      "cell_type": "code",
      "source": [
        "get_num_correct(preds, labels)"
      ],
      "metadata": {
        "colab": {
          "base_uri": "https://localhost:8080/"
        },
        "id": "961k3q-LXThQ",
        "outputId": "fd44e988-7a56-46e4-c425-90662270390f"
      },
      "execution_count": null,
      "outputs": [
        {
          "output_type": "execute_result",
          "data": {
            "text/plain": [
              "1"
            ]
          },
          "metadata": {},
          "execution_count": 405
        }
      ]
    },
    {
      "cell_type": "code",
      "source": [
        "import torch.optim as optim\n",
        "\n",
        "torch.set_grad_enabled(True)"
      ],
      "metadata": {
        "colab": {
          "base_uri": "https://localhost:8080/"
        },
        "id": "Ep-1SirJXUuP",
        "outputId": "a1f87065-3f75-445e-91d3-de49f8f1d7b2"
      },
      "execution_count": null,
      "outputs": [
        {
          "output_type": "execute_result",
          "data": {
            "text/plain": [
              "torch.autograd.grad_mode.set_grad_enabled(mode=True)"
            ]
          },
          "metadata": {},
          "execution_count": 406
        }
      ]
    },
    {
      "cell_type": "code",
      "source": [
        "preds = network(images)\n",
        "loss = F.cross_entropy(preds, labels) # [0.1, 0.2, 0.4] - [0, 0, 1] | (0-0.1)**2 + (0-0.2)**2 + (1-0.4)**2 = LOSS????\n",
        "loss.item()"
      ],
      "metadata": {
        "colab": {
          "base_uri": "https://localhost:8080/"
        },
        "id": "wxUt9MgBXrd_",
        "outputId": "09e3173e-258e-48d0-b2a6-742096a33aa2"
      },
      "execution_count": null,
      "outputs": [
        {
          "output_type": "execute_result",
          "data": {
            "text/plain": [
              "2.3084120750427246"
            ]
          },
          "metadata": {},
          "execution_count": 407
        }
      ]
    },
    {
      "cell_type": "code",
      "source": [
        "import math\n",
        "\n",
        "# Natural logarithm (base e)\n",
        "log_e = math.log(1/10)\n",
        "\n",
        "print(\"ln(1/10):\", log_e)\n"
      ],
      "metadata": {
        "colab": {
          "base_uri": "https://localhost:8080/"
        },
        "id": "DM7yR61NYE4B",
        "outputId": "7b8711cb-93e2-40d6-9a6c-21b54e5aede3"
      },
      "execution_count": null,
      "outputs": [
        {
          "output_type": "stream",
          "name": "stdout",
          "text": [
            "ln(1/10): -2.3025850929940455\n"
          ]
        }
      ]
    },
    {
      "cell_type": "code",
      "source": [
        "print(network.conv1.weight.grad)"
      ],
      "metadata": {
        "colab": {
          "base_uri": "https://localhost:8080/"
        },
        "id": "puRLJ423YSlR",
        "outputId": "3de11e59-9456-47b1-e181-ef8fda36623a"
      },
      "execution_count": null,
      "outputs": [
        {
          "output_type": "stream",
          "name": "stdout",
          "text": [
            "None\n"
          ]
        }
      ]
    },
    {
      "cell_type": "code",
      "source": [
        "loss.backward()"
      ],
      "metadata": {
        "id": "g7X8u-NjZ4HW"
      },
      "execution_count": null,
      "outputs": []
    },
    {
      "cell_type": "code",
      "source": [
        "print(network.conv1.weight.grad)"
      ],
      "metadata": {
        "colab": {
          "base_uri": "https://localhost:8080/"
        },
        "id": "pCtw8yAhZ9LO",
        "outputId": "5ffd26ec-9549-428b-f0a3-df54e4e6c699"
      },
      "execution_count": null,
      "outputs": [
        {
          "output_type": "stream",
          "name": "stdout",
          "text": [
            "tensor([[[[ 1.3545e-03,  1.5295e-03,  1.1314e-03,  1.8189e-03,  4.5581e-04],\n",
            "          [ 1.4580e-03,  1.5326e-03,  1.4376e-03,  1.6899e-03,  5.9977e-04],\n",
            "          [ 9.7094e-04,  1.6627e-03,  1.2516e-03,  1.7925e-03,  6.3765e-04],\n",
            "          [ 7.8804e-04,  8.4871e-04,  1.0887e-03, -4.3329e-04, -8.4219e-04],\n",
            "          [-8.2564e-04, -3.6109e-04, -3.5515e-05, -1.8086e-03,  2.3263e-04]]],\n",
            "\n",
            "\n",
            "        [[[-8.0685e-04, -4.9831e-04,  9.4664e-05, -1.0997e-03, -7.2695e-04],\n",
            "          [-1.4374e-03, -2.4725e-03, -2.3240e-03, -2.4298e-03, -6.0340e-04],\n",
            "          [-2.2535e-03, -3.8971e-03, -2.1539e-03, -2.1442e-03, -9.9541e-04],\n",
            "          [-1.3588e-03, -3.2609e-03, -1.6292e-03, -1.7975e-03, -8.5210e-04],\n",
            "          [-1.6229e-03, -3.4294e-03, -1.6466e-03, -7.3468e-04, -8.9126e-04]]],\n",
            "\n",
            "\n",
            "        [[[-2.1145e-03, -1.9396e-03, -3.1466e-04,  6.5562e-06,  2.3529e-04],\n",
            "          [ 6.9045e-05, -5.3039e-04, -2.0902e-04,  7.0894e-04, -3.3405e-04],\n",
            "          [ 2.5620e-04, -9.5928e-04,  5.5651e-05,  4.9320e-04, -8.0806e-04],\n",
            "          [-1.5011e-03, -7.0854e-04,  3.6970e-04, -9.4619e-05, -3.2014e-04],\n",
            "          [-9.4768e-05,  5.3404e-04,  8.2897e-04,  1.3125e-03,  2.7977e-04]]],\n",
            "\n",
            "\n",
            "        [[[ 4.7758e-03,  3.6584e-03,  4.0971e-03,  3.5754e-03,  2.0604e-03],\n",
            "          [ 2.8275e-03,  4.0205e-03,  5.2654e-03,  4.6394e-03,  2.0592e-03],\n",
            "          [ 2.1175e-03,  3.0651e-03,  4.1493e-03,  1.7766e-03,  1.9221e-03],\n",
            "          [ 2.2988e-03,  2.4466e-03,  3.2346e-03,  1.2601e-03,  2.3582e-03],\n",
            "          [ 2.8699e-03,  2.7864e-03,  3.5151e-03,  2.6237e-03,  2.0270e-03]]],\n",
            "\n",
            "\n",
            "        [[[-1.9083e-04, -3.3970e-04, -2.5408e-04, -2.8770e-04, -2.1624e-04],\n",
            "          [ 3.4688e-05,  1.9130e-05,  1.6194e-05, -1.4979e-05, -3.6546e-04],\n",
            "          [-6.9516e-06,  1.9012e-05,  2.8170e-05,  1.1173e-06, -1.8886e-04],\n",
            "          [-2.1609e-07,  7.1450e-05,  6.2709e-05,  3.0352e-05, -2.2158e-05],\n",
            "          [ 0.0000e+00,  1.4795e-05,  7.4576e-06,  1.5367e-05,  5.4277e-06]]],\n",
            "\n",
            "\n",
            "        [[[-1.6941e-03,  8.0778e-05,  1.2545e-03,  4.3615e-04, -2.2277e-04],\n",
            "          [-5.3059e-04,  6.5241e-04,  1.1604e-03,  4.2128e-04,  1.4787e-03],\n",
            "          [-3.6039e-04,  1.6146e-04,  4.0633e-04,  8.2266e-04,  1.0983e-03],\n",
            "          [-2.7703e-04, -2.9553e-04,  1.3530e-03,  1.3555e-03,  1.4008e-03],\n",
            "          [ 5.3697e-06,  4.6778e-04,  1.3053e-03,  9.1719e-04,  1.8548e-03]]]])\n"
          ]
        }
      ]
    },
    {
      "cell_type": "code",
      "source": [
        "kernel_3x3 = network.conv1.weight[1, 0].detach().cpu()\n",
        "kernel_3x3"
      ],
      "metadata": {
        "colab": {
          "base_uri": "https://localhost:8080/"
        },
        "id": "C7fi8RsEZ_Fx",
        "outputId": "a040ba2a-8a80-4672-9369-5e2c407c00b9"
      },
      "execution_count": null,
      "outputs": [
        {
          "output_type": "execute_result",
          "data": {
            "text/plain": [
              "tensor([[-0.1945,  0.1803, -0.1296,  0.1403,  0.0017],\n",
              "        [-0.1089,  0.0657,  0.0660, -0.1739, -0.0413],\n",
              "        [-0.1543,  0.0291,  0.1485,  0.0823, -0.0485],\n",
              "        [-0.1182, -0.1634, -0.1097,  0.0189,  0.0411],\n",
              "        [-0.0694,  0.1641,  0.0312,  0.0552,  0.1103]])"
            ]
          },
          "metadata": {},
          "execution_count": 412
        }
      ]
    },
    {
      "cell_type": "code",
      "source": [
        "kernel_3x3_grad = network.conv1.weight.grad[1, 0].detach().cpu()\n",
        "kernel_3x3_grad"
      ],
      "metadata": {
        "id": "5yZutDLNaJf6",
        "colab": {
          "base_uri": "https://localhost:8080/"
        },
        "outputId": "3d02f9b2-ae42-42c5-9d9b-082402e64528"
      },
      "execution_count": null,
      "outputs": [
        {
          "output_type": "execute_result",
          "data": {
            "text/plain": [
              "tensor([[-8.0685e-04, -4.9831e-04,  9.4664e-05, -1.0997e-03, -7.2695e-04],\n",
              "        [-1.4374e-03, -2.4725e-03, -2.3240e-03, -2.4298e-03, -6.0340e-04],\n",
              "        [-2.2535e-03, -3.8971e-03, -2.1539e-03, -2.1442e-03, -9.9541e-04],\n",
              "        [-1.3588e-03, -3.2609e-03, -1.6292e-03, -1.7975e-03, -8.5210e-04],\n",
              "        [-1.6229e-03, -3.4294e-03, -1.6466e-03, -7.3468e-04, -8.9126e-04]])"
            ]
          },
          "metadata": {},
          "execution_count": 413
        }
      ]
    },
    {
      "cell_type": "code",
      "source": [
        "print(network.conv1.weight.grad.shape)"
      ],
      "metadata": {
        "colab": {
          "base_uri": "https://localhost:8080/"
        },
        "id": "h9FDQcpjb819",
        "outputId": "d306f2b2-3d21-4441-db61-ad8c55957554"
      },
      "execution_count": null,
      "outputs": [
        {
          "output_type": "stream",
          "name": "stdout",
          "text": [
            "torch.Size([6, 1, 5, 5])\n"
          ]
        }
      ]
    },
    {
      "cell_type": "code",
      "source": [
        "optimizer = optim.Adam(network.parameters(), lr = 0.01)"
      ],
      "metadata": {
        "id": "V5gqTVxqcBDp"
      },
      "execution_count": null,
      "outputs": []
    },
    {
      "cell_type": "code",
      "source": [
        "optimizer.step()"
      ],
      "metadata": {
        "id": "x3RgNtHycKs0"
      },
      "execution_count": null,
      "outputs": []
    },
    {
      "cell_type": "code",
      "source": [
        "kernel_3x3 = network.conv1.weight[1, 0].detach().cpu()\n",
        "kernel_3x3"
      ],
      "metadata": {
        "colab": {
          "base_uri": "https://localhost:8080/"
        },
        "id": "q68vvGTtcFFk",
        "outputId": "02ba2be1-65ab-4799-cbd3-beccca450f11"
      },
      "execution_count": null,
      "outputs": [
        {
          "output_type": "execute_result",
          "data": {
            "text/plain": [
              "tensor([[-0.1845,  0.1903, -0.1396,  0.1503,  0.0117],\n",
              "        [-0.0989,  0.0757,  0.0760, -0.1639, -0.0313],\n",
              "        [-0.1443,  0.0391,  0.1585,  0.0923, -0.0385],\n",
              "        [-0.1082, -0.1534, -0.0997,  0.0289,  0.0511],\n",
              "        [-0.0594,  0.1741,  0.0412,  0.0652,  0.1203]])"
            ]
          },
          "metadata": {},
          "execution_count": 418
        }
      ]
    },
    {
      "cell_type": "code",
      "source": [
        "preds = network(images)\n",
        "loss = F.cross_entropy(preds, labels)\n",
        "loss.item(), get_num_correct(preds, labels)"
      ],
      "metadata": {
        "colab": {
          "base_uri": "https://localhost:8080/"
        },
        "id": "KcD_xsqScIIL",
        "outputId": "6cbf4a36-859c-4a1f-f656-03afe6f51dab"
      },
      "execution_count": null,
      "outputs": [
        {
          "output_type": "execute_result",
          "data": {
            "text/plain": [
              "(2.197584629058838, 3)"
            ]
          },
          "metadata": {},
          "execution_count": 419
        }
      ]
    },
    {
      "cell_type": "code",
      "source": [
        "loss.backward()\n",
        "optimizer.step()\n",
        "preds = network(images)\n",
        "loss = F.cross_entropy(preds, labels)\n",
        "loss.item(), get_num_correct(preds, labels)"
      ],
      "metadata": {
        "colab": {
          "base_uri": "https://localhost:8080/"
        },
        "id": "SYohkBXJc5u8",
        "outputId": "657cdb0e-6e0d-4ef8-cc15-9228597fa13a"
      },
      "execution_count": null,
      "outputs": [
        {
          "output_type": "execute_result",
          "data": {
            "text/plain": [
              "(1.8673896789550781, 3)"
            ]
          },
          "metadata": {},
          "execution_count": 420
        }
      ]
    },
    {
      "cell_type": "code",
      "source": [
        "loss.backward()\n",
        "optimizer.step()\n",
        "preds = network(images)\n",
        "loss = F.cross_entropy(preds, labels)\n",
        "loss.item(), get_num_correct(preds, labels)"
      ],
      "metadata": {
        "colab": {
          "base_uri": "https://localhost:8080/"
        },
        "id": "StJeWg16c-nD",
        "outputId": "6be7f018-201b-45a4-97e8-dc26386118dc"
      },
      "execution_count": null,
      "outputs": [
        {
          "output_type": "execute_result",
          "data": {
            "text/plain": [
              "(2.3483903408050537, 3)"
            ]
          },
          "metadata": {},
          "execution_count": 421
        }
      ]
    },
    {
      "cell_type": "code",
      "source": [
        "loss.backward()\n",
        "optimizer.step()\n",
        "preds = network(images)\n",
        "loss = F.cross_entropy(preds, labels)\n",
        "loss.item(), get_num_correct(preds, labels)"
      ],
      "metadata": {
        "colab": {
          "base_uri": "https://localhost:8080/"
        },
        "id": "fgZ9yjUMdAAh",
        "outputId": "45fa447f-1db7-4cfc-daca-60fce499a93a"
      },
      "execution_count": null,
      "outputs": [
        {
          "output_type": "execute_result",
          "data": {
            "text/plain": [
              "(1.9001448154449463, 2)"
            ]
          },
          "metadata": {},
          "execution_count": 422
        }
      ]
    },
    {
      "cell_type": "code",
      "source": [
        "loss.backward()\n",
        "optimizer.zero_grad()\n",
        "optimizer.step()\n",
        "preds = network(images)\n",
        "loss = F.cross_entropy(preds, labels)\n",
        "loss.item(), get_num_correct(preds, labels)"
      ],
      "metadata": {
        "colab": {
          "base_uri": "https://localhost:8080/"
        },
        "id": "JFxKfHBbdB-Q",
        "outputId": "a702ec52-9023-4d8d-c0b1-fd5d423c007d"
      },
      "execution_count": null,
      "outputs": [
        {
          "output_type": "execute_result",
          "data": {
            "text/plain": [
              "(1.9001448154449463, 2)"
            ]
          },
          "metadata": {},
          "execution_count": 423
        }
      ]
    },
    {
      "cell_type": "code",
      "source": [
        "loss.backward()\n",
        "optimizer.zero_grad()\n",
        "optimizer.step()\n",
        "preds = network(images)\n",
        "loss = F.cross_entropy(preds, labels)\n",
        "loss.item(), get_num_correct(preds, labels)"
      ],
      "metadata": {
        "colab": {
          "base_uri": "https://localhost:8080/"
        },
        "id": "ESA7hBsRdDPF",
        "outputId": "6db43496-d4f9-47eb-daa0-233da260d32f"
      },
      "execution_count": null,
      "outputs": [
        {
          "output_type": "execute_result",
          "data": {
            "text/plain": [
              "(1.9001448154449463, 2)"
            ]
          },
          "metadata": {},
          "execution_count": 424
        }
      ]
    },
    {
      "cell_type": "code",
      "source": [
        "loss.backward()\n",
        "optimizer.zero_grad()\n",
        "optimizer.step()\n",
        "preds = network(images)\n",
        "loss = F.cross_entropy(preds, labels)\n",
        "loss.item(), get_num_correct(preds, labels)"
      ],
      "metadata": {
        "colab": {
          "base_uri": "https://localhost:8080/"
        },
        "id": "BA40xCUbdEFs",
        "outputId": "ad77168a-de4c-44ee-c968-be51cfcfaa84"
      },
      "execution_count": null,
      "outputs": [
        {
          "output_type": "execute_result",
          "data": {
            "text/plain": [
              "(1.9001448154449463, 2)"
            ]
          },
          "metadata": {},
          "execution_count": 425
        }
      ]
    },
    {
      "cell_type": "code",
      "source": [
        "loss.backward()\n",
        "optimizer.zero_grad()\n",
        "optimizer.step()\n",
        "preds = network(images)\n",
        "loss = F.cross_entropy(preds, labels)\n",
        "loss.item(), get_num_correct(preds, labels)"
      ],
      "metadata": {
        "colab": {
          "base_uri": "https://localhost:8080/"
        },
        "id": "U1QWUmzAdFNI",
        "outputId": "1c3db16c-ae73-4cd1-a785-8bfa1ce574f9"
      },
      "execution_count": null,
      "outputs": [
        {
          "output_type": "execute_result",
          "data": {
            "text/plain": [
              "(1.9001448154449463, 2)"
            ]
          },
          "metadata": {},
          "execution_count": 426
        }
      ]
    },
    {
      "cell_type": "code",
      "source": [
        "loss.backward()\n",
        "optimizer.zero_grad()\n",
        "optimizer.step()\n",
        "preds = network(images)\n",
        "loss = F.cross_entropy(preds, labels)\n",
        "loss.item(), get_num_correct(preds, labels)"
      ],
      "metadata": {
        "colab": {
          "base_uri": "https://localhost:8080/"
        },
        "id": "pxBIKZ3VdGRf",
        "outputId": "f453dffe-0b8a-4f0d-8403-0ff913587372"
      },
      "execution_count": null,
      "outputs": [
        {
          "output_type": "execute_result",
          "data": {
            "text/plain": [
              "(1.9001448154449463, 2)"
            ]
          },
          "metadata": {},
          "execution_count": 427
        }
      ]
    },
    {
      "cell_type": "code",
      "source": [
        "network = Network()\n",
        "\n",
        "train_loader = torch.utils.data.DataLoader(train_set, batch_size=100)\n",
        "optimizer = optim.Adam(network.parameters(), lr=0.001)\n",
        "\n",
        "batch = next(iter(train_loader)) # Get Batch\n",
        "images, labels = batch\n",
        "\n",
        "preds = network(images) # Pass Batch\n",
        "loss = F.cross_entropy(preds, labels) # Calculate Loss\n",
        "\n",
        "loss.backward() # Calculate Gradients\n",
        "optimizer.step() # Update Weights\n",
        "\n",
        "print('loss1:', loss.item())\n",
        "preds = network(images)\n",
        "loss = F.cross_entropy(preds, labels)\n",
        "print('loss2:', loss.item())"
      ],
      "metadata": {
        "colab": {
          "base_uri": "https://localhost:8080/"
        },
        "id": "JH2g8KkadH5y",
        "outputId": "2111faae-b897-490e-ee28-68f63a16ff21"
      },
      "execution_count": null,
      "outputs": [
        {
          "output_type": "stream",
          "name": "stdout",
          "text": [
            "loss1: 2.318859815597534\n",
            "loss2: 2.315828323364258\n"
          ]
        }
      ]
    },
    {
      "cell_type": "code",
      "source": [
        "torch.set_grad_enabled(False)\n",
        "torch.set_grad_enabled(True)"
      ],
      "metadata": {
        "colab": {
          "base_uri": "https://localhost:8080/"
        },
        "id": "BTvtlPqTdQqg",
        "outputId": "e437a30c-7c88-4c0d-c6bb-2b6d064c34ef"
      },
      "execution_count": null,
      "outputs": [
        {
          "output_type": "execute_result",
          "data": {
            "text/plain": [
              "torch.autograd.grad_mode.set_grad_enabled(mode=True)"
            ]
          },
          "metadata": {},
          "execution_count": 432
        }
      ]
    },
    {
      "cell_type": "code",
      "source": [
        "network = Network()\n",
        "\n",
        "train_loader = torch.utils.data.DataLoader(train_set, batch_size=100, shuffle=True)\n",
        "optimizer = optim.Adam(network.parameters(), lr=1e-3)  # 0.01 is high for Adam\n",
        "\n",
        "network.train()\n",
        "\n",
        "total_loss = 0.0          # will store SUM of per-example losses\n",
        "total_correct = 0\n",
        "total_examples = 0\n",
        "\n",
        "for batch in train_loader:  # Get Batch\n",
        "    images, labels = batch\n",
        "    # labels should be class indices (LongTensor)\n",
        "    if labels.dtype != torch.long:\n",
        "        labels = labels.long()\n",
        "\n",
        "    preds = network(images)                       # Pass Batch (logits)\n",
        "    loss = F.cross_entropy(preds, labels)         # mean loss over this batch\n",
        "\n",
        "    optimizer.zero_grad()\n",
        "    loss.backward()                               # Calculate Gradients\n",
        "    optimizer.step()                               # Update Weights\n",
        "\n",
        "    bs = images.size(0)\n",
        "    total_loss += loss.item() * bs                # accumulate per-example loss\n",
        "    total_correct += get_num_correct(preds, labels)\n",
        "    total_examples += bs\n",
        "\n",
        "avg_loss = total_loss / total_examples\n",
        "print(\n",
        "    \"epoch:\", 0,\n",
        "    \"total_correct:\", total_correct,\n",
        "    \"accuracy:\", f\"{total_correct/total_examples:.4%}\",\n",
        "    \"loss:\", f\"{avg_loss:.4f}\"\n",
        ")\n"
      ],
      "metadata": {
        "colab": {
          "base_uri": "https://localhost:8080/"
        },
        "id": "bgf_Uu6TdXiw",
        "outputId": "c96b7770-4535-4a59-ce8c-d6f1dc378e3e"
      },
      "execution_count": null,
      "outputs": [
        {
          "output_type": "stream",
          "name": "stdout",
          "text": [
            "epoch: 0 total_correct: 42884 accuracy: 71.4733% loss: 0.7529\n"
          ]
        }
      ]
    },
    {
      "cell_type": "markdown",
      "source": [
        "- loss.backward>> calculate gradients and store in weights(100)\n",
        "- loss.backward>> add new gradients to old ones (200)\n",
        "100\n",
        "- optim.step>> updates the weights"
      ],
      "metadata": {
        "id": "td-IYHA3dpqH"
      }
    },
    {
      "cell_type": "code",
      "source": [
        "import torch\n",
        "import torch.nn.functional as F\n",
        "from torch import optim\n",
        "\n",
        "# 1. Pick device\n",
        "device = torch.device(\"cuda\" if torch.cuda.is_available() else \"cpu\")\n",
        "print(\"Using device:\", device)\n",
        "\n",
        "# 2. Build and move model to device\n",
        "network = Network().to(device)\n",
        "\n",
        "# 3. Dataloader\n",
        "train_loader = torch.utils.data.DataLoader(train_set, batch_size=100, shuffle=True)\n",
        "\n",
        "# 4. Optimizer\n",
        "optimizer = optim.Adam(network.parameters(), lr=1e-3)\n",
        "\n",
        "# 5. Helper\n",
        "def get_num_correct(logits, labels):\n",
        "    preds = logits.argmax(dim=1)\n",
        "    return (preds == labels).sum().item()\n",
        "\n",
        "# 6. Training loop\n",
        "for epoch in range(10):\n",
        "    network.train()\n",
        "    running_loss = 0.0\n",
        "    running_correct = 0\n",
        "    total_examples = 0\n",
        "\n",
        "    for images, labels in train_loader:\n",
        "        # move batch to GPU\n",
        "        images, labels = images.to(device), labels.to(device)\n",
        "        if labels.dtype != torch.long:\n",
        "            labels = labels.long()\n",
        "\n",
        "        optimizer.zero_grad()\n",
        "        logits = network(images)\n",
        "        loss = F.cross_entropy(logits, labels)\n",
        "\n",
        "        loss.backward()\n",
        "        optimizer.step()\n",
        "\n",
        "        # stats\n",
        "        batch_size = images.size(0)\n",
        "        running_loss += loss.item() * batch_size\n",
        "        running_correct += get_num_correct(logits, labels)\n",
        "        total_examples += batch_size\n",
        "\n",
        "    epoch_loss = running_loss / total_examples\n",
        "    epoch_acc = running_correct / total_examples\n",
        "\n",
        "    print(f\"epoch {epoch:02d}  loss: {epoch_loss:.4f}  acc: {epoch_acc:.4%}\")\n"
      ],
      "metadata": {
        "colab": {
          "base_uri": "https://localhost:8080/"
        },
        "id": "p5O9yHHJeYwW",
        "outputId": "02147192-ad1b-4a47-e283-1b108faa39e9"
      },
      "execution_count": null,
      "outputs": [
        {
          "output_type": "stream",
          "name": "stdout",
          "text": [
            "Using device: cuda\n",
            "epoch 00  loss: 0.7655  acc: 71.6400%\n",
            "epoch 01  loss: 0.4929  acc: 81.6483%\n",
            "epoch 02  loss: 0.4306  acc: 84.1383%\n",
            "epoch 03  loss: 0.3893  acc: 85.5967%\n",
            "epoch 04  loss: 0.3612  acc: 86.7133%\n",
            "epoch 05  loss: 0.3428  acc: 87.2817%\n",
            "epoch 06  loss: 0.3270  acc: 87.8050%\n",
            "epoch 07  loss: 0.3122  acc: 88.4417%\n",
            "epoch 08  loss: 0.3025  acc: 88.6433%\n",
            "epoch 09  loss: 0.2908  acc: 89.2067%\n"
          ]
        }
      ]
    },
    {
      "cell_type": "code",
      "source": [
        "from google import genai\n",
        "\n",
        "client = genai.Client(api_key=\"AIzaSyBUMiOTFthisWasRohansKeyWhichIsNotThereAgkW8IfpT33o\")\n",
        "\n",
        "response = client.models.generate_content(\n",
        "    model=\"gemini-2.5-flash\", contents=\"Explain why nearly everyone has moved out from Tensorflow to PyTorch?\"\n",
        ")\n",
        "print(response.text)"
      ],
      "metadata": {
        "colab": {
          "base_uri": "https://localhost:8080/"
        },
        "id": "otCWwC2CiwQA",
        "outputId": "6b35e719-fddf-494a-a96f-5df5f1934c96"
      },
      "execution_count": null,
      "outputs": [
        {
          "output_type": "stream",
          "name": "stdout",
          "text": [
            "While \"nearly everyone has moved out from TensorFlow to PyTorch\" might be an exaggeration, there's a strong and undeniable trend, especially in **academia, research, and new projects**, towards PyTorch. Many companies and existing large-scale deployments still heavily rely on TensorFlow.\n",
            "\n",
            "However, the reasons for this significant shift are compelling and center around **developer experience, flexibility, and ease of use.**\n",
            "\n",
            "Here's a breakdown of why PyTorch gained so much traction:\n",
            "\n",
            "1.  **Dynamic Computation Graphs (\"Define by Run\")**\n",
            "    *   **The Problem with TensorFlow 1.x:** TensorFlow 1.x used a **static computation graph** (\"Define and Run\"). You first had to build the entire graph of operations (like a blueprint) and *then* feed data into it to execute. This was great for optimization and deployment, but:\n",
            "        *   **Debugging was a nightmare:** If something went wrong, you'd get cryptic errors often unrelated to the line of code that caused the issue, as the error came from the graph execution, not the graph definition.\n",
            "        *   **Limited flexibility:** Control flow (if/else statements, loops) was difficult to implement dynamically within the graph. This made it challenging for models with variable structures (like RNNs with variable sequence lengths) or advanced techniques like reinforcement learning.\n",
            "        *   **Less intuitive:** It felt less like writing regular Python code.\n",
            "    *   **PyTorch's Solution:** PyTorch adopted a **dynamic computation graph** (\"Define by Run\"). Operations are executed immediately as they are defined, just like regular Python code.\n",
            "        *   **Easy Debugging:** You can use standard Python debuggers (pdb, IDE debuggers) and inspect tensors at any point. Errors are precise and point to the exact line of code.\n",
            "        *   **Pythonic Control Flow:** You can use native Python if/else statements and loops directly, making it incredibly flexible for complex models.\n",
            "        *   **More Intuitive:** It feels much more like writing standard Python code, making it easier for new users to pick up.\n",
            "\n",
            "2.  **Developer Experience and Pythonic API**\n",
            "    *   **Less Boilerplate:** PyTorch generally requires less boilerplate code to define models and training loops.\n",
            "    *   **NumPy-like Interface:** PyTorch's tensor operations are very similar to NumPy arrays, making it familiar and easy for Python data scientists to transition.\n",
            "    *   **Simplicity:** The API is often perceived as cleaner and more straightforward.\n",
            "\n",
            "3.  **Community and Ecosystem**\n",
            "    *   **Research Adoption:** PyTorch quickly became the de-facto standard in academia and research due to its flexibility and ease of rapid prototyping. This led to a massive influx of research papers, open-source projects, and pre-trained models being released in PyTorch.\n",
            "    *   **Active Community:** A vibrant and active community provides extensive support, tutorials, and shared resources.\n",
            "\n",
            "4.  **Learning Curve**\n",
            "    *   For many, especially those coming from a pure Python background, PyTorch has a significantly gentler learning curve compared to the complexities of TensorFlow 1.x's graph construction.\n",
            "\n",
            "**TensorFlow 2.x's Response – Too Little, Too Late for Some?**\n",
            "\n",
            "Google recognized these issues and completely overhauled TensorFlow with **TensorFlow 2.x**. Key changes included:\n",
            "*   **Eager Execution (Dynamic Graphs) by default:** TF 2.x adopted dynamic graphs, essentially bringing the \"Define by Run\" paradigm that PyTorch popularized.\n",
            "*   **Keras Integration:** Keras became the high-level API for TensorFlow, significantly simplifying model building.\n",
            "*   **Cleaner API:** Efforts were made to simplify and unify the API.\n",
            "\n",
            "While TF 2.x is a massive improvement and closed many of the gaps with PyTorch, the momentum had already shifted significantly. Many developers, researchers, and startups had already invested heavily in PyTorch, built their systems around it, and were comfortable with its established ecosystem. Changing frameworks, even to an improved version of the original, can be a non-trivial decision.\n",
            "\n",
            "**Where TensorFlow Still Shines (and isn't \"everyone\" abandoning it):**\n",
            "\n",
            "Despite the trend, TensorFlow remains incredibly powerful and is still widely used, especially in certain contexts:\n",
            "\n",
            "*   **Production Deployment:** TensorFlow has a more mature and robust ecosystem for production deployment (e.g., TensorFlow Serving, TensorFlow Lite for mobile/edge devices, TensorFlow Extended (TFX) for full MLOps pipelines).\n",
            "*   **Scalability (Historically):** TensorFlow was built from the ground up for Google's massive-scale distributed computing, and while PyTorch has caught up significantly, TF still benefits from that legacy for certain types of enterprise-scale deployments.\n",
            "*   **TPU Support:** For companies leveraging Google's Tensor Processing Units (TPUs), TensorFlow often has tighter integration and optimization.\n",
            "*   **Existing Investments:** Many large companies have significant legacy investments in TensorFlow 1.x or 2.x and established MLOps pipelines built around it. Migrating these systems is a massive undertaking.\n",
            "\n",
            "In summary, the move towards PyTorch is driven by its superior **developer experience, flexibility, and ease of use, particularly in research and rapid prototyping.** While TensorFlow 2.x addressed many of these criticisms, PyTorch had already captured the hearts and minds of a large segment of the ML community.\n"
          ]
        }
      ]
    },
    {
      "cell_type": "markdown",
      "source": [
        "While \"nearly everyone has moved out from TensorFlow to PyTorch\" might be an exaggeration, there's a strong and undeniable trend, especially in **academia, research, and new projects**, towards PyTorch. Many companies and existing large-scale deployments still heavily rely on TensorFlow.\n",
        "\n",
        "However, the reasons for this significant shift are compelling and center around **developer experience, flexibility, and ease of use.**\n",
        "\n",
        "Here's a breakdown of why PyTorch gained so much traction:\n",
        "\n",
        "1.  **Dynamic Computation Graphs (\"Define by Run\")**\n",
        "    *   **The Problem with TensorFlow 1.x:** TensorFlow 1.x used a **static computation graph** (\"Define and Run\"). You first had to build the entire graph of operations (like a blueprint) and *then* feed data into it to execute. This was great for optimization and deployment, but:\n",
        "        *   **Debugging was a nightmare:** If something went wrong, you'd get cryptic errors often unrelated to the line of code that caused the issue, as the error came from the graph execution, not the graph definition.\n",
        "        *   **Limited flexibility:** Control flow (if/else statements, loops) was difficult to implement dynamically within the graph. This made it challenging for models with variable structures (like RNNs with variable sequence lengths) or advanced techniques like reinforcement learning.\n",
        "        *   **Less intuitive:** It felt less like writing regular Python code.\n",
        "    *   **PyTorch's Solution:** PyTorch adopted a **dynamic computation graph** (\"Define by Run\"). Operations are executed immediately as they are defined, just like regular Python code.\n",
        "        *   **Easy Debugging:** You can use standard Python debuggers (pdb, IDE debuggers) and inspect tensors at any point. Errors are precise and point to the exact line of code.\n",
        "        *   **Pythonic Control Flow:** You can use native Python if/else statements and loops directly, making it incredibly flexible for complex models.\n",
        "        *   **More Intuitive:** It feels much more like writing standard Python code, making it easier for new users to pick up.\n",
        "\n",
        "2.  **Developer Experience and Pythonic API**\n",
        "    *   **Less Boilerplate:** PyTorch generally requires less boilerplate code to define models and training loops.\n",
        "    *   **NumPy-like Interface:** PyTorch's tensor operations are very similar to NumPy arrays, making it familiar and easy for Python data scientists to transition.\n",
        "    *   **Simplicity:** The API is often perceived as cleaner and more straightforward.\n",
        "\n",
        "3.  **Community and Ecosystem**\n",
        "    *   **Research Adoption:** PyTorch quickly became the de-facto standard in academia and research due to its flexibility and ease of rapid prototyping. This led to a massive influx of research papers, open-source projects, and pre-trained models being released in PyTorch.\n",
        "    *   **Active Community:** A vibrant and active community provides extensive support, tutorials, and shared resources.\n",
        "\n",
        "4.  **Learning Curve**\n",
        "    *   For many, especially those coming from a pure Python background, PyTorch has a significantly gentler learning curve compared to the complexities of TensorFlow 1.x's graph construction.\n",
        "\n",
        "**TensorFlow 2.x's Response – Too Little, Too Late for Some?**\n",
        "\n",
        "Google recognized these issues and completely overhauled TensorFlow with **TensorFlow 2.x**. Key changes included:\n",
        "*   **Eager Execution (Dynamic Graphs) by default:** TF 2.x adopted dynamic graphs, essentially bringing the \"Define by Run\" paradigm that PyTorch popularized.\n",
        "*   **Keras Integration:** Keras became the high-level API for TensorFlow, significantly simplifying model building.\n",
        "*   **Cleaner API:** Efforts were made to simplify and unify the API.\n",
        "\n",
        "While TF 2.x is a massive improvement and closed many of the gaps with PyTorch, the momentum had already shifted significantly. Many developers, researchers, and startups had already invested heavily in PyTorch, built their systems around it, and were comfortable with its established ecosystem. Changing frameworks, even to an improved version of the original, can be a non-trivial decision.\n",
        "\n",
        "**Where TensorFlow Still Shines (and isn't \"everyone\" abandoning it):**\n",
        "\n",
        "Despite the trend, TensorFlow remains incredibly powerful and is still widely used, especially in certain contexts:\n",
        "\n",
        "*   **Production Deployment:** TensorFlow has a more mature and robust ecosystem for production deployment (e.g., TensorFlow Serving, TensorFlow Lite for mobile/edge devices, TensorFlow Extended (TFX) for full MLOps pipelines).\n",
        "*   **Scalability (Historically):** TensorFlow was built from the ground up for Google's massive-scale distributed computing, and while PyTorch has caught up significantly, TF still benefits from that legacy for certain types of enterprise-scale deployments.\n",
        "*   **TPU Support:** For companies leveraging Google's Tensor Processing Units (TPUs), TensorFlow often has tighter integration and optimization.\n",
        "*   **Existing Investments:** Many large companies have significant legacy investments in TensorFlow 1.x or 2.x and established MLOps pipelines built around it. Migrating these systems is a massive undertaking.\n",
        "\n",
        "In summary, the move towards PyTorch is driven by its superior **developer experience, flexibility, and ease of use, particularly in research and rapid prototyping.** While TensorFlow 2.x addressed many of these criticisms, PyTorch had already captured the hearts and minds of a large segment of the ML community."
      ],
      "metadata": {
        "id": "YUz-zDsdjkp9"
      }
    },
    {
      "cell_type": "code",
      "source": [
        "from google.genai import types\n",
        "response = client.models.generate_content(\n",
        "    model=\"gemini-2.5-flash\",\n",
        "    contents=\"Explain how AI works in a a lot of words\",\n",
        "    config=types.GenerateContentConfig(\n",
        "        thinking_config=types.ThinkingConfig(thinking_budget=1) # Disables thinking\n",
        "    ),\n",
        ")\n",
        "print(response.text)"
      ],
      "metadata": {
        "colab": {
          "base_uri": "https://localhost:8080/"
        },
        "id": "qGPMKYpGjON-",
        "outputId": "1a7c132b-2905-4934-ab06-59b92a558c01"
      },
      "execution_count": null,
      "outputs": [
        {
          "output_type": "stream",
          "name": "stdout",
          "text": [
            "Let's embark on an expansive journey into the heart of Artificial Intelligence. To truly understand \"how AI works,\" we need to deconstruct it into its fundamental principles, explore its diverse methodologies, and grasp the underlying computational magic that brings it to life. This isn't a single monolithic entity, but rather a vast ecosystem of techniques and technologies.\n",
            "\n",
            "At its core, **AI aims to enable machines to perform tasks that typically require human intelligence.** This broad definition encompasses everything from simple rule-based systems to complex neural networks capable of learning and adapting. The \"how\" lies in abstracting patterns, making decisions, and inferring knowledge from data.\n",
            "\n",
            "Here's a detailed breakdown:\n",
            "\n",
            "---\n",
            "\n",
            "## 1. The Foundational Pillars: Data, Algorithms, and Computation\n",
            "\n",
            "Before diving into specific AI types, it's crucial to understand the three indispensable pillars:\n",
            "\n",
            "*   **Data:** AI is inherently data-driven. Whether it's images, text, numbers, audio, or video, data is the raw material from which AI learns, predicts, and operates. The *quality*, *quantity*, and *relevance* of data directly impact the AI's performance. Clean, diverse, and well-labeled data is paramount.\n",
            "*   **Algorithms:** These are the step-by-step instructions or mathematical recipes that the AI uses to process data, identify patterns, make decisions, or learn. An algorithm defines the logic and method for solving a problem. Different AI tasks require different algorithms.\n",
            "*   **Computation (Processing Power):** Running complex AI algorithms on massive datasets requires significant computational resources. Modern AI, especially deep learning, relies heavily on powerful Graphics Processing Units (GPUs) or specialized AI accelerators (TPUs, NPUs) that can perform many parallel calculations simultaneously, making the training and inference processes feasible.\n",
            "\n",
            "---\n",
            "\n",
            "## 2. The Spectrum of AI: From Narrow to General (and Hypothetical)\n",
            "\n",
            "AI isn't a single thing; it exists on a spectrum of capability:\n",
            "\n",
            "*   **Narrow AI (Weak AI):** This is *all* the AI we have today. It's designed and trained for a *specific task* and excels at it. Examples include image recognition, natural language processing, recommendation engines, chess-playing programs, or self-driving car systems. It's \"intelligent\" only within its predefined domain and lacks general cognitive abilities.\n",
            "*   **General AI (Strong AI / AGI):** This is a hypothetical future AI that would possess human-like cognitive abilities across a wide range of tasks, including reasoning, problem-solving, abstract thinking, learning from experience, and adapting to novel situations, much like a human. We are nowhere near achieving AGI.\n",
            "*   **Superintelligence:** An even more hypothetical future AI that would surpass human intelligence across virtually all domains.\n",
            "\n",
            "When we talk about \"how AI works,\" we are almost exclusively referring to Narrow AI.\n",
            "\n",
            "---\n",
            "\n",
            "## 3. The Core Paradigms of Narrow AI\n",
            "\n",
            "Narrow AI can be broadly categorized by its approach to intelligence:\n",
            "\n",
            "### A. Rule-Based AI (Expert Systems)\n",
            "\n",
            "*   **How it works:** This is the simplest form of AI, predating modern machine learning. It operates on a predefined set of \"if-then\" rules explicitly programmed by human experts. The system follows these rules sequentially to reach a conclusion or make a decision.\n",
            "*   **Process:**\n",
            "    1.  **Knowledge Base:** Human experts encode their knowledge into a database of facts and rules.\n",
            "    2.  **Inference Engine:** This component takes input data, compares it against the rules in the knowledge base, and applies logical deduction to derive a result.\n",
            "*   **Example:** A simple medical diagnosis system might have rules like: \"IF patient has fever AND patient has cough THEN suggest flu test.\"\n",
            "*   **Limitations:**\n",
            "    *   **Brittleness:** Fails outside its programmed rules.\n",
            "    *   **Scalability:** Becomes unmanageable with many rules or complex scenarios.\n",
            "    *   **No Learning:** Cannot adapt or learn from new data unless explicitly reprogrammed.\n",
            "\n",
            "### B. Machine Learning (ML)\n",
            "\n",
            "This is the dominant paradigm for modern AI. Instead of being explicitly programmed with rules, ML systems *learn* patterns and relationships directly from data.\n",
            "\n",
            "#### The Fundamental Idea of Machine Learning:\n",
            "\n",
            "Machine learning, at its heart, is about finding a mathematical function, often called a \"model,\" that can map input data to desired output data. Instead of a human writing this function explicitly, the computer \"learns\" it by being exposed to examples.\n",
            "\n",
            "#### Key Types of Machine Learning:\n",
            "\n",
            "**1. Supervised Learning:**\n",
            "\n",
            "*   **How it works:** The most common type. The algorithm learns from a dataset of \"labeled examples,\" where each input is paired with its correct output. The goal is for the model to learn a mapping from inputs to outputs so that it can accurately predict the output for new, unseen inputs.\n",
            "*   **Process:**\n",
            "    1.  **Training Data:** A large dataset where each data point `(X)` has a corresponding correct answer `(y)`. For example, `(image of cat, \"cat\")` or `(house features, house price)`.\n",
            "    2.  **Model Training:** The algorithm adjusts its internal parameters by repeatedly analyzing the training data. It tries to minimize the difference between its predictions and the actual correct answers (using a \"loss function\"). This optimization process is often iterative.\n",
            "    3.  **Prediction (Inference):** Once trained, the model can take new, unlabeled input data and predict the most likely output.\n",
            "*   **Main Tasks:**\n",
            "    *   **Classification:** Predicting a discrete category (e.g., \"spam\" or \"not spam,\" \"cat,\" \"dog,\" or \"bird\"). Algorithms include Logistic Regression, Support Vector Machines (SVMs), Decision Trees, Random Forests, K-Nearest Neighbors (KNN), Neural Networks.\n",
            "    *   **Regression:** Predicting a continuous value (e.g., house price, temperature, stock price). Algorithms include Linear Regression, Polynomial Regression, Decision Trees, Random Forests, Neural Networks.\n",
            "*   **Examples:** Email spam detection, image classification, predicting stock prices, medical diagnosis, sentiment analysis.\n",
            "\n",
            "**2. Unsupervised Learning:**\n",
            "\n",
            "*   **How it works:** The algorithm is given unlabeled data and must find patterns, structures, or relationships within it without any explicit guidance on what to look for. It's about discovering inherent groupings or features.\n",
            "*   **Process:**\n",
            "    1.  **Input Data:** A large dataset without corresponding correct outputs.\n",
            "    2.  **Model Training:** The algorithm analyzes the data to identify similarities, differences, or underlying structures.\n",
            "*   **Main Tasks:**\n",
            "    *   **Clustering:** Grouping similar data points together (e.g., segmenting customers into different groups based on purchasing behavior). Algorithms include K-Means, Hierarchical Clustering, DBSCAN.\n",
            "    *   **Dimensionality Reduction:** Reducing the number of features or variables in a dataset while retaining most of the important information (e.g., simplifying complex data for visualization or faster processing). Algorithms include Principal Component Analysis (PCA), t-SNE.\n",
            "    *   **Association Rule Learning:** Discovering relationships between items in large datasets (e.g., \"customers who buy bread often buy milk\"). Algorithm: Apriori.\n",
            "*   **Examples:** Customer segmentation, anomaly detection (fraud detection), topic modeling in text, gene sequence analysis.\n",
            "\n",
            "**3. Reinforcement Learning (RL):**\n",
            "\n",
            "*   **How it works:** Inspired by behavioral psychology, an \"agent\" learns to make decisions by interacting with an environment. It receives \"rewards\" for desirable actions and \"penalties\" for undesirable ones, learning through trial and error to maximize its cumulative reward over time.\n",
            "*   **Process:**\n",
            "    1.  **Agent:** The AI program that makes decisions.\n",
            "    2.  **Environment:** The setting in which the agent operates.\n",
            "    3.  **State:** The current situation of the environment.\n",
            "    4.  **Action:** The choice made by the agent in a given state.\n",
            "    5.  **Reward:** A feedback signal (positive or negative) from the environment after an action.\n",
            "    6.  **Policy:** The strategy the agent learns that maps states to optimal actions.\n",
            "*   **Goal:** For the agent to learn an optimal policy that maximizes its long-term reward.\n",
            "*   **Examples:** Training AI to play games (Go, Chess, video games), robotics control, optimizing resource management, self-driving cars (in simulations).\n",
            "\n",
            "#### Key Machine Learning Algorithms (Beyond the Categories):\n",
            "\n",
            "While some algorithms fit neatly into a single category (like Linear Regression for supervised regression), many can be adapted or combined.\n",
            "\n",
            "*   **Decision Trees & Random Forests:** Tree-like models that make decisions by asking a series of questions. Random Forests combine many decision trees to improve accuracy and robustness.\n",
            "*   **Support Vector Machines (SVMs):** Find the optimal hyperplane that separates data points into different classes with the largest possible margin.\n",
            "*   **K-Nearest Neighbors (KNN):** Classifies a data point based on the majority class of its 'k' nearest neighbors in the feature space.\n",
            "*   **Gradient Boosting (e.g., XGBoost, LightGBM):** Powerful ensemble methods that build many weak prediction models (often decision trees) sequentially, with each new model correcting errors made by previous ones.\n",
            "\n",
            "---\n",
            "\n",
            "### C. Deep Learning (DL) - A Subset of Machine Learning\n",
            "\n",
            "*   **How it works:** A specialized subfield of machine learning that uses Artificial Neural Networks (ANNs) with multiple \"hidden\" layers (hence \"deep\"). These networks are inspired by the structure and function of the human brain.\n",
            "*   **Artificial Neural Networks (ANNs):**\n",
            "    *   **Neurons (Nodes):** Basic processing units that receive inputs, apply weights and a bias, perform a mathematical operation (activation function), and pass the output to the next layer.\n",
            "    *   **Layers:**\n",
            "        *   **Input Layer:** Receives the raw data.\n",
            "        *   **Hidden Layers:** One or more layers between the input and output layers where the complex computations and feature extractions occur. The \"depth\" of the network refers to the number of hidden layers.\n",
            "        *   **Output Layer:** Produces the final prediction or classification.\n",
            "    *   **Weights and Biases:** Parameters within the network that are adjusted during training. They determine the strength of connections between neurons and influence the neuron's activation.\n",
            "    *   **Activation Functions:** Non-linear functions applied to the output of each neuron, allowing the network to learn complex, non-linear relationships.\n",
            "    *   **Training (Backpropagation):**\n",
            "        1.  **Forward Pass:** Input data goes through the network, producing an output.\n",
            "        2.  **Loss Calculation:** A \"loss function\" measures the difference between the network's output and the true desired output.\n",
            "        3.  **Backward Pass (Backpropagation):** The error is propagated backward through the network, and an optimization algorithm (like Gradient Descent) adjusts the weights and biases in each layer to reduce the loss. This process is repeated thousands or millions of times over the entire dataset.\n",
            "*   **Why \"Deep\"?** The multiple hidden layers allow deep learning models to learn hierarchical representations of data. For example, in image recognition:\n",
            "    *   The first layers might detect simple edges and lines.\n",
            "    *   Middle layers combine these to detect shapes, textures, or parts of objects (e.g., eyes, wheels).\n",
            "    *   Final layers combine these parts to recognize complete objects (e.g., a face, a car).\n",
            "*   **Key Deep Learning Architectures:**\n",
            "\n",
            "    1.  **Convolutional Neural Networks (CNNs):**\n",
            "        *   **Purpose:** Primarily for image and video processing.\n",
            "        *   **How it works:** Uses \"convolutional layers\" that apply filters to input data, automatically learning spatial hierarchies of features. This is inspired by the visual cortex of animals. They excel at recognizing patterns regardless of their position in the image.\n",
            "        *   **Components:** Convolutional layers, pooling layers, fully connected layers.\n",
            "        *   **Examples:** Image classification, object detection (identifying and locating objects in an image), facial recognition.\n",
            "\n",
            "    2.  **Recurrent Neural Networks (RNNs) / Long Short-Term Memory (LSTMs) / Gated Recurrent Units (GRUs):**\n",
            "        *   **Purpose:** For sequential data where the order of information matters (e.g., text, audio, time series).\n",
            "        *   **How it works:** Has internal memory; outputs from previous steps are fed back as inputs to the current step. LSTMs and GRUs are more advanced variants that address the \"vanishing gradient problem\" of standard RNNs, allowing them to learn long-range dependencies.\n",
            "        *   **Examples:** Speech recognition, natural language translation, text generation, stock market prediction.\n",
            "\n",
            "    3.  **Transformers:**\n",
            "        *   **Purpose:** Revolutionary architecture, especially for natural language processing (NLP), but increasingly used in other domains (vision).\n",
            "        *   **How it works:** Relies on an \"attention mechanism\" that allows the model to weigh the importance of different parts of the input sequence when processing a specific part. Unlike RNNs, it processes the entire sequence in parallel, making it highly efficient for very long sequences and capturing long-range dependencies effectively.\n",
            "        *   **Examples:** Large Language Models (LLMs) like GPT-3, GPT-4, BERT (for text understanding), machine translation, text summarization, code generation.\n",
            "\n",
            "---\n",
            "\n",
            "## 4. The Broader AI Landscape: Applications and Specialized Fields\n",
            "\n",
            "Beyond the core paradigms, AI manifests in numerous specialized applications:\n",
            "\n",
            "*   **Natural Language Processing (NLP):** Enables computers to understand, interpret, and generate human language.\n",
            "    *   **Understanding:** Sentiment analysis, spam detection, question answering, named entity recognition.\n",
            "    *   **Generation:** Machine translation, chatbots, content creation (e.g., GPT-3/4).\n",
            "    *   **Techniques:** Rule-based, statistical ML (e.g., Naive Bayes), and increasingly Deep Learning (RNNs, Transformers).\n",
            "*   **Computer Vision:** Enables computers to \"see\" and interpret visual information from images and videos.\n",
            "    *   **Tasks:** Image classification, object detection, facial recognition, video analysis, medical imaging analysis.\n",
            "    *   **Techniques:** Predominantly Deep Learning (CNNs).\n",
            "*   **Robotics:** Integrates AI for perception, decision-making, and control in physical robots.\n",
            "    *   **Tasks:** Navigation, object manipulation, human-robot interaction.\n",
            "    *   **Techniques:** Reinforcement Learning, computer vision, planning algorithms.\n",
            "*   **Speech Recognition & Synthesis:** Converting spoken language to text and vice-versa.\n",
            "    *   **Techniques:** Deep Learning (RNNs, Transformers) often combined with traditional signal processing.\n",
            "*   **Recommender Systems:** Predicting user preferences to suggest products, movies, music, etc.\n",
            "    *   **Techniques:** Collaborative filtering, content-based filtering, matrix factorization, deep learning.\n",
            "*   **Generative AI:** Models capable of creating new content (images, text, audio, code) that resembles real-world data.\n",
            "    *   **Techniques:** Generative Adversarial Networks (GANs), Variational Autoencoders (VAEs), Diffusion Models, Transformers.\n",
            "\n",
            "---\n",
            "\n",
            "## 5. The Development Lifecycle of an AI Model\n",
            "\n",
            "Building and deploying an AI model, especially in machine learning and deep learning, follows a general lifecycle:\n",
            "\n",
            "1.  **Problem Definition:** Clearly defining what the AI should achieve (e.g., classify images, predict prices, generate text).\n",
            "2.  **Data Collection & Preparation:** Gathering relevant data, cleaning it (handling missing values, outliers), transforming it into a suitable format, and often labeling it. This is often the most time-consuming step.\n",
            "3.  **Feature Engineering (ML) / Feature Learning (DL):**\n",
            "    *   **ML:** Human experts design \"features\" (meaningful attributes) from the raw data that the algorithm can use.\n",
            "    *   **DL:** The deep neural network automatically learns hierarchical features from the raw data.\n",
            "4.  **Model Selection:** Choosing an appropriate algorithm or deep learning architecture for the task and data.\n",
            "5.  **Training:** Feeding the prepared data to the chosen algorithm, allowing it to learn patterns and adjust its parameters.\n",
            "6.  **Evaluation:** Assessing the model's performance on unseen data (test set) using various metrics (accuracy, precision, recall, F1-score, RMSE, etc.) to ensure it generalizes well and isn't just memorizing the training data (\"overfitting\").\n",
            "7.  **Hyperparameter Tuning:** Adjusting the settings of the algorithm itself (not the learned parameters) to optimize performance.\n",
            "8.  **Deployment:** Integrating the trained model into an application or system where it can make real-time predictions or decisions.\n",
            "9.  **Monitoring & Maintenance:** Continuously monitoring the model's performance in the real world and retraining it as data patterns change or new data becomes available (\"model drift\").\n",
            "\n",
            "---\n",
            "\n",
            "## Conclusion: A Symphony of Abstraction and Computation\n",
            "\n",
            "In essence, AI works by abstracting intelligence into computational processes. It's a symphony where:\n",
            "\n",
            "*   **Data** provides the melody.\n",
            "*   **Algorithms** are the musical scores, defining how to play the melody.\n",
            "*   **Computation** is the orchestra, providing the power to execute the score.\n",
            "*   **Engineers and Researchers** are the composers and conductors, designing, training, and refining these systems.\n",
            "\n",
            "From simple rule-based decisions to the complex, emergent behaviors of deep neural networks, the underlying principle is always about transforming raw inputs into meaningful outputs by learning or inferring patterns. The \"magic\" isn't consciousness or self-awareness (at least not yet for any existing AI); it's sophisticated pattern recognition, statistical modeling, and optimization on an unprecedented scale, enabled by massive datasets and powerful computers. The journey of AI is a continuous quest to find more effective and efficient ways for machines to mimic and augment human cognitive abilities, pushing the boundaries of what computers can do.\n"
          ]
        }
      ]
    },
    {
      "cell_type": "markdown",
      "source": [
        "Give me the list of top 20 countries, their GDP, population, capital names, major exports only in JSON form. DO NOT add any other text."
      ],
      "metadata": {
        "id": "uKs34sMFkhTJ"
      }
    },
    {
      "cell_type": "code",
      "source": [
        "from google import genai\n",
        "\n",
        "response = client.models.generate_content(\n",
        "    model=\"gemini-2.5-flash\", contents=\"Give me the list of top 20 countries, their GDP, population, capital names, major exports only in JSON form. DO NOT add any other text. \"\n",
        ")\n",
        "print(response.text)"
      ],
      "metadata": {
        "colab": {
          "base_uri": "https://localhost:8080/"
        },
        "id": "HRkqc_yEjxEY",
        "outputId": "49d735ba-fa0c-4ec4-c317-b8b45b090382"
      },
      "execution_count": null,
      "outputs": [
        {
          "output_type": "stream",
          "name": "stdout",
          "text": [
            "```json\n",
            "[\n",
            "  {\n",
            "    \"country\": \"United States\",\n",
            "    \"gdp_usd\": \"27.97 trillion\",\n",
            "    \"population\": \"334.8 million\",\n",
            "    \"capital\": \"Washington, D.C.\",\n",
            "    \"major_exports\": [\n",
            "      \"Machinery\",\n",
            "      \"Electrical machinery\",\n",
            "      \"Mineral fuels\",\n",
            "      \"Vehicles\",\n",
            "      \"Optical/medical instruments\",\n",
            "      \"Aircraft\"\n",
            "    ]\n",
            "  },\n",
            "  {\n",
            "    \"country\": \"China\",\n",
            "    \"gdp_usd\": \"17.65 trillion\",\n",
            "    \"population\": \"1.425 billion\",\n",
            "    \"capital\": \"Beijing\",\n",
            "    \"major_exports\": [\n",
            "      \"Electrical machinery\",\n",
            "      \"Machinery\",\n",
            "      \"Furniture\",\n",
            "      \"Textiles\",\n",
            "      \"Plastics\",\n",
            "      \"Vehicles\"\n",
            "    ]\n",
            "  },\n",
            "  {\n",
            "    \"country\": \"Germany\",\n",
            "    \"gdp_usd\": \"4.46 trillion\",\n",
            "    \"population\": \"83.2 million\",\n",
            "    \"capital\": \"Berlin\",\n",
            "    \"major_exports\": [\n",
            "      \"Vehicles\",\n",
            "      \"Machinery\",\n",
            "      \"Chemical products\",\n",
            "      \"Electronic products\",\n",
            "      \"Pharmaceuticals\",\n",
            "      \"Electrical equipment\"\n",
            "    ]\n",
            "  },\n",
            "  {\n",
            "    \"country\": \"Japan\",\n",
            "    \"gdp_usd\": \"4.29 trillion\",\n",
            "    \"population\": \"123.3 million\",\n",
            "    \"capital\": \"Tokyo\",\n",
            "    \"major_exports\": [\n",
            "      \"Vehicles\",\n",
            "      \"Machinery\",\n",
            "      \"Electrical machinery\",\n",
            "      \"Pharmaceuticals\",\n",
            "      \"Optical/medical instruments\"\n",
            "    ]\n",
            "  },\n",
            "  {\n",
            "    \"country\": \"India\",\n",
            "    \"gdp_usd\": \"3.70 trillion\",\n",
            "    \"population\": \"1.428 billion\",\n",
            "    \"capital\": \"New Delhi\",\n",
            "    \"major_exports\": [\n",
            "      \"Petroleum products\",\n",
            "      \"Precious stones\",\n",
            "      \"Machinery\",\n",
            "      \"Iron and steel\",\n",
            "      \"Chemicals\",\n",
            "      \"Vehicles\"\n",
            "    ]\n",
            "  },\n",
            "  {\n",
            "    \"country\": \"United Kingdom\",\n",
            "    \"gdp_usd\": \"3.33 trillion\",\n",
            "    \"population\": \"67.7 million\",\n",
            "    \"capital\": \"London\",\n",
            "    \"major_exports\": [\n",
            "      \"Machinery\",\n",
            "      \"Mineral fuels\",\n",
            "      \"Vehicles\",\n",
            "      \"Pharmaceuticals\",\n",
            "      \"Electrical machinery\",\n",
            "      \"Precious stones\"\n",
            "    ]\n",
            "  },\n",
            "  {\n",
            "    \"country\": \"France\",\n",
            "    \"gdp_usd\": \"3.05 trillion\",\n",
            "    \"population\": \"68.3 million\",\n",
            "    \"capital\": \"Paris\",\n",
            "    \"major_exports\": [\n",
            "      \"Machinery\",\n",
            "      \"Aircraft\",\n",
            "      \"Vehicles\",\n",
            "      \"Pharmaceuticals\",\n",
            "      \"Beverages\",\n",
            "      \"Chemical products\"\n",
            "    ]\n",
            "  },\n",
            "  {\n",
            "    \"country\": \"Italy\",\n",
            "    \"gdp_usd\": \"2.32 trillion\",\n",
            "    \"population\": \"58.8 million\",\n",
            "    \"capital\": \"Rome\",\n",
            "    \"major_exports\": [\n",
            "      \"Machinery\",\n",
            "      \"Vehicles\",\n",
            "      \"Pharmaceuticals\",\n",
            "      \"Electrical machinery\",\n",
            "      \"Clothing\",\n",
            "      \"Mineral fuels\"\n",
            "    ]\n",
            "  },\n",
            "  {\n",
            "    \"country\": \"Brazil\",\n",
            "    \"gdp_usd\": \"2.17 trillion\",\n",
            "    \"population\": \"203.1 million\",\n",
            "    \"capital\": \"Brasília\",\n",
            "    \"major_exports\": [\n",
            "      \"Soybeans\",\n",
            "      \"Iron ore\",\n",
            "      \"Crude petroleum\",\n",
            "      \"Corn\",\n",
            "      \"Meat\",\n",
            "      \"Sugar\"\n",
            "    ]\n",
            "  },\n",
            "  {\n",
            "    \"country\": \"Canada\",\n",
            "    \"gdp_usd\": \"2.12 trillion\",\n",
            "    \"population\": \"40.7 million\",\n",
            "    \"capital\": \"Ottawa\",\n",
            "    \"major_exports\": [\n",
            "      \"Crude petroleum\",\n",
            "      \"Vehicles\",\n",
            "      \"Machinery\",\n",
            "      \"Natural gas\",\n",
            "      \"Wood\",\n",
            "      \"Aluminum\"\n",
            "    ]\n",
            "  },\n",
            "  {\n",
            "    \"country\": \"Russia\",\n",
            "    \"gdp_usd\": \"1.98 trillion\",\n",
            "    \"population\": \"144.4 million\",\n",
            "    \"capital\": \"Moscow\",\n",
            "    \"major_exports\": [\n",
            "      \"Mineral fuels (oil, gas)\",\n",
            "      \"Metals\",\n",
            "      \"Cereals\",\n",
            "      \"Wood products\",\n",
            "      \"Fertilizers\"\n",
            "    ]\n",
            "  },\n",
            "  {\n",
            "    \"country\": \"Mexico\",\n",
            "    \"gdp_usd\": \"1.86 trillion\",\n",
            "    \"population\": \"128.4 million\",\n",
            "    \"capital\": \"Mexico City\",\n",
            "    \"major_exports\": [\n",
            "      \"Vehicles\",\n",
            "      \"Electrical machinery\",\n",
            "      \"Machinery\",\n",
            "      \"Mineral fuels\",\n",
            "      \"Medical instruments\",\n",
            "      \"Fruits & vegetables\"\n",
            "    ]\n",
            "  },\n",
            "  {\n",
            "    \"country\": \"South Korea\",\n",
            "    \"gdp_usd\": \"1.72 trillion\",\n",
            "    \"population\": \"51.7 million\",\n",
            "    \"capital\": \"Seoul\",\n",
            "    \"major_exports\": [\n",
            "      \"Electrical machinery (semiconductors)\",\n",
            "      \"Vehicles\",\n",
            "      \"Machinery\",\n",
            "      \"Mineral fuels\",\n",
            "      \"Plastics\"\n",
            "    ]\n",
            "  },\n",
            "  {\n",
            "    \"country\": \"Australia\",\n",
            "    \"gdp_usd\": \"1.69 trillion\",\n",
            "    \"population\": \"26.6 million\",\n",
            "    \"capital\": \"Canberra\",\n",
            "    \"major_exports\": [\n",
            "      \"Iron ore\",\n",
            "      \"Coal\",\n",
            "      \"Natural gas\",\n",
            "      \"Gold\",\n",
            "      \"Beef\",\n",
            "      \"Wheat\"\n",
            "    ]\n",
            "  },\n",
            "  {\n",
            "    \"country\": \"Spain\",\n",
            "    \"gdp_usd\": \"1.58 trillion\",\n",
            "    \"population\": \"48.0 million\",\n",
            "    \"capital\": \"Madrid\",\n",
            "    \"major_exports\": [\n",
            "      \"Vehicles\",\n",
            "      \"Machinery\",\n",
            "      \"Mineral fuels\",\n",
            "      \"Pharmaceuticals\",\n",
            "      \"Electrical machinery\",\n",
            "      \"Food products\"\n",
            "    ]\n",
            "  },\n",
            "  {\n",
            "    \"country\": \"Indonesia\",\n",
            "    \"gdp_usd\": \"1.42 trillion\",\n",
            "    \"population\": \"277.5 million\",\n",
            "    \"capital\": \"Jakarta\",\n",
            "    \"major_exports\": [\n",
            "      \"Mineral fuels (coal, palm oil)\",\n",
            "      \"Electrical machinery\",\n",
            "      \"Rubber\",\n",
            "      \"Vehicles\",\n",
            "      \"Precious metals\"\n",
            "    ]\n",
            "  },\n",
            "  {\n",
            "    \"country\": \"Türkiye\",\n",
            "    \"gdp_usd\": \"1.15 trillion\",\n",
            "    \"population\": \"85.8 million\",\n",
            "    \"capital\": \"Ankara\",\n",
            "    \"major_exports\": [\n",
            "      \"Vehicles\",\n",
            "      \"Machinery\",\n",
            "      \"Electrical machinery\",\n",
            "      \"Textiles\",\n",
            "      \"Iron and steel\",\n",
            "      \"Apparel\"\n",
            "    ]\n",
            "  },\n",
            "  {\n",
            "    \"country\": \"Netherlands\",\n",
            "    \"gdp_usd\": \"1.09 trillion\",\n",
            "    \"population\": \"17.8 million\",\n",
            "    \"capital\": \"Amsterdam\",\n",
            "    \"major_exports\": [\n",
            "      \"Machinery\",\n",
            "      \"Mineral fuels\",\n",
            "      \"Electrical machinery\",\n",
            "      \"Pharmaceuticals\",\n",
            "      \"Food products\",\n",
            "      \"Horticultural products\"\n",
            "    ]\n",
            "  },\n",
            "  {\n",
            "    \"country\": \"Saudi Arabia\",\n",
            "    \"gdp_usd\": \"1.06 trillion\",\n",
            "    \"population\": \"36.9 million\",\n",
            "    \"capital\": \"Riyadh\",\n",
            "    \"major_exports\": [\n",
            "      \"Crude petroleum\",\n",
            "      \"Petroleum gases\",\n",
            "      \"Refined petroleum\",\n",
            "      \"Polymers\",\n",
            "      \"Organic chemicals\"\n",
            "    ]\n",
            "  },\n",
            "  {\n",
            "    \"country\": \"Switzerland\",\n",
            "    \"gdp_usd\": \"902 billion\",\n",
            "    \"population\": \"8.8 million\",\n",
            "    \"capital\": \"Bern\",\n",
            "    \"major_exports\": [\n",
            "      \"Pharmaceuticals\",\n",
            "      \"Precious metals\",\n",
            "      \"Watches\",\n",
            "      \"Machinery\",\n",
            "      \"Chemicals\",\n",
            "      \"Medical instruments\"\n",
            "    ]\n",
            "  }\n",
            "]\n",
            "```\n"
          ]
        }
      ]
    },
    {
      "cell_type": "code",
      "source": [],
      "metadata": {
        "id": "J9jSpXXXk18s"
      },
      "execution_count": null,
      "outputs": []
    }
  ]
}