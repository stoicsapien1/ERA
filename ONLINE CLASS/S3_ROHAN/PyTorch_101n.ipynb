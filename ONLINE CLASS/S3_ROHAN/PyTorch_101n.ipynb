{
  "nbformat": 4,
  "nbformat_minor": 0,
  "metadata": {
    "colab": {
      "provenance": [],
      "gpuType": "T4"
    },
    "kernelspec": {
      "name": "python3",
      "display_name": "Python 3"
    },
    "language_info": {
      "name": "python"
    },
    "accelerator": "GPU"
  },
  "cells": [
    {
      "cell_type": "markdown",
      "source": [
        "![Pytorch](https://miro.medium.com/max/1024/1*KKADWARPMxHb-WMxCgW_xA.png)\n",
        "\n",
        "**PyTorch** is an open-source machine learning framework that bridges **research prototyping** and **production deployment**. It is widely used for deep learning and scientific computing, offering flexibility, performance, and a thriving ecosystem.\n",
        "\n",
        "---\n",
        "\n",
        "## Why PyTorch?\n",
        "\n",
        "* **Production Ready**: With **TorchScript**, PyTorch seamlessly transitions from eager execution (Pythonic, flexible) to optimized graph execution, supporting deployment in C++ runtimes.\n",
        "* **Scalable Deployment**: **TorchServe** simplifies deploying models at scale with features like multi-model serving, RESTful APIs, metrics, and logging—cloud and environment agnostic.\n",
        "* **Optimized Performance**: Native support for asynchronous execution, distributed training, and peer-to-peer communication across Python and C++.\n",
        "* **Mobile Integration**: End-to-end workflow extends to iOS and Android, covering preprocessing and deployment for mobile ML applications.\n",
        "* **Rich Ecosystem**: Supported by an active research community with specialized libraries for computer vision, reinforcement learning, NLP, and more.\n",
        "* **Interoperability**: Export models to **ONNX** for use across compatible runtimes, visualizers, and platforms.\n",
        "* **C++ Frontend**: A clean, research-friendly C++ interface mirroring the Python API for low-latency, high-performance applications.\n",
        "* **Cloud Support**: Prebuilt images, GPU scaling, and easy integration with all major cloud platforms.\n",
        "\n",
        "---\n",
        "\n",
        "## PyTorch vs TensorFlow\n",
        "\n",
        "| **PyTorch**                                   | **TensorFlow**                                                            |\n",
        "| --------------------------------------------- | ------------------------------------------------------------------------- |\n",
        "| Dynamic computation graphs (eager by default) | Static graphs by default (dynamic support improved via Keras integration) |\n",
        "| Explicit CPU/GPU control                      | Simplified since TF 2.0 but less direct                                   |\n",
        "| Pythonic, intuitive, faster to prototype      | Steeper learning curve                                                    |\n",
        "| Strong documentation                          | Industry-leading documentation                                            |\n",
        "| Uses external tools for visualization/logging | Built-in **TensorBoard**                                                  |\n",
        "| Lightweight, easy experimentation             | Heavier deployment dependencies                                           |\n",
        "| Debugging can be harder                       | Strong debugging tools                                                    |\n",
        "\n",
        "---\n",
        "\n",
        "## Popularity & Adoption\n",
        "\n",
        "\n",
        "![headtohead](https://viso.ai/wp-content/uploads/2023/02/pytorch-vs-tensorflow-popularity-comparison.png)\n",
        "*PyTorch has overtaken TensorFlow in research and industry adoption.*\n",
        "\n",
        "---\n",
        "\n",
        "✅ **In short**: PyTorch is the framework of choice for researchers and practitioners who want rapid prototyping, strong community support, and smooth paths to production—while TensorFlow retains strengths in debugging, visualization, and some enterprise-scale workflows.\n",
        "\n",
        "---\n",
        "\n",
        "Would you like me to also make this into a **one-page infographic-style summary** (visual + text blocks), so it looks like a course slide or LinkedIn post?\n"
      ],
      "metadata": {
        "id": "TCrBM_bSYuHm"
      }
    },
    {
      "cell_type": "markdown",
      "source": [
        "# Scientific Computing with PyTorch\n",
        "\n",
        "The **scientific computing power** of PyTorch is built on its **Tensor library** and rich ecosystem of tensor operations.\n",
        "\n",
        "![tensor](https://thepracticaldev.s3.amazonaws.com/i/bp6ux6ppf5t5amwkxklq.jpg)\n",
        "\n",
        "At its core, a **tensor** is an *n-dimensional array*—similar to a NumPy array but with additional deep learning and GPU acceleration capabilities.\n",
        "\n",
        "\n",
        "\n",
        "---\n",
        "\n",
        "# NumPy\n",
        "\n",
        "![Numpy Ops](https://www.researchgate.net/publication/371375140/figure/fig2/AS:11431281194962536@1696298785617/Array-Slicing-in-NumPy-illustration-inspired-by.png)\n",
        "\n",
        "\n",
        "\n",
        "* **NumPy** is the de facto library for scientific computing in Python, widely used for linear algebra, statistical operations, and nD arrays.\n",
        "* **PyTorch Tensors** mirror NumPy’s API closely, making it easy for NumPy users to adopt PyTorch.\n",
        "* Unlike NumPy, PyTorch tensors come with **native GPU support**, enabling large-scale computations to run orders of magnitude faster.\n",
        "* PyTorch and NumPy are **highly interoperable**:\n",
        "\n",
        "  * Convert a NumPy array → PyTorch tensor: `torch.from_numpy(ndarray)`\n",
        "  * Convert a PyTorch tensor → NumPy array: `tensor.numpy()`\n",
        "\n",
        "---\n",
        "\n",
        "## Advantages of PyTorch Tensors\n",
        "\n",
        "1. **GPU Acceleration**\n",
        "\n",
        "   * Run tensor operations on CUDA-enabled GPUs with a simple `.to('cuda')` or `.cuda()` call.\n",
        "   * Easily switch between CPU and GPU execution without code rewrites.\n",
        "\n",
        "2. **Autograd Support**\n",
        "\n",
        "   * PyTorch tensors integrate with the **autograd engine**, automatically tracking gradients for optimization.\n",
        "   * This makes tensors not just numerical arrays but also core building blocks for training neural networks.\n",
        "\n",
        "3. **Rich Mathematical Operations**\n",
        "\n",
        "   * Built-in support for advanced linear algebra, convolution, Fourier transforms, and statistical functions.\n",
        "   * Optimized under the hood with low-level libraries like **MKL**, **cuBLAS**, and **cuDNN**.\n",
        "\n",
        "4. **Seamless Integration**\n",
        "\n",
        "   * Interoperable with libraries like SciPy, Pandas, and scikit-learn.\n",
        "   * Exportable to **ONNX** for use across other frameworks and runtimes.\n",
        "\n",
        "---\n",
        "\n",
        "## Quick Example\n",
        "\n",
        "```python\n",
        "import numpy as np\n",
        "import torch\n",
        "\n",
        "# NumPy array\n",
        "np_array = np.array([[1, 2], [3, 4]])\n",
        "\n",
        "# Convert to PyTorch tensor\n",
        "torch_tensor = torch.from_numpy(np_array)\n",
        "\n",
        "# Move tensor to GPU\n",
        "if torch.cuda.is_available():\n",
        "    torch_tensor = torch_tensor.to('cuda')\n",
        "\n",
        "print(torch_tensor)\n",
        "```\n",
        "\n",
        "✅ With just a few lines, the same scientific computing workflow can scale from CPU → GPU seamlessly.\n",
        "\n",
        "---\n",
        "\n",
        "👉 **In short:**\n",
        "\n",
        "* **NumPy** = the gold standard for CPU-based scientific computing.\n",
        "* **PyTorch tensors** = NumPy + GPU acceleration + automatic differentiation → making them the foundation for modern deep learning.\n",
        "\n",
        "---\n",
        "\n"
      ],
      "metadata": {
        "id": "m5fku8w8aSfs"
      }
    },
    {
      "cell_type": "markdown",
      "source": [
        "## PyTorch Philosophy\n",
        "\n",
        "PyTorch was designed with a clear philosophy that prioritizes **developer experience**:\n",
        "\n",
        "* **Stay out of the way** – Lightweight and minimal abstractions, so you focus on solving problems, not fighting the framework.\n",
        "* **Cater to the impatient** – Quick to prototype, intuitive to learn, and fast to execute.\n",
        "* **Promote linear code flow** – No hidden sessions or compilation steps; what you write is what runs.\n",
        "* **Full Python interoperability** – Seamlessly integrates with the Python ecosystem (NumPy, SciPy, Pandas, scikit-learn, etc.).\n",
        "* **As fast as anything else** – Competitive performance with other deep learning frameworks.\n",
        "\n",
        "---\n",
        "\n",
        "## Debugging in PyTorch\n",
        "\n",
        "Because **PyTorch is a Python extension**, debugging is simple and familiar:\n",
        "\n",
        "* Any **Python debugger** (e.g., `pdb`, `ipdb`, or IDE debuggers) works out of the box.\n",
        "* Even the humble `print()` function works directly on tensors, autograd objects, and models.\n",
        "* Errors are raised at runtime (thanks to dynamic graphs), making it much easier to trace issues back to source code.\n",
        "\n",
        "This makes PyTorch particularly appealing for researchers and developers who iterate quickly and need **transparent debugging**.\n",
        "\n",
        "---\n",
        "\n",
        "## Why PyTorch Got So Popular\n",
        "\n",
        "To train deep neural networks, frameworks rely on **computational graphs**—structures that represent operations and their derivatives for backpropagation.\n",
        "\n",
        "![cgs](https://pytorch.org/assets/images/augmented_computational_graph.png)\n",
        "\n",
        "Traditionally, frameworks like TensorFlow used **static computation graphs** (define-then-run). These graphs are fixed before execution, which allows optimizations but makes experimentation cumbersome.\n",
        "\n",
        "PyTorch introduced **Dynamic Computation Graphs** (define-by-run):\n",
        "\n",
        "* Graphs are built **on the fly** as operations occur.\n",
        "* Debugging is intuitive, since errors appear exactly where they happen.\n",
        "* Flexible for advanced models, research experiments, and quick iteration.\n",
        "\n",
        "---\n",
        "\n",
        "## PyTorch vs TensorFlow: The Modern Debate\n",
        "\n",
        "Over the years, the gap between PyTorch and TensorFlow has narrowed (especially after TensorFlow 2.0 introduced eager execution). Yet, PyTorch remains the framework of choice for many researchers and developers due to several advantages:\n",
        "\n",
        "1. **Ease of Learning & Use**\n",
        "\n",
        "   * Pythonic syntax, intuitive APIs, and define-by-run graphs make PyTorch friendly for beginners and researchers alike.\n",
        "\n",
        "2. **Research Flexibility**\n",
        "\n",
        "   * Dynamic graphs let you modify architectures on the fly, perfect for prototyping and experimental work.\n",
        "\n",
        "3. **Deep Python Integration**\n",
        "\n",
        "   * Designed from the ground up to blend with Python tools and workflows, making it feel “native” in scientific computing pipelines.\n",
        "\n",
        "4. **Community & Ecosystem**\n",
        "\n",
        "   * Hugely popular in academia and research. The community contributes rich tutorials, papers, and open-source libraries across CV, NLP, RL, and more.\n",
        "\n",
        "5. **Dynamic vs Static Graphs**\n",
        "\n",
        "   * While TensorFlow supports dynamic graphs now, PyTorch was inherently designed for them—so its implementation is often smoother and more intuitive.\n",
        "\n",
        "6. **Model Deployment**\n",
        "\n",
        "   * TensorFlow still leads in enterprise deployment (TensorFlow Serving, TF Lite).\n",
        "   * But PyTorch has **TorchScript**, **TorchServe**, and **PyTorch Mobile**, significantly closing the gap.\n",
        "\n",
        "---\n",
        "\n",
        "👉 **In short:**\n",
        "PyTorch rose to dominance because it **put researchers first**—prioritizing flexibility, ease of use, and Python integration. With deployment tools now mature, PyTorch today is not just for prototyping but also for **production at scale**.\n",
        "\n"
      ],
      "metadata": {
        "id": "MieX196mbqCl"
      }
    },
    {
      "cell_type": "code",
      "execution_count": null,
      "metadata": {
        "colab": {
          "base_uri": "https://localhost:8080/"
        },
        "id": "_9Gy4XV2YTpk",
        "outputId": "0003e392-e451-4aa7-b428-00aac423213b"
      },
      "outputs": [
        {
          "output_type": "stream",
          "name": "stdout",
          "text": [
            "Requirement already satisfied: torch in /usr/local/lib/python3.12/dist-packages (2.8.0+cu126)\n",
            "Requirement already satisfied: filelock in /usr/local/lib/python3.12/dist-packages (from torch) (3.19.1)\n",
            "Requirement already satisfied: typing-extensions>=4.10.0 in /usr/local/lib/python3.12/dist-packages (from torch) (4.15.0)\n",
            "Requirement already satisfied: setuptools in /usr/local/lib/python3.12/dist-packages (from torch) (75.2.0)\n",
            "Requirement already satisfied: sympy>=1.13.3 in /usr/local/lib/python3.12/dist-packages (from torch) (1.13.3)\n",
            "Requirement already satisfied: networkx in /usr/local/lib/python3.12/dist-packages (from torch) (3.5)\n",
            "Requirement already satisfied: jinja2 in /usr/local/lib/python3.12/dist-packages (from torch) (3.1.6)\n",
            "Requirement already satisfied: fsspec in /usr/local/lib/python3.12/dist-packages (from torch) (2025.3.0)\n",
            "Requirement already satisfied: nvidia-cuda-nvrtc-cu12==12.6.77 in /usr/local/lib/python3.12/dist-packages (from torch) (12.6.77)\n",
            "Requirement already satisfied: nvidia-cuda-runtime-cu12==12.6.77 in /usr/local/lib/python3.12/dist-packages (from torch) (12.6.77)\n",
            "Requirement already satisfied: nvidia-cuda-cupti-cu12==12.6.80 in /usr/local/lib/python3.12/dist-packages (from torch) (12.6.80)\n",
            "Requirement already satisfied: nvidia-cudnn-cu12==9.10.2.21 in /usr/local/lib/python3.12/dist-packages (from torch) (9.10.2.21)\n",
            "Requirement already satisfied: nvidia-cublas-cu12==12.6.4.1 in /usr/local/lib/python3.12/dist-packages (from torch) (12.6.4.1)\n",
            "Requirement already satisfied: nvidia-cufft-cu12==11.3.0.4 in /usr/local/lib/python3.12/dist-packages (from torch) (11.3.0.4)\n",
            "Requirement already satisfied: nvidia-curand-cu12==10.3.7.77 in /usr/local/lib/python3.12/dist-packages (from torch) (10.3.7.77)\n",
            "Requirement already satisfied: nvidia-cusolver-cu12==11.7.1.2 in /usr/local/lib/python3.12/dist-packages (from torch) (11.7.1.2)\n",
            "Requirement already satisfied: nvidia-cusparse-cu12==12.5.4.2 in /usr/local/lib/python3.12/dist-packages (from torch) (12.5.4.2)\n",
            "Requirement already satisfied: nvidia-cusparselt-cu12==0.7.1 in /usr/local/lib/python3.12/dist-packages (from torch) (0.7.1)\n",
            "Requirement already satisfied: nvidia-nccl-cu12==2.27.3 in /usr/local/lib/python3.12/dist-packages (from torch) (2.27.3)\n",
            "Requirement already satisfied: nvidia-nvtx-cu12==12.6.77 in /usr/local/lib/python3.12/dist-packages (from torch) (12.6.77)\n",
            "Requirement already satisfied: nvidia-nvjitlink-cu12==12.6.85 in /usr/local/lib/python3.12/dist-packages (from torch) (12.6.85)\n",
            "Requirement already satisfied: nvidia-cufile-cu12==1.11.1.6 in /usr/local/lib/python3.12/dist-packages (from torch) (1.11.1.6)\n",
            "Requirement already satisfied: triton==3.4.0 in /usr/local/lib/python3.12/dist-packages (from torch) (3.4.0)\n",
            "Requirement already satisfied: mpmath<1.4,>=1.1.0 in /usr/local/lib/python3.12/dist-packages (from sympy>=1.13.3->torch) (1.3.0)\n",
            "Requirement already satisfied: MarkupSafe>=2.0 in /usr/local/lib/python3.12/dist-packages (from jinja2->torch) (3.0.2)\n"
          ]
        }
      ],
      "source": [
        "!pip install torch #its preinstalled on Colab"
      ]
    },
    {
      "cell_type": "code",
      "source": [
        "!ls"
      ],
      "metadata": {
        "colab": {
          "base_uri": "https://localhost:8080/"
        },
        "id": "31QM52J6cDg1",
        "outputId": "abdd11d7-12eb-4dd3-eac4-bddf84478797"
      },
      "execution_count": null,
      "outputs": [
        {
          "output_type": "stream",
          "name": "stdout",
          "text": [
            "sample_data\n"
          ]
        }
      ]
    },
    {
      "cell_type": "code",
      "source": [
        "import numpy as np\n",
        "\n",
        "V0 = np.array(1.3)\n",
        "V1 = np.array([1., 2., 3.])\n",
        "V2 = np.array([[1., 2.], [4., 5.]])\n",
        "print(f'{V0}, {V1}, {V2}')"
      ],
      "metadata": {
        "colab": {
          "base_uri": "https://localhost:8080/"
        },
        "id": "XSwh4jABcFrJ",
        "outputId": "947831cd-08e7-43cd-c8fc-8465eb9dd221"
      },
      "execution_count": null,
      "outputs": [
        {
          "output_type": "stream",
          "name": "stdout",
          "text": [
            "1.3, [1. 2. 3.], [[1. 2.]\n",
            " [4. 5.]]\n"
          ]
        }
      ]
    },
    {
      "cell_type": "code",
      "source": [
        "numpy_array = np.array([1, 2, 3])"
      ],
      "metadata": {
        "id": "6JNwpz6tcI-X"
      },
      "execution_count": null,
      "outputs": []
    },
    {
      "cell_type": "code",
      "source": [
        "import torch\n",
        "\n",
        "t1 = torch.Tensor(numpy_array)\n",
        "# Constructor - same as torch.FloatTensor\n",
        "# uses a default float32 tensor, this bechanvor can be changed\n",
        "# all other tensors inherit from this main tensor class\n",
        "\n",
        "t2 = torch.tensor(numpy_array)\n",
        "# Factory Function\n",
        "# going to produce a new tensor of the same type\n",
        "# does not share underlying memory with numpy!\n",
        "# always copies the data\n",
        "# torch.tensor(data, dtype=None, device=None, requires_grad=False/True)\n",
        "# highly recommended to use!\n",
        "\n",
        "t3 = torch.as_tensor(numpy_array)\n",
        "# Factory Function\n",
        "# produce a new tensor with the same data type\n",
        "# share the underlying memory with numpy, changing one, will change another!\n",
        "# CAN ACCEPT ANY PYTHON DATA STRUCTURE INCLUDING NUMPY ARRAYS\n",
        "# always tries to avoid a copy of the data!\n",
        "# we have to manually call requires_grad() function on the final tensor. It does not support\n",
        "#     requires_grad by default\n",
        "# recommended to use!\n",
        "\n",
        "t4 = torch.from_numpy(numpy_array)\n",
        "# Factory Function\n",
        "# produce a new tensor with the same data type\n",
        "# share the underlying memory with numpy, changing one, will change another!\n",
        "# CAN ACCEPT ONLY NUMPY ARRAYS"
      ],
      "metadata": {
        "id": "ue8TjO1ScJwh"
      },
      "execution_count": null,
      "outputs": []
    },
    {
      "cell_type": "code",
      "source": [
        "numpy_array.dtype, t1.dtype, t2.dtype, t3.dtype, t4.dtype"
      ],
      "metadata": {
        "colab": {
          "base_uri": "https://localhost:8080/"
        },
        "id": "6epmqv8zcLwE",
        "outputId": "740f5667-45e5-4bc2-876e-d440d040a16b"
      },
      "execution_count": null,
      "outputs": [
        {
          "output_type": "execute_result",
          "data": {
            "text/plain": [
              "(dtype('int64'), torch.float32, torch.int64, torch.int64, torch.int64)"
            ]
          },
          "metadata": {},
          "execution_count": 6
        }
      ]
    },
    {
      "cell_type": "code",
      "source": [
        "numpy_array *= 4"
      ],
      "metadata": {
        "id": "qV-Rp-IpcNfW"
      },
      "execution_count": null,
      "outputs": []
    },
    {
      "cell_type": "code",
      "source": [
        "t1, t2, t3, t4"
      ],
      "metadata": {
        "colab": {
          "base_uri": "https://localhost:8080/"
        },
        "id": "KiTVb5QicP7_",
        "outputId": "8de5d7ea-8139-4111-ee1e-87e84eca4f96"
      },
      "execution_count": null,
      "outputs": [
        {
          "output_type": "execute_result",
          "data": {
            "text/plain": [
              "(tensor([1., 2., 3.]),\n",
              " tensor([1, 2, 3]),\n",
              " tensor([ 4,  8, 12]),\n",
              " tensor([ 4,  8, 12]))"
            ]
          },
          "metadata": {},
          "execution_count": 8
        }
      ]
    },
    {
      "cell_type": "code",
      "source": [
        "t1 *= 2\n",
        "numpy_array, t1, t2, t3, t4"
      ],
      "metadata": {
        "colab": {
          "base_uri": "https://localhost:8080/"
        },
        "id": "8d2V5EuVcR9R",
        "outputId": "2d5fab75-91f7-4124-cf09-15cffa64a007"
      },
      "execution_count": null,
      "outputs": [
        {
          "output_type": "execute_result",
          "data": {
            "text/plain": [
              "(array([ 4,  8, 12]),\n",
              " tensor([2., 4., 6.]),\n",
              " tensor([1, 2, 3]),\n",
              " tensor([ 4,  8, 12]),\n",
              " tensor([ 4,  8, 12]))"
            ]
          },
          "metadata": {},
          "execution_count": 9
        }
      ]
    },
    {
      "cell_type": "code",
      "source": [
        "t2 *= 2\n",
        "numpy_array, t1, t2, t3, t4"
      ],
      "metadata": {
        "colab": {
          "base_uri": "https://localhost:8080/"
        },
        "id": "L6mJwJy-cTE3",
        "outputId": "350389fe-0f68-48ec-9a42-cf42afa09b0d"
      },
      "execution_count": null,
      "outputs": [
        {
          "output_type": "execute_result",
          "data": {
            "text/plain": [
              "(array([ 4,  8, 12]),\n",
              " tensor([2., 4., 6.]),\n",
              " tensor([2, 4, 6]),\n",
              " tensor([ 4,  8, 12]),\n",
              " tensor([ 4,  8, 12]))"
            ]
          },
          "metadata": {},
          "execution_count": 10
        }
      ]
    },
    {
      "cell_type": "code",
      "source": [
        "t3 *= 2\n",
        "numpy_array, t1, t2, t3, t4"
      ],
      "metadata": {
        "colab": {
          "base_uri": "https://localhost:8080/"
        },
        "id": "lvL8Z3iacUKE",
        "outputId": "3a304755-c38a-4da4-86ca-1fd17bbb00bb"
      },
      "execution_count": null,
      "outputs": [
        {
          "output_type": "execute_result",
          "data": {
            "text/plain": [
              "(array([ 8, 16, 24]),\n",
              " tensor([2., 4., 6.]),\n",
              " tensor([2, 4, 6]),\n",
              " tensor([ 8, 16, 24]),\n",
              " tensor([ 8, 16, 24]))"
            ]
          },
          "metadata": {},
          "execution_count": 11
        }
      ]
    },
    {
      "cell_type": "code",
      "source": [
        "t4 *= 2\n",
        "numpy_array, t1, t2, t3, t4"
      ],
      "metadata": {
        "colab": {
          "base_uri": "https://localhost:8080/"
        },
        "id": "_HxL7_EocVKB",
        "outputId": "b483e096-3701-4167-f95d-68b44a8c74a8"
      },
      "execution_count": null,
      "outputs": [
        {
          "output_type": "execute_result",
          "data": {
            "text/plain": [
              "(array([16, 32, 48]),\n",
              " tensor([2., 4., 6.]),\n",
              " tensor([2, 4, 6]),\n",
              " tensor([16, 32, 48]),\n",
              " tensor([16, 32, 48]))"
            ]
          },
          "metadata": {},
          "execution_count": 12
        }
      ]
    },
    {
      "cell_type": "code",
      "source": [
        "t5 = t4.cuda()\n",
        "\n",
        "t5.device, t4.device"
      ],
      "metadata": {
        "colab": {
          "base_uri": "https://localhost:8080/"
        },
        "id": "naxgoLY0cWIl",
        "outputId": "a180b088-c8b2-4785-c54d-30350d8253ab"
      },
      "execution_count": null,
      "outputs": [
        {
          "output_type": "execute_result",
          "data": {
            "text/plain": [
              "(device(type='cuda', index=0), device(type='cpu'))"
            ]
          },
          "metadata": {},
          "execution_count": 13
        }
      ]
    },
    {
      "cell_type": "code",
      "source": [
        "t5 + t4"
      ],
      "metadata": {
        "id": "hrehuHHvcXFs"
      },
      "execution_count": null,
      "outputs": []
    },
    {
      "cell_type": "code",
      "source": [
        "t6 = t4 + t3\n",
        "t6"
      ],
      "metadata": {
        "colab": {
          "base_uri": "https://localhost:8080/"
        },
        "id": "KBnqclWccdfG",
        "outputId": "e71789ce-1272-4518-9ff8-70b3a4c4199a"
      },
      "execution_count": null,
      "outputs": [
        {
          "output_type": "execute_result",
          "data": {
            "text/plain": [
              "tensor([32, 64, 96])"
            ]
          },
          "metadata": {},
          "execution_count": 14
        }
      ]
    },
    {
      "cell_type": "code",
      "source": [
        "t6 = t4 + t5\n",
        "t6"
      ],
      "metadata": {
        "colab": {
          "base_uri": "https://localhost:8080/",
          "height": 164
        },
        "id": "B9Uetr1bceX_",
        "outputId": "8e551e2e-0b18-4dbd-8c76-84879a6edb3b"
      },
      "execution_count": null,
      "outputs": [
        {
          "output_type": "error",
          "ename": "RuntimeError",
          "evalue": "Expected all tensors to be on the same device, but found at least two devices, cuda:0 and cpu!",
          "traceback": [
            "\u001b[0;31m---------------------------------------------------------------------------\u001b[0m",
            "\u001b[0;31mRuntimeError\u001b[0m                              Traceback (most recent call last)",
            "\u001b[0;32m/tmp/ipython-input-2838280936.py\u001b[0m in \u001b[0;36m<cell line: 0>\u001b[0;34m()\u001b[0m\n\u001b[0;32m----> 1\u001b[0;31m \u001b[0mt6\u001b[0m \u001b[0;34m=\u001b[0m \u001b[0mt4\u001b[0m \u001b[0;34m+\u001b[0m \u001b[0mt5\u001b[0m\u001b[0;34m\u001b[0m\u001b[0;34m\u001b[0m\u001b[0m\n\u001b[0m\u001b[1;32m      2\u001b[0m \u001b[0mt6\u001b[0m\u001b[0;34m\u001b[0m\u001b[0;34m\u001b[0m\u001b[0m\n",
            "\u001b[0;31mRuntimeError\u001b[0m: Expected all tensors to be on the same device, but found at least two devices, cuda:0 and cpu!"
          ]
        }
      ]
    },
    {
      "cell_type": "code",
      "source": [
        "torch.eye(10)"
      ],
      "metadata": {
        "colab": {
          "base_uri": "https://localhost:8080/"
        },
        "id": "tw8JH3WDcfrJ",
        "outputId": "3bfac595-0e4d-47c8-f1e6-ca4bd6ef0e92"
      },
      "execution_count": null,
      "outputs": [
        {
          "output_type": "execute_result",
          "data": {
            "text/plain": [
              "tensor([[1., 0., 0., 0., 0., 0., 0., 0., 0., 0.],\n",
              "        [0., 1., 0., 0., 0., 0., 0., 0., 0., 0.],\n",
              "        [0., 0., 1., 0., 0., 0., 0., 0., 0., 0.],\n",
              "        [0., 0., 0., 1., 0., 0., 0., 0., 0., 0.],\n",
              "        [0., 0., 0., 0., 1., 0., 0., 0., 0., 0.],\n",
              "        [0., 0., 0., 0., 0., 1., 0., 0., 0., 0.],\n",
              "        [0., 0., 0., 0., 0., 0., 1., 0., 0., 0.],\n",
              "        [0., 0., 0., 0., 0., 0., 0., 1., 0., 0.],\n",
              "        [0., 0., 0., 0., 0., 0., 0., 0., 1., 0.],\n",
              "        [0., 0., 0., 0., 0., 0., 0., 0., 0., 1.]])"
            ]
          },
          "metadata": {},
          "execution_count": 16
        }
      ]
    },
    {
      "cell_type": "code",
      "source": [
        "torch.zeros(2, 2)"
      ],
      "metadata": {
        "colab": {
          "base_uri": "https://localhost:8080/"
        },
        "id": "6rfEJaGccghT",
        "outputId": "b5c494b6-6284-4675-e8bf-fe5d510fc58f"
      },
      "execution_count": null,
      "outputs": [
        {
          "output_type": "execute_result",
          "data": {
            "text/plain": [
              "tensor([[0., 0.],\n",
              "        [0., 0.]])"
            ]
          },
          "metadata": {},
          "execution_count": 17
        }
      ]
    },
    {
      "cell_type": "code",
      "source": [
        "torch.ones(2, 3)"
      ],
      "metadata": {
        "colab": {
          "base_uri": "https://localhost:8080/"
        },
        "id": "GUVLXtyBchOS",
        "outputId": "05fa539e-d51e-4a89-b795-7be9a2458add"
      },
      "execution_count": null,
      "outputs": [
        {
          "output_type": "execute_result",
          "data": {
            "text/plain": [
              "tensor([[1., 1., 1.],\n",
              "        [1., 1., 1.]])"
            ]
          },
          "metadata": {},
          "execution_count": 18
        }
      ]
    },
    {
      "cell_type": "code",
      "source": [
        "torch.rand(3, 4)"
      ],
      "metadata": {
        "colab": {
          "base_uri": "https://localhost:8080/"
        },
        "id": "xKdrE1YmciKh",
        "outputId": "f04527ae-8830-4433-86b3-d775e6b67c4e"
      },
      "execution_count": null,
      "outputs": [
        {
          "output_type": "execute_result",
          "data": {
            "text/plain": [
              "tensor([[0.0273, 0.2034, 0.3474, 0.2543],\n",
              "        [0.1727, 0.6232, 0.1715, 0.5734],\n",
              "        [0.3583, 0.3595, 0.3765, 0.8562]])"
            ]
          },
          "metadata": {},
          "execution_count": 19
        }
      ]
    },
    {
      "cell_type": "code",
      "source": [
        "data = torch.tensor([[1, 2, 3], [4, 5, 6]])\n",
        "data[1, 0], data[0, 0:2], data[:2, :2]"
      ],
      "metadata": {
        "colab": {
          "base_uri": "https://localhost:8080/"
        },
        "id": "sAzYVygUckSI",
        "outputId": "8075522d-fbd8-4d8c-c260-e69bced5de85"
      },
      "execution_count": null,
      "outputs": [
        {
          "output_type": "execute_result",
          "data": {
            "text/plain": [
              "(tensor(4),\n",
              " tensor([1, 2]),\n",
              " tensor([[1, 2],\n",
              "         [4, 5]]))"
            ]
          },
          "metadata": {},
          "execution_count": 20
        }
      ]
    },
    {
      "cell_type": "markdown",
      "source": [
        "#### Torch.tensor attributes\n",
        "\n",
        "| Attribute | Data Type | Description |\n",
        "|----|----|----|\n",
        "|data|array_like | list, tuple, NumPy ndarray, scalar |\n",
        "|dtype| torch.dtype | The tensor's data type|\n",
        "|requires_grad | bool| Should autograd record operation |\n",
        "|device | torch.device | Allocated on CPU or CUDA (GPU) |\n",
        "\n",
        "torch.tensor(data, dtype=None, device=None, requires_grad=False) → Tensor\n"
      ],
      "metadata": {
        "id": "hJ_mYarJc8G0"
      }
    },
    {
      "cell_type": "code",
      "source": [
        "t = torch.tensor(data = [1, 2, 3], dtype=torch.float32, device='cpu', requires_grad=False)\n",
        "t"
      ],
      "metadata": {
        "colab": {
          "base_uri": "https://localhost:8080/"
        },
        "id": "ka_kVJD7clQd",
        "outputId": "acc72c7a-c0ae-44fb-866f-566e15a37d39"
      },
      "execution_count": null,
      "outputs": [
        {
          "output_type": "execute_result",
          "data": {
            "text/plain": [
              "tensor([1., 2., 3.])"
            ]
          },
          "metadata": {},
          "execution_count": 21
        }
      ]
    },
    {
      "cell_type": "code",
      "source": [
        "t = torch.as_tensor(data = [1, 2, 3], dtype=torch.float32, device='cpu', requires_grad=False)\n",
        "t"
      ],
      "metadata": {
        "colab": {
          "base_uri": "https://localhost:8080/",
          "height": 164
        },
        "id": "7DIXBybkcmBw",
        "outputId": "8c5fcb80-792a-4a2c-b565-f5e0aa0c3fb8"
      },
      "execution_count": null,
      "outputs": [
        {
          "output_type": "error",
          "ename": "TypeError",
          "evalue": "as_tensor() got an unexpected keyword argument 'requires_grad'",
          "traceback": [
            "\u001b[0;31m---------------------------------------------------------------------------\u001b[0m",
            "\u001b[0;31mTypeError\u001b[0m                                 Traceback (most recent call last)",
            "\u001b[0;32m/tmp/ipython-input-2082098798.py\u001b[0m in \u001b[0;36m<cell line: 0>\u001b[0;34m()\u001b[0m\n\u001b[0;32m----> 1\u001b[0;31m \u001b[0mt\u001b[0m \u001b[0;34m=\u001b[0m \u001b[0mtorch\u001b[0m\u001b[0;34m.\u001b[0m\u001b[0mas_tensor\u001b[0m\u001b[0;34m(\u001b[0m\u001b[0mdata\u001b[0m \u001b[0;34m=\u001b[0m \u001b[0;34m[\u001b[0m\u001b[0;36m1\u001b[0m\u001b[0;34m,\u001b[0m \u001b[0;36m2\u001b[0m\u001b[0;34m,\u001b[0m \u001b[0;36m3\u001b[0m\u001b[0;34m]\u001b[0m\u001b[0;34m,\u001b[0m \u001b[0mdtype\u001b[0m\u001b[0;34m=\u001b[0m\u001b[0mtorch\u001b[0m\u001b[0;34m.\u001b[0m\u001b[0mfloat32\u001b[0m\u001b[0;34m,\u001b[0m \u001b[0mdevice\u001b[0m\u001b[0;34m=\u001b[0m\u001b[0;34m'cpu'\u001b[0m\u001b[0;34m,\u001b[0m \u001b[0mrequires_grad\u001b[0m\u001b[0;34m=\u001b[0m\u001b[0;32mFalse\u001b[0m\u001b[0;34m)\u001b[0m\u001b[0;34m\u001b[0m\u001b[0;34m\u001b[0m\u001b[0m\n\u001b[0m\u001b[1;32m      2\u001b[0m \u001b[0mt\u001b[0m\u001b[0;34m\u001b[0m\u001b[0;34m\u001b[0m\u001b[0m\n",
            "\u001b[0;31mTypeError\u001b[0m: as_tensor() got an unexpected keyword argument 'requires_grad'"
          ]
        }
      ]
    },
    {
      "cell_type": "code",
      "source": [
        "t = torch.as_tensor(data = [1, 2, 3], dtype=torch.float32, device='cpu')\n",
        "t"
      ],
      "metadata": {
        "colab": {
          "base_uri": "https://localhost:8080/"
        },
        "id": "yTc2G4Qicm9P",
        "outputId": "623f9f63-fb87-44c2-e0ed-165628a65f52"
      },
      "execution_count": null,
      "outputs": [
        {
          "output_type": "execute_result",
          "data": {
            "text/plain": [
              "tensor([1., 2., 3.])"
            ]
          },
          "metadata": {},
          "execution_count": 23
        }
      ]
    },
    {
      "cell_type": "code",
      "source": [
        "t.requires_grad_()"
      ],
      "metadata": {
        "colab": {
          "base_uri": "https://localhost:8080/"
        },
        "id": "aZX1HiYhcoQf",
        "outputId": "735f1f41-1d54-47f9-9d6d-f678d5ebdedb"
      },
      "execution_count": null,
      "outputs": [
        {
          "output_type": "execute_result",
          "data": {
            "text/plain": [
              "tensor([1., 2., 3.], requires_grad=True)"
            ]
          },
          "metadata": {},
          "execution_count": 24
        }
      ]
    },
    {
      "cell_type": "markdown",
      "source": [
        "# Autograd in PyTorch\n",
        "\n",
        "One of PyTorch’s most powerful features is **Autograd**, its **automatic differentiation engine**.\n",
        "\n",
        "###  Key Ideas\n",
        "\n",
        "* **Automatic differentiation**: PyTorch tracks all tensor operations, so it can compute derivatives automatically.\n",
        "* **Dynamic graph**: The backward graph is built *on the fly* from the forward pass. This makes debugging, experimentation, and model changes very easy.\n",
        "* **Gradients**: Each tensor has an attribute `.grad` that stores the derivative of some scalar loss with respect to that tensor.\n",
        "* **Chain rule**: PyTorch applies the chain rule under the hood for backpropagation.\n",
        "\n",
        "---\n",
        "\n",
        "## Example: A Simple Gradient Computation\n",
        "\n",
        "```python\n",
        "import torch\n",
        "\n",
        "# Create a tensor with gradient tracking enabled\n",
        "x = torch.tensor(2.0, requires_grad=True)\n",
        "\n",
        "# Define a simple function: y = x^2 + 3x + 1\n",
        "y = x**2 + 3*x + 1\n",
        "\n",
        "# Backpropagate (compute dy/dx)\n",
        "y.backward()\n",
        "\n",
        "# Gradient is stored in x.grad\n",
        "print(f\"x: {x.item()}\")\n",
        "print(f\"y: {y.item()}\")\n",
        "print(f\"dy/dx: {x.grad.item()}\")\n",
        "```\n",
        "\n",
        "### Output\n",
        "\n",
        "```\n",
        "x: 2.0\n",
        "y: 11.0\n",
        "dy/dx: 7.0\n",
        "```\n",
        "\n",
        "Explanation:\n",
        "\n",
        "* $y = x^2 + 3x + 1$\n",
        "* Derivative: $dy/dx = 2x + 3$\n",
        "* At $x=2$, $dy/dx = 7$. PyTorch computed this automatically!\n",
        "\n",
        "---\n",
        "\n",
        "## Example: Working with Vectors\n",
        "\n",
        "```python\n",
        "# A vector of inputs\n",
        "x = torch.randn(3, requires_grad=True)\n",
        "\n",
        "# A simple function: y = sum(x^2)\n",
        "y = (x**2).sum()\n",
        "\n",
        "# Compute gradients\n",
        "y.backward()\n",
        "\n",
        "print(\"x:\", x)\n",
        "print(\"Gradient dy/dx:\", x.grad)\n",
        "```\n",
        "\n",
        "Here, the gradient is simply $2x$, applied element-wise.\n",
        "\n",
        "---\n",
        "\n",
        "## Why Autograd Matters\n",
        "\n",
        "* **Neural networks**: Training requires gradients of the loss w\\.r.t. millions of parameters → Autograd handles this automatically.\n",
        "* **Flexibility**: Works with dynamic graphs, so models can have loops, conditionals, or variable architectures.\n",
        "* **Efficiency**: Optimized C++ backend with GPU acceleration.\n",
        "* **Integration**: Works seamlessly with `torch.optim` for gradient-based optimization.\n",
        "\n",
        "---\n",
        "\n",
        "**In short**: With Autograd, you just define your forward computation in PyTorch. The backward pass and gradients are taken care of automatically, enabling easy and fast experimentation with new models.\n",
        "\n"
      ],
      "metadata": {
        "id": "xhQ747GpdCcM"
      }
    },
    {
      "cell_type": "code",
      "source": [
        "from torch.autograd import grad\n",
        "\n",
        "x1 = torch.tensor(2, requires_grad=True, dtype=torch.float16)\n",
        "x2 = torch.tensor(3, requires_grad=True, dtype=torch.float16)\n",
        "x3 = torch.tensor(1, requires_grad=True, dtype=torch.float16)\n",
        "x4 = torch.tensor(4, requires_grad=True, dtype=torch.float16)\n",
        "\n",
        "x1, x2, x3, x4"
      ],
      "metadata": {
        "colab": {
          "base_uri": "https://localhost:8080/"
        },
        "id": "-TBF_UbacpZy",
        "outputId": "8dc2aca4-e70f-4883-d01a-811ddd62166b"
      },
      "execution_count": null,
      "outputs": [
        {
          "output_type": "execute_result",
          "data": {
            "text/plain": [
              "(tensor(2., dtype=torch.float16, requires_grad=True),\n",
              " tensor(3., dtype=torch.float16, requires_grad=True),\n",
              " tensor(1., dtype=torch.float16, requires_grad=True),\n",
              " tensor(4., dtype=torch.float16, requires_grad=True))"
            ]
          },
          "metadata": {},
          "execution_count": 25
        }
      ]
    },
    {
      "cell_type": "code",
      "source": [
        "z1 = x1 * x2\n",
        "z2 = x3 * x4\n",
        "\n",
        "f = z1 + z2\n",
        "\n",
        "# f = x1 * x2 + x3 * x4\n",
        "# f = 2 * 3 + 1 * 4\n",
        "# df_dx1 = 3\n",
        "# df_dx4 = 1\n",
        "\n",
        "df_dx = grad(outputs = f, inputs = [x1, x2, x3, x4])\n",
        "print(f'gradient of x1 = {df_dx[0]}')\n",
        "print(f'gradient of x2 = {df_dx[1]}')\n",
        "print(f'gradient of x3 = {df_dx[2]}')\n",
        "print(f'gradient of x4 = {df_dx[3]}')\n",
        "\n"
      ],
      "metadata": {
        "colab": {
          "base_uri": "https://localhost:8080/"
        },
        "id": "ZL5b18V7cqXV",
        "outputId": "fad7f567-4ed9-4773-b5b3-1f358b3e361a"
      },
      "execution_count": null,
      "outputs": [
        {
          "output_type": "stream",
          "name": "stdout",
          "text": [
            "gradient of x1 = 3.0\n",
            "gradient of x2 = 2.0\n",
            "gradient of x3 = 4.0\n",
            "gradient of x4 = 1.0\n"
          ]
        }
      ]
    },
    {
      "cell_type": "code",
      "source": [
        "import torch.nn.functional as F\n",
        "import torch.optim as optim\n",
        "\n",
        "opt = optim.SGD(params = [x1, x2, x3, x4], lr=0.001)\n",
        "opt.zero_grad()"
      ],
      "metadata": {
        "id": "Jmg6JYJicsp7"
      },
      "execution_count": null,
      "outputs": []
    },
    {
      "cell_type": "code",
      "source": [
        "z1 = x1 * x2\n",
        "z2 = x3 * x4\n",
        "\n",
        "f = z1 + z2\n",
        "\n",
        "f.backward()\n",
        "\n",
        "print(f'gradient of x1 = {x1.grad}')\n",
        "print(f'gradient of x2 = {x2.grad}')\n",
        "print(f'gradient of x3 = {x3.grad}')\n",
        "print(f'gradient of x4 = {x4.grad}')"
      ],
      "metadata": {
        "colab": {
          "base_uri": "https://localhost:8080/"
        },
        "id": "5-x9qZq4dTOU",
        "outputId": "85535649-64c3-4ba6-e84b-17be43c01e26"
      },
      "execution_count": null,
      "outputs": [
        {
          "output_type": "stream",
          "name": "stdout",
          "text": [
            "gradient of x1 = 3.0\n",
            "gradient of x2 = 2.0\n",
            "gradient of x3 = 4.0\n",
            "gradient of x4 = 1.0\n"
          ]
        }
      ]
    },
    {
      "cell_type": "markdown",
      "source": [
        "# Tensor Operation Types in PyTorch\n",
        "\n",
        "PyTorch tensors support a wide range of operations. These can be grouped into four broad categories:\n",
        "\n",
        "---\n",
        "\n",
        "## 1. Reshaping Operations\n",
        "\n",
        "Reshaping operations change the **structure** of a tensor without altering the underlying data.\n",
        "\n",
        "* **`view()` / `reshape()`** – Change shape\n",
        "* **`unsqueeze()` / `squeeze()`** – Add or remove dimensions of size 1\n",
        "* **`transpose()` / `permute()`** – Reorder dimensions\n",
        "* **`contiguous()`** – Ensure memory continuity for reshaping\n",
        "\n",
        "```python\n",
        "import torch\n",
        "\n",
        "x = torch.arange(6)              # [0, 1, 2, 3, 4, 5]\n",
        "x = x.view(2, 3)                 # Reshape to 2x3\n",
        "print(x)\n",
        "\n",
        "y = x.transpose(0, 1)            # Transpose (swap axes)\n",
        "print(y)\n",
        "\n",
        "z = x.unsqueeze(0)               # Add a new dimension at front\n",
        "print(z.shape)  # torch.Size([1, 2, 3])\n",
        "```\n",
        "\n",
        "✅ **Use case:** Preparing tensors for batch processing, matrix multiplication, or feeding into neural network layers.\n",
        "\n",
        "---\n",
        "\n",
        "## 2. Element-wise Operations\n",
        "\n",
        "These apply functions **independently** to each element of the tensor.\n",
        "\n",
        "* Arithmetic: `+`, `-`, `*`, `/`, `**`\n",
        "* Comparison: `<`, `>`, `==`\n",
        "* Mathematical: `torch.exp`, `torch.log`, `torch.sin`, etc.\n",
        "\n",
        "```python\n",
        "a = torch.tensor([1.0, 2.0, 3.0])\n",
        "b = torch.tensor([3.0, 2.0, 1.0])\n",
        "\n",
        "print(a + b)       # [4., 4., 4.]\n",
        "print(a * b)       # [3., 4., 3.]\n",
        "print(torch.exp(a))  # element-wise exponential\n",
        "```\n",
        "\n",
        "✅ **Use case:** Activation functions, normalization, element-wise arithmetic in model layers.\n",
        "\n",
        "---\n",
        "\n",
        "## 3. Reduction Operations\n",
        "\n",
        "Reduction operations **aggregate tensor values** along one or more dimensions.\n",
        "\n",
        "* **`sum()`** – Add elements\n",
        "* **`mean()`** – Average values\n",
        "* **`max()` / `min()`** – Get extreme values\n",
        "* **`argmax()` / `argmin()`** – Index of max/min values\n",
        "* **`prod()`** – Product of elements\n",
        "\n",
        "```python\n",
        "x = torch.tensor([[1., 2., 3.],\n",
        "                  [4., 5., 6.]])\n",
        "\n",
        "print(x.sum())             # 21\n",
        "print(x.mean(dim=0))       # [2.5, 3.5, 4.5]\n",
        "print(x.max(dim=1))        # values: [3., 6.], indices: [2, 2]\n",
        "```\n",
        "\n",
        "✅ **Use case:** Loss functions, pooling in CNNs, summarizing predictions.\n",
        "\n",
        "---\n",
        "\n",
        "## 4. Access Operations\n",
        "\n",
        "Access operations let you **retrieve or modify** specific elements or slices of a tensor.\n",
        "\n",
        "* **Indexing** (like Python lists): `x[0]`, `x[1, 2]`\n",
        "* **Slicing**: `x[:, 1:3]`\n",
        "* **Boolean indexing**: `x[x > 3]`\n",
        "* **Advanced indexing**: Gather elements by index tensors\n",
        "\n",
        "```python\n",
        "x = torch.tensor([[10, 20, 30],\n",
        "                  [40, 50, 60]])\n",
        "\n",
        "print(x[0, 1])        # 20\n",
        "print(x[:, 2])        # [30, 60]\n",
        "print(x[x > 30])      # [40, 50, 60]\n",
        "```\n",
        "\n",
        "✅ **Use case:** Extracting minibatches, masking inputs, or modifying tensor values during preprocessing.\n",
        "\n",
        "---\n",
        "\n",
        "# 🔑 Summary\n",
        "\n",
        "* **Reshaping** → Change structure/dimensions (e.g., `.view()`, `.transpose()`)\n",
        "* **Element-wise** → Operate on each element individually (e.g., `+`, `exp`)\n",
        "* **Reduction** → Aggregate across dimensions (e.g., `sum`, `mean`, `max`)\n",
        "* **Access** → Retrieve, slice, or mask values (e.g., indexing, boolean masks)\n",
        "\n"
      ],
      "metadata": {
        "id": "qKd9Lznpddhr"
      }
    },
    {
      "cell_type": "code",
      "source": [
        "t = torch.tensor([\n",
        "    [0, 0, 0, 0],\n",
        "    [1, 2, 3, 4],\n",
        "    [2, 2, 2, 2]\n",
        "], dtype=torch.float32)"
      ],
      "metadata": {
        "id": "In3rAVvidUJh"
      },
      "execution_count": null,
      "outputs": []
    },
    {
      "cell_type": "code",
      "source": [
        "t.shape, t.size(), len(t.shape)"
      ],
      "metadata": {
        "colab": {
          "base_uri": "https://localhost:8080/"
        },
        "id": "LmqmQ9YTdnVX",
        "outputId": "eaf59f94-f75b-4dba-ee94-f49116077844"
      },
      "execution_count": null,
      "outputs": [
        {
          "output_type": "execute_result",
          "data": {
            "text/plain": [
              "(torch.Size([3, 4]), torch.Size([3, 4]), 2)"
            ]
          },
          "metadata": {},
          "execution_count": 30
        }
      ]
    },
    {
      "cell_type": "code",
      "source": [
        "torch.tensor(t.shape).prod()"
      ],
      "metadata": {
        "colab": {
          "base_uri": "https://localhost:8080/"
        },
        "id": "cMqn583ddoJn",
        "outputId": "f831fb05-1973-42cb-f9b9-8081952fa6a7"
      },
      "execution_count": null,
      "outputs": [
        {
          "output_type": "execute_result",
          "data": {
            "text/plain": [
              "tensor(12)"
            ]
          },
          "metadata": {},
          "execution_count": 31
        }
      ]
    },
    {
      "cell_type": "code",
      "source": [
        "t.numel()"
      ],
      "metadata": {
        "colab": {
          "base_uri": "https://localhost:8080/"
        },
        "id": "RCJ3lvpTdpGC",
        "outputId": "4dc08148-cabd-4356-9c80-6a3a85d98c5d"
      },
      "execution_count": null,
      "outputs": [
        {
          "output_type": "execute_result",
          "data": {
            "text/plain": [
              "12"
            ]
          },
          "metadata": {},
          "execution_count": 32
        }
      ]
    },
    {
      "cell_type": "markdown",
      "source": [
        "### Why knowing these is important?\n",
        "\n",
        "When we reshape a tensor, the reshaping operation must account for all of numel (or total number of elements). We if we have 12 elements, we can only build 1x12, 12x1, 6x2, 2x6, 3x4, 4x3 reshaped tensors"
      ],
      "metadata": {
        "id": "U94DTEjPdrHm"
      }
    },
    {
      "cell_type": "code",
      "source": [
        "t.reshape(1, 12)"
      ],
      "metadata": {
        "colab": {
          "base_uri": "https://localhost:8080/"
        },
        "id": "lm8Fzb1adp6R",
        "outputId": "66b83335-63ce-4866-a008-9001414b4e2c"
      },
      "execution_count": null,
      "outputs": [
        {
          "output_type": "execute_result",
          "data": {
            "text/plain": [
              "tensor([[0., 0., 0., 0., 1., 2., 3., 4., 2., 2., 2., 2.]])"
            ]
          },
          "metadata": {},
          "execution_count": 33
        }
      ]
    },
    {
      "cell_type": "code",
      "source": [
        "t.reshape(2, 6)"
      ],
      "metadata": {
        "colab": {
          "base_uri": "https://localhost:8080/"
        },
        "id": "1j8UR5rmdsk4",
        "outputId": "08ae4fa1-ca6e-4439-8500-a937f5ed9c99"
      },
      "execution_count": null,
      "outputs": [
        {
          "output_type": "execute_result",
          "data": {
            "text/plain": [
              "tensor([[0., 0., 0., 0., 1., 2.],\n",
              "        [3., 4., 2., 2., 2., 2.]])"
            ]
          },
          "metadata": {},
          "execution_count": 34
        }
      ]
    },
    {
      "cell_type": "code",
      "source": [
        "t.reshape(2, -1)"
      ],
      "metadata": {
        "colab": {
          "base_uri": "https://localhost:8080/"
        },
        "id": "7wWYkWxMdtfh",
        "outputId": "46d74474-a7c4-4ee0-b91f-15c36176bab6"
      },
      "execution_count": null,
      "outputs": [
        {
          "output_type": "execute_result",
          "data": {
            "text/plain": [
              "tensor([[0., 0., 0., 0., 1., 2.],\n",
              "        [3., 4., 2., 2., 2., 2.]])"
            ]
          },
          "metadata": {},
          "execution_count": 35
        }
      ]
    },
    {
      "cell_type": "code",
      "source": [
        "t.reshape(4, 3)"
      ],
      "metadata": {
        "colab": {
          "base_uri": "https://localhost:8080/"
        },
        "id": "4OIMxPbfduPs",
        "outputId": "5a0be40c-ac6a-4b33-bae8-1e6bc6a6f764"
      },
      "execution_count": null,
      "outputs": [
        {
          "output_type": "execute_result",
          "data": {
            "text/plain": [
              "tensor([[0., 0., 0.],\n",
              "        [0., 1., 2.],\n",
              "        [3., 4., 2.],\n",
              "        [2., 2., 2.]])"
            ]
          },
          "metadata": {},
          "execution_count": 36
        }
      ]
    },
    {
      "cell_type": "code",
      "source": [
        "t.reshape(2, 2, 3)"
      ],
      "metadata": {
        "colab": {
          "base_uri": "https://localhost:8080/"
        },
        "id": "FiXg-C0ldvFj",
        "outputId": "b4fd301a-55bf-40bb-b4ef-d2ee692cefa9"
      },
      "execution_count": null,
      "outputs": [
        {
          "output_type": "execute_result",
          "data": {
            "text/plain": [
              "tensor([[[0., 0., 0.],\n",
              "         [0., 1., 2.]],\n",
              "\n",
              "        [[3., 4., 2.],\n",
              "         [2., 2., 2.]]])"
            ]
          },
          "metadata": {},
          "execution_count": 37
        }
      ]
    },
    {
      "cell_type": "code",
      "source": [
        "print(t.reshape(1, 12))\n",
        "print(t.reshape(1, 12).shape)"
      ],
      "metadata": {
        "colab": {
          "base_uri": "https://localhost:8080/"
        },
        "id": "rJYtjNqvdwI6",
        "outputId": "2af559fb-c49e-4319-b014-629055164485"
      },
      "execution_count": null,
      "outputs": [
        {
          "output_type": "stream",
          "name": "stdout",
          "text": [
            "tensor([[0., 0., 0., 0., 1., 2., 3., 4., 2., 2., 2., 2.]])\n",
            "torch.Size([1, 12])\n"
          ]
        }
      ]
    },
    {
      "cell_type": "markdown",
      "source": [
        "**Squeezing a Tensor**\n",
        "\n",
        "Removes all the dimensions that have a length of 1\n",
        "\n",
        "**Unsqueezing a Tensor**\n",
        "Adds a dimension that has a length of 1."
      ],
      "metadata": {
        "id": "XhRGcAt4dyQl"
      }
    },
    {
      "cell_type": "code",
      "source": [
        "print(t.reshape(1, 12))\n",
        "print(t.reshape(1, 12).shape)"
      ],
      "metadata": {
        "colab": {
          "base_uri": "https://localhost:8080/"
        },
        "id": "5nzrP7VndxCF",
        "outputId": "a5c4d4f5-2c77-4241-aee5-de1dd9a726cf"
      },
      "execution_count": null,
      "outputs": [
        {
          "output_type": "stream",
          "name": "stdout",
          "text": [
            "tensor([[0., 0., 0., 0., 1., 2., 3., 4., 2., 2., 2., 2.]])\n",
            "torch.Size([1, 12])\n"
          ]
        }
      ]
    },
    {
      "cell_type": "code",
      "source": [
        "print(t.reshape(1, 12).squeeze())\n",
        "print(t.reshape(1, 12).squeeze().shape)"
      ],
      "metadata": {
        "colab": {
          "base_uri": "https://localhost:8080/"
        },
        "id": "iQwKzV2hdzeC",
        "outputId": "53136e99-c321-4e83-bba4-3e0ad32fa501"
      },
      "execution_count": null,
      "outputs": [
        {
          "output_type": "stream",
          "name": "stdout",
          "text": [
            "tensor([0., 0., 0., 0., 1., 2., 3., 4., 2., 2., 2., 2.])\n",
            "torch.Size([12])\n"
          ]
        }
      ]
    },
    {
      "cell_type": "code",
      "source": [
        "print(t.reshape(1, 12).squeeze().unsqueeze(dim = 0))\n",
        "print(t.reshape(1, 12).squeeze().unsqueeze(dim = 0).shape)"
      ],
      "metadata": {
        "colab": {
          "base_uri": "https://localhost:8080/"
        },
        "id": "Xww5vrSud0TJ",
        "outputId": "50e2b7c1-b53a-4fe5-a2af-add5057a7c8d"
      },
      "execution_count": null,
      "outputs": [
        {
          "output_type": "stream",
          "name": "stdout",
          "text": [
            "tensor([[0., 0., 0., 0., 1., 2., 3., 4., 2., 2., 2., 2.]])\n",
            "torch.Size([1, 12])\n"
          ]
        }
      ]
    },
    {
      "cell_type": "markdown",
      "source": [
        "**Use cases?**\n",
        "\n",
        "Neural networks are always trained in a batch of samples. This is troubling because when we want to test 1 image, we do not have an array, we only have 1 image. Well we unsqueeze it to fake a batch.\n",
        "\n",
        "We use this function that is very common, called Flatten. This essentially create a new tensor that is only 1D. This is done to connect our data to next Fully Connected Layers. We use squeeze function for this.\n",
        "\n",
        "Let's implement such a function."
      ],
      "metadata": {
        "id": "3SY8k47cd2UI"
      }
    },
    {
      "cell_type": "code",
      "source": [
        "def flatter(t):\n",
        "  t = t.reshape(1, -1)\n",
        "  t = t.squeeze()\n",
        "  return t\n",
        "\n",
        "t.shape\n"
      ],
      "metadata": {
        "colab": {
          "base_uri": "https://localhost:8080/"
        },
        "id": "T1fDtXCUd1JP",
        "outputId": "aa619dae-e3a1-489f-b190-ab7730d9c823"
      },
      "execution_count": null,
      "outputs": [
        {
          "output_type": "execute_result",
          "data": {
            "text/plain": [
              "torch.Size([3, 4])"
            ]
          },
          "metadata": {},
          "execution_count": 42
        }
      ]
    },
    {
      "cell_type": "code",
      "source": [
        "flatter(t)"
      ],
      "metadata": {
        "colab": {
          "base_uri": "https://localhost:8080/"
        },
        "id": "gMHCPlOqd396",
        "outputId": "adc78131-eefc-49ca-c4c0-f7813cc5c1c5"
      },
      "execution_count": null,
      "outputs": [
        {
          "output_type": "execute_result",
          "data": {
            "text/plain": [
              "tensor([0., 0., 0., 0., 1., 2., 3., 4., 2., 2., 2., 2.])"
            ]
          },
          "metadata": {},
          "execution_count": 43
        }
      ]
    },
    {
      "cell_type": "code",
      "source": [
        "t1 = torch.tensor([\n",
        "    [1, 2],\n",
        "    [3, 4]\n",
        "])\n",
        "\n",
        "t2 = torch.tensor([\n",
        "    [5, 6],\n",
        "    [7, 8]\n",
        "])\n",
        "\n",
        "torch.cat((t1, t2), dim=0)"
      ],
      "metadata": {
        "colab": {
          "base_uri": "https://localhost:8080/"
        },
        "id": "ZhDPRHfXd4xH",
        "outputId": "d31d8a9d-4420-46af-eb7b-fc69ee260309"
      },
      "execution_count": null,
      "outputs": [
        {
          "output_type": "execute_result",
          "data": {
            "text/plain": [
              "tensor([[1, 2],\n",
              "        [3, 4],\n",
              "        [5, 6],\n",
              "        [7, 8]])"
            ]
          },
          "metadata": {},
          "execution_count": 44
        }
      ]
    },
    {
      "cell_type": "markdown",
      "source": [
        "![ops](https://ucarecdn.com/9f29f62d-5e96-430a-be4b-22f007983072/)"
      ],
      "metadata": {
        "id": "wJcuUA_sjwzz"
      }
    },
    {
      "cell_type": "code",
      "source": [
        "torch.cat((t1, t2), dim=1)"
      ],
      "metadata": {
        "colab": {
          "base_uri": "https://localhost:8080/"
        },
        "id": "RJmU4UBXd5il",
        "outputId": "15a4ed6b-5140-4fca-ec87-5cc6ba69c062"
      },
      "execution_count": null,
      "outputs": [
        {
          "output_type": "execute_result",
          "data": {
            "text/plain": [
              "tensor([[1, 2, 5, 6],\n",
              "        [3, 4, 7, 8]])"
            ]
          },
          "metadata": {},
          "execution_count": 45
        }
      ]
    },
    {
      "cell_type": "code",
      "source": [
        "t.reshape(2, -1)"
      ],
      "metadata": {
        "colab": {
          "base_uri": "https://localhost:8080/"
        },
        "id": "fTSnv8Vcd6mV",
        "outputId": "f569b565-f692-45c4-b15e-e016ca70da80"
      },
      "execution_count": null,
      "outputs": [
        {
          "output_type": "execute_result",
          "data": {
            "text/plain": [
              "tensor([[0., 0., 0., 0., 1., 2.],\n",
              "        [3., 4., 2., 2., 2., 2.]])"
            ]
          },
          "metadata": {},
          "execution_count": 46
        }
      ]
    },
    {
      "cell_type": "code",
      "source": [
        "img1 = torch.tensor([\n",
        "  [1, 1, 1, 1],\n",
        "  [1, 1, 1, 1],\n",
        "  [1, 1, 1, 1],\n",
        "  [1, 1, 1, 1]\n",
        "])\n",
        "\n",
        "img2 = torch.tensor([\n",
        "  [2, 2, 2, 2],\n",
        "  [2, 2, 2, 2],\n",
        "  [2, 2, 2, 2],\n",
        "  [2, 2, 2, 2]\n",
        "])\n",
        "\n",
        "img3 = torch.tensor([\n",
        "  [3, 3, 3, 3],\n",
        "  [3, 3, 3, 3],\n",
        "  [3, 3, 3, 3],\n",
        "  [3, 3, 3, 3]\n",
        "])"
      ],
      "metadata": {
        "id": "_uW8Wzbrd7Wd"
      },
      "execution_count": null,
      "outputs": []
    },
    {
      "cell_type": "code",
      "source": [
        "batch = torch.stack((img1, img2, img3))\n",
        "batch.shape"
      ],
      "metadata": {
        "colab": {
          "base_uri": "https://localhost:8080/"
        },
        "id": "r12vSqcdd8Op",
        "outputId": "117f76aa-2b51-4139-abaf-5c79a83e429c"
      },
      "execution_count": null,
      "outputs": [
        {
          "output_type": "execute_result",
          "data": {
            "text/plain": [
              "torch.Size([3, 4, 4])"
            ]
          },
          "metadata": {},
          "execution_count": 48
        }
      ]
    },
    {
      "cell_type": "code",
      "source": [
        "batch = batch.reshape(3, 1, 4, 4)\n",
        "batch"
      ],
      "metadata": {
        "colab": {
          "base_uri": "https://localhost:8080/"
        },
        "id": "-zY1S6Dqd9nb",
        "outputId": "635191c8-9f49-42b4-9a00-0b377f3ca108"
      },
      "execution_count": null,
      "outputs": [
        {
          "output_type": "execute_result",
          "data": {
            "text/plain": [
              "tensor([[[[1, 1, 1, 1],\n",
              "          [1, 1, 1, 1],\n",
              "          [1, 1, 1, 1],\n",
              "          [1, 1, 1, 1]]],\n",
              "\n",
              "\n",
              "        [[[2, 2, 2, 2],\n",
              "          [2, 2, 2, 2],\n",
              "          [2, 2, 2, 2],\n",
              "          [2, 2, 2, 2]]],\n",
              "\n",
              "\n",
              "        [[[3, 3, 3, 3],\n",
              "          [3, 3, 3, 3],\n",
              "          [3, 3, 3, 3],\n",
              "          [3, 3, 3, 3]]]])"
            ]
          },
          "metadata": {},
          "execution_count": 49
        }
      ]
    },
    {
      "cell_type": "code",
      "source": [
        "# let's get our first image\n",
        "\n",
        "batch[0]"
      ],
      "metadata": {
        "colab": {
          "base_uri": "https://localhost:8080/"
        },
        "id": "DdEGllUvd_Du",
        "outputId": "9a0ec2d0-cfa9-4593-8b8e-66221228a1b4"
      },
      "execution_count": null,
      "outputs": [
        {
          "output_type": "execute_result",
          "data": {
            "text/plain": [
              "tensor([[[1, 1, 1, 1],\n",
              "         [1, 1, 1, 1],\n",
              "         [1, 1, 1, 1],\n",
              "         [1, 1, 1, 1]]])"
            ]
          },
          "metadata": {},
          "execution_count": 51
        }
      ]
    },
    {
      "cell_type": "code",
      "source": [
        "# let's get the first channel of our first image\n",
        "\n",
        "batch[0][0]"
      ],
      "metadata": {
        "colab": {
          "base_uri": "https://localhost:8080/"
        },
        "id": "x33bdA8-eAfV",
        "outputId": "f9d8a1bb-861c-407d-ea4b-f6a5a923d321"
      },
      "execution_count": null,
      "outputs": [
        {
          "output_type": "execute_result",
          "data": {
            "text/plain": [
              "tensor([[1, 1, 1, 1],\n",
              "        [1, 1, 1, 1],\n",
              "        [1, 1, 1, 1],\n",
              "        [1, 1, 1, 1]])"
            ]
          },
          "metadata": {},
          "execution_count": 52
        }
      ]
    },
    {
      "cell_type": "code",
      "source": [
        "# let's get the first row of our first channel of our first image\n",
        "\n",
        "batch[0][0][0]"
      ],
      "metadata": {
        "colab": {
          "base_uri": "https://localhost:8080/"
        },
        "id": "BRqmV18yeCgs",
        "outputId": "857286b2-3b99-4aee-d7a1-7f1dcd3f8dd6"
      },
      "execution_count": null,
      "outputs": [
        {
          "output_type": "execute_result",
          "data": {
            "text/plain": [
              "tensor([1, 1, 1, 1])"
            ]
          },
          "metadata": {},
          "execution_count": 53
        }
      ]
    },
    {
      "cell_type": "code",
      "source": [
        "# let's get the first pixel of the first row of our first channel of our first image\n",
        "\n",
        "batch[0][0][0][0]"
      ],
      "metadata": {
        "colab": {
          "base_uri": "https://localhost:8080/"
        },
        "id": "j5IzzUn7eDab",
        "outputId": "e9819f7e-9a5c-4d87-851b-c98644c9bb4c"
      },
      "execution_count": null,
      "outputs": [
        {
          "output_type": "execute_result",
          "data": {
            "text/plain": [
              "tensor(1)"
            ]
          },
          "metadata": {},
          "execution_count": 54
        }
      ]
    },
    {
      "cell_type": "code",
      "source": [
        "# Let's see how we flatten our image inside the batch\n",
        "\n",
        "batch.reshape(1, -1)[0]\n"
      ],
      "metadata": {
        "colab": {
          "base_uri": "https://localhost:8080/"
        },
        "id": "P9FjUforeEPq",
        "outputId": "2cbbc02c-8dbd-4e76-ff65-8dc0eaada910"
      },
      "execution_count": null,
      "outputs": [
        {
          "output_type": "execute_result",
          "data": {
            "text/plain": [
              "tensor([1, 1, 1, 1, 1, 1, 1, 1, 1, 1, 1, 1, 1, 1, 1, 1, 2, 2, 2, 2, 2, 2, 2, 2,\n",
              "        2, 2, 2, 2, 2, 2, 2, 2, 3, 3, 3, 3, 3, 3, 3, 3, 3, 3, 3, 3, 3, 3, 3, 3])"
            ]
          },
          "metadata": {},
          "execution_count": 55
        }
      ]
    },
    {
      "cell_type": "code",
      "source": [
        "batch.reshape(1, 4, -1)[0]"
      ],
      "metadata": {
        "colab": {
          "base_uri": "https://localhost:8080/"
        },
        "id": "yb2buQhEeFJO",
        "outputId": "56ef3873-473a-4eb9-da68-9e405062a347"
      },
      "execution_count": null,
      "outputs": [
        {
          "output_type": "execute_result",
          "data": {
            "text/plain": [
              "tensor([[1, 1, 1, 1, 1, 1, 1, 1, 1, 1, 1, 1],\n",
              "        [1, 1, 1, 1, 2, 2, 2, 2, 2, 2, 2, 2],\n",
              "        [2, 2, 2, 2, 2, 2, 2, 2, 3, 3, 3, 3],\n",
              "        [3, 3, 3, 3, 3, 3, 3, 3, 3, 3, 3, 3]])"
            ]
          },
          "metadata": {},
          "execution_count": 56
        }
      ]
    },
    {
      "cell_type": "code",
      "source": [
        "batch.reshape(-1)"
      ],
      "metadata": {
        "colab": {
          "base_uri": "https://localhost:8080/"
        },
        "id": "OhLOFH0ZeGFH",
        "outputId": "b82930cb-6814-4816-a0e7-65ee2d79887d"
      },
      "execution_count": null,
      "outputs": [
        {
          "output_type": "execute_result",
          "data": {
            "text/plain": [
              "tensor([1, 1, 1, 1, 1, 1, 1, 1, 1, 1, 1, 1, 1, 1, 1, 1, 2, 2, 2, 2, 2, 2, 2, 2,\n",
              "        2, 2, 2, 2, 2, 2, 2, 2, 3, 3, 3, 3, 3, 3, 3, 3, 3, 3, 3, 3, 3, 3, 3, 3])"
            ]
          },
          "metadata": {},
          "execution_count": 57
        }
      ]
    },
    {
      "cell_type": "code",
      "source": [
        "batch.reshape(batch.numel())"
      ],
      "metadata": {
        "colab": {
          "base_uri": "https://localhost:8080/"
        },
        "id": "s7Vp8BOoeG35",
        "outputId": "d172b509-a8c5-4f6a-e3b1-4cfdbee91a1d"
      },
      "execution_count": null,
      "outputs": [
        {
          "output_type": "execute_result",
          "data": {
            "text/plain": [
              "tensor([1, 1, 1, 1, 1, 1, 1, 1, 1, 1, 1, 1, 1, 1, 1, 1, 2, 2, 2, 2, 2, 2, 2, 2,\n",
              "        2, 2, 2, 2, 2, 2, 2, 2, 3, 3, 3, 3, 3, 3, 3, 3, 3, 3, 3, 3, 3, 3, 3, 3])"
            ]
          },
          "metadata": {},
          "execution_count": 58
        }
      ]
    },
    {
      "cell_type": "code",
      "source": [
        "batch.flatten()"
      ],
      "metadata": {
        "colab": {
          "base_uri": "https://localhost:8080/"
        },
        "id": "o2fzAe6EeK-s",
        "outputId": "5313b7ba-4211-4dc4-fff5-4961eed82a11"
      },
      "execution_count": null,
      "outputs": [
        {
          "output_type": "execute_result",
          "data": {
            "text/plain": [
              "tensor([1, 1, 1, 1, 1, 1, 1, 1, 1, 1, 1, 1, 1, 1, 1, 1, 2, 2, 2, 2, 2, 2, 2, 2,\n",
              "        2, 2, 2, 2, 2, 2, 2, 2, 3, 3, 3, 3, 3, 3, 3, 3, 3, 3, 3, 3, 3, 3, 3, 3])"
            ]
          },
          "metadata": {},
          "execution_count": 59
        }
      ]
    },
    {
      "cell_type": "code",
      "source": [
        "batch.reshape(3, 1, -1)"
      ],
      "metadata": {
        "colab": {
          "base_uri": "https://localhost:8080/"
        },
        "id": "GJqe6etueL3T",
        "outputId": "9d06bcd5-5139-4e34-bf35-18aa6d92381e"
      },
      "execution_count": null,
      "outputs": [
        {
          "output_type": "execute_result",
          "data": {
            "text/plain": [
              "tensor([[[1, 1, 1, 1, 1, 1, 1, 1, 1, 1, 1, 1, 1, 1, 1, 1]],\n",
              "\n",
              "        [[2, 2, 2, 2, 2, 2, 2, 2, 2, 2, 2, 2, 2, 2, 2, 2]],\n",
              "\n",
              "        [[3, 3, 3, 3, 3, 3, 3, 3, 3, 3, 3, 3, 3, 3, 3, 3]]])"
            ]
          },
          "metadata": {},
          "execution_count": 60
        }
      ]
    },
    {
      "cell_type": "code",
      "source": [
        "batch.reshape(3, -1)"
      ],
      "metadata": {
        "colab": {
          "base_uri": "https://localhost:8080/"
        },
        "id": "IJ_NwZbWeM76",
        "outputId": "8a29175f-cdbd-495f-dd4a-56543f2409fd"
      },
      "execution_count": null,
      "outputs": [
        {
          "output_type": "execute_result",
          "data": {
            "text/plain": [
              "tensor([[1, 1, 1, 1, 1, 1, 1, 1, 1, 1, 1, 1, 1, 1, 1, 1],\n",
              "        [2, 2, 2, 2, 2, 2, 2, 2, 2, 2, 2, 2, 2, 2, 2, 2],\n",
              "        [3, 3, 3, 3, 3, 3, 3, 3, 3, 3, 3, 3, 3, 3, 3, 3]])"
            ]
          },
          "metadata": {},
          "execution_count": 61
        }
      ]
    },
    {
      "cell_type": "code",
      "source": [
        "batch.flatten(start_dim = 1)"
      ],
      "metadata": {
        "colab": {
          "base_uri": "https://localhost:8080/"
        },
        "id": "G9MuQk3meQ0g",
        "outputId": "da1b9fc0-b632-43a1-dd5f-9bbac5585fb9"
      },
      "execution_count": null,
      "outputs": [
        {
          "output_type": "execute_result",
          "data": {
            "text/plain": [
              "tensor([[1, 1, 1, 1, 1, 1, 1, 1, 1, 1, 1, 1, 1, 1, 1, 1],\n",
              "        [2, 2, 2, 2, 2, 2, 2, 2, 2, 2, 2, 2, 2, 2, 2, 2],\n",
              "        [3, 3, 3, 3, 3, 3, 3, 3, 3, 3, 3, 3, 3, 3, 3, 3]])"
            ]
          },
          "metadata": {},
          "execution_count": 62
        }
      ]
    },
    {
      "cell_type": "code",
      "source": [
        "t1 = torch.tensor([\n",
        "    [1, 2],\n",
        "    [3, 4]\n",
        "], dtype=torch.float32)\n",
        "\n",
        "t2 = torch.tensor([\n",
        "    [5, 6],\n",
        "    [7, 8]\n",
        "], dtype=torch.float32)"
      ],
      "metadata": {
        "id": "jPg6fI8HeRtl"
      },
      "execution_count": null,
      "outputs": []
    },
    {
      "cell_type": "code",
      "source": [
        "t1 + t2"
      ],
      "metadata": {
        "colab": {
          "base_uri": "https://localhost:8080/"
        },
        "id": "yBvQvM-oeSvz",
        "outputId": "ecbf821b-3cfa-4980-a235-b03d39136dd0"
      },
      "execution_count": null,
      "outputs": [
        {
          "output_type": "execute_result",
          "data": {
            "text/plain": [
              "tensor([[ 6.,  8.],\n",
              "        [10., 12.]])"
            ]
          },
          "metadata": {},
          "execution_count": 64
        }
      ]
    },
    {
      "cell_type": "code",
      "source": [
        "t1 + 2"
      ],
      "metadata": {
        "colab": {
          "base_uri": "https://localhost:8080/"
        },
        "id": "FvGzOwJ1eT2t",
        "outputId": "528db875-9a0e-4ba6-dfb1-23bfd297a83a"
      },
      "execution_count": null,
      "outputs": [
        {
          "output_type": "execute_result",
          "data": {
            "text/plain": [
              "tensor([[3., 4.],\n",
              "        [5., 6.]])"
            ]
          },
          "metadata": {},
          "execution_count": 65
        }
      ]
    },
    {
      "cell_type": "code",
      "source": [
        "t1 - 2"
      ],
      "metadata": {
        "colab": {
          "base_uri": "https://localhost:8080/"
        },
        "id": "xz4MxvMheU0Z",
        "outputId": "d0ef8788-2160-4927-c2a1-fdce25c5716a"
      },
      "execution_count": null,
      "outputs": [
        {
          "output_type": "execute_result",
          "data": {
            "text/plain": [
              "tensor([[-1.,  0.],\n",
              "        [ 1.,  2.]])"
            ]
          },
          "metadata": {},
          "execution_count": 66
        }
      ]
    },
    {
      "cell_type": "code",
      "source": [
        "print(t1.add(2))\n",
        "\n",
        "print(t1.sub(2))\n",
        "\n",
        "print(t1.mul(2))\n",
        "\n",
        "print(t1.div(2))"
      ],
      "metadata": {
        "colab": {
          "base_uri": "https://localhost:8080/"
        },
        "id": "a1WnNMF1eVpf",
        "outputId": "4c2d4800-e29c-4fd8-d97a-98a22b69f019"
      },
      "execution_count": null,
      "outputs": [
        {
          "output_type": "stream",
          "name": "stdout",
          "text": [
            "tensor([[3., 4.],\n",
            "        [5., 6.]])\n",
            "tensor([[-1.,  0.],\n",
            "        [ 1.,  2.]])\n",
            "tensor([[2., 4.],\n",
            "        [6., 8.]])\n",
            "tensor([[0.5000, 1.0000],\n",
            "        [1.5000, 2.0000]])\n"
          ]
        }
      ]
    },
    {
      "cell_type": "code",
      "source": [
        "t = torch.tensor([\n",
        "    [0, 5, 7],\n",
        "    [6, 0, 7],\n",
        "    [0, 8, 0]\n",
        "], dtype=torch.float32)"
      ],
      "metadata": {
        "id": "ZaeHi6SNeWdr"
      },
      "execution_count": null,
      "outputs": []
    },
    {
      "cell_type": "code",
      "source": [
        "t.eq(0)"
      ],
      "metadata": {
        "colab": {
          "base_uri": "https://localhost:8080/"
        },
        "id": "Keu6_fcTeXhH",
        "outputId": "841dff3b-9220-4996-b499-14860a4a48c6"
      },
      "execution_count": null,
      "outputs": [
        {
          "output_type": "execute_result",
          "data": {
            "text/plain": [
              "tensor([[ True, False, False],\n",
              "        [False,  True, False],\n",
              "        [ True, False,  True]])"
            ]
          },
          "metadata": {},
          "execution_count": 69
        }
      ]
    },
    {
      "cell_type": "code",
      "source": [
        "t.ge(0)"
      ],
      "metadata": {
        "colab": {
          "base_uri": "https://localhost:8080/"
        },
        "id": "CVDm1Cc1eY71",
        "outputId": "ea4ede09-604e-4c64-acd0-aca145691918"
      },
      "execution_count": null,
      "outputs": [
        {
          "output_type": "execute_result",
          "data": {
            "text/plain": [
              "tensor([[True, True, True],\n",
              "        [True, True, True],\n",
              "        [True, True, True]])"
            ]
          },
          "metadata": {},
          "execution_count": 70
        }
      ]
    },
    {
      "cell_type": "code",
      "source": [
        "t.le(7)"
      ],
      "metadata": {
        "colab": {
          "base_uri": "https://localhost:8080/"
        },
        "id": "34fNErEIeZ36",
        "outputId": "0998ab25-0b37-4b5a-9881-79ccf095f638"
      },
      "execution_count": null,
      "outputs": [
        {
          "output_type": "execute_result",
          "data": {
            "text/plain": [
              "tensor([[ True,  True,  True],\n",
              "        [ True,  True,  True],\n",
              "        [ True, False,  True]])"
            ]
          },
          "metadata": {},
          "execution_count": 71
        }
      ]
    },
    {
      "cell_type": "code",
      "source": [
        "t.abs()"
      ],
      "metadata": {
        "colab": {
          "base_uri": "https://localhost:8080/"
        },
        "id": "wGKbqlFVea3B",
        "outputId": "da9c8c98-fce0-42ac-fe4e-e1f0091b0790"
      },
      "execution_count": null,
      "outputs": [
        {
          "output_type": "execute_result",
          "data": {
            "text/plain": [
              "tensor([[0., 5., 7.],\n",
              "        [6., 0., 7.],\n",
              "        [0., 8., 0.]])"
            ]
          },
          "metadata": {},
          "execution_count": 72
        }
      ]
    },
    {
      "cell_type": "code",
      "source": [
        "t.sqrt()"
      ],
      "metadata": {
        "colab": {
          "base_uri": "https://localhost:8080/"
        },
        "id": "CBYshYyhg2Q0",
        "outputId": "96f9b4a6-6157-4f94-bcc3-8f63b01eea84"
      },
      "execution_count": null,
      "outputs": [
        {
          "output_type": "execute_result",
          "data": {
            "text/plain": [
              "tensor([[0.0000, 2.2361, 2.6458],\n",
              "        [2.4495, 0.0000, 2.6458],\n",
              "        [0.0000, 2.8284, 0.0000]])"
            ]
          },
          "metadata": {},
          "execution_count": 73
        }
      ]
    },
    {
      "cell_type": "code",
      "source": [
        "t = torch.tensor([\n",
        "    [0, 5, 7],\n",
        "    [6, 0, 7],\n",
        "    [0, 8, 0]\n",
        "], dtype=torch.float32)"
      ],
      "metadata": {
        "id": "Zd6XX1Sbg3DE"
      },
      "execution_count": null,
      "outputs": []
    },
    {
      "cell_type": "code",
      "source": [
        "t.sum()"
      ],
      "metadata": {
        "colab": {
          "base_uri": "https://localhost:8080/"
        },
        "id": "81IoVzA_g34g",
        "outputId": "10687991-810c-4276-dbd0-bc55b07c037b"
      },
      "execution_count": null,
      "outputs": [
        {
          "output_type": "execute_result",
          "data": {
            "text/plain": [
              "tensor(33.)"
            ]
          },
          "metadata": {},
          "execution_count": 75
        }
      ]
    },
    {
      "cell_type": "code",
      "source": [
        "t.prod()"
      ],
      "metadata": {
        "colab": {
          "base_uri": "https://localhost:8080/"
        },
        "id": "s9ntlPYBg4t8",
        "outputId": "fe2c2c36-98ab-4e1e-b317-31252d8bcccc"
      },
      "execution_count": null,
      "outputs": [
        {
          "output_type": "execute_result",
          "data": {
            "text/plain": [
              "tensor(0.)"
            ]
          },
          "metadata": {},
          "execution_count": 76
        }
      ]
    },
    {
      "cell_type": "code",
      "source": [
        "t.mean()"
      ],
      "metadata": {
        "colab": {
          "base_uri": "https://localhost:8080/"
        },
        "id": "Oq2QfOrbg5v5",
        "outputId": "3e296d09-1337-4d32-c17a-406160042605"
      },
      "execution_count": null,
      "outputs": [
        {
          "output_type": "execute_result",
          "data": {
            "text/plain": [
              "tensor(3.6667)"
            ]
          },
          "metadata": {},
          "execution_count": 77
        }
      ]
    },
    {
      "cell_type": "code",
      "source": [
        "t.std()"
      ],
      "metadata": {
        "colab": {
          "base_uri": "https://localhost:8080/"
        },
        "id": "d5LgVLmdg6lE",
        "outputId": "e393d867-74dc-4727-fa26-09b3a7a074f1"
      },
      "execution_count": null,
      "outputs": [
        {
          "output_type": "execute_result",
          "data": {
            "text/plain": [
              "tensor(3.5707)"
            ]
          },
          "metadata": {},
          "execution_count": 78
        }
      ]
    },
    {
      "cell_type": "code",
      "source": [
        "t = torch.tensor([\n",
        "  [1, 1, 1, 1],\n",
        "  [2, 2, 2, 2],\n",
        "  [3, 3, 3, 3],\n",
        "  [4, 4, 4, 4]\n",
        "])"
      ],
      "metadata": {
        "id": "odKi43zMg7dn"
      },
      "execution_count": null,
      "outputs": []
    },
    {
      "cell_type": "code",
      "source": [
        "t.sum(dim=0)"
      ],
      "metadata": {
        "colab": {
          "base_uri": "https://localhost:8080/"
        },
        "id": "_InOXcpehFSs",
        "outputId": "484714af-5801-4f7b-f521-32ac9ca85096"
      },
      "execution_count": null,
      "outputs": [
        {
          "output_type": "execute_result",
          "data": {
            "text/plain": [
              "tensor([10, 10, 10, 10])"
            ]
          },
          "metadata": {},
          "execution_count": 80
        }
      ]
    },
    {
      "cell_type": "code",
      "source": [
        "t.sum(dim=1)"
      ],
      "metadata": {
        "colab": {
          "base_uri": "https://localhost:8080/"
        },
        "id": "3EFDTFtYhJsO",
        "outputId": "dd5b39b9-105f-444e-920d-46e6338bfd17"
      },
      "execution_count": null,
      "outputs": [
        {
          "output_type": "execute_result",
          "data": {
            "text/plain": [
              "tensor([ 4,  8, 12, 16])"
            ]
          },
          "metadata": {},
          "execution_count": 81
        }
      ]
    },
    {
      "cell_type": "code",
      "source": [
        "t.argmax(), t.max()"
      ],
      "metadata": {
        "colab": {
          "base_uri": "https://localhost:8080/"
        },
        "id": "XYKmwfMThKfc",
        "outputId": "a0e56ade-7312-4cb6-c076-2ef26edaf060"
      },
      "execution_count": null,
      "outputs": [
        {
          "output_type": "execute_result",
          "data": {
            "text/plain": [
              "(tensor(12), tensor(4))"
            ]
          },
          "metadata": {},
          "execution_count": 82
        }
      ]
    },
    {
      "cell_type": "code",
      "source": [
        "t.argmin(), t.min()"
      ],
      "metadata": {
        "colab": {
          "base_uri": "https://localhost:8080/"
        },
        "id": "8KO9k5HGhLcG",
        "outputId": "076ca4a4-3ec1-4a1c-8655-7b016e751c08"
      },
      "execution_count": null,
      "outputs": [
        {
          "output_type": "execute_result",
          "data": {
            "text/plain": [
              "(tensor(0), tensor(1))"
            ]
          },
          "metadata": {},
          "execution_count": 83
        }
      ]
    },
    {
      "cell_type": "code",
      "source": [
        "t.flatten()"
      ],
      "metadata": {
        "colab": {
          "base_uri": "https://localhost:8080/"
        },
        "id": "PK8gvSf4hMcJ",
        "outputId": "3d690b9e-6718-4536-e7e2-80e494f72ff3"
      },
      "execution_count": null,
      "outputs": [
        {
          "output_type": "execute_result",
          "data": {
            "text/plain": [
              "tensor([1, 1, 1, 1, 2, 2, 2, 2, 3, 3, 3, 3, 4, 4, 4, 4])"
            ]
          },
          "metadata": {},
          "execution_count": 84
        }
      ]
    },
    {
      "cell_type": "markdown",
      "source": [
        "# What is `contiguous()`?\n",
        "\n",
        "* A **tensor is contiguous** if its memory layout is stored sequentially (row-major order by default).\n",
        "* Some operations (e.g., `transpose`, `permute`) only **change the view** of a tensor without actually rearranging memory.\n",
        "* If you then try to call `.view()` on a non-contiguous tensor, PyTorch will complain.\n",
        "* `.contiguous()` **forces a copy** of the tensor into contiguous memory.\n",
        "\n",
        "---\n",
        "\n",
        "## Example: Memory Layout Proof\n",
        "\n",
        "```python\n",
        "import torch\n",
        "\n",
        "# Step 1: Create a 2x3 tensor\n",
        "x = torch.arange(6).view(2, 3)\n",
        "print(\"Original tensor:\\n\", x)\n",
        "\n",
        "# Step 2: Transpose (non-contiguous!)\n",
        "y = x.t()\n",
        "print(\"\\nTransposed tensor:\\n\", y)\n",
        "\n",
        "# Check if contiguous\n",
        "print(\"\\nIs y contiguous?\", y.is_contiguous())\n",
        "\n",
        "# Step 3: Try to use view() on non-contiguous tensor\n",
        "try:\n",
        "    y.view(6)\n",
        "except RuntimeError as e:\n",
        "    print(\"\\nError:\", e)\n",
        "\n",
        "# Step 4: Make it contiguous\n",
        "z = y.contiguous()\n",
        "print(\"\\nContiguous tensor:\\n\", z)\n",
        "print(\"Is z contiguous?\", z.is_contiguous())\n",
        "\n",
        "# Step 5: Show memory addresses\n",
        "print(\"\\nMemory addresses:\")\n",
        "print(\"y.storage():\", y.storage())\n",
        "print(\"z.storage():\", z.storage())\n",
        "```\n",
        "\n",
        "---\n",
        "\n",
        "### ✅ Sample Output\n",
        "\n",
        "```\n",
        "Original tensor:\n",
        " tensor([[0, 1, 2],\n",
        "         [3, 4, 5]])\n",
        "\n",
        "Transposed tensor:\n",
        " tensor([[0, 3],\n",
        "         [1, 4],\n",
        "         [2, 5]])\n",
        "\n",
        "Is y contiguous? False\n",
        "\n",
        "Error: view size is not compatible with input tensor's size and stride\n",
        "\n",
        "Contiguous tensor:\n",
        " tensor([[0, 3],\n",
        "         [1, 4],\n",
        "         [2, 5]])\n",
        "Is z contiguous? True\n",
        "\n",
        "Memory addresses:\n",
        "y.storage():  0 1 2 3 4 5   (non-linear stride mapping)\n",
        "z.storage():  0 3 1 4 2 5   (copied into sequential memory)\n",
        "```\n",
        "\n",
        "---\n",
        "\n",
        "## 📌 Why is it used?\n",
        "\n",
        "1. **Reshaping with `.view()`**\n",
        "\n",
        "   * `.view()` requires a tensor to be contiguous because it assumes linear memory.\n",
        "   * `.contiguous()` fixes this by rearranging data in memory.\n",
        "\n",
        "2. **Performance**\n",
        "\n",
        "   * Some operations (like matrix multiplications) are optimized for contiguous memory.\n",
        "   * Non-contiguous layouts can cause slower performance.\n",
        "\n",
        "3. **Correctness**\n",
        "\n",
        "   * After transpose/permute, data strides are different. `.contiguous()` ensures safe reshaping and consistent memory access.\n",
        "\n",
        "---\n",
        "\n",
        "## 🔑 Rule of Thumb\n",
        "\n",
        "* Use `.contiguous()` **only when necessary** (e.g., before `.view()` or when operations explicitly require contiguous memory).\n",
        "* Don’t call it unnecessarily, since it forces a memory copy.\n",
        "\n"
      ],
      "metadata": {
        "id": "SxflbLAXhtfE"
      }
    },
    {
      "cell_type": "markdown",
      "source": [
        "\n",
        "\n",
        "---\n",
        "\n",
        "\n",
        "# PyTorch Main\n",
        "\n",
        "# Working with the dataset\n",
        "\n",
        "We will look at convolutional/image examples as they allow us to get a good intuition on axises and are more complex to work on just 1D data\n",
        "\n",
        "### A common nn pipeline looks like this:\n",
        "1. Prepare the data\n",
        "2. Build the model\n",
        "3. Train the model\n",
        "4. Analyze the model"
      ],
      "metadata": {
        "id": "ifCp3FC-hNfz"
      }
    },
    {
      "cell_type": "code",
      "source": [
        "import torch\n",
        "import torchvision # provide access to datasets, models, transforms, utils, etc\n",
        "import torchvision.transforms as transforms"
      ],
      "metadata": {
        "id": "zCq5n1anhNOQ"
      },
      "execution_count": null,
      "outputs": []
    },
    {
      "cell_type": "code",
      "source": [
        "\n",
        "from torch.utils.data import Dataset\n",
        "\n",
        "class Animals(Dataset):\n",
        "  def __init__(self, csv_file):\n",
        "    self.data = pd.read_csv(csv_file)\n",
        "\n",
        "  def __getitem__(self, index):\n",
        "    r = self.data.iloc[index]\n",
        "    label, image = r\n",
        "    return label, image\n",
        "\n",
        "  def __len__(self):\n",
        "    return len(self.data)"
      ],
      "metadata": {
        "id": "ZnbRMsu9hQK7"
      },
      "execution_count": null,
      "outputs": []
    },
    {
      "cell_type": "code",
      "source": [
        "# now let's work with FashionMnist\n",
        "\n",
        "train_set = torchvision.datasets.FashionMNIST(\n",
        "    root='./data'\n",
        "    ,train=True\n",
        "    ,download=True\n",
        "    ,transform=transforms.Compose([\n",
        "        transforms.ToTensor()\n",
        "    ])\n",
        ")\n",
        "\n"
      ],
      "metadata": {
        "colab": {
          "base_uri": "https://localhost:8080/"
        },
        "id": "0Js4wAeuhQ1w",
        "outputId": "a455d06d-37c4-43d3-dc0f-83deff2fcbd0"
      },
      "execution_count": null,
      "outputs": [
        {
          "output_type": "stream",
          "name": "stderr",
          "text": [
            "100%|██████████| 26.4M/26.4M [00:02<00:00, 10.7MB/s]\n",
            "100%|██████████| 29.5k/29.5k [00:00<00:00, 164kB/s]\n",
            "100%|██████████| 4.42M/4.42M [00:01<00:00, 3.23MB/s]\n",
            "100%|██████████| 5.15k/5.15k [00:00<00:00, 13.1MB/s]\n"
          ]
        }
      ]
    },
    {
      "cell_type": "code",
      "source": [
        "x = iter(range(10))\n",
        "next(x)\n",
        "next(x)"
      ],
      "metadata": {
        "colab": {
          "base_uri": "https://localhost:8080/"
        },
        "id": "x81MoiPhhRqO",
        "outputId": "de9b6780-ff66-4b53-b9ec-23081ac811bd"
      },
      "execution_count": null,
      "outputs": [
        {
          "output_type": "execute_result",
          "data": {
            "text/plain": [
              "1"
            ]
          },
          "metadata": {},
          "execution_count": 88
        }
      ]
    },
    {
      "cell_type": "code",
      "source": [
        "next(x)"
      ],
      "metadata": {
        "colab": {
          "base_uri": "https://localhost:8080/"
        },
        "id": "rL9XBY3PhTRs",
        "outputId": "3a049db3-73fe-4524-a2fa-07b070c54707"
      },
      "execution_count": null,
      "outputs": [
        {
          "output_type": "execute_result",
          "data": {
            "text/plain": [
              "2"
            ]
          },
          "metadata": {},
          "execution_count": 89
        }
      ]
    },
    {
      "cell_type": "code",
      "source": [
        "next(iter(train_set))[1]"
      ],
      "metadata": {
        "colab": {
          "base_uri": "https://localhost:8080/"
        },
        "id": "z_u-Ub1RhUMT",
        "outputId": "90dc35fa-83bd-4dfb-d578-7f06f6cdeb00"
      },
      "execution_count": null,
      "outputs": [
        {
          "output_type": "execute_result",
          "data": {
            "text/plain": [
              "9"
            ]
          },
          "metadata": {},
          "execution_count": 90
        }
      ]
    },
    {
      "cell_type": "code",
      "source": [
        "i = 0\n",
        "\n",
        "for j in train_set:\n",
        "  print(j[1])\n",
        "  i+= 1\n",
        "  if i > 5:\n",
        "    break"
      ],
      "metadata": {
        "colab": {
          "base_uri": "https://localhost:8080/"
        },
        "id": "xmbE3tvchU63",
        "outputId": "e608af09-6c97-4417-941f-66404e869ae5"
      },
      "execution_count": null,
      "outputs": [
        {
          "output_type": "stream",
          "name": "stdout",
          "text": [
            "9\n",
            "0\n",
            "0\n",
            "3\n",
            "0\n",
            "2\n"
          ]
        }
      ]
    },
    {
      "cell_type": "code",
      "source": [
        "train_loader = torch.utils.data.DataLoader(train_set\n",
        "    ,batch_size=32\n",
        "    ,shuffle=True\n",
        ")"
      ],
      "metadata": {
        "id": "U3L4xkIMhVsw"
      },
      "execution_count": null,
      "outputs": []
    },
    {
      "cell_type": "code",
      "source": [
        "next(iter(train_loader))[1]"
      ],
      "metadata": {
        "colab": {
          "base_uri": "https://localhost:8080/"
        },
        "id": "VRWneKF0hWri",
        "outputId": "3a85dc1a-33ca-436e-83e7-a45d16aa4efd"
      },
      "execution_count": null,
      "outputs": [
        {
          "output_type": "execute_result",
          "data": {
            "text/plain": [
              "tensor([2, 0, 8, 3, 8, 9, 7, 4, 7, 5, 7, 6, 6, 0, 4, 2, 6, 8, 0, 6, 2, 6, 7, 1,\n",
              "        5, 4, 1, 1, 3, 3, 0, 1])"
            ]
          },
          "metadata": {},
          "execution_count": 93
        }
      ]
    },
    {
      "cell_type": "code",
      "source": [
        "import numpy as np\n",
        "import matplotlib.pyplot as plt\n",
        "\n",
        "torch.set_printoptions(linewidth=120)"
      ],
      "metadata": {
        "id": "Ma3sf-eihXgz"
      },
      "execution_count": null,
      "outputs": []
    },
    {
      "cell_type": "code",
      "source": [
        "len(train_set)"
      ],
      "metadata": {
        "colab": {
          "base_uri": "https://localhost:8080/"
        },
        "id": "OfFqR-o2hYWS",
        "outputId": "7459d4a0-77f3-4d64-e3bf-d3a9c9003f30"
      },
      "execution_count": null,
      "outputs": [
        {
          "output_type": "execute_result",
          "data": {
            "text/plain": [
              "60000"
            ]
          },
          "metadata": {},
          "execution_count": 95
        }
      ]
    },
    {
      "cell_type": "code",
      "source": [
        "train_set.train_labels"
      ],
      "metadata": {
        "colab": {
          "base_uri": "https://localhost:8080/"
        },
        "id": "bwXBR0X2hZQ1",
        "outputId": "0fe49483-e1ac-4397-ad4e-f3b4be6c06dd"
      },
      "execution_count": null,
      "outputs": [
        {
          "output_type": "stream",
          "name": "stderr",
          "text": [
            "/usr/local/lib/python3.12/dist-packages/torchvision/datasets/mnist.py:66: UserWarning: train_labels has been renamed targets\n",
            "  warnings.warn(\"train_labels has been renamed targets\")\n"
          ]
        },
        {
          "output_type": "execute_result",
          "data": {
            "text/plain": [
              "tensor([9, 0, 0,  ..., 3, 0, 5])"
            ]
          },
          "metadata": {},
          "execution_count": 96
        }
      ]
    },
    {
      "cell_type": "code",
      "source": [
        "train_set.train_labels.bincount() #frequency of each label, we have balanced class here"
      ],
      "metadata": {
        "colab": {
          "base_uri": "https://localhost:8080/"
        },
        "id": "qgj1UU2EhaDt",
        "outputId": "7f84c4af-cc79-4834-a9c7-e1f0d2e97d6c"
      },
      "execution_count": null,
      "outputs": [
        {
          "output_type": "execute_result",
          "data": {
            "text/plain": [
              "tensor([6000, 6000, 6000, 6000, 6000, 6000, 6000, 6000, 6000, 6000])"
            ]
          },
          "metadata": {},
          "execution_count": 97
        }
      ]
    },
    {
      "cell_type": "code",
      "source": [
        "sample = next(iter(train_set))\n",
        "\n",
        "len(sample)"
      ],
      "metadata": {
        "colab": {
          "base_uri": "https://localhost:8080/"
        },
        "id": "G6tdHPGOha5E",
        "outputId": "13f10b08-c7de-4be5-82e1-4bf678312018"
      },
      "execution_count": null,
      "outputs": [
        {
          "output_type": "execute_result",
          "data": {
            "text/plain": [
              "2"
            ]
          },
          "metadata": {},
          "execution_count": 98
        }
      ]
    },
    {
      "cell_type": "code",
      "source": [
        "image, label = sample"
      ],
      "metadata": {
        "id": "BfcUYUpmhbx1"
      },
      "execution_count": null,
      "outputs": []
    },
    {
      "cell_type": "code",
      "source": [
        "plt.imshow(image.squeeze(), cmap='gray')\n",
        "print('label:', label)"
      ],
      "metadata": {
        "colab": {
          "base_uri": "https://localhost:8080/",
          "height": 448
        },
        "id": "pHDFs4tFhcjn",
        "outputId": "6bab4206-c8db-4dfa-a67c-0f3415a44d68"
      },
      "execution_count": null,
      "outputs": [
        {
          "output_type": "stream",
          "name": "stdout",
          "text": [
            "label: 9\n"
          ]
        },
        {
          "output_type": "display_data",
          "data": {
            "text/plain": [
              "<Figure size 640x480 with 1 Axes>"
            ],
            "image/png": "[encoded data removed]"
          },
          "metadata": {}
        }
      ]
    },
    {
      "cell_type": "code",
      "source": [
        "batch = next(iter(train_loader))\n",
        "\n",
        "len(batch), type(batch)"
      ],
      "metadata": {
        "colab": {
          "base_uri": "https://localhost:8080/"
        },
        "id": "7xSKE8L-hdTk",
        "outputId": "d2f6c65b-ea4a-4803-db39-858ee128f133"
      },
      "execution_count": null,
      "outputs": [
        {
          "output_type": "execute_result",
          "data": {
            "text/plain": [
              "(2, list)"
            ]
          },
          "metadata": {},
          "execution_count": 101
        }
      ]
    },
    {
      "cell_type": "code",
      "source": [
        "images, labels = batch"
      ],
      "metadata": {
        "id": "j_yRV-q1hfzm"
      },
      "execution_count": null,
      "outputs": []
    },
    {
      "cell_type": "code",
      "source": [
        "images.shape, labels.shape"
      ],
      "metadata": {
        "colab": {
          "base_uri": "https://localhost:8080/"
        },
        "id": "Lj8SBJuVhgp0",
        "outputId": "766db6c1-78f0-47c0-c42d-a0c5aa4e7674"
      },
      "execution_count": null,
      "outputs": [
        {
          "output_type": "execute_result",
          "data": {
            "text/plain": [
              "(torch.Size([32, 1, 28, 28]), torch.Size([32]))"
            ]
          },
          "metadata": {},
          "execution_count": 103
        }
      ]
    },
    {
      "cell_type": "code",
      "source": [
        "grid = torchvision.utils.make_grid(images, nrow=10)\n",
        "plt.figure(figsize=(15,15))\n",
        "plt.imshow(np.transpose(grid, (1,2,0)))\n",
        "print('labels:', labels)"
      ],
      "metadata": {
        "colab": {
          "base_uri": "https://localhost:8080/",
          "height": 414
        },
        "id": "D6EYAa1ThhaO",
        "outputId": "e42d5cb2-e5ec-4f77-d02b-e88803c885ac"
      },
      "execution_count": null,
      "outputs": [
        {
          "output_type": "stream",
          "name": "stdout",
          "text": [
            "labels: tensor([9, 5, 6, 3, 1, 7, 4, 6, 3, 5, 9, 4, 3, 4, 7, 6, 4, 7, 1, 7, 4, 3, 5, 0, 7, 1, 3, 7, 4, 7, 4, 5])\n"
          ]
        },
        {
          "output_type": "display_data",
          "data": {
            "text/plain": [
              "<Figure size 1500x1500 with 1 Axes>"
            ],
            "image/png": "[encoded data removed]"
          },
          "metadata": {}
        }
      ]
    },
    {
      "cell_type": "code",
      "source": [
        "import torch.nn as nn\n",
        "\n",
        "class Network(nn.Module):\n",
        "  def __init__(self):\n",
        "    super().__init__()\n",
        "    self.layer = None\n",
        "\n",
        "  def forward(self, t):\n",
        "    t = self.layer(t)\n",
        "    return t\n"
      ],
      "metadata": {
        "id": "Bw02hgCGhiJa"
      },
      "execution_count": null,
      "outputs": []
    },
    {
      "cell_type": "markdown",
      "source": [
        "# PyTorch Main (Let's start again)\n",
        "\n",
        "# Working with the dataset\n",
        "\n",
        "We will look at convolutional/image examples as they allow us to get a good intuition on axises and are more complex to work on just 1D data\n",
        "\n",
        "### A common nn pipeline looks like this:\n",
        "1. Prepare the data\n",
        "2. Build the model\n",
        "3. Train the model\n",
        "4. Analyze the model"
      ],
      "metadata": {
        "id": "1i9Gr0vkh4P4"
      }
    },
    {
      "cell_type": "code",
      "source": [
        "import torch\n",
        "import torchvision # provide access to datasets, models, transforms, utils, etc\n",
        "import torchvision.transforms as transforms"
      ],
      "metadata": {
        "id": "AhNgMttnh1e4"
      },
      "execution_count": null,
      "outputs": []
    },
    {
      "cell_type": "code",
      "source": [
        "from torch.utils.data import Dataset\n",
        "\n",
        "# Dataset is there to be able to interact with DataLoader\n",
        "\n",
        "class MyDataset(Dataset):\n",
        "  def __init__(self):\n",
        "    self.data = (\n",
        "        \"This was an amazing product\",\n",
        "        \"This was the shittiest product possible\",\n",
        "        \"Amazing product, fast delivery\",\n",
        "        \"Had to sell my kidney to buy this, and now my life has changed\",\n",
        "        \"Good one!\",\n",
        "        \"Bad One!\"\n",
        "    )\n",
        "\n",
        "  def __getitem__(self, index):\n",
        "    return self.data[index]\n",
        "\n",
        "  def __len__(self):\n",
        "    return len(self.data)\n",
        "\n",
        "myData = MyDataset()\n",
        "\n",
        "for m in myData:\n",
        "  print(m)\n",
        "\n"
      ],
      "metadata": {
        "colab": {
          "base_uri": "https://localhost:8080/"
        },
        "id": "OM10bdyFh53F",
        "outputId": "ed18ea2b-f9a2-4ed6-f637-65b1a08501be"
      },
      "execution_count": null,
      "outputs": [
        {
          "output_type": "stream",
          "name": "stdout",
          "text": [
            "This was an amazing product\n",
            "This was the shittiest product possible\n",
            "Amazing product, fast delivery\n",
            "Had to sell my kidney to buy this, and now my life has changed\n",
            "Good one!\n",
            "Bad One!\n"
          ]
        }
      ]
    },
    {
      "cell_type": "code",
      "source": [
        "train_loader = torch.utils.data.DataLoader(myData, batch_size = 2, shuffle=True)"
      ],
      "metadata": {
        "id": "qPZDcRgFh6o-"
      },
      "execution_count": null,
      "outputs": []
    },
    {
      "cell_type": "code",
      "source": [
        "for tr in train_loader:\n",
        "  print(tr)"
      ],
      "metadata": {
        "colab": {
          "base_uri": "https://localhost:8080/"
        },
        "id": "pq8xsmZyh7ne",
        "outputId": "1f856a61-b7fe-4d1f-a670-bffe3d47f4a0"
      },
      "execution_count": null,
      "outputs": [
        {
          "output_type": "stream",
          "name": "stdout",
          "text": [
            "['Amazing product, fast delivery', 'This was the shittiest product possible']\n",
            "['Bad One!', 'Had to sell my kidney to buy this, and now my life has changed']\n",
            "['This was an amazing product', 'Good one!']\n"
          ]
        }
      ]
    },
    {
      "cell_type": "code",
      "source": [
        "train_set = torchvision.datasets.FashionMNIST(\n",
        "    root='./data',\n",
        "    train=True,\n",
        "    download=True,\n",
        "    transform = transforms.Compose([\n",
        "          transforms.ToTensor()\n",
        "    ])\n",
        ")"
      ],
      "metadata": {
        "id": "SA4bJp59h8s4"
      },
      "execution_count": null,
      "outputs": []
    },
    {
      "cell_type": "code",
      "source": [
        "for f in train_set:\n",
        "  print(f)\n",
        "  break"
      ],
      "metadata": {
        "colab": {
          "base_uri": "https://localhost:8080/"
        },
        "id": "tPLzHwnbh-HA",
        "outputId": "61621bc3-75ba-43dd-ee19-c25add1dd70a"
      },
      "execution_count": null,
      "outputs": [
        {
          "output_type": "stream",
          "name": "stdout",
          "text": [
            "(tensor([[[0.0000, 0.0000, 0.0000, 0.0000, 0.0000, 0.0000, 0.0000, 0.0000, 0.0000, 0.0000, 0.0000, 0.0000, 0.0000,\n",
            "          0.0000, 0.0000, 0.0000, 0.0000, 0.0000, 0.0000, 0.0000, 0.0000, 0.0000, 0.0000, 0.0000, 0.0000, 0.0000,\n",
            "          0.0000, 0.0000],\n",
            "         [0.0000, 0.0000, 0.0000, 0.0000, 0.0000, 0.0000, 0.0000, 0.0000, 0.0000, 0.0000, 0.0000, 0.0000, 0.0000,\n",
            "          0.0000, 0.0000, 0.0000, 0.0000, 0.0000, 0.0000, 0.0000, 0.0000, 0.0000, 0.0000, 0.0000, 0.0000, 0.0000,\n",
            "          0.0000, 0.0000],\n",
            "         [0.0000, 0.0000, 0.0000, 0.0000, 0.0000, 0.0000, 0.0000, 0.0000, 0.0000, 0.0000, 0.0000, 0.0000, 0.0000,\n",
            "          0.0000, 0.0000, 0.0000, 0.0000, 0.0000, 0.0000, 0.0000, 0.0000, 0.0000, 0.0000, 0.0000, 0.0000, 0.0000,\n",
            "          0.0000, 0.0000],\n",
            "         [0.0000, 0.0000, 0.0000, 0.0000, 0.0000, 0.0000, 0.0000, 0.0000, 0.0000, 0.0000, 0.0000, 0.0000, 0.0039,\n",
            "          0.0000, 0.0000, 0.0510, 0.2863, 0.0000, 0.0000, 0.0039, 0.0157, 0.0000, 0.0000, 0.0000, 0.0000, 0.0039,\n",
            "          0.0039, 0.0000],\n",
            "         [0.0000, 0.0000, 0.0000, 0.0000, 0.0000, 0.0000, 0.0000, 0.0000, 0.0000, 0.0000, 0.0000, 0.0000, 0.0118,\n",
            "          0.0000, 0.1412, 0.5333, 0.4980, 0.2431, 0.2118, 0.0000, 0.0000, 0.0000, 0.0039, 0.0118, 0.0157, 0.0000,\n",
            "          0.0000, 0.0118],\n",
            "         [0.0000, 0.0000, 0.0000, 0.0000, 0.0000, 0.0000, 0.0000, 0.0000, 0.0000, 0.0000, 0.0000, 0.0000, 0.0235,\n",
            "          0.0000, 0.4000, 0.8000, 0.6902, 0.5255, 0.5647, 0.4824, 0.0902, 0.0000, 0.0000, 0.0000, 0.0000, 0.0471,\n",
            "          0.0392, 0.0000],\n",
            "         [0.0000, 0.0000, 0.0000, 0.0000, 0.0000, 0.0000, 0.0000, 0.0000, 0.0000, 0.0000, 0.0000, 0.0000, 0.0000,\n",
            "          0.0000, 0.6078, 0.9255, 0.8118, 0.6980, 0.4196, 0.6118, 0.6314, 0.4275, 0.2510, 0.0902, 0.3020, 0.5098,\n",
            "          0.2824, 0.0588],\n",
            "         [0.0000, 0.0000, 0.0000, 0.0000, 0.0000, 0.0000, 0.0000, 0.0000, 0.0000, 0.0000, 0.0000, 0.0039, 0.0000,\n",
            "          0.2706, 0.8118, 0.8745, 0.8549, 0.8471, 0.8471, 0.6392, 0.4980, 0.4745, 0.4784, 0.5725, 0.5529, 0.3451,\n",
            "          0.6745, 0.2588],\n",
            "         [0.0000, 0.0000, 0.0000, 0.0000, 0.0000, 0.0000, 0.0000, 0.0000, 0.0000, 0.0039, 0.0039, 0.0039, 0.0000,\n",
            "          0.7843, 0.9098, 0.9098, 0.9137, 0.8980, 0.8745, 0.8745, 0.8431, 0.8353, 0.6431, 0.4980, 0.4824, 0.7686,\n",
            "          0.8980, 0.0000],\n",
            "         [0.0000, 0.0000, 0.0000, 0.0000, 0.0000, 0.0000, 0.0000, 0.0000, 0.0000, 0.0000, 0.0000, 0.0000, 0.0000,\n",
            "          0.7176, 0.8824, 0.8471, 0.8745, 0.8941, 0.9216, 0.8902, 0.8784, 0.8706, 0.8784, 0.8667, 0.8745, 0.9608,\n",
            "          0.6784, 0.0000],\n",
            "         [0.0000, 0.0000, 0.0000, 0.0000, 0.0000, 0.0000, 0.0000, 0.0000, 0.0000, 0.0000, 0.0000, 0.0000, 0.0000,\n",
            "          0.7569, 0.8941, 0.8549, 0.8353, 0.7765, 0.7059, 0.8314, 0.8235, 0.8275, 0.8353, 0.8745, 0.8627, 0.9529,\n",
            "          0.7922, 0.0000],\n",
            "         [0.0000, 0.0000, 0.0000, 0.0000, 0.0000, 0.0000, 0.0000, 0.0000, 0.0000, 0.0039, 0.0118, 0.0000, 0.0471,\n",
            "          0.8588, 0.8627, 0.8314, 0.8549, 0.7529, 0.6627, 0.8902, 0.8157, 0.8549, 0.8784, 0.8314, 0.8863, 0.7725,\n",
            "          0.8196, 0.2039],\n",
            "         [0.0000, 0.0000, 0.0000, 0.0000, 0.0000, 0.0000, 0.0000, 0.0000, 0.0000, 0.0000, 0.0235, 0.0000, 0.3882,\n",
            "          0.9569, 0.8706, 0.8627, 0.8549, 0.7961, 0.7765, 0.8667, 0.8431, 0.8353, 0.8706, 0.8627, 0.9608, 0.4667,\n",
            "          0.6549, 0.2196],\n",
            "         [0.0000, 0.0000, 0.0000, 0.0000, 0.0000, 0.0000, 0.0000, 0.0000, 0.0000, 0.0157, 0.0000, 0.0000, 0.2157,\n",
            "          0.9255, 0.8941, 0.9020, 0.8941, 0.9412, 0.9098, 0.8353, 0.8549, 0.8745, 0.9176, 0.8510, 0.8510, 0.8196,\n",
            "          0.3608, 0.0000],\n",
            "         [0.0000, 0.0000, 0.0039, 0.0157, 0.0235, 0.0275, 0.0078, 0.0000, 0.0000, 0.0000, 0.0000, 0.0000, 0.9294,\n",
            "          0.8863, 0.8510, 0.8745, 0.8706, 0.8588, 0.8706, 0.8667, 0.8471, 0.8745, 0.8980, 0.8431, 0.8549, 1.0000,\n",
            "          0.3020, 0.0000],\n",
            "         [0.0000, 0.0118, 0.0000, 0.0000, 0.0000, 0.0000, 0.0000, 0.0000, 0.0000, 0.2431, 0.5686, 0.8000, 0.8941,\n",
            "          0.8118, 0.8353, 0.8667, 0.8549, 0.8157, 0.8275, 0.8549, 0.8784, 0.8745, 0.8588, 0.8431, 0.8784, 0.9569,\n",
            "          0.6235, 0.0000],\n",
            "         [0.0000, 0.0000, 0.0000, 0.0000, 0.0706, 0.1725, 0.3216, 0.4196, 0.7412, 0.8941, 0.8627, 0.8706, 0.8510,\n",
            "          0.8863, 0.7843, 0.8039, 0.8275, 0.9020, 0.8784, 0.9176, 0.6902, 0.7373, 0.9804, 0.9725, 0.9137, 0.9333,\n",
            "          0.8431, 0.0000],\n",
            "         [0.0000, 0.2235, 0.7333, 0.8157, 0.8784, 0.8667, 0.8784, 0.8157, 0.8000, 0.8392, 0.8157, 0.8196, 0.7843,\n",
            "          0.6235, 0.9608, 0.7569, 0.8078, 0.8745, 1.0000, 1.0000, 0.8667, 0.9176, 0.8667, 0.8275, 0.8627, 0.9098,\n",
            "          0.9647, 0.0000],\n",
            "         [0.0118, 0.7922, 0.8941, 0.8784, 0.8667, 0.8275, 0.8275, 0.8392, 0.8039, 0.8039, 0.8039, 0.8627, 0.9412,\n",
            "          0.3137, 0.5882, 1.0000, 0.8980, 0.8667, 0.7373, 0.6039, 0.7490, 0.8235, 0.8000, 0.8196, 0.8706, 0.8941,\n",
            "          0.8824, 0.0000],\n",
            "         [0.3843, 0.9137, 0.7765, 0.8235, 0.8706, 0.8980, 0.8980, 0.9176, 0.9765, 0.8627, 0.7608, 0.8431, 0.8510,\n",
            "          0.9451, 0.2549, 0.2863, 0.4157, 0.4588, 0.6588, 0.8588, 0.8667, 0.8431, 0.8510, 0.8745, 0.8745, 0.8784,\n",
            "          0.8980, 0.1137],\n",
            "         [0.2941, 0.8000, 0.8314, 0.8000, 0.7569, 0.8039, 0.8275, 0.8824, 0.8471, 0.7255, 0.7725, 0.8078, 0.7765,\n",
            "          0.8353, 0.9412, 0.7647, 0.8902, 0.9608, 0.9373, 0.8745, 0.8549, 0.8314, 0.8196, 0.8706, 0.8627, 0.8667,\n",
            "          0.9020, 0.2627],\n",
            "         [0.1882, 0.7961, 0.7176, 0.7608, 0.8353, 0.7725, 0.7255, 0.7451, 0.7608, 0.7529, 0.7922, 0.8392, 0.8588,\n",
            "          0.8667, 0.8627, 0.9255, 0.8824, 0.8471, 0.7804, 0.8078, 0.7294, 0.7098, 0.6941, 0.6745, 0.7098, 0.8039,\n",
            "          0.8078, 0.4510],\n",
            "         [0.0000, 0.4784, 0.8588, 0.7569, 0.7020, 0.6706, 0.7176, 0.7686, 0.8000, 0.8235, 0.8353, 0.8118, 0.8275,\n",
            "          0.8235, 0.7843, 0.7686, 0.7608, 0.7490, 0.7647, 0.7490, 0.7765, 0.7529, 0.6902, 0.6118, 0.6549, 0.6941,\n",
            "          0.8235, 0.3608],\n",
            "         [0.0000, 0.0000, 0.2902, 0.7412, 0.8314, 0.7490, 0.6863, 0.6745, 0.6863, 0.7098, 0.7255, 0.7373, 0.7412,\n",
            "          0.7373, 0.7569, 0.7765, 0.8000, 0.8196, 0.8235, 0.8235, 0.8275, 0.7373, 0.7373, 0.7608, 0.7529, 0.8471,\n",
            "          0.6667, 0.0000],\n",
            "         [0.0078, 0.0000, 0.0000, 0.0000, 0.2588, 0.7843, 0.8706, 0.9294, 0.9373, 0.9490, 0.9647, 0.9529, 0.9569,\n",
            "          0.8667, 0.8627, 0.7569, 0.7490, 0.7020, 0.7137, 0.7137, 0.7098, 0.6902, 0.6510, 0.6588, 0.3882, 0.2275,\n",
            "          0.0000, 0.0000],\n",
            "         [0.0000, 0.0000, 0.0000, 0.0000, 0.0000, 0.0000, 0.0000, 0.1569, 0.2392, 0.1725, 0.2824, 0.1608, 0.1373,\n",
            "          0.0000, 0.0000, 0.0000, 0.0000, 0.0000, 0.0000, 0.0000, 0.0000, 0.0000, 0.0000, 0.0000, 0.0000, 0.0000,\n",
            "          0.0000, 0.0000],\n",
            "         [0.0000, 0.0000, 0.0000, 0.0000, 0.0000, 0.0000, 0.0000, 0.0000, 0.0000, 0.0000, 0.0000, 0.0000, 0.0000,\n",
            "          0.0000, 0.0000, 0.0000, 0.0000, 0.0000, 0.0000, 0.0000, 0.0000, 0.0000, 0.0000, 0.0000, 0.0000, 0.0000,\n",
            "          0.0000, 0.0000],\n",
            "         [0.0000, 0.0000, 0.0000, 0.0000, 0.0000, 0.0000, 0.0000, 0.0000, 0.0000, 0.0000, 0.0000, 0.0000, 0.0000,\n",
            "          0.0000, 0.0000, 0.0000, 0.0000, 0.0000, 0.0000, 0.0000, 0.0000, 0.0000, 0.0000, 0.0000, 0.0000, 0.0000,\n",
            "          0.0000, 0.0000]]]), 9)\n"
          ]
        }
      ]
    },
    {
      "cell_type": "code",
      "source": [
        "import numpy as np\n",
        "import matplotlib.pyplot as plt\n",
        "\n",
        "torch.set_printoptions(linewidth=120)\n",
        "\n",
        "len(train_set)"
      ],
      "metadata": {
        "colab": {
          "base_uri": "https://localhost:8080/"
        },
        "id": "_Usnm-BEh_vC",
        "outputId": "7e5c644c-6e73-4077-a1fc-7c9ef631d949"
      },
      "execution_count": null,
      "outputs": [
        {
          "output_type": "execute_result",
          "data": {
            "text/plain": [
              "60000"
            ]
          },
          "metadata": {},
          "execution_count": 112
        }
      ]
    },
    {
      "cell_type": "code",
      "source": [
        "dir(train_set)"
      ],
      "metadata": {
        "colab": {
          "base_uri": "https://localhost:8080/"
        },
        "id": "bT6Dw-cBiBY2",
        "outputId": "8144253e-8887-42ca-edf9-632800ac42a9"
      },
      "execution_count": null,
      "outputs": [
        {
          "output_type": "execute_result",
          "data": {
            "text/plain": [
              "['__add__',\n",
              " '__annotations__',\n",
              " '__class__',\n",
              " '__class_getitem__',\n",
              " '__delattr__',\n",
              " '__dict__',\n",
              " '__dir__',\n",
              " '__doc__',\n",
              " '__eq__',\n",
              " '__format__',\n",
              " '__ge__',\n",
              " '__getattribute__',\n",
              " '__getitem__',\n",
              " '__getstate__',\n",
              " '__gt__',\n",
              " '__hash__',\n",
              " '__init__',\n",
              " '__init_subclass__',\n",
              " '__le__',\n",
              " '__len__',\n",
              " '__lt__',\n",
              " '__module__',\n",
              " '__ne__',\n",
              " '__new__',\n",
              " '__orig_bases__',\n",
              " '__parameters__',\n",
              " '__reduce__',\n",
              " '__reduce_ex__',\n",
              " '__repr__',\n",
              " '__setattr__',\n",
              " '__sizeof__',\n",
              " '__str__',\n",
              " '__subclasshook__',\n",
              " '__weakref__',\n",
              " '_check_exists',\n",
              " '_check_legacy_exist',\n",
              " '_format_transform_repr',\n",
              " '_load_data',\n",
              " '_load_legacy_data',\n",
              " '_repr_indent',\n",
              " 'class_to_idx',\n",
              " 'classes',\n",
              " 'data',\n",
              " 'download',\n",
              " 'extra_repr',\n",
              " 'mirrors',\n",
              " 'processed_folder',\n",
              " 'raw_folder',\n",
              " 'resources',\n",
              " 'root',\n",
              " 'target_transform',\n",
              " 'targets',\n",
              " 'test_data',\n",
              " 'test_file',\n",
              " 'test_labels',\n",
              " 'train',\n",
              " 'train_data',\n",
              " 'train_labels',\n",
              " 'training_file',\n",
              " 'transform',\n",
              " 'transforms']"
            ]
          },
          "metadata": {},
          "execution_count": 113
        }
      ]
    },
    {
      "cell_type": "code",
      "source": [
        "train_set.train_labels.bincount()"
      ],
      "metadata": {
        "colab": {
          "base_uri": "https://localhost:8080/"
        },
        "id": "aOB6jRfaiGUY",
        "outputId": "eced6f81-e76e-4228-f661-2534ebb4a455"
      },
      "execution_count": null,
      "outputs": [
        {
          "output_type": "execute_result",
          "data": {
            "text/plain": [
              "tensor([6000, 6000, 6000, 6000, 6000, 6000, 6000, 6000, 6000, 6000])"
            ]
          },
          "metadata": {},
          "execution_count": 114
        }
      ]
    },
    {
      "cell_type": "code",
      "source": [
        "sample = next(iter(train_set))\n",
        "sample"
      ],
      "metadata": {
        "colab": {
          "base_uri": "https://localhost:8080/"
        },
        "id": "MSpwyDSKiHjW",
        "outputId": "6928ef11-783d-49eb-a39d-61e11ab0bcb5"
      },
      "execution_count": null,
      "outputs": [
        {
          "output_type": "execute_result",
          "data": {
            "text/plain": [
              "(tensor([[[0.0000, 0.0000, 0.0000, 0.0000, 0.0000, 0.0000, 0.0000, 0.0000, 0.0000, 0.0000, 0.0000, 0.0000, 0.0000,\n",
              "           0.0000, 0.0000, 0.0000, 0.0000, 0.0000, 0.0000, 0.0000, 0.0000, 0.0000, 0.0000, 0.0000, 0.0000, 0.0000,\n",
              "           0.0000, 0.0000],\n",
              "          [0.0000, 0.0000, 0.0000, 0.0000, 0.0000, 0.0000, 0.0000, 0.0000, 0.0000, 0.0000, 0.0000, 0.0000, 0.0000,\n",
              "           0.0000, 0.0000, 0.0000, 0.0000, 0.0000, 0.0000, 0.0000, 0.0000, 0.0000, 0.0000, 0.0000, 0.0000, 0.0000,\n",
              "           0.0000, 0.0000],\n",
              "          [0.0000, 0.0000, 0.0000, 0.0000, 0.0000, 0.0000, 0.0000, 0.0000, 0.0000, 0.0000, 0.0000, 0.0000, 0.0000,\n",
              "           0.0000, 0.0000, 0.0000, 0.0000, 0.0000, 0.0000, 0.0000, 0.0000, 0.0000, 0.0000, 0.0000, 0.0000, 0.0000,\n",
              "           0.0000, 0.0000],\n",
              "          [0.0000, 0.0000, 0.0000, 0.0000, 0.0000, 0.0000, 0.0000, 0.0000, 0.0000, 0.0000, 0.0000, 0.0000, 0.0039,\n",
              "           0.0000, 0.0000, 0.0510, 0.2863, 0.0000, 0.0000, 0.0039, 0.0157, 0.0000, 0.0000, 0.0000, 0.0000, 0.0039,\n",
              "           0.0039, 0.0000],\n",
              "          [0.0000, 0.0000, 0.0000, 0.0000, 0.0000, 0.0000, 0.0000, 0.0000, 0.0000, 0.0000, 0.0000, 0.0000, 0.0118,\n",
              "           0.0000, 0.1412, 0.5333, 0.4980, 0.2431, 0.2118, 0.0000, 0.0000, 0.0000, 0.0039, 0.0118, 0.0157, 0.0000,\n",
              "           0.0000, 0.0118],\n",
              "          [0.0000, 0.0000, 0.0000, 0.0000, 0.0000, 0.0000, 0.0000, 0.0000, 0.0000, 0.0000, 0.0000, 0.0000, 0.0235,\n",
              "           0.0000, 0.4000, 0.8000, 0.6902, 0.5255, 0.5647, 0.4824, 0.0902, 0.0000, 0.0000, 0.0000, 0.0000, 0.0471,\n",
              "           0.0392, 0.0000],\n",
              "          [0.0000, 0.0000, 0.0000, 0.0000, 0.0000, 0.0000, 0.0000, 0.0000, 0.0000, 0.0000, 0.0000, 0.0000, 0.0000,\n",
              "           0.0000, 0.6078, 0.9255, 0.8118, 0.6980, 0.4196, 0.6118, 0.6314, 0.4275, 0.2510, 0.0902, 0.3020, 0.5098,\n",
              "           0.2824, 0.0588],\n",
              "          [0.0000, 0.0000, 0.0000, 0.0000, 0.0000, 0.0000, 0.0000, 0.0000, 0.0000, 0.0000, 0.0000, 0.0039, 0.0000,\n",
              "           0.2706, 0.8118, 0.8745, 0.8549, 0.8471, 0.8471, 0.6392, 0.4980, 0.4745, 0.4784, 0.5725, 0.5529, 0.3451,\n",
              "           0.6745, 0.2588],\n",
              "          [0.0000, 0.0000, 0.0000, 0.0000, 0.0000, 0.0000, 0.0000, 0.0000, 0.0000, 0.0039, 0.0039, 0.0039, 0.0000,\n",
              "           0.7843, 0.9098, 0.9098, 0.9137, 0.8980, 0.8745, 0.8745, 0.8431, 0.8353, 0.6431, 0.4980, 0.4824, 0.7686,\n",
              "           0.8980, 0.0000],\n",
              "          [0.0000, 0.0000, 0.0000, 0.0000, 0.0000, 0.0000, 0.0000, 0.0000, 0.0000, 0.0000, 0.0000, 0.0000, 0.0000,\n",
              "           0.7176, 0.8824, 0.8471, 0.8745, 0.8941, 0.9216, 0.8902, 0.8784, 0.8706, 0.8784, 0.8667, 0.8745, 0.9608,\n",
              "           0.6784, 0.0000],\n",
              "          [0.0000, 0.0000, 0.0000, 0.0000, 0.0000, 0.0000, 0.0000, 0.0000, 0.0000, 0.0000, 0.0000, 0.0000, 0.0000,\n",
              "           0.7569, 0.8941, 0.8549, 0.8353, 0.7765, 0.7059, 0.8314, 0.8235, 0.8275, 0.8353, 0.8745, 0.8627, 0.9529,\n",
              "           0.7922, 0.0000],\n",
              "          [0.0000, 0.0000, 0.0000, 0.0000, 0.0000, 0.0000, 0.0000, 0.0000, 0.0000, 0.0039, 0.0118, 0.0000, 0.0471,\n",
              "           0.8588, 0.8627, 0.8314, 0.8549, 0.7529, 0.6627, 0.8902, 0.8157, 0.8549, 0.8784, 0.8314, 0.8863, 0.7725,\n",
              "           0.8196, 0.2039],\n",
              "          [0.0000, 0.0000, 0.0000, 0.0000, 0.0000, 0.0000, 0.0000, 0.0000, 0.0000, 0.0000, 0.0235, 0.0000, 0.3882,\n",
              "           0.9569, 0.8706, 0.8627, 0.8549, 0.7961, 0.7765, 0.8667, 0.8431, 0.8353, 0.8706, 0.8627, 0.9608, 0.4667,\n",
              "           0.6549, 0.2196],\n",
              "          [0.0000, 0.0000, 0.0000, 0.0000, 0.0000, 0.0000, 0.0000, 0.0000, 0.0000, 0.0157, 0.0000, 0.0000, 0.2157,\n",
              "           0.9255, 0.8941, 0.9020, 0.8941, 0.9412, 0.9098, 0.8353, 0.8549, 0.8745, 0.9176, 0.8510, 0.8510, 0.8196,\n",
              "           0.3608, 0.0000],\n",
              "          [0.0000, 0.0000, 0.0039, 0.0157, 0.0235, 0.0275, 0.0078, 0.0000, 0.0000, 0.0000, 0.0000, 0.0000, 0.9294,\n",
              "           0.8863, 0.8510, 0.8745, 0.8706, 0.8588, 0.8706, 0.8667, 0.8471, 0.8745, 0.8980, 0.8431, 0.8549, 1.0000,\n",
              "           0.3020, 0.0000],\n",
              "          [0.0000, 0.0118, 0.0000, 0.0000, 0.0000, 0.0000, 0.0000, 0.0000, 0.0000, 0.2431, 0.5686, 0.8000, 0.8941,\n",
              "           0.8118, 0.8353, 0.8667, 0.8549, 0.8157, 0.8275, 0.8549, 0.8784, 0.8745, 0.8588, 0.8431, 0.8784, 0.9569,\n",
              "           0.6235, 0.0000],\n",
              "          [0.0000, 0.0000, 0.0000, 0.0000, 0.0706, 0.1725, 0.3216, 0.4196, 0.7412, 0.8941, 0.8627, 0.8706, 0.8510,\n",
              "           0.8863, 0.7843, 0.8039, 0.8275, 0.9020, 0.8784, 0.9176, 0.6902, 0.7373, 0.9804, 0.9725, 0.9137, 0.9333,\n",
              "           0.8431, 0.0000],\n",
              "          [0.0000, 0.2235, 0.7333, 0.8157, 0.8784, 0.8667, 0.8784, 0.8157, 0.8000, 0.8392, 0.8157, 0.8196, 0.7843,\n",
              "           0.6235, 0.9608, 0.7569, 0.8078, 0.8745, 1.0000, 1.0000, 0.8667, 0.9176, 0.8667, 0.8275, 0.8627, 0.9098,\n",
              "           0.9647, 0.0000],\n",
              "          [0.0118, 0.7922, 0.8941, 0.8784, 0.8667, 0.8275, 0.8275, 0.8392, 0.8039, 0.8039, 0.8039, 0.8627, 0.9412,\n",
              "           0.3137, 0.5882, 1.0000, 0.8980, 0.8667, 0.7373, 0.6039, 0.7490, 0.8235, 0.8000, 0.8196, 0.8706, 0.8941,\n",
              "           0.8824, 0.0000],\n",
              "          [0.3843, 0.9137, 0.7765, 0.8235, 0.8706, 0.8980, 0.8980, 0.9176, 0.9765, 0.8627, 0.7608, 0.8431, 0.8510,\n",
              "           0.9451, 0.2549, 0.2863, 0.4157, 0.4588, 0.6588, 0.8588, 0.8667, 0.8431, 0.8510, 0.8745, 0.8745, 0.8784,\n",
              "           0.8980, 0.1137],\n",
              "          [0.2941, 0.8000, 0.8314, 0.8000, 0.7569, 0.8039, 0.8275, 0.8824, 0.8471, 0.7255, 0.7725, 0.8078, 0.7765,\n",
              "           0.8353, 0.9412, 0.7647, 0.8902, 0.9608, 0.9373, 0.8745, 0.8549, 0.8314, 0.8196, 0.8706, 0.8627, 0.8667,\n",
              "           0.9020, 0.2627],\n",
              "          [0.1882, 0.7961, 0.7176, 0.7608, 0.8353, 0.7725, 0.7255, 0.7451, 0.7608, 0.7529, 0.7922, 0.8392, 0.8588,\n",
              "           0.8667, 0.8627, 0.9255, 0.8824, 0.8471, 0.7804, 0.8078, 0.7294, 0.7098, 0.6941, 0.6745, 0.7098, 0.8039,\n",
              "           0.8078, 0.4510],\n",
              "          [0.0000, 0.4784, 0.8588, 0.7569, 0.7020, 0.6706, 0.7176, 0.7686, 0.8000, 0.8235, 0.8353, 0.8118, 0.8275,\n",
              "           0.8235, 0.7843, 0.7686, 0.7608, 0.7490, 0.7647, 0.7490, 0.7765, 0.7529, 0.6902, 0.6118, 0.6549, 0.6941,\n",
              "           0.8235, 0.3608],\n",
              "          [0.0000, 0.0000, 0.2902, 0.7412, 0.8314, 0.7490, 0.6863, 0.6745, 0.6863, 0.7098, 0.7255, 0.7373, 0.7412,\n",
              "           0.7373, 0.7569, 0.7765, 0.8000, 0.8196, 0.8235, 0.8235, 0.8275, 0.7373, 0.7373, 0.7608, 0.7529, 0.8471,\n",
              "           0.6667, 0.0000],\n",
              "          [0.0078, 0.0000, 0.0000, 0.0000, 0.2588, 0.7843, 0.8706, 0.9294, 0.9373, 0.9490, 0.9647, 0.9529, 0.9569,\n",
              "           0.8667, 0.8627, 0.7569, 0.7490, 0.7020, 0.7137, 0.7137, 0.7098, 0.6902, 0.6510, 0.6588, 0.3882, 0.2275,\n",
              "           0.0000, 0.0000],\n",
              "          [0.0000, 0.0000, 0.0000, 0.0000, 0.0000, 0.0000, 0.0000, 0.1569, 0.2392, 0.1725, 0.2824, 0.1608, 0.1373,\n",
              "           0.0000, 0.0000, 0.0000, 0.0000, 0.0000, 0.0000, 0.0000, 0.0000, 0.0000, 0.0000, 0.0000, 0.0000, 0.0000,\n",
              "           0.0000, 0.0000],\n",
              "          [0.0000, 0.0000, 0.0000, 0.0000, 0.0000, 0.0000, 0.0000, 0.0000, 0.0000, 0.0000, 0.0000, 0.0000, 0.0000,\n",
              "           0.0000, 0.0000, 0.0000, 0.0000, 0.0000, 0.0000, 0.0000, 0.0000, 0.0000, 0.0000, 0.0000, 0.0000, 0.0000,\n",
              "           0.0000, 0.0000],\n",
              "          [0.0000, 0.0000, 0.0000, 0.0000, 0.0000, 0.0000, 0.0000, 0.0000, 0.0000, 0.0000, 0.0000, 0.0000, 0.0000,\n",
              "           0.0000, 0.0000, 0.0000, 0.0000, 0.0000, 0.0000, 0.0000, 0.0000, 0.0000, 0.0000, 0.0000, 0.0000, 0.0000,\n",
              "           0.0000, 0.0000]]]),\n",
              " 9)"
            ]
          },
          "metadata": {},
          "execution_count": 115
        }
      ]
    },
    {
      "cell_type": "code",
      "source": [
        "image, label = sample\n",
        "image.size()"
      ],
      "metadata": {
        "colab": {
          "base_uri": "https://localhost:8080/"
        },
        "id": "aNzKRv73iIdL",
        "outputId": "07777495-4fc0-4726-d521-b709922c5e72"
      },
      "execution_count": null,
      "outputs": [
        {
          "output_type": "execute_result",
          "data": {
            "text/plain": [
              "torch.Size([1, 28, 28])"
            ]
          },
          "metadata": {},
          "execution_count": 116
        }
      ]
    },
    {
      "cell_type": "code",
      "source": [
        "plt.imshow(image.squeeze(), cmap='gray')\n",
        "print('label:', label)"
      ],
      "metadata": {
        "colab": {
          "base_uri": "https://localhost:8080/",
          "height": 448
        },
        "id": "gs5C_1stiJ9W",
        "outputId": "ca933c1f-8ed3-4bcc-bad0-b58f61edf489"
      },
      "execution_count": null,
      "outputs": [
        {
          "output_type": "stream",
          "name": "stdout",
          "text": [
            "label: 9\n"
          ]
        },
        {
          "output_type": "display_data",
          "data": {
            "text/plain": [
              "<Figure size 640x480 with 1 Axes>"
            ],
            "image/png": "[encoded data removed]"
          },
          "metadata": {}
        }
      ]
    },
    {
      "cell_type": "code",
      "source": [
        "train_loader = torch.utils.data.DataLoader(\n",
        "    train_set,\n",
        "    batch_size = 32,\n",
        "    shuffle=True\n",
        ")"
      ],
      "metadata": {
        "id": "WyUWDvcPiKvW"
      },
      "execution_count": null,
      "outputs": []
    },
    {
      "cell_type": "code",
      "source": [
        "for tl in train_loader:\n",
        "  print(len(tl[0]))\n",
        "  print(tl[1])\n",
        "  break"
      ],
      "metadata": {
        "colab": {
          "base_uri": "https://localhost:8080/"
        },
        "id": "fWlspSzpiL1W",
        "outputId": "80550bbd-6a86-4ea3-fafb-5abce30aebed"
      },
      "execution_count": null,
      "outputs": [
        {
          "output_type": "stream",
          "name": "stdout",
          "text": [
            "32\n",
            "tensor([1, 4, 7, 3, 2, 7, 2, 3, 2, 2, 8, 2, 0, 8, 2, 7, 7, 5, 6, 7, 2, 9, 6, 9, 1, 9, 5, 3, 9, 3, 8, 8])\n"
          ]
        }
      ]
    },
    {
      "cell_type": "code",
      "source": [
        "batch = next(iter(train_loader))\n",
        "batch"
      ],
      "metadata": {
        "colab": {
          "base_uri": "https://localhost:8080/"
        },
        "id": "O5SemMr9iMlb",
        "outputId": "a19822dc-9ffd-4059-8ed3-cbddf2f2f1c2"
      },
      "execution_count": null,
      "outputs": [
        {
          "output_type": "execute_result",
          "data": {
            "text/plain": [
              "[tensor([[[[0.0000, 0.0000, 0.0000,  ..., 0.0000, 0.0000, 0.0000],\n",
              "           [0.0000, 0.0000, 0.0000,  ..., 0.0000, 0.0000, 0.0000],\n",
              "           [0.0000, 0.0000, 0.0000,  ..., 0.0000, 0.0000, 0.0000],\n",
              "           ...,\n",
              "           [0.0000, 0.0000, 0.0000,  ..., 0.0000, 0.0000, 0.0000],\n",
              "           [0.0000, 0.0000, 0.0000,  ..., 0.0000, 0.0000, 0.0000],\n",
              "           [0.0000, 0.0000, 0.0000,  ..., 0.0000, 0.0000, 0.0000]]],\n",
              " \n",
              " \n",
              "         [[[0.0000, 0.0000, 0.0000,  ..., 0.0000, 0.0000, 0.0000],\n",
              "           [0.0000, 0.0000, 0.0000,  ..., 0.0000, 0.0000, 0.0000],\n",
              "           [0.0000, 0.0000, 0.0000,  ..., 0.0000, 0.0000, 0.0000],\n",
              "           ...,\n",
              "           [0.0000, 0.0000, 0.0000,  ..., 0.0000, 0.0000, 0.0000],\n",
              "           [0.0000, 0.0000, 0.0000,  ..., 0.0000, 0.0000, 0.0000],\n",
              "           [0.0000, 0.0000, 0.0000,  ..., 0.0000, 0.0000, 0.0000]]],\n",
              " \n",
              " \n",
              "         [[[0.0000, 0.0000, 0.0000,  ..., 0.0000, 0.0000, 0.0000],\n",
              "           [0.0000, 0.0000, 0.0000,  ..., 0.0000, 0.0000, 0.0000],\n",
              "           [0.0000, 0.0000, 0.0000,  ..., 0.0039, 0.0000, 0.0000],\n",
              "           ...,\n",
              "           [0.0000, 0.0000, 0.0000,  ..., 0.0000, 0.0000, 0.0000],\n",
              "           [0.0000, 0.0000, 0.0000,  ..., 0.0000, 0.0000, 0.0000],\n",
              "           [0.0000, 0.0000, 0.0000,  ..., 0.0000, 0.0000, 0.0000]]],\n",
              " \n",
              " \n",
              "         ...,\n",
              " \n",
              " \n",
              "         [[[0.0000, 0.0000, 0.0000,  ..., 0.0000, 0.0000, 0.0000],\n",
              "           [0.0000, 0.0000, 0.0000,  ..., 0.0000, 0.0000, 0.0000],\n",
              "           [0.0000, 0.0000, 0.0000,  ..., 0.0000, 0.0000, 0.0000],\n",
              "           ...,\n",
              "           [0.0000, 0.0000, 0.0000,  ..., 0.0000, 0.0000, 0.0000],\n",
              "           [0.0000, 0.0000, 0.0000,  ..., 0.0000, 0.0000, 0.0000],\n",
              "           [0.0000, 0.0000, 0.0000,  ..., 0.0000, 0.0000, 0.0000]]],\n",
              " \n",
              " \n",
              "         [[[0.0000, 0.0000, 0.0000,  ..., 0.0000, 0.0000, 0.0000],\n",
              "           [0.0000, 0.0000, 0.0000,  ..., 0.0000, 0.0000, 0.0000],\n",
              "           [0.0000, 0.0000, 0.0000,  ..., 0.0000, 0.0000, 0.0000],\n",
              "           ...,\n",
              "           [0.0000, 0.0000, 0.0000,  ..., 0.0000, 0.0000, 0.0000],\n",
              "           [0.0000, 0.0000, 0.0000,  ..., 0.0000, 0.0000, 0.0000],\n",
              "           [0.0000, 0.0000, 0.0000,  ..., 0.0000, 0.0000, 0.0000]]],\n",
              " \n",
              " \n",
              "         [[[0.0000, 0.0000, 0.0000,  ..., 0.0000, 0.0000, 0.0000],\n",
              "           [0.0000, 0.0000, 0.0000,  ..., 0.0078, 0.0000, 0.0000],\n",
              "           [0.0000, 0.0000, 0.0039,  ..., 0.0000, 0.0000, 0.0000],\n",
              "           ...,\n",
              "           [0.0000, 0.0000, 0.0000,  ..., 0.0000, 0.0000, 0.0000],\n",
              "           [0.0000, 0.0000, 0.0000,  ..., 0.0039, 0.0000, 0.0000],\n",
              "           [0.0000, 0.0000, 0.0000,  ..., 0.0000, 0.0000, 0.0000]]]]),\n",
              " tensor([3, 5, 0, 4, 4, 7, 3, 9, 1, 5, 7, 0, 8, 6, 6, 5, 4, 0, 8, 8, 9, 1, 2, 4, 3, 8, 8, 5, 8, 8, 4, 0])]"
            ]
          },
          "metadata": {},
          "execution_count": 120
        }
      ]
    },
    {
      "cell_type": "code",
      "source": [
        "images, labels = batch\n",
        "\n",
        "images.shape, labels.shape"
      ],
      "metadata": {
        "colab": {
          "base_uri": "https://localhost:8080/"
        },
        "id": "G0PyWG3miNcI",
        "outputId": "c61964b4-206e-4f60-ca94-993eb7f424f3"
      },
      "execution_count": null,
      "outputs": [
        {
          "output_type": "execute_result",
          "data": {
            "text/plain": [
              "(torch.Size([32, 1, 28, 28]), torch.Size([32]))"
            ]
          },
          "metadata": {},
          "execution_count": 121
        }
      ]
    },
    {
      "cell_type": "code",
      "source": [
        "grid = torchvision.utils.make_grid(images, nrow=10)\n",
        "plt.figure(figsize=(15,15))\n",
        "plt.imshow(np.transpose(grid, (1,2,0)))\n",
        "print('labels:', labels)"
      ],
      "metadata": {
        "colab": {
          "base_uri": "https://localhost:8080/",
          "height": 414
        },
        "id": "jWFApz_YiOzu",
        "outputId": "35877b78-d5c9-41d8-828e-76cad169ebf2"
      },
      "execution_count": null,
      "outputs": [
        {
          "output_type": "stream",
          "name": "stdout",
          "text": [
            "labels: tensor([3, 5, 0, 4, 4, 7, 3, 9, 1, 5, 7, 0, 8, 6, 6, 5, 4, 0, 8, 8, 9, 1, 2, 4, 3, 8, 8, 5, 8, 8, 4, 0])\n"
          ]
        },
        {
          "output_type": "display_data",
          "data": {
            "text/plain": [
              "<Figure size 1500x1500 with 1 Axes>"
            ],
            "image/png": "[encoded data removed]"
          },
          "metadata": {}
        }
      ]
    },
    {
      "cell_type": "code",
      "source": [
        "import torch.nn as nn\n",
        "\n",
        "class Network(nn.Module):\n",
        "  def __init__(self):\n",
        "    super().__init__()\n",
        "    self.layer = None\n",
        "\n",
        "  def forward(self, t):\n",
        "    t = self.layer(t)\n",
        "    return t"
      ],
      "metadata": {
        "id": "K-OFIYTQiPir"
      },
      "execution_count": null,
      "outputs": []
    },
    {
      "cell_type": "code",
      "source": [
        "class Network(nn.Module):\n",
        "  def __init__(self):\n",
        "    super().__init__()\n",
        "\n",
        "    # input 28 # output 24 # receptive_field = 5\n",
        "    self.conv1 = nn.Conv2d(in_channels=1, out_channels=6, kernel_size=5)\n",
        "    # input 24 # output 20 # receptive_field = 9\n",
        "    self.conv2 = nn.Conv2d(in_channels=6, out_channels=12, kernel_size=5)\n",
        "    # input 12x20x20, output 120\n",
        "    # input 10*512\n",
        "    self.fc1 = nn.Linear(in_features=12*20*20, out_features=120)\n",
        "    self.fc2 = nn.Linear(in_features=120, out_features=60)\n",
        "    self.out = nn.Linear(in_features=60, out_features=10)\n",
        "\n",
        "  def forward(self, t):\n",
        "    return t\n"
      ],
      "metadata": {
        "id": "Vi_prKRgiQwH"
      },
      "execution_count": null,
      "outputs": []
    },
    {
      "cell_type": "code",
      "source": [
        "network = Network()\n",
        "\n",
        "print(network)"
      ],
      "metadata": {
        "colab": {
          "base_uri": "https://localhost:8080/"
        },
        "id": "0IKQO0I7iRvH",
        "outputId": "9a47a31a-51ef-44e1-db88-3368205586e3"
      },
      "execution_count": null,
      "outputs": [
        {
          "output_type": "stream",
          "name": "stdout",
          "text": [
            "Network(\n",
            "  (conv1): Conv2d(1, 6, kernel_size=(5, 5), stride=(1, 1))\n",
            "  (conv2): Conv2d(6, 12, kernel_size=(5, 5), stride=(1, 1))\n",
            "  (fc1): Linear(in_features=4800, out_features=120, bias=True)\n",
            "  (fc2): Linear(in_features=120, out_features=60, bias=True)\n",
            "  (out): Linear(in_features=60, out_features=10, bias=True)\n",
            ")\n"
          ]
        }
      ]
    },
    {
      "cell_type": "code",
      "source": [
        "network.fc2"
      ],
      "metadata": {
        "colab": {
          "base_uri": "https://localhost:8080/"
        },
        "id": "pk1eObEXiS41",
        "outputId": "915d045e-73dc-4ccf-91a2-f26e277b3440"
      },
      "execution_count": null,
      "outputs": [
        {
          "output_type": "execute_result",
          "data": {
            "text/plain": [
              "Linear(in_features=120, out_features=60, bias=True)"
            ]
          },
          "metadata": {},
          "execution_count": 126
        }
      ]
    },
    {
      "cell_type": "code",
      "source": [
        "dir(network.fc2)"
      ],
      "metadata": {
        "colab": {
          "base_uri": "https://localhost:8080/"
        },
        "id": "2iEzgp2QiTyW",
        "outputId": "ff171dc8-d5bd-4975-f4ce-527f3822aabc"
      },
      "execution_count": null,
      "outputs": [
        {
          "output_type": "execute_result",
          "data": {
            "text/plain": [
              "['T_destination',\n",
              " '__annotations__',\n",
              " '__call__',\n",
              " '__class__',\n",
              " '__constants__',\n",
              " '__delattr__',\n",
              " '__dict__',\n",
              " '__dir__',\n",
              " '__doc__',\n",
              " '__eq__',\n",
              " '__format__',\n",
              " '__ge__',\n",
              " '__getattr__',\n",
              " '__getattribute__',\n",
              " '__getstate__',\n",
              " '__gt__',\n",
              " '__hash__',\n",
              " '__init__',\n",
              " '__init_subclass__',\n",
              " '__le__',\n",
              " '__lt__',\n",
              " '__module__',\n",
              " '__ne__',\n",
              " '__new__',\n",
              " '__reduce__',\n",
              " '__reduce_ex__',\n",
              " '__repr__',\n",
              " '__setattr__',\n",
              " '__setstate__',\n",
              " '__sizeof__',\n",
              " '__str__',\n",
              " '__subclasshook__',\n",
              " '__weakref__',\n",
              " '_apply',\n",
              " '_backward_hooks',\n",
              " '_backward_pre_hooks',\n",
              " '_buffers',\n",
              " '_call_impl',\n",
              " '_compiled_call_impl',\n",
              " '_forward_hooks',\n",
              " '_forward_hooks_always_called',\n",
              " '_forward_hooks_with_kwargs',\n",
              " '_forward_pre_hooks',\n",
              " '_forward_pre_hooks_with_kwargs',\n",
              " '_get_backward_hooks',\n",
              " '_get_backward_pre_hooks',\n",
              " '_get_name',\n",
              " '_is_full_backward_hook',\n",
              " '_load_from_state_dict',\n",
              " '_load_state_dict_post_hooks',\n",
              " '_load_state_dict_pre_hooks',\n",
              " '_maybe_warn_non_full_backward_hook',\n",
              " '_modules',\n",
              " '_named_members',\n",
              " '_non_persistent_buffers_set',\n",
              " '_parameters',\n",
              " '_register_load_state_dict_pre_hook',\n",
              " '_register_state_dict_hook',\n",
              " '_replicate_for_data_parallel',\n",
              " '_save_to_state_dict',\n",
              " '_slow_forward',\n",
              " '_state_dict_hooks',\n",
              " '_state_dict_pre_hooks',\n",
              " '_version',\n",
              " '_wrapped_call_impl',\n",
              " 'add_module',\n",
              " 'apply',\n",
              " 'bfloat16',\n",
              " 'bias',\n",
              " 'buffers',\n",
              " 'call_super_init',\n",
              " 'children',\n",
              " 'compile',\n",
              " 'cpu',\n",
              " 'cuda',\n",
              " 'double',\n",
              " 'dump_patches',\n",
              " 'eval',\n",
              " 'extra_repr',\n",
              " 'float',\n",
              " 'forward',\n",
              " 'get_buffer',\n",
              " 'get_extra_state',\n",
              " 'get_parameter',\n",
              " 'get_submodule',\n",
              " 'half',\n",
              " 'in_features',\n",
              " 'ipu',\n",
              " 'load_state_dict',\n",
              " 'modules',\n",
              " 'mtia',\n",
              " 'named_buffers',\n",
              " 'named_children',\n",
              " 'named_modules',\n",
              " 'named_parameters',\n",
              " 'out_features',\n",
              " 'parameters',\n",
              " 'register_backward_hook',\n",
              " 'register_buffer',\n",
              " 'register_forward_hook',\n",
              " 'register_forward_pre_hook',\n",
              " 'register_full_backward_hook',\n",
              " 'register_full_backward_pre_hook',\n",
              " 'register_load_state_dict_post_hook',\n",
              " 'register_load_state_dict_pre_hook',\n",
              " 'register_module',\n",
              " 'register_parameter',\n",
              " 'register_state_dict_post_hook',\n",
              " 'register_state_dict_pre_hook',\n",
              " 'requires_grad_',\n",
              " 'reset_parameters',\n",
              " 'set_extra_state',\n",
              " 'set_submodule',\n",
              " 'share_memory',\n",
              " 'state_dict',\n",
              " 'to',\n",
              " 'to_empty',\n",
              " 'train',\n",
              " 'training',\n",
              " 'type',\n",
              " 'weight',\n",
              " 'xpu',\n",
              " 'zero_grad']"
            ]
          },
          "metadata": {},
          "execution_count": 127
        }
      ]
    },
    {
      "cell_type": "code",
      "source": [
        "network.fc2.weight"
      ],
      "metadata": {
        "colab": {
          "base_uri": "https://localhost:8080/"
        },
        "id": "CQBb7JJ6iUzW",
        "outputId": "95d4f8e0-90e9-4ac2-c0e7-3e4a82f158e9"
      },
      "execution_count": null,
      "outputs": [
        {
          "output_type": "execute_result",
          "data": {
            "text/plain": [
              "Parameter containing:\n",
              "tensor([[-0.0908,  0.0883,  0.0010,  ...,  0.0272, -0.0828, -0.0481],\n",
              "        [-0.0749,  0.0510, -0.0864,  ..., -0.0301, -0.0773, -0.0417],\n",
              "        [ 0.0661, -0.0378,  0.0792,  ...,  0.0766, -0.0085,  0.0508],\n",
              "        ...,\n",
              "        [ 0.0200,  0.0209, -0.0223,  ..., -0.0292, -0.0757, -0.0420],\n",
              "        [ 0.0009,  0.0534, -0.0011,  ..., -0.0597, -0.0846, -0.0220],\n",
              "        [ 0.0902, -0.0559, -0.0755,  ..., -0.0541,  0.0784, -0.0168]], requires_grad=True)"
            ]
          },
          "metadata": {},
          "execution_count": 128
        }
      ]
    },
    {
      "cell_type": "code",
      "source": [
        "network.fc2.weight.shape"
      ],
      "metadata": {
        "colab": {
          "base_uri": "https://localhost:8080/"
        },
        "id": "0XEIHXTiiWQI",
        "outputId": "a8150947-af60-4ff8-bc81-2d6b793b6c8b"
      },
      "execution_count": null,
      "outputs": [
        {
          "output_type": "execute_result",
          "data": {
            "text/plain": [
              "torch.Size([60, 120])"
            ]
          },
          "metadata": {},
          "execution_count": 129
        }
      ]
    },
    {
      "cell_type": "code",
      "source": [
        "class Network(nn.Module):\n",
        "  def __init__(self):\n",
        "    super().__init__()\n",
        "    self.conv1 = nn.Conv2d(in_channels=1, out_channels=6, kernel_size=5)\n",
        "    self.conv2 = nn.Conv2d(in_channels=6, out_channels=12, kernel_size=5)\n",
        "    self.fc1 = nn.Linear(in_features=12*20*20, out_features=120)\n",
        "    self.fc2 = nn.Linear(in_features=120, out_features=60)\n",
        "    self.out = nn.Linear(in_features=60, out_features=10)\n",
        "\n",
        "  def forward(self, t):\n",
        "    # TODO implement this\n",
        "    return t\n",
        "\n",
        "network = Network()\n",
        "\n",
        "for name, param in network.named_parameters():\n",
        "  print(name, '\\t\\t', param.shape)"
      ],
      "metadata": {
        "colab": {
          "base_uri": "https://localhost:8080/"
        },
        "id": "U0ia1GoYiXIb",
        "outputId": "d802267b-6dec-4236-ed2d-f1c60697e717"
      },
      "execution_count": null,
      "outputs": [
        {
          "output_type": "stream",
          "name": "stdout",
          "text": [
            "conv1.weight \t\t torch.Size([6, 1, 5, 5])\n",
            "conv1.bias \t\t torch.Size([6])\n",
            "conv2.weight \t\t torch.Size([12, 6, 5, 5])\n",
            "conv2.bias \t\t torch.Size([12])\n",
            "fc1.weight \t\t torch.Size([120, 4800])\n",
            "fc1.bias \t\t torch.Size([120])\n",
            "fc2.weight \t\t torch.Size([60, 120])\n",
            "fc2.bias \t\t torch.Size([60])\n",
            "out.weight \t\t torch.Size([10, 60])\n",
            "out.bias \t\t torch.Size([10])\n"
          ]
        }
      ]
    },
    {
      "cell_type": "code",
      "source": [
        "import torch.nn.functional as F"
      ],
      "metadata": {
        "id": "RivRs4i8iZat"
      },
      "execution_count": null,
      "outputs": []
    },
    {
      "cell_type": "code",
      "source": [
        "\n",
        "class Network(nn.Module):\n",
        "  def __init__(self):\n",
        "    super().__init__()\n",
        "    self.conv1 = nn.Conv2d(in_channels=1, out_channels=6, kernel_size=5)\n",
        "    self.conv2 = nn.Conv2d(in_channels=6, out_channels=12, kernel_size=5)\n",
        "    self.fc1 = nn.Linear(in_features=12 * 4 * 4, out_features=120)\n",
        "    self.fc2 = nn.Linear(in_features=120, out_features=60)\n",
        "    self.out = nn.Linear(in_features=60, out_features=10)\n",
        "\n",
        "  def forward(self, t):\n",
        "    # input layer\n",
        "    x = t\n",
        "\n",
        "    # conv1 layer\n",
        "    x = self.conv1(x)\n",
        "    x = F.relu(x)\n",
        "    x = F.max_pool2d(x, kernel_size=2, stride=2) # 28 | 24 | 12\n",
        "\n",
        "    # conv2 layer\n",
        "    x = self.conv2(x)\n",
        "    x = F.relu(x)\n",
        "    x = F.max_pool2d(x, kernel_size=2, stride=2) # 12 | 8 | 4 >> 12x4x4\n",
        "\n",
        "    # reshapre\n",
        "    x = x.reshape(-1, 12 * 4 * 4)\n",
        "\n",
        "    # fc1 layer\n",
        "    x = self.fc1(x)\n",
        "    x = F.relu(x)\n",
        "\n",
        "    # fc2 layer\n",
        "    x = self.fc2(x)\n",
        "    x = F.relu(x)\n",
        "\n",
        "    # output layer\n",
        "    x = self.out(x)\n",
        "    # x = F.softmax(x, dim=1)\n",
        "    return x"
      ],
      "metadata": {
        "id": "1M4VQhSWiaYC"
      },
      "execution_count": null,
      "outputs": []
    },
    {
      "cell_type": "code",
      "source": [
        "torch.set_grad_enabled(False)"
      ],
      "metadata": {
        "colab": {
          "base_uri": "https://localhost:8080/"
        },
        "id": "v9qe6emhibQ-",
        "outputId": "38fef427-3881-4710-ee1a-92a816462d3a"
      },
      "execution_count": null,
      "outputs": [
        {
          "output_type": "execute_result",
          "data": {
            "text/plain": [
              "torch.autograd.grad_mode.set_grad_enabled(mode=False)"
            ]
          },
          "metadata": {},
          "execution_count": 133
        }
      ]
    },
    {
      "cell_type": "code",
      "source": [
        "sample = next(iter(train_set))\n",
        "image, label = sample\n",
        "image.shape, image.unsqueeze(0).shape\n"
      ],
      "metadata": {
        "colab": {
          "base_uri": "https://localhost:8080/"
        },
        "id": "8P36KEC2icfC",
        "outputId": "f64ec66e-1a03-4118-89ec-6c051f0b0040"
      },
      "execution_count": null,
      "outputs": [
        {
          "output_type": "execute_result",
          "data": {
            "text/plain": [
              "(torch.Size([1, 28, 28]), torch.Size([1, 1, 28, 28]))"
            ]
          },
          "metadata": {},
          "execution_count": 134
        }
      ]
    },
    {
      "cell_type": "code",
      "source": [
        "network = Network()"
      ],
      "metadata": {
        "id": "2FtKvsPIidd4"
      },
      "execution_count": null,
      "outputs": []
    },
    {
      "cell_type": "code",
      "source": [
        "pred = network(image) #this use to fail"
      ],
      "metadata": {
        "id": "StLNug25ieaM"
      },
      "execution_count": null,
      "outputs": []
    },
    {
      "cell_type": "code",
      "source": [
        "pred = network(image.unsqueeze(0)) # and we had to do this in older pytorch versions"
      ],
      "metadata": {
        "id": "if2t2RjVifIu"
      },
      "execution_count": null,
      "outputs": []
    },
    {
      "cell_type": "code",
      "source": [
        "pred, pred.shape, label"
      ],
      "metadata": {
        "colab": {
          "base_uri": "https://localhost:8080/"
        },
        "id": "Nt8dFDu-iiJY",
        "outputId": "8b6a1e0b-04a5-44f5-944b-c94866f50207"
      },
      "execution_count": null,
      "outputs": [
        {
          "output_type": "execute_result",
          "data": {
            "text/plain": [
              "(tensor([[-0.1015, -0.0357, -0.0190,  0.1732,  0.1403,  0.1573,  0.0537, -0.0060, -0.0759, -0.0593]]),\n",
              " torch.Size([1, 10]),\n",
              " 9)"
            ]
          },
          "metadata": {},
          "execution_count": 139
        }
      ]
    },
    {
      "cell_type": "code",
      "source": [
        "pred.argmax(dim=1)"
      ],
      "metadata": {
        "colab": {
          "base_uri": "https://localhost:8080/"
        },
        "id": "Vlatns93i0ts",
        "outputId": "c7317f0b-3886-44fe-9265-eb613e52a503"
      },
      "execution_count": null,
      "outputs": [
        {
          "output_type": "execute_result",
          "data": {
            "text/plain": [
              "tensor([3])"
            ]
          },
          "metadata": {},
          "execution_count": 140
        }
      ]
    },
    {
      "cell_type": "code",
      "source": [
        "F.softmax(pred, dim=1)"
      ],
      "metadata": {
        "colab": {
          "base_uri": "https://localhost:8080/"
        },
        "id": "kT7u3Qcmi1mY",
        "outputId": "df77fa69-ea4f-4381-9192-80023a25c35c"
      },
      "execution_count": null,
      "outputs": [
        {
          "output_type": "execute_result",
          "data": {
            "text/plain": [
              "tensor([[0.0879, 0.0939, 0.0955, 0.1157, 0.1120, 0.1139, 0.1027, 0.0967, 0.0902, 0.0917]])"
            ]
          },
          "metadata": {},
          "execution_count": 141
        }
      ]
    },
    {
      "cell_type": "code",
      "source": [
        "import torch\n",
        "import torch.nn.functional as F\n",
        "import matplotlib.pyplot as plt\n",
        "\n",
        "# Input values\n",
        "x = torch.tensor([4., 3., 2., 1.])\n",
        "\n",
        "# Apply softmax\n",
        "softmax_vals = F.softmax(x, dim=0)\n",
        "\n",
        "# Labels rounded for display\n",
        "labels = [f\"{val.item():.2f}\" for val in x]\n",
        "\n",
        "plt.figure(figsize=(8,5))\n",
        "\n",
        "# Original values\n",
        "plt.bar([i-0.2 for i in range(len(x))], x, width=0.4, label=\"Original values\", alpha=0.7)\n",
        "\n",
        "# Softmax probabilities\n",
        "plt.bar([i+0.2 for i in range(len(x))], softmax_vals, width=0.4, label=\"Softmax probabilities\", alpha=0.7)\n",
        "\n",
        "# Fix x-axis ticks\n",
        "plt.xticks(range(len(x)), labels)\n",
        "plt.ylabel(\"Value / Probability\")\n",
        "plt.title(\"Softmax: Exponential Effect on Input Values\")\n",
        "plt.legend()\n",
        "plt.show()\n"
      ],
      "metadata": {
        "colab": {
          "base_uri": "https://localhost:8080/",
          "height": 468
        },
        "id": "IZBR7nrDkHoc",
        "outputId": "bf390352-6f8c-48b7-8ef9-3a39a641907e"
      },
      "execution_count": null,
      "outputs": [
        {
          "output_type": "display_data",
          "data": {
            "text/plain": [
              "<Figure size 800x500 with 1 Axes>"
            ],
            "image/png": "[encoded data removed]"
          },
          "metadata": {}
        }
      ]
    },
    {
      "cell_type": "code",
      "source": [
        "import torch\n",
        "import torch.nn.functional as F\n",
        "import matplotlib.pyplot as plt\n",
        "\n",
        "# Input values\n",
        "x = torch.tensor([0.4, 0.3, 0.2, 0.1])\n",
        "\n",
        "# Apply softmax\n",
        "softmax_vals = F.softmax(x, dim=0)\n",
        "\n",
        "# Labels rounded for display\n",
        "labels = [f\"{val.item():.2f}\" for val in x]\n",
        "\n",
        "plt.figure(figsize=(8,5))\n",
        "\n",
        "# Original values\n",
        "plt.bar([i-0.2 for i in range(len(x))], x, width=0.4, label=\"Original values\", alpha=0.7)\n",
        "\n",
        "# Softmax probabilities\n",
        "plt.bar([i+0.2 for i in range(len(x))], softmax_vals, width=0.4, label=\"Softmax probabilities\", alpha=0.7)\n",
        "\n",
        "# Fix x-axis ticks\n",
        "plt.xticks(range(len(x)), labels)\n",
        "plt.ylabel(\"Value / Probability\")\n",
        "plt.title(\"Softmax: Exponential Effect on Input Values\")\n",
        "plt.legend()\n",
        "plt.show()\n"
      ],
      "metadata": {
        "colab": {
          "base_uri": "https://localhost:8080/",
          "height": 468
        },
        "id": "XyH3Ii95i2Zw",
        "outputId": "b8b56bbd-8893-40af-b33d-0f38dd311b91"
      },
      "execution_count": null,
      "outputs": [
        {
          "output_type": "display_data",
          "data": {
            "text/plain": [
              "<Figure size 800x500 with 1 Axes>"
            ],
            "image/png": "[encoded data removed]"
          },
          "metadata": {}
        }
      ]
    },
    {
      "cell_type": "code",
      "source": [
        "F.softmax(pred, dim=1).sum()"
      ],
      "metadata": {
        "colab": {
          "base_uri": "https://localhost:8080/"
        },
        "id": "7ECfOF4ki-_A",
        "outputId": "af1225cf-7cff-4bef-b16b-53a961c158b8"
      },
      "execution_count": null,
      "outputs": [
        {
          "output_type": "execute_result",
          "data": {
            "text/plain": [
              "tensor(1.)"
            ]
          },
          "metadata": {},
          "execution_count": 148
        }
      ]
    },
    {
      "cell_type": "code",
      "source": [
        "data_loader = torch.utils.data.DataLoader(\n",
        "    train_set,\n",
        "    batch_size=10\n",
        ")"
      ],
      "metadata": {
        "id": "rw09NFdNkTkx"
      },
      "execution_count": null,
      "outputs": []
    },
    {
      "cell_type": "code",
      "source": [
        "batch = next(iter(data_loader))\n",
        "len(batch[0])"
      ],
      "metadata": {
        "colab": {
          "base_uri": "https://localhost:8080/"
        },
        "id": "1r_EeRC1kUpa",
        "outputId": "43f5f590-f4e3-4193-ba3c-e3ab868e5df2"
      },
      "execution_count": null,
      "outputs": [
        {
          "output_type": "execute_result",
          "data": {
            "text/plain": [
              "10"
            ]
          },
          "metadata": {},
          "execution_count": 150
        }
      ]
    },
    {
      "cell_type": "code",
      "source": [
        "images, labels = batch\n",
        "\n",
        "preds = network(images)\n",
        "preds.shape"
      ],
      "metadata": {
        "colab": {
          "base_uri": "https://localhost:8080/"
        },
        "id": "inVhrVsUkVp0",
        "outputId": "990a3e70-1bc9-4590-8176-ec7212090f23"
      },
      "execution_count": null,
      "outputs": [
        {
          "output_type": "execute_result",
          "data": {
            "text/plain": [
              "torch.Size([10, 10])"
            ]
          },
          "metadata": {},
          "execution_count": 151
        }
      ]
    },
    {
      "cell_type": "code",
      "source": [
        "preds"
      ],
      "metadata": {
        "colab": {
          "base_uri": "https://localhost:8080/"
        },
        "id": "ypORfTqSkWzE",
        "outputId": "63b1a0cd-45ba-4edc-87c5-a03e54e19f7c"
      },
      "execution_count": null,
      "outputs": [
        {
          "output_type": "execute_result",
          "data": {
            "text/plain": [
              "tensor([[-0.1015, -0.0357, -0.0190,  0.1732,  0.1403,  0.1573,  0.0537, -0.0060, -0.0759, -0.0593],\n",
              "        [-0.0950, -0.0395, -0.0211,  0.1757,  0.1327,  0.1597,  0.0492, -0.0084, -0.0773, -0.0558],\n",
              "        [-0.0995, -0.0451, -0.0206,  0.1691,  0.1353,  0.1529,  0.0553, -0.0090, -0.0720, -0.0541],\n",
              "        [-0.1031, -0.0424, -0.0204,  0.1705,  0.1358,  0.1518,  0.0580, -0.0063, -0.0692, -0.0573],\n",
              "        [-0.1035, -0.0418, -0.0149,  0.1735,  0.1411,  0.1507,  0.0619, -0.0035, -0.0738, -0.0570],\n",
              "        [-0.0927, -0.0343, -0.0161,  0.1747,  0.1346,  0.1637,  0.0515,  0.0030, -0.0819, -0.0606],\n",
              "        [-0.0966, -0.0361, -0.0176,  0.1711,  0.1463,  0.1636,  0.0435, -0.0065, -0.0876, -0.0555],\n",
              "        [-0.0997, -0.0267, -0.0212,  0.1769,  0.1428,  0.1583,  0.0597,  0.0012, -0.0822, -0.0590],\n",
              "        [-0.1053, -0.0371, -0.0217,  0.1659,  0.1377,  0.1545,  0.0579, -0.0093, -0.0769, -0.0556],\n",
              "        [-0.1050, -0.0370, -0.0198,  0.1691,  0.1368,  0.1599,  0.0513, -0.0061, -0.0797, -0.0567]])"
            ]
          },
          "metadata": {},
          "execution_count": 152
        }
      ]
    },
    {
      "cell_type": "code",
      "source": [
        "preds.argmax(dim=1)"
      ],
      "metadata": {
        "colab": {
          "base_uri": "https://localhost:8080/"
        },
        "id": "VVk5th6XkXxl",
        "outputId": "acf8f55e-ebc8-47ff-d9db-37b6217fb5a5"
      },
      "execution_count": null,
      "outputs": [
        {
          "output_type": "execute_result",
          "data": {
            "text/plain": [
              "tensor([3, 3, 3, 3, 3, 3, 3, 3, 3, 3])"
            ]
          },
          "metadata": {},
          "execution_count": 153
        }
      ]
    },
    {
      "cell_type": "code",
      "source": [
        "preds.argmax(dim=1).eq(labels)"
      ],
      "metadata": {
        "colab": {
          "base_uri": "https://localhost:8080/"
        },
        "id": "HnDXZu9rkZBU",
        "outputId": "3b95fa34-0a8b-4ea6-a4c7-382bbc5381d6"
      },
      "execution_count": null,
      "outputs": [
        {
          "output_type": "execute_result",
          "data": {
            "text/plain": [
              "tensor([False, False, False,  True, False, False, False, False, False, False])"
            ]
          },
          "metadata": {},
          "execution_count": 154
        }
      ]
    },
    {
      "cell_type": "code",
      "source": [
        "def get_num_correct(preds, labels):\n",
        "  return preds.argmax(dim=1).eq(labels).sum().item()"
      ],
      "metadata": {
        "id": "zodsOtA9kZ5G"
      },
      "execution_count": null,
      "outputs": []
    },
    {
      "cell_type": "code",
      "source": [
        "get_num_correct(preds, labels)"
      ],
      "metadata": {
        "colab": {
          "base_uri": "https://localhost:8080/"
        },
        "id": "G6GXFHzzka3e",
        "outputId": "9b812dc5-ab1d-4711-fcc8-419b07fb0d5e"
      },
      "execution_count": null,
      "outputs": [
        {
          "output_type": "execute_result",
          "data": {
            "text/plain": [
              "1"
            ]
          },
          "metadata": {},
          "execution_count": 156
        }
      ]
    },
    {
      "cell_type": "code",
      "source": [
        "import torch.optim as optim\n",
        "\n",
        "torch.set_grad_enabled(True)"
      ],
      "metadata": {
        "colab": {
          "base_uri": "https://localhost:8080/"
        },
        "id": "6EHk0mKskb3T",
        "outputId": "4deab2aa-3b4b-454f-bc80-50d263b38fce"
      },
      "execution_count": null,
      "outputs": [
        {
          "output_type": "execute_result",
          "data": {
            "text/plain": [
              "torch.autograd.grad_mode.set_grad_enabled(mode=True)"
            ]
          },
          "metadata": {},
          "execution_count": 157
        }
      ]
    },
    {
      "cell_type": "code",
      "source": [
        "preds = network(images)\n",
        "loss = F.cross_entropy(preds, labels)\n",
        "loss.item()"
      ],
      "metadata": {
        "colab": {
          "base_uri": "https://localhost:8080/"
        },
        "id": "saBys6rCkc6G",
        "outputId": "8c936b39-309a-441e-98bb-11c347de64be"
      },
      "execution_count": null,
      "outputs": [
        {
          "output_type": "execute_result",
          "data": {
            "text/plain": [
              "2.3213846683502197"
            ]
          },
          "metadata": {},
          "execution_count": 158
        }
      ]
    },
    {
      "cell_type": "code",
      "source": [
        "import math\n",
        "\n",
        "# Natural logarithm (base e)\n",
        "log_e = math.log(1/10)\n",
        "\n",
        "print(\"ln(1/10):\", log_e)\n"
      ],
      "metadata": {
        "colab": {
          "base_uri": "https://localhost:8080/"
        },
        "id": "hL250lLWkd3I",
        "outputId": "80a6dacc-ac60-4b88-821c-d30b6af2c39d"
      },
      "execution_count": null,
      "outputs": [
        {
          "output_type": "stream",
          "name": "stdout",
          "text": [
            "ln(1/10): -2.3025850929940455\n"
          ]
        }
      ]
    },
    {
      "cell_type": "code",
      "source": [
        "print(network.conv1.weight.grad)"
      ],
      "metadata": {
        "colab": {
          "base_uri": "https://localhost:8080/"
        },
        "id": "MTbEnZ_Ikoz5",
        "outputId": "22d5282d-f01d-4bbd-ed5d-c4f267a6dc44"
      },
      "execution_count": null,
      "outputs": [
        {
          "output_type": "stream",
          "name": "stdout",
          "text": [
            "None\n"
          ]
        }
      ]
    },
    {
      "cell_type": "code",
      "source": [
        "loss.backward()"
      ],
      "metadata": {
        "id": "xdRa0IE4ks9Q"
      },
      "execution_count": null,
      "outputs": []
    },
    {
      "cell_type": "code",
      "source": [
        "print(network.conv1.weight.grad)"
      ],
      "metadata": {
        "colab": {
          "base_uri": "https://localhost:8080/"
        },
        "id": "hDuNeo8nktvk",
        "outputId": "47ac3e4b-f7c5-4297-94fb-9cbc6de242eb"
      },
      "execution_count": null,
      "outputs": [
        {
          "output_type": "stream",
          "name": "stdout",
          "text": [
            "tensor([[[[-9.9283e-05, -4.6933e-04, -1.0064e-03, -8.0123e-04, -6.0821e-04],\n",
            "          [-2.5764e-04, -5.6034e-04, -1.8824e-04,  2.4913e-04, -1.4409e-03],\n",
            "          [-8.2527e-04, -2.9388e-04, -2.3706e-04,  1.3509e-04, -2.1417e-03],\n",
            "          [-2.9335e-05, -8.6822e-04, -1.2237e-03, -8.1368e-04, -2.0638e-03],\n",
            "          [ 1.0424e-03,  4.3004e-04,  1.6284e-04, -1.2200e-04, -1.4931e-03]]],\n",
            "\n",
            "\n",
            "        [[[ 2.5832e-04, -4.2289e-04, -1.7141e-04, -5.2540e-05, -4.6545e-04],\n",
            "          [ 3.8887e-04,  6.4308e-04,  9.6826e-04, -4.0252e-05, -4.1568e-04],\n",
            "          [-5.2662e-04, -1.3489e-03, -1.9183e-03, -1.8047e-03,  1.5171e-04],\n",
            "          [-2.2827e-04, -6.4980e-04,  5.0083e-04,  9.9309e-04,  1.5002e-03],\n",
            "          [ 2.2182e-04, -5.8463e-04,  1.7410e-03,  1.1738e-03,  1.9736e-03]]],\n",
            "\n",
            "\n",
            "        [[[-3.8332e-04,  4.8693e-04,  2.3268e-04,  7.3129e-06,  1.3769e-06],\n",
            "          [-8.0067e-05,  4.2765e-04,  2.7081e-04,  2.6468e-05, -9.2474e-05],\n",
            "          [ 4.2213e-04,  5.2549e-04,  1.0351e-04, -1.3515e-04, -2.6647e-04],\n",
            "          [ 2.6265e-04,  6.9897e-04,  1.4258e-04, -1.6944e-04,  1.4170e-04],\n",
            "          [ 4.0146e-04,  7.9291e-04,  4.7627e-04,  2.9686e-04,  1.1193e-04]]],\n",
            "\n",
            "\n",
            "        [[[-3.2591e-03, -1.4194e-03, -1.6935e-03, -1.5033e-03,  3.9569e-04],\n",
            "          [-5.0122e-03, -3.7312e-03, -3.6844e-03, -2.2421e-03,  6.9976e-05],\n",
            "          [-4.7521e-03, -2.7044e-03, -1.9970e-03, -1.3066e-03, -2.9661e-04],\n",
            "          [-2.8968e-03, -5.7884e-04, -1.6451e-03, -3.3887e-03, -2.6565e-03],\n",
            "          [-4.0558e-03, -1.7714e-03, -2.7618e-03, -2.5567e-03, -1.7046e-03]]],\n",
            "\n",
            "\n",
            "        [[[ 5.0343e-05, -3.7567e-03, -3.5131e-03, -2.9910e-03, -1.9570e-03],\n",
            "          [-5.3968e-04, -2.6760e-03, -2.2260e-03, -2.2676e-03, -8.5200e-04],\n",
            "          [ 7.8255e-04, -1.1377e-03, -9.9950e-04, -1.2330e-03, -8.2539e-04],\n",
            "          [ 1.1228e-03, -1.5793e-03, -2.3790e-03, -2.2088e-03, -1.2846e-03],\n",
            "          [ 9.5795e-04, -1.8314e-03, -2.4714e-03, -3.8012e-03, -2.9418e-03]]],\n",
            "\n",
            "\n",
            "        [[[ 9.3009e-04,  9.6052e-04,  3.8476e-04,  3.8847e-04, -1.5526e-04],\n",
            "          [ 2.1057e-04,  6.3688e-04,  5.8049e-04,  1.1334e-03,  2.5308e-04],\n",
            "          [ 3.4588e-04,  5.4323e-04,  3.2581e-04,  5.4710e-04, -7.1316e-04],\n",
            "          [ 6.2127e-04,  9.6652e-04,  4.9446e-04,  4.7097e-04, -1.4692e-04],\n",
            "          [-1.0816e-04,  1.1335e-03,  6.7274e-04,  2.1195e-04,  4.5034e-04]]]])\n"
          ]
        }
      ]
    },
    {
      "cell_type": "code",
      "source": [
        "kernel_3x3 = network.conv1.weight[1, 0].detach().cpu()\n",
        "kernel_3x3"
      ],
      "metadata": {
        "colab": {
          "base_uri": "https://localhost:8080/"
        },
        "id": "dkWmldrtkuxQ",
        "outputId": "1be90d7d-0228-4393-80f7-173fa9cf20ff"
      },
      "execution_count": null,
      "outputs": [
        {
          "output_type": "execute_result",
          "data": {
            "text/plain": [
              "tensor([[-0.1290,  0.0385,  0.0266, -0.0323,  0.1192],\n",
              "        [ 0.1523, -0.1822, -0.1564,  0.0255, -0.1306],\n",
              "        [ 0.1931,  0.0396,  0.1112, -0.0658, -0.1033],\n",
              "        [-0.1393, -0.1113, -0.0065, -0.1653,  0.1919],\n",
              "        [-0.1094,  0.1176, -0.0197,  0.1947,  0.1219]])"
            ]
          },
          "metadata": {},
          "execution_count": 165
        }
      ]
    },
    {
      "cell_type": "code",
      "source": [
        "kernel_3x3_grad = network.conv1.weight.grad[1, 0].detach().cpu()\n",
        "kernel_3x3_grad"
      ],
      "metadata": {
        "colab": {
          "base_uri": "https://localhost:8080/"
        },
        "id": "fFd-E90Alztz",
        "outputId": "761638b0-db83-4d33-c79e-d0113e78806f"
      },
      "execution_count": null,
      "outputs": [
        {
          "output_type": "execute_result",
          "data": {
            "text/plain": [
              "tensor([[ 2.5832e-04, -4.2289e-04, -1.7141e-04, -5.2540e-05, -4.6545e-04],\n",
              "        [ 3.8887e-04,  6.4308e-04,  9.6826e-04, -4.0252e-05, -4.1568e-04],\n",
              "        [-5.2662e-04, -1.3489e-03, -1.9183e-03, -1.8047e-03,  1.5171e-04],\n",
              "        [-2.2827e-04, -6.4980e-04,  5.0083e-04,  9.9309e-04,  1.5002e-03],\n",
              "        [ 2.2182e-04, -5.8463e-04,  1.7410e-03,  1.1738e-03,  1.9736e-03]])"
            ]
          },
          "metadata": {},
          "execution_count": 168
        }
      ]
    },
    {
      "cell_type": "code",
      "source": [
        "print(network.conv1.weight.grad.shape)"
      ],
      "metadata": {
        "colab": {
          "base_uri": "https://localhost:8080/"
        },
        "id": "kyK2FRPfmAt_",
        "outputId": "afdda72c-1255-4534-ce9d-204720ab52ab"
      },
      "execution_count": null,
      "outputs": [
        {
          "output_type": "stream",
          "name": "stdout",
          "text": [
            "torch.Size([6, 1, 5, 5])\n"
          ]
        }
      ]
    },
    {
      "cell_type": "code",
      "source": [
        "optimizer = optim.Adam(network.parameters(), lr = 0.01)"
      ],
      "metadata": {
        "id": "4PV5yMeCmQzw"
      },
      "execution_count": null,
      "outputs": []
    },
    {
      "cell_type": "code",
      "source": [
        "loss.item(), get_num_correct(preds, labels)"
      ],
      "metadata": {
        "colab": {
          "base_uri": "https://localhost:8080/"
        },
        "id": "aCNRCTdvmRh4",
        "outputId": "3ee02e2e-b2b8-4d2a-d285-975ed5f8afc2"
      },
      "execution_count": null,
      "outputs": [
        {
          "output_type": "execute_result",
          "data": {
            "text/plain": [
              "(2.3213846683502197, 1)"
            ]
          },
          "metadata": {},
          "execution_count": 171
        }
      ]
    },
    {
      "cell_type": "code",
      "source": [
        "optimizer.step()"
      ],
      "metadata": {
        "id": "O9T5qh0ymSRW"
      },
      "execution_count": null,
      "outputs": []
    },
    {
      "cell_type": "code",
      "source": [
        "kernel_3x3 = network.conv1.weight[1, 0].detach().cpu()\n",
        "kernel_3x3"
      ],
      "metadata": {
        "colab": {
          "base_uri": "https://localhost:8080/"
        },
        "id": "Uh2EHyLVmTH7",
        "outputId": "bdabb685-210a-4870-d734-06a125e640f0"
      },
      "execution_count": null,
      "outputs": [
        {
          "output_type": "execute_result",
          "data": {
            "text/plain": [
              "tensor([[-0.1390,  0.0485,  0.0366, -0.0223,  0.1292],\n",
              "        [ 0.1423, -0.1922, -0.1664,  0.0355, -0.1206],\n",
              "        [ 0.2031,  0.0496,  0.1212, -0.0558, -0.1133],\n",
              "        [-0.1293, -0.1013, -0.0165, -0.1753,  0.1819],\n",
              "        [-0.1194,  0.1276, -0.0297,  0.1847,  0.1119]])"
            ]
          },
          "metadata": {},
          "execution_count": 173
        }
      ]
    },
    {
      "cell_type": "code",
      "source": [
        "preds = network(images)\n",
        "loss = F.cross_entropy(preds, labels)\n",
        "loss.item(), get_num_correct(preds, labels)"
      ],
      "metadata": {
        "colab": {
          "base_uri": "https://localhost:8080/"
        },
        "id": "n1A1D-tymU8Z",
        "outputId": "8d93a687-9229-46e6-d758-5a3effe6fcbf"
      },
      "execution_count": null,
      "outputs": [
        {
          "output_type": "execute_result",
          "data": {
            "text/plain": [
              "(2.175248622894287, 2)"
            ]
          },
          "metadata": {},
          "execution_count": 174
        }
      ]
    },
    {
      "cell_type": "code",
      "source": [
        "loss.backward()\n",
        "optimizer.step()\n",
        "preds = network(images)\n",
        "loss = F.cross_entropy(preds, labels)\n",
        "loss.item(), get_num_correct(preds, labels)"
      ],
      "metadata": {
        "colab": {
          "base_uri": "https://localhost:8080/"
        },
        "id": "vyCWhORpmXnS",
        "outputId": "a424dbea-0816-49a6-a8a1-7d12c832f42a"
      },
      "execution_count": null,
      "outputs": [
        {
          "output_type": "execute_result",
          "data": {
            "text/plain": [
              "(1.8839012384414673, 3)"
            ]
          },
          "metadata": {},
          "execution_count": 175
        }
      ]
    },
    {
      "cell_type": "code",
      "source": [
        "loss.backward()\n",
        "optimizer.step()\n",
        "preds = network(images)\n",
        "loss = F.cross_entropy(preds, labels)\n",
        "loss.item(), get_num_correct(preds, labels)"
      ],
      "metadata": {
        "colab": {
          "base_uri": "https://localhost:8080/"
        },
        "id": "T3HMegMWmYgD",
        "outputId": "221e2301-4766-4a77-d511-2210f923be1d"
      },
      "execution_count": null,
      "outputs": [
        {
          "output_type": "execute_result",
          "data": {
            "text/plain": [
              "(2.313223123550415, 3)"
            ]
          },
          "metadata": {},
          "execution_count": 176
        }
      ]
    },
    {
      "cell_type": "code",
      "source": [
        "loss.backward()\n",
        "optimizer.step()\n",
        "preds = network(images)\n",
        "loss = F.cross_entropy(preds, labels)\n",
        "loss.item(), get_num_correct(preds, labels)"
      ],
      "metadata": {
        "colab": {
          "base_uri": "https://localhost:8080/"
        },
        "id": "igzoJzCGmZdL",
        "outputId": "fc229e3d-b959-42c6-c3aa-e0485996b1dc"
      },
      "execution_count": null,
      "outputs": [
        {
          "output_type": "execute_result",
          "data": {
            "text/plain": [
              "(1.6852328777313232, 4)"
            ]
          },
          "metadata": {},
          "execution_count": 177
        }
      ]
    },
    {
      "cell_type": "code",
      "source": [
        "loss.backward()\n",
        "optimizer.zero_grad()\n",
        "optimizer.step()\n",
        "preds = network(images)\n",
        "loss = F.cross_entropy(preds, labels)\n",
        "loss.item(), get_num_correct(preds, labels)"
      ],
      "metadata": {
        "colab": {
          "base_uri": "https://localhost:8080/"
        },
        "id": "xf8XSPxpmbep",
        "outputId": "081ab104-47a3-4487-baf1-efe3ff777572"
      },
      "execution_count": null,
      "outputs": [
        {
          "output_type": "execute_result",
          "data": {
            "text/plain": [
              "(1.6852328777313232, 4)"
            ]
          },
          "metadata": {},
          "execution_count": 178
        }
      ]
    },
    {
      "cell_type": "code",
      "source": [
        "loss.backward()\n",
        "optimizer.zero_grad()\n",
        "optimizer.step()\n",
        "preds = network(images)\n",
        "loss = F.cross_entropy(preds, labels)\n",
        "loss.item(), get_num_correct(preds, labels)"
      ],
      "metadata": {
        "colab": {
          "base_uri": "https://localhost:8080/"
        },
        "id": "D6Ehabr2mcju",
        "outputId": "7de82ab2-2314-4c29-bc39-03bdb60088d1"
      },
      "execution_count": null,
      "outputs": [
        {
          "output_type": "execute_result",
          "data": {
            "text/plain": [
              "(1.6852328777313232, 4)"
            ]
          },
          "metadata": {},
          "execution_count": 179
        }
      ]
    },
    {
      "cell_type": "code",
      "source": [
        "loss.backward()\n",
        "optimizer.zero_grad()\n",
        "optimizer.step()\n",
        "preds = network(images)\n",
        "loss = F.cross_entropy(preds, labels)\n",
        "loss.item(), get_num_correct(preds, labels)"
      ],
      "metadata": {
        "colab": {
          "base_uri": "https://localhost:8080/"
        },
        "id": "qNNZVMWOmdqn",
        "outputId": "d6e0381f-ea65-41ad-af97-65e366e26009"
      },
      "execution_count": null,
      "outputs": [
        {
          "output_type": "execute_result",
          "data": {
            "text/plain": [
              "(1.6852328777313232, 4)"
            ]
          },
          "metadata": {},
          "execution_count": 180
        }
      ]
    },
    {
      "cell_type": "code",
      "source": [
        "loss.backward()\n",
        "optimizer.zero_grad()\n",
        "optimizer.step()\n",
        "preds = network(images)\n",
        "loss = F.cross_entropy(preds, labels)\n",
        "loss.item(), get_num_correct(preds, labels)"
      ],
      "metadata": {
        "colab": {
          "base_uri": "https://localhost:8080/"
        },
        "id": "kBvlStuOme1B",
        "outputId": "b8eabadb-a6fa-46a3-cd91-923525b418b2"
      },
      "execution_count": null,
      "outputs": [
        {
          "output_type": "execute_result",
          "data": {
            "text/plain": [
              "(1.6852328777313232, 4)"
            ]
          },
          "metadata": {},
          "execution_count": 181
        }
      ]
    },
    {
      "cell_type": "code",
      "source": [
        "loss.backward()\n",
        "optimizer.zero_grad()\n",
        "optimizer.step()\n",
        "preds = network(images)\n",
        "loss = F.cross_entropy(preds, labels)\n",
        "loss.item(), get_num_correct(preds, labels)"
      ],
      "metadata": {
        "colab": {
          "base_uri": "https://localhost:8080/"
        },
        "id": "n7hWredfmgaH",
        "outputId": "0e9fd377-253b-45a4-ffdf-65095cee8457"
      },
      "execution_count": null,
      "outputs": [
        {
          "output_type": "execute_result",
          "data": {
            "text/plain": [
              "(1.6852328777313232, 4)"
            ]
          },
          "metadata": {},
          "execution_count": 182
        }
      ]
    },
    {
      "cell_type": "code",
      "source": [
        "loss.backward()\n",
        "optimizer.zero_grad()\n",
        "optimizer.step()\n",
        "preds = network(images)\n",
        "loss = F.cross_entropy(preds, labels)\n",
        "loss.item(), get_num_correct(preds, labels)"
      ],
      "metadata": {
        "colab": {
          "base_uri": "https://localhost:8080/"
        },
        "id": "IkFJFV0gmhsI",
        "outputId": "84f0c44f-cae3-4d96-aef6-a01e0e933b25"
      },
      "execution_count": null,
      "outputs": [
        {
          "output_type": "execute_result",
          "data": {
            "text/plain": [
              "(1.6852328777313232, 4)"
            ]
          },
          "metadata": {},
          "execution_count": 183
        }
      ]
    },
    {
      "cell_type": "code",
      "source": [
        "network = Network()\n",
        "\n",
        "train_loader = torch.utils.data.DataLoader(train_set, batch_size=100)\n",
        "optimizer = optim.Adam(network.parameters(), lr=0.01)\n",
        "\n",
        "batch = next(iter(train_loader)) # Get Batch\n",
        "images, labels = batch\n",
        "\n",
        "preds = network(images) # Pass Batch\n",
        "loss = F.cross_entropy(preds, labels) # Calculate Loss\n",
        "\n",
        "loss.backward() # Calculate Gradients\n",
        "optimizer.step() # Update Weights\n",
        "\n",
        "print('loss1:', loss.item())\n",
        "preds = network(images)\n",
        "loss = F.cross_entropy(preds, labels)\n",
        "print('loss2:', loss.item())"
      ],
      "metadata": {
        "colab": {
          "base_uri": "https://localhost:8080/"
        },
        "id": "I7GoLWBomit5",
        "outputId": "d67d870c-289c-4fda-b696-262c3e5b72ae"
      },
      "execution_count": null,
      "outputs": [
        {
          "output_type": "stream",
          "name": "stdout",
          "text": [
            "loss1: 2.320025682449341\n",
            "loss2: 2.2970972061157227\n"
          ]
        }
      ]
    },
    {
      "cell_type": "code",
      "source": [
        "torch.set_grad_enabled(False)\n",
        "torch.set_grad_enabled(True)"
      ],
      "metadata": {
        "colab": {
          "base_uri": "https://localhost:8080/"
        },
        "id": "yDqq0pg-mjyb",
        "outputId": "9d79b3f9-cda5-450b-ffbd-0aa959f30d34"
      },
      "execution_count": null,
      "outputs": [
        {
          "output_type": "execute_result",
          "data": {
            "text/plain": [
              "torch.autograd.grad_mode.set_grad_enabled(mode=True)"
            ]
          },
          "metadata": {},
          "execution_count": 185
        }
      ]
    },
    {
      "cell_type": "code",
      "source": [
        "network = Network()\n",
        "\n",
        "train_loader = torch.utils.data.DataLoader(train_set, batch_size=100, shuffle=True)\n",
        "optimizer = optim.Adam(network.parameters(), lr=1e-3)  # 0.01 is high for Adam\n",
        "\n",
        "network.train()\n",
        "\n",
        "total_loss = 0.0          # will store SUM of per-example losses\n",
        "total_correct = 0\n",
        "total_examples = 0\n",
        "\n",
        "for batch in train_loader:  # Get Batch\n",
        "    images, labels = batch\n",
        "    # labels should be class indices (LongTensor)\n",
        "    if labels.dtype != torch.long:\n",
        "        labels = labels.long()\n",
        "\n",
        "    preds = network(images)                       # Pass Batch (logits)\n",
        "    loss = F.cross_entropy(preds, labels)         # mean loss over this batch\n",
        "\n",
        "    optimizer.zero_grad()\n",
        "    loss.backward()                               # Calculate Gradients\n",
        "    optimizer.step()                               # Update Weights\n",
        "\n",
        "    bs = images.size(0)\n",
        "    total_loss += loss.item() * bs                # accumulate per-example loss\n",
        "    total_correct += get_num_correct(preds, labels)\n",
        "    total_examples += bs\n",
        "\n",
        "avg_loss = total_loss / total_examples\n",
        "print(\n",
        "    \"epoch:\", 0,\n",
        "    \"total_correct:\", total_correct,\n",
        "    \"accuracy:\", f\"{total_correct/total_examples:.4%}\",\n",
        "    \"loss:\", f\"{avg_loss:.4f}\"\n",
        ")\n"
      ],
      "metadata": {
        "colab": {
          "base_uri": "https://localhost:8080/"
        },
        "id": "eGDws0ormnD4",
        "outputId": "ffc3aaa8-8cf1-4efc-d038-b299ed096e48"
      },
      "execution_count": null,
      "outputs": [
        {
          "output_type": "stream",
          "name": "stdout",
          "text": [
            "epoch: 0 total_correct: 42128 accuracy: 70.2133% loss: 0.7810\n"
          ]
        }
      ]
    },
    {
      "cell_type": "code",
      "source": [
        "import torch\n",
        "import torch.nn.functional as F\n",
        "from torch import optim\n",
        "\n",
        "# 1. Pick device\n",
        "device = torch.device(\"cuda\" if torch.cuda.is_available() else \"cpu\")\n",
        "print(\"Using device:\", device)\n",
        "\n",
        "# 2. Build and move model to device\n",
        "network = Network().to(device)\n",
        "\n",
        "# 3. Dataloader\n",
        "train_loader = torch.utils.data.DataLoader(train_set, batch_size=100, shuffle=True)\n",
        "\n",
        "# 4. Optimizer\n",
        "optimizer = optim.Adam(network.parameters(), lr=1e-3)\n",
        "\n",
        "# 5. Helper\n",
        "def get_num_correct(logits, labels):\n",
        "    preds = logits.argmax(dim=1)\n",
        "    return (preds == labels).sum().item()\n",
        "\n",
        "# 6. Training loop\n",
        "for epoch in range(10):\n",
        "    network.train()\n",
        "    running_loss = 0.0\n",
        "    running_correct = 0\n",
        "    total_examples = 0\n",
        "\n",
        "    for images, labels in train_loader:\n",
        "        # move batch to GPU\n",
        "        images, labels = images.to(device), labels.to(device)\n",
        "        if labels.dtype != torch.long:\n",
        "            labels = labels.long()\n",
        "\n",
        "        optimizer.zero_grad()\n",
        "        logits = network(images)\n",
        "        loss = F.cross_entropy(logits, labels)\n",
        "\n",
        "        loss.backward()\n",
        "        optimizer.step()\n",
        "\n",
        "        # stats\n",
        "        batch_size = images.size(0)\n",
        "        running_loss += loss.item() * batch_size\n",
        "        running_correct += get_num_correct(logits, labels)\n",
        "        total_examples += batch_size\n",
        "\n",
        "    epoch_loss = running_loss / total_examples\n",
        "    epoch_acc = running_correct / total_examples\n",
        "\n",
        "    print(f\"epoch {epoch:02d}  loss: {epoch_loss:.4f}  acc: {epoch_acc:.4%}\")\n"
      ],
      "metadata": {
        "colab": {
          "base_uri": "https://localhost:8080/"
        },
        "id": "ypEgO8pnmoLx",
        "outputId": "8450652e-365a-4d19-a0ef-e5e2bb573304"
      },
      "execution_count": null,
      "outputs": [
        {
          "output_type": "stream",
          "name": "stdout",
          "text": [
            "Using device: cuda\n",
            "epoch 00  loss: 0.7753  acc: 71.0333%\n",
            "epoch 01  loss: 0.5044  acc: 81.1267%\n",
            "epoch 02  loss: 0.4364  acc: 84.1533%\n",
            "epoch 03  loss: 0.3952  acc: 85.5900%\n",
            "epoch 04  loss: 0.3655  acc: 86.6883%\n",
            "epoch 05  loss: 0.3454  acc: 87.4050%\n",
            "epoch 06  loss: 0.3269  acc: 87.9883%\n",
            "epoch 07  loss: 0.3130  acc: 88.4583%\n",
            "epoch 08  loss: 0.3035  acc: 88.8000%\n",
            "epoch 09  loss: 0.2900  acc: 89.2383%\n"
          ]
        }
      ]
    },
    {
      "cell_type": "code",
      "source": [
        "from google import genai\n",
        "\n",
        "client = genai.Client(api_key=\"AIzaSyBUMiOTFthisWasRohansKeyWhichIsNotThereAgkW8IfpT33o\")\n",
        "\n",
        "response = client.models.generate_content(\n",
        "    model=\"gemini-2.5-flash\", contents=\"Explain why nearly everyone has moved out from Tensorflow to PyTorch?\"\n",
        ")\n",
        "print(response.text)"
      ],
      "metadata": {
        "colab": {
          "base_uri": "https://localhost:8080/"
        },
        "id": "rl0sUhk_msx_",
        "outputId": "5552b733-f09c-4023-e621-4344655a967e"
      },
      "execution_count": null,
      "outputs": [
        {
          "output_type": "stream",
          "name": "stdout",
          "text": [
            "The statement that \"nearly everyone has moved out from TensorFlow to PyTorch\" is a common *exaggeration*, but it reflects a significant shift in the deep learning community, particularly in **research, academia, and startups**. While not *everyone* has moved, PyTorch has indeed gained immense traction and is often the first choice for new projects, especially for those involving rapid prototyping and complex model development.\n",
            "\n",
            "Let's break down why this perception exists and what the underlying reasons are:\n",
            "\n",
            "### Why PyTorch Gained Immense Popularity (The \"Move\" Part)\n",
            "\n",
            "1.  **Dynamic Computation Graphs (Eager Execution by Default):**\n",
            "    *   **PyTorch's Advantage:** This was PyTorch's killer feature from the beginning. It uses **dynamic graphs** (also known as \"define-by-run\"). This means the computation graph is built on the fly as your code executes, much like regular Python.\n",
            "        *   **Benefits:** Easier debugging (you can use standard Python debuggers), more intuitive control flow (if/else, loops work naturally), more flexible for models with varying input sizes or complex, dynamic architectures (e.g., RNNs, Transformers).\n",
            "    *   **TensorFlow's Initial Disadvantage (TF 1.x):** TensorFlow 1.x relied heavily on **static graphs** (\"define-then-run\"). You had to define the entire computation graph first, then run it in a `tf.Session`.\n",
            "        *   **Drawbacks:** Debugging was notoriously difficult (errors often only appeared during `session.run`), control flow was clunky (`tf.cond`, `tf.while_loop`), and it felt less \"Pythonic.\" This was a major point of frustration for many developers and researchers.\n",
            "\n",
            "2.  **More Pythonic and Intuitive API:**\n",
            "    *   PyTorch's API feels much closer to NumPy. If you know Python and NumPy, you can pick up PyTorch very quickly. It leverages standard Python constructs more effectively.\n",
            "    *   TF 1.x's API, with its placeholders, sessions, and graph-building paradigm, felt more like a specialized DSL (Domain Specific Language) than an extension of Python.\n",
            "\n",
            "3.  **Better Debugging:** Directly related to dynamic graphs, PyTorch allows for breakpoint placement and inspection of intermediate tensor values like any other Python code. This significantly speeds up development and error fixing.\n",
            "\n",
            "4.  **Easier for Research and Prototyping:**\n",
            "    *   The combination of dynamic graphs, intuitive API, and excellent debugging made PyTorch the go-to choice for researchers who need to experiment with new ideas quickly, iterate on models, and implement complex, novel architectures without fighting the framework.\n",
            "    *   This led to a positive feedback loop: more research papers published with PyTorch code, more students learning PyTorch, further accelerating its adoption in academia.\n",
            "\n",
            "5.  **Strong Community and Adoption in AI Labs:**\n",
            "    *   Facebook (Meta) backing ensured continuous development and support.\n",
            "    *   Major AI research labs (OpenAI, Hugging Face, etc.) widely adopted PyTorch, further solidifying its reputation and mindshare.\n",
            "\n",
            "### Why TensorFlow Still Thrives (The \"Not Everyone Moved\" Part)\n",
            "\n",
            "It's crucial to understand that TensorFlow is still incredibly powerful and widely used, especially in certain contexts.\n",
            "\n",
            "1.  **TensorFlow 2.0's Response:**\n",
            "    *   **Eager Execution by Default:** TensorFlow 2.0 effectively adopted PyTorch's winning feature. It made eager execution (dynamic graphs) the default, significantly improving the developer experience and debugging.\n",
            "    *   **Keras Integration:** Keras, an extremely user-friendly high-level API, became the default and recommended way to build models in TF 2.0. This dramatically lowered the learning curve.\n",
            "    *   **`tf.function` for Performance:** While eager execution is default, TF 2.0 still allows you to compile parts of your code into efficient static graphs using `tf.function`, getting the best of both worlds (flexibility for development, performance for deployment).\n",
            "\n",
            "2.  **Production Deployment and MLOps Ecosystem:**\n",
            "    *   TensorFlow still has a lead in comprehensive **MLOps (Machine Learning Operations)** tools.\n",
            "        *   **TensorFlow Serving:** Robust, scalable system for serving models in production.\n",
            "        *   **TensorFlow Lite:** For deploying models on mobile and edge devices.\n",
            "        *   **TensorFlow.js:** For running models in web browsers.\n",
            "        *   **TFX (TensorFlow Extended):** A complete platform for production ML, including data validation, feature engineering, training, evaluation, and deployment. This is invaluable for large enterprises building end-to-end ML systems.\n",
            "    *   For companies that need a complete, mature, and battle-tested ecosystem for putting ML into production at scale, TensorFlow often remains the preferred choice.\n",
            "\n",
            "3.  **Google's Ecosystem and Hardware:**\n",
            "    *   **TPUs (Tensor Processing Units):** Google's custom AI accelerators are tightly integrated with TensorFlow, offering high performance for large-scale training. (PyTorch now has better TPU support, but TF was first).\n",
            "    *   **Google Cloud ML Services:** Many of Google Cloud's AI and ML services are built around TensorFlow.\n",
            "    *   **Internal Google Use:** Google itself has a massive investment in TensorFlow, using it for countless internal projects.\n",
            "\n",
            "4.  **Large Existing Codebases:**\n",
            "    *   Many companies and projects built their deep learning infrastructure on TF 1.x. Migrating a massive, production-grade system from one framework to another is a huge undertaking, often not worth the cost if TF 2.x now meets their needs.\n",
            "\n",
            "### Conclusion: A More Balanced Landscape\n",
            "\n",
            "The perception that \"nearly everyone moved\" primarily stems from the initial pain points of TF 1.x and PyTorch's revolutionary simplicity for research and prototyping.\n",
            "\n",
            "Today, the landscape is much more balanced:\n",
            "\n",
            "*   **PyTorch often preferred for:** Academic research, rapid prototyping, cutting-edge model development, projects requiring maximum flexibility and ease of debugging.\n",
            "*   **TensorFlow often preferred for:** Large-scale production deployments, MLOps, mobile/edge deployment, web deployment, projects within the Google ecosystem, or where an existing TF codebase is already in place.\n",
            "\n",
            "Many data scientists and ML engineers are now proficient in both, choosing the tool that best fits the specific needs of their project. While PyTorch closed the gap in usability, TensorFlow 2.0 closed the gap in user experience, making both incredibly powerful and relevant tools in the deep learning world.\n"
          ]
        }
      ]
    },
    {
      "cell_type": "markdown",
      "source": [
        "The statement that \"nearly everyone has moved out from TensorFlow to PyTorch\" is a common *exaggeration*, but it reflects a significant shift in the deep learning community, particularly in **research, academia, and startups**. While not *everyone* has moved, PyTorch has indeed gained immense traction and is often the first choice for new projects, especially for those involving rapid prototyping and complex model development.\n",
        "\n",
        "Let's break down why this perception exists and what the underlying reasons are:\n",
        "\n",
        "### Why PyTorch Gained Immense Popularity (The \"Move\" Part)\n",
        "\n",
        "1.  **Dynamic Computation Graphs (Eager Execution by Default):**\n",
        "    *   **PyTorch's Advantage:** This was PyTorch's killer feature from the beginning. It uses **dynamic graphs** (also known as \"define-by-run\"). This means the computation graph is built on the fly as your code executes, much like regular Python.\n",
        "        *   **Benefits:** Easier debugging (you can use standard Python debuggers), more intuitive control flow (if/else, loops work naturally), more flexible for models with varying input sizes or complex, dynamic architectures (e.g., RNNs, Transformers).\n",
        "    *   **TensorFlow's Initial Disadvantage (TF 1.x):** TensorFlow 1.x relied heavily on **static graphs** (\"define-then-run\"). You had to define the entire computation graph first, then run it in a `tf.Session`.\n",
        "        *   **Drawbacks:** Debugging was notoriously difficult (errors often only appeared during `session.run`), control flow was clunky (`tf.cond`, `tf.while_loop`), and it felt less \"Pythonic.\" This was a major point of frustration for many developers and researchers.\n",
        "\n",
        "2.  **More Pythonic and Intuitive API:**\n",
        "    *   PyTorch's API feels much closer to NumPy. If you know Python and NumPy, you can pick up PyTorch very quickly. It leverages standard Python constructs more effectively.\n",
        "    *   TF 1.x's API, with its placeholders, sessions, and graph-building paradigm, felt more like a specialized DSL (Domain Specific Language) than an extension of Python.\n",
        "\n",
        "3.  **Better Debugging:** Directly related to dynamic graphs, PyTorch allows for breakpoint placement and inspection of intermediate tensor values like any other Python code. This significantly speeds up development and error fixing.\n",
        "\n",
        "4.  **Easier for Research and Prototyping:**\n",
        "    *   The combination of dynamic graphs, intuitive API, and excellent debugging made PyTorch the go-to choice for researchers who need to experiment with new ideas quickly, iterate on models, and implement complex, novel architectures without fighting the framework.\n",
        "    *   This led to a positive feedback loop: more research papers published with PyTorch code, more students learning PyTorch, further accelerating its adoption in academia.\n",
        "\n",
        "5.  **Strong Community and Adoption in AI Labs:**\n",
        "    *   Facebook (Meta) backing ensured continuous development and support.\n",
        "    *   Major AI research labs (OpenAI, Hugging Face, etc.) widely adopted PyTorch, further solidifying its reputation and mindshare.\n",
        "\n",
        "### Why TensorFlow Still Thrives (The \"Not Everyone Moved\" Part)\n",
        "\n",
        "It's crucial to understand that TensorFlow is still incredibly powerful and widely used, especially in certain contexts.\n",
        "\n",
        "1.  **TensorFlow 2.0's Response:**\n",
        "    *   **Eager Execution by Default:** TensorFlow 2.0 effectively adopted PyTorch's winning feature. It made eager execution (dynamic graphs) the default, significantly improving the developer experience and debugging.\n",
        "    *   **Keras Integration:** Keras, an extremely user-friendly high-level API, became the default and recommended way to build models in TF 2.0. This dramatically lowered the learning curve.\n",
        "    *   **`tf.function` for Performance:** While eager execution is default, TF 2.0 still allows you to compile parts of your code into efficient static graphs using `tf.function`, getting the best of both worlds (flexibility for development, performance for deployment).\n",
        "\n",
        "2.  **Production Deployment and MLOps Ecosystem:**\n",
        "    *   TensorFlow still has a lead in comprehensive **MLOps (Machine Learning Operations)** tools.\n",
        "        *   **TensorFlow Serving:** Robust, scalable system for serving models in production.\n",
        "        *   **TensorFlow Lite:** For deploying models on mobile and edge devices.\n",
        "        *   **TensorFlow.js:** For running models in web browsers.\n",
        "        *   **TFX (TensorFlow Extended):** A complete platform for production ML, including data validation, feature engineering, training, evaluation, and deployment. This is invaluable for large enterprises building end-to-end ML systems.\n",
        "    *   For companies that need a complete, mature, and battle-tested ecosystem for putting ML into production at scale, TensorFlow often remains the preferred choice.\n",
        "\n",
        "3.  **Google's Ecosystem and Hardware:**\n",
        "    *   **TPUs (Tensor Processing Units):** Google's custom AI accelerators are tightly integrated with TensorFlow, offering high performance for large-scale training. (PyTorch now has better TPU support, but TF was first).\n",
        "    *   **Google Cloud ML Services:** Many of Google Cloud's AI and ML services are built around TensorFlow.\n",
        "    *   **Internal Google Use:** Google itself has a massive investment in TensorFlow, using it for countless internal projects.\n",
        "\n",
        "4.  **Large Existing Codebases:**\n",
        "    *   Many companies and projects built their deep learning infrastructure on TF 1.x. Migrating a massive, production-grade system from one framework to another is a huge undertaking, often not worth the cost if TF 2.x now meets their needs.\n",
        "\n",
        "### Conclusion: A More Balanced Landscape\n",
        "\n",
        "The perception that \"nearly everyone moved\" primarily stems from the initial pain points of TF 1.x and PyTorch's revolutionary simplicity for research and prototyping.\n",
        "\n",
        "Today, the landscape is much more balanced:\n",
        "\n",
        "*   **PyTorch often preferred for:** Academic research, rapid prototyping, cutting-edge model development, projects requiring maximum flexibility and ease of debugging.\n",
        "*   **TensorFlow often preferred for:** Large-scale production deployments, MLOps, mobile/edge deployment, web deployment, projects within the Google ecosystem, or where an existing TF codebase is already in place.\n",
        "\n",
        "Many data scientists and ML engineers are now proficient in both, choosing the tool that best fits the specific needs of their project. While PyTorch closed the gap in usability, TensorFlow 2.0 closed the gap in user experience, making both incredibly powerful and relevant tools in the deep learning world."
      ],
      "metadata": {
        "id": "0q3yXjfNopj5"
      }
    },
    {
      "cell_type": "code",
      "source": [
        "from google.genai import types\n",
        "response = client.models.generate_content(\n",
        "    model=\"gemini-2.5-flash\",\n",
        "    contents=\"Explain how AI works in a a lot of words\",\n",
        "    config=types.GenerateContentConfig(\n",
        "        thinking_config=types.ThinkingConfig(thinking_budget=0) # Disables thinking\n",
        "    ),\n",
        ")\n",
        "print(response.text)"
      ],
      "metadata": {
        "colab": {
          "base_uri": "https://localhost:8080/"
        },
        "id": "ptdVgoZkoRXj",
        "outputId": "3487388f-0ded-4f39-aec5-51afa919ffe2"
      },
      "execution_count": null,
      "outputs": [
        {
          "output_type": "stream",
          "name": "stdout",
          "text": [
            "Alright, let's embark on a comprehensive journey to understand how Artificial Intelligence (AI) works, diving deep into its foundational concepts, various methodologies, and the intricate dance of data, algorithms, and computational power.\n",
            "\n",
            "At its core, **AI is the field of computer science dedicated to creating systems capable of performing tasks that typically require human intelligence.** This isn't about replicating human brains neuron by neuron, but rather about achieving similar intelligent outcomes through computational means. Think of it as building a sophisticated set of tools that can learn, reason, perceive, understand language, and make decisions, often far faster and at a much larger scale than humans.\n",
            "\n",
            "### The Fundamental Pillars: Data, Algorithms, and Computation\n",
            "\n",
            "You can't talk about AI without these three inextricably linked elements:\n",
            "\n",
            "1.  **Data:** This is the lifeblood of modern AI. AI models learn from vast quantities of information, just as a child learns by observing and experiencing the world. Data can be anything: images, text, audio, video, sensor readings, financial transactions, medical records, etc. The quality, quantity, and diversity of this data are absolutely critical.\n",
            "    *   **Features & Labels:** In structured data, we talk about \"features\" (the characteristics or attributes of the data, like the height or color of an object) and \"labels\" (the target output we want the AI to predict or classify, like whether the object is a cat or a dog).\n",
            "    *   **Unsupervised Learning:** Sometimes, the data doesn't have explicit labels, and the AI must find hidden patterns and structures within it on its own.\n",
            "    *   **Data Preprocessing:** Raw data is messy. It needs to be cleaned, normalized, transformed, and augmented before it's fed to an AI model. This can involve handling missing values, scaling features, removing outliers, and converting data into a format the model can understand (e.g., numbers).\n",
            "\n",
            "2.  **Algorithms:** These are the step-by-step instructions or mathematical recipes that the AI uses to process data, identify patterns, make decisions, and learn. An algorithm defines how the AI will transform inputs into outputs.\n",
            "    *   **Learning Algorithms:** These are particularly important in AI, as they enable systems to improve their performance over time without being explicitly programmed for every single scenario. They learn from the data.\n",
            "    *   **Optimization Algorithms:** Many AI algorithms involve finding the \"best\" set of parameters or rules. Optimization algorithms are used to search for these optimal solutions, often by minimizing an \"error function\" or \"loss function\" that measures how far off the AI's predictions are from the true values.\n",
            "\n",
            "3.  **Computation (Hardware & Software):** AI requires significant computational power to process vast datasets and run complex algorithms.\n",
            "    *   **Hardware:** Modern AI relies heavily on powerful Graphics Processing Units (GPUs) and increasingly, Tensor Processing Units (TPUs) or specialized AI accelerators. These are designed for parallel processing, which is ideal for the matrix multiplications and other operations common in neural networks.\n",
            "    *   **Software Frameworks:** Developers use high-level programming languages (like Python) and specialized AI frameworks (like TensorFlow, PyTorch, Keras) that provide pre-built tools, libraries, and functions to design, train, and deploy AI models more efficiently.\n",
            "\n",
            "### The Core Paradigm: Machine Learning (ML)\n",
            "\n",
            "While AI is the broad field, **Machine Learning (ML) is a subset of AI that focuses on enabling systems to learn from data without explicit programming.** Instead of writing rules for every possible scenario, you give the system data and an algorithm, and it learns the rules itself.\n",
            "\n",
            "There are three main types of Machine Learning:\n",
            "\n",
            "1.  **Supervised Learning:** This is the most common type. The AI is trained on a dataset where each input example is paired with the correct output or \"label.\" The goal is for the AI to learn a mapping function from inputs to outputs.\n",
            "    *   **Classification:** Predicting a categorical label (e.g., \"spam\" or \"not spam,\" \"cat\" or \"dog,\" \"disease present\" or \"disease absent\").\n",
            "        *   *Examples:* Logistic Regression, Support Vector Machines (SVMs), Decision Trees, Random Forests, K-Nearest Neighbors (KNN), Neural Networks.\n",
            "    *   **Regression:** Predicting a continuous numerical value (e.g., house price, temperature, stock value).\n",
            "        *   *Examples:* Linear Regression, Polynomial Regression, Ridge Regression, Neural Networks.\n",
            "\n",
            "    *   **How it Works (Simplified):**\n",
            "        1.  **Training:** The model is fed labeled data. It makes a prediction, compares it to the actual label, calculates the \"error\" or \"loss.\"\n",
            "        2.  **Learning:** An optimization algorithm (like Gradient Descent) then adjusts the model's internal parameters (weights and biases) in a direction that reduces this error.\n",
            "        3.  **Iteration:** This process repeats thousands or millions of times over many \"epochs\" until the model's error is minimized and it can accurately predict outputs for new, unseen data.\n",
            "\n",
            "2.  **Unsupervised Learning:** Here, the AI is given unlabeled data and must find patterns, structures, or relationships within it on its own. There's no \"correct\" answer to learn from.\n",
            "    *   **Clustering:** Grouping similar data points together based on their inherent characteristics (e.g., segmenting customers into different groups based on their purchasing behavior).\n",
            "        *   *Examples:* K-Means, Hierarchical Clustering, DBSCAN.\n",
            "    *   **Dimensionality Reduction:** Reducing the number of features in a dataset while retaining as much important information as possible. This can help visualize data, reduce noise, and speed up other algorithms.\n",
            "        *   *Examples:* Principal Component Analysis (PCA), t-SNE.\n",
            "    *   **Association Rule Mining:** Discovering relationships between variables in large datasets (e.g., \"customers who buy bread also tend to buy milk\").\n",
            "        *   *Examples:* Apriori algorithm.\n",
            "\n",
            "3.  **Reinforcement Learning (RL):** This is inspired by behavioral psychology. An \"agent\" learns to make decisions by interacting with an \"environment\" to achieve a goal. It receives \"rewards\" for desirable actions and \"penalties\" for undesirable ones.\n",
            "    *   **Agent, Environment, State, Action, Reward:** The agent observes the \"state\" of the environment, takes an \"action,\" and receives a \"reward\" (or punishment) and a new state.\n",
            "    *   **Policy:** The agent learns a \"policy\" – a strategy that maps states to actions to maximize cumulative reward over time.\n",
            "    *   *Examples:* Training game-playing AI (AlphaGo, Atari games), robotics, autonomous driving, resource management.\n",
            "    *   **How it Works:** The agent explores the environment, trying different actions. It builds an understanding of which actions lead to high rewards. Over time, through trial and error, it refines its policy to consistently choose actions that maximize its long-term reward. This often involves techniques like Q-learning or Deep Q-Networks (DQN).\n",
            "\n",
            "### Deep Learning (DL): A Powerful Subset of ML\n",
            "\n",
            "**Deep Learning is a specialized subfield of Machine Learning that uses artificial neural networks with multiple \"hidden\" layers (hence \"deep\") to learn complex patterns from data.** These deep neural networks are particularly effective for tasks involving raw, unstructured data like images, audio, and text.\n",
            "\n",
            "1.  **Artificial Neural Networks (ANNs):**\n",
            "    *   **Neurons (Nodes):** Inspired by biological neurons, these are the fundamental processing units. Each neuron takes inputs, performs a weighted sum, adds a bias, and applies an \"activation function\" to produce an output.\n",
            "    *   **Weights & Biases:** These are the parameters that the network learns during training. Weights determine the strength of the connection between neurons, and biases shift the activation function.\n",
            "    *   **Layers:**\n",
            "        *   **Input Layer:** Receives the raw data.\n",
            "        *   **Hidden Layers:** One or more layers between the input and output. These are where the network learns increasingly abstract and complex representations of the input data. A \"deep\" network has many hidden layers.\n",
            "        *   **Output Layer:** Produces the network's prediction or classification.\n",
            "    *   **Activation Functions:** Non-linear functions (like ReLU, Sigmoid, Tanh, Softmax) applied to the output of each neuron. They are crucial for allowing the network to learn complex, non-linear relationships.\n",
            "    *   **Backpropagation:** The core algorithm for training ANNs. It works by calculating the error at the output layer and then propagating this error backward through the network, layer by layer, to adjust the weights and biases of each neuron in a way that reduces the overall error. This process relies on calculus (specifically, the chain rule).\n",
            "\n",
            "2.  **Types of Deep Neural Networks:**\n",
            "    *   **Feedforward Neural Networks (FNNs):** The simplest type, where information flows in one direction from input to output.\n",
            "    *   **Convolutional Neural Networks (CNNs):** Exceptionally good for image and video processing. They use \"convolutional layers\" to automatically learn spatial hierarchies of features (e.g., edges, textures, shapes, object parts). They are translation-invariant and parameter-efficient.\n",
            "        *   *How it works:* Convolutional filters slide over the input image, detecting specific features. Pooling layers then reduce the spatial dimensions, making the network more robust to small variations.\n",
            "    *   **Recurrent Neural Networks (RNNs):** Designed for sequential data (like text, speech, time series). They have \"memory\" because their output at any given step depends on the current input and the previous hidden state (output from the previous step).\n",
            "        *   *Examples:* Long Short-Term Memory (LSTM) and Gated Recurrent Units (GRUs) are specialized RNNs that address the \"vanishing gradient\" problem and are better at capturing long-range dependencies.\n",
            "    *   **Transformers:** Revolutionized Natural Language Processing (NLP). They use \"attention mechanisms\" to weigh the importance of different parts of the input sequence, allowing them to capture long-range dependencies much more effectively than RNNs and process sequences in parallel.\n",
            "        *   *Examples:* BERT, GPT-3, T5 – these are massive transformer models trained on colossal amounts of text data.\n",
            "    *   **Generative Adversarial Networks (GANs):** Composed of two neural networks (a \"generator\" and a \"discriminator\") that compete against each other. The generator tries to create realistic fake data (e.g., images), and the discriminator tries to tell real data from fake. Through this adversarial process, the generator becomes incredibly good at creating synthetic data that is indistinguishable from real data.\n",
            "\n",
            "### How AI \"Learns\" and \"Thinks\" (Metaphorically)\n",
            "\n",
            "It's crucial to understand that AI doesn't \"think\" or \"understand\" in the human sense. It's a complex pattern-matching and optimization system.\n",
            "\n",
            "*   **Learning is Pattern Recognition:** When an AI \"learns,\" it's essentially finding complex statistical relationships and patterns within the data. For example, a dog image recognition AI learns that certain combinations of edges, textures, and shapes tend to correspond to \"dog.\" It doesn't \"know\" what a dog *is* in a biological sense.\n",
            "*   **Reasoning is Rule Application (Learned Rules):** When an AI \"reasons,\" it applies these learned patterns or rules to new, unseen data to make predictions or decisions. If it's a chess AI, it has learned a \"policy\" that guides its moves based on the current board state and likely outcomes, not by conceptualizing \"strategy\" like a human Grandmaster.\n",
            "*   **Knowledge Representation:** In symbolic AI, knowledge might be explicitly encoded as rules (e.g., \"IF temperature > 100 AND patient has cough THEN patient has fever\"). In machine learning, knowledge is implicitly encoded in the learned parameters (weights and biases) of the model.\n",
            "\n",
            "### AI Capabilities and Applications:\n",
            "\n",
            "*   **Natural Language Processing (NLP):** Understanding, interpreting, and generating human language.\n",
            "    *   *Examples:* Machine translation (Google Translate), sentiment analysis, chatbots (ChatGPT), spam detection, text summarization.\n",
            "*   **Computer Vision (CV):** Enabling computers to \"see\" and interpret visual information.\n",
            "    *   *Examples:* Facial recognition, object detection (self-driving cars), medical image analysis, quality control in manufacturing.\n",
            "*   **Speech Recognition:** Converting spoken language into text.\n",
            "    *   *Examples:* Voice assistants (Siri, Alexa), transcription services, dictation software.\n",
            "*   **Robotics:** Designing, building, operating, and applying robots. AI plays a crucial role in enabling robots to perceive their environment, navigate, manipulate objects, and make autonomous decisions.\n",
            "*   **Expert Systems:** AI systems designed to mimic the decision-making ability of a human expert in a specific domain. (More traditional AI, rule-based).\n",
            "*   **Recommendation Systems:** Suggesting products, movies, music, etc., based on user preferences and past behavior.\n",
            "    *   *Examples:* Netflix, Amazon, Spotify.\n",
            "*   **Autonomous Systems:** Self-driving cars, drones, autonomous robots.\n",
            "*   **Generative AI:** Creating novel content (text, images, audio, video) that resembles human-created work.\n",
            "    *   *Examples:* DALL-E, Midjourney, Stable Diffusion, GPT-3/4.\n",
            "\n",
            "### The AI Development Lifecycle:\n",
            "\n",
            "1.  **Problem Definition:** Clearly defining what problem AI should solve.\n",
            "2.  **Data Collection & Preparation:** Gathering, cleaning, transforming, and labeling relevant data. This is often the most time-consuming step.\n",
            "3.  **Model Selection:** Choosing the appropriate AI/ML algorithm or architecture based on the problem and data type.\n",
            "4.  **Training:** Feeding the prepared data to the model and allowing it to learn by adjusting its internal parameters.\n",
            "5.  **Evaluation:** Assessing the model's performance on unseen data using various metrics (accuracy, precision, recall, F1-score, etc.) to ensure it generalizes well.\n",
            "6.  **Hyperparameter Tuning:** Adjusting external configuration parameters of the model (e.g., learning rate, number of layers, number of neurons) to optimize performance.\n",
            "7.  **Deployment:** Integrating the trained model into a real-world application or system.\n",
            "8.  **Monitoring & Maintenance:** Continuously monitoring the model's performance in production, retraining it with new data as needed, and addressing any biases or performance degradation.\n",
            "\n",
            "### Challenges and Ethical Considerations:\n",
            "\n",
            "*   **Data Bias:** If the training data reflects existing societal biases, the AI model will learn and perpetuate those biases, leading to unfair or discriminatory outcomes.\n",
            "*   **Explainability (XAI):** Many powerful AI models (especially deep learning) are \"black boxes,\" making it difficult to understand *why* they make certain decisions, which is critical in sensitive applications like medicine or law.\n",
            "*   **Robustness & Adversarial Attacks:** AI models can be fooled by subtle, imperceptible perturbations to their inputs.\n",
            "*   **Privacy & Security:** AI's reliance on vast amounts of data raises concerns about data privacy and the security of sensitive information.\n",
            "*   **Job Displacement:** The rise of AI could automate many tasks, leading to changes in the job market.\n",
            "*   **Ethical Use:** Ensuring AI is developed and used responsibly, safely, and for the benefit of humanity, avoiding misuse for surveillance, autonomous weapons, or manipulation.\n",
            "\n",
            "In conclusion, AI is not a singular magical entity but a vast, interconnected field built upon the principles of data, algorithms, and computation. From simple decision trees to incredibly complex deep neural networks, the essence of AI lies in its ability to learn from experience (data) and adapt its behavior to achieve specific goals, often outperforming human capabilities in specialized tasks. As our understanding of these principles deepens and computational power grows, AI continues to evolve, pushing the boundaries of what machines can achieve.\n"
          ]
        }
      ]
    },
    {
      "cell_type": "markdown",
      "source": [
        "Check these examples for [Text Generation](https://ai.google.dev/gemini-api/docs/text-generation) and [image generation](https://ai.google.dev/gemini-api/docs/imagen)"
      ],
      "metadata": {
        "id": "6UmRmyuOppsJ"
      }
    },
    {
      "cell_type": "code",
      "source": [],
      "metadata": {
        "id": "6wUgi6VapkmN"
      },
      "execution_count": null,
      "outputs": []
    }
  ]
}